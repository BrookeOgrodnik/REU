{
 "cells": [
  {
   "cell_type": "code",
   "execution_count": 89,
   "metadata": {},
   "outputs": [],
   "source": [
    "import numpy as np"
   ]
  },
  {
   "cell_type": "code",
   "execution_count": 90,
   "metadata": {},
   "outputs": [],
   "source": [
    "from numpy import exp, matmul"
   ]
  },
  {
   "cell_type": "code",
   "execution_count": 91,
   "metadata": {},
   "outputs": [],
   "source": [
    "from numpy.linalg import inv, det, eig, norm"
   ]
  },
  {
   "cell_type": "code",
   "execution_count": 92,
   "metadata": {},
   "outputs": [],
   "source": [
    "π = np.pi"
   ]
  },
  {
   "cell_type": "code",
   "execution_count": 93,
   "metadata": {},
   "outputs": [],
   "source": [
    "e = exp(1)"
   ]
  },
  {
   "cell_type": "code",
   "execution_count": 94,
   "metadata": {},
   "outputs": [],
   "source": [
    "def diag(t):\n",
    "    return np.array([[e**(t/2),0],[0,e**(-t/2)]])"
   ]
  },
  {
   "cell_type": "code",
   "execution_count": 95,
   "metadata": {},
   "outputs": [],
   "source": [
    "def act(M,pair):\n",
    "    (x,y), (q,v) = pair\n",
    "    (a,b),(c,d) = M\n",
    "    h = det(M)\n",
    "    denom  = np.array([c*x+d,c*y])\n",
    "    mat = np.array([[(d**2+c**2*(x**2-y**2)+2*d*c*x),(2*c**2*x*y+2*d*c*y)],[-(2*c**2*x*y+2*d*c*y),(d**2+c**2*(x**2-y**2)+2*d*c*x)]])\n",
    "    newXi = matmul(mat,pair[1])\n",
    "    return (np.array([a*c*norm(z)+b*d+(a*d+b*c)*x, h*y])/norm(denom), newXi*h/norm(denom)**2)"
   ]
  },
  {
   "cell_type": "code",
   "execution_count": 96,
   "metadata": {},
   "outputs": [],
   "source": [
    "def flow(t, pair):\n",
    "    return act(diag(t), pair)"
   ]
  },
  {
   "cell_type": "code",
   "execution_count": 97,
   "metadata": {},
   "outputs": [],
   "source": [
    "def identity(M):\n",
    "    i = np.array([0,1])\n",
    "    up  = np.array([0,1])\n",
    "    return act(M,(i,up))"
   ]
  },
  {
   "cell_type": "code",
   "execution_count": 98,
   "metadata": {},
   "outputs": [],
   "source": [
    "def isSpecial(M):\n",
    "    return det(M) == 1"
   ]
  },
  {
   "cell_type": "code",
   "execution_count": 99,
   "metadata": {},
   "outputs": [],
   "source": [
    "def isUnit(pair):\n",
    "    return norm(pair[1])==pair[0][1]"
   ]
  },
  {
   "cell_type": "code",
   "execution_count": null,
   "metadata": {},
   "outputs": [],
   "source": []
  },
  {
   "cell_type": "code",
   "execution_count": null,
   "metadata": {},
   "outputs": [],
   "source": []
  }
 ],
 "metadata": {
  "kernelspec": {
   "display_name": "Python 3",
   "language": "python",
   "name": "python3"
  },
  "language_info": {
   "codemirror_mode": {
    "name": "ipython",
    "version": 3
   },
   "file_extension": ".py",
   "mimetype": "text/x-python",
   "name": "python",
   "nbconvert_exporter": "python",
   "pygments_lexer": "ipython3",
   "version": "3.7.6"
  }
 },
 "nbformat": 4,
 "nbformat_minor": 2
}
