{
 "cells": [
  {
   "cell_type": "code",
   "execution_count": 89,
   "metadata": {},
   "outputs": [],
   "source": [
    "import numpy as np"
   ]
  },
  {
   "cell_type": "code",
   "execution_count": 90,
   "metadata": {},
   "outputs": [],
   "source": [
    "from numpy import exp, matmul"
   ]
  },
  {
   "cell_type": "code",
   "execution_count": 91,
   "metadata": {},
   "outputs": [],
   "source": [
    "from numpy.linalg import inv, det, eig, norm"
   ]
  },
  {
   "cell_type": "code",
   "execution_count": 92,
   "metadata": {},
   "outputs": [],
   "source": [
    "π = np.pi"
   ]
  },
  {
   "cell_type": "code",
   "execution_count": 93,
   "metadata": {},
   "outputs": [],
   "source": [
    "e = exp(1)"
   ]
  },
  {
   "cell_type": "code",
   "execution_count": 94,
   "metadata": {},
   "outputs": [],
   "source": [
    "def diag(t):\n",
    "    return np.array([[e**(t/2),0],[0,e**(-t/2)]])"
   ]
  },
  {
   "cell_type": "code",
   "execution_count": 95,
   "metadata": {},
   "outputs": [],
   "source": [
    "def act(M,pair):\n",
    "    (x,y), (q,v) = pair\n",
    "    (a,b),(c,d) = M\n",
    "    h = det(M)\n",
    "    denom  = np.array([c*x+d,c*y])\n",
    "    mat = np.array([[(d**2+c**2*(x**2-y**2)+2*d*c*x),(2*c**2*x*y+2*d*c*y)],[-(2*c**2*x*y+2*d*c*y),(d**2+c**2*(x**2-y**2)+2*d*c*x)]])\n",
    "    newXi = matmul(mat,pair[1])\n",
    "    return (np.array([a*c*norm(z)+b*d+(a*d+b*c)*x, h*y])/norm(denom), newXi*h/norm(denom)**2)"
   ]
  },
  {
   "cell_type": "code",
   "execution_count": 96,
   "metadata": {},
   "outputs": [],
   "source": [
    "def flow(t, pair):\n",
    "    return act(diag(t), pair)"
   ]
  },
  {
   "cell_type": "code",
   "execution_count": 97,
   "metadata": {},
   "outputs": [],
   "source": [
    "def identity(M):\n",
    "    i = np.array([0,1])\n",
    "    up  = np.array([0,1])\n",
    "    return act(M,(i,up))"
   ]
  },
  {
   "cell_type": "code",
   "execution_count": 98,
   "metadata": {},
   "outputs": [],
   "source": [
    "def isSpecial(M):\n",
    "    return det(M) == 1"
   ]
  },
  {
   "cell_type": "code",
   "execution_count": 99,
   "metadata": {},
   "outputs": [],
   "source": [
    "def isUnit(pair):\n",
    "    return norm(pair[1])==pair[0][1]"
   ]
  },
  {
   "cell_type": "code",
   "execution_count": null,
   "metadata": {},
   "outputs": [],
   "source": []
  },
  {
   "cell_type": "code",
   "execution_count": 3,
   "metadata": {},
   "outputs": [],
   "source": [
    "import sympy as sp"
   ]
  },
  {
   "cell_type": "code",
   "execution_count": 4,
   "metadata": {},
   "outputs": [],
   "source": [
    "from sympy import *"
   ]
  },
  {
   "cell_type": "code",
   "execution_count": 3,
   "metadata": {},
   "outputs": [
    {
     "data": {
      "text/latex": [
       "$\\displaystyle \\pi$"
      ],
      "text/plain": [
       "pi"
      ]
     },
     "execution_count": 3,
     "metadata": {},
     "output_type": "execute_result"
    }
   ],
   "source": [
    "pi"
   ]
  },
  {
   "cell_type": "code",
   "execution_count": 4,
   "metadata": {},
   "outputs": [
    {
     "data": {
      "text/latex": [
       "$\\displaystyle e$"
      ],
      "text/plain": [
       "E"
      ]
     },
     "execution_count": 4,
     "metadata": {},
     "output_type": "execute_result"
    }
   ],
   "source": [
    "E"
   ]
  },
  {
   "cell_type": "code",
   "execution_count": 5,
   "metadata": {},
   "outputs": [
    {
     "data": {
      "text/latex": [
       "$\\displaystyle i$"
      ],
      "text/plain": [
       "I"
      ]
     },
     "execution_count": 5,
     "metadata": {},
     "output_type": "execute_result"
    }
   ],
   "source": [
    "I"
   ]
  },
  {
   "cell_type": "code",
   "execution_count": 7,
   "metadata": {},
   "outputs": [
    {
     "data": {
      "text/latex": [
       "$\\displaystyle -1$"
      ],
      "text/plain": [
       "-1"
      ]
     },
     "execution_count": 7,
     "metadata": {},
     "output_type": "execute_result"
    }
   ],
   "source": [
    "I**2"
   ]
  },
  {
   "cell_type": "code",
   "execution_count": 8,
   "metadata": {},
   "outputs": [],
   "source": [
    "M = Matrix([[1, 2, 3], [3, 2, 1], [1, 1, 1]])"
   ]
  },
  {
   "cell_type": "code",
   "execution_count": 9,
   "metadata": {},
   "outputs": [
    {
     "data": {
      "text/latex": [
       "$\\displaystyle 0$"
      ],
      "text/plain": [
       "0"
      ]
     },
     "execution_count": 9,
     "metadata": {},
     "output_type": "execute_result"
    }
   ],
   "source": [
    "M.det()"
   ]
  },
  {
   "cell_type": "code",
   "execution_count": 15,
   "metadata": {},
   "outputs": [
    {
     "data": {
      "text/latex": [
       "$\\displaystyle \\left[\\begin{matrix}2 & 4 & 6\\\\6 & 4 & 2\\\\2 & 2 & 2\\end{matrix}\\right]$"
      ],
      "text/plain": [
       "Matrix([\n",
       "[2, 4, 6],\n",
       "[6, 4, 2],\n",
       "[2, 2, 2]])"
      ]
     },
     "execution_count": 15,
     "metadata": {},
     "output_type": "execute_result"
    }
   ],
   "source": [
    "2*M"
   ]
  },
  {
   "cell_type": "code",
   "execution_count": 7,
   "metadata": {},
   "outputs": [],
   "source": [
    "def geodesicInfoFromMatrix(M): #input is a hyperbolic matrix M which lies in SL_2(Z)\n",
    "    if M.trace() < 0:\n",
    "        M = -M\n",
    "    tr = M.trace()\n",
    "    length = 2*log(tr/2+sqrt((tr/2)**sympify(2)-1))\n",
    "    eig = E**(length/2)\n",
    "    a = M[0,0]\n",
    "    b = M[0,1]\n",
    "    c = M[1,0]\n",
    "    d = M[1,1]\n",
    "    if c > 0:\n",
    "        eigMat = (1/((c**2)*(tr**2-4))**(sympify(1)/4))*Matrix([[eig-d,1/eig-d],[c,c]])\n",
    "    else: \n",
    "        eigMat = (1/((c**2)*(tr**2-4))**(sympify(1)/4))*Matrix([[-eig+d,1/eig-d],[-c,c]])\n",
    "    visPt = (eig-d)/c\n",
    "    newA = eigMat[0,0]\n",
    "    newB = eigMat[0,1]\n",
    "    newC = eigMat[1,0]\n",
    "    newD = eigMat[1,1]\n",
    "    z = simplify((newA*I+newB)/(newC*I+newD))\n",
    "    zeta = simplify(I/(newC*I+newD)**2)\n",
    "    return (length,eig,eigMat,visPt,z,zeta)"
   ]
  },
  {
   "cell_type": "code",
   "execution_count": 14,
   "metadata": {
    "collapsed": true
   },
   "outputs": [
    {
     "data": {
      "text/latex": [
       "$\\displaystyle 3$"
      ],
      "text/plain": [
       "3"
      ]
     },
     "execution_count": 14,
     "metadata": {},
     "output_type": "execute_result"
    }
   ],
   "source": [
    "M[1,0]"
   ]
  },
  {
   "cell_type": "code",
   "execution_count": 6,
   "metadata": {},
   "outputs": [],
   "source": [
    "result = geodesicInfoFromMatrix(Matrix([[12,5],[-5,-2]]))"
   ]
  },
  {
   "cell_type": "code",
   "execution_count": 7,
   "metadata": {},
   "outputs": [
    {
     "data": {
      "text/latex": [
       "$\\displaystyle 2 \\log{\\left(2 \\sqrt{6} + 5 \\right)}$"
      ],
      "text/plain": [
       "2*log(2*sqrt(6) + 5)"
      ]
     },
     "execution_count": 7,
     "metadata": {},
     "output_type": "execute_result"
    }
   ],
   "source": [
    "result[0]"
   ]
  },
  {
   "cell_type": "code",
   "execution_count": 50,
   "metadata": {},
   "outputs": [
    {
     "data": {
      "text/latex": [
       "$\\displaystyle 2 \\sqrt{6} + 5$"
      ],
      "text/plain": [
       "2*sqrt(6) + 5"
      ]
     },
     "execution_count": 50,
     "metadata": {},
     "output_type": "execute_result"
    }
   ],
   "source": [
    "result[1]"
   ]
  },
  {
   "cell_type": "code",
   "execution_count": 51,
   "metadata": {},
   "outputs": [
    {
     "data": {
      "text/latex": [
       "$\\displaystyle - \\frac{7}{5} - \\frac{2 \\sqrt{6}}{5}$"
      ],
      "text/plain": [
       "-7/5 - 2*sqrt(6)/5"
      ]
     },
     "execution_count": 51,
     "metadata": {},
     "output_type": "execute_result"
    }
   ],
   "source": [
    "result[3]"
   ]
  },
  {
   "cell_type": "code",
   "execution_count": 57,
   "metadata": {},
   "outputs": [
    {
     "data": {
      "text/latex": [
       "$\\displaystyle \\left[\\begin{matrix}\\frac{\\sqrt{5} \\cdot 6^{\\frac{3}{4}} \\left(-7 - 2 \\sqrt{6}\\right)}{60} & \\frac{\\sqrt{5} \\cdot 6^{\\frac{3}{4}} \\left(\\frac{1}{2 \\sqrt{6} + 5} + 2\\right)}{60}\\\\\\frac{\\sqrt{5} \\cdot 6^{\\frac{3}{4}}}{12} & - \\frac{\\sqrt{5} \\cdot 6^{\\frac{3}{4}}}{12}\\end{matrix}\\right]$"
      ],
      "text/plain": [
       "Matrix([\n",
       "[sqrt(5)*6**(3/4)*(-7 - 2*sqrt(6))/60, sqrt(5)*6**(3/4)*(1/(2*sqrt(6) + 5) + 2)/60],\n",
       "[                 sqrt(5)*6**(3/4)/12,                        -sqrt(5)*6**(3/4)/12]])"
      ]
     },
     "execution_count": 57,
     "metadata": {},
     "output_type": "execute_result"
    }
   ],
   "source": [
    "result[2]"
   ]
  },
  {
   "cell_type": "code",
   "execution_count": 56,
   "metadata": {},
   "outputs": [],
   "source": [
    "M = Matrix([[12,5],[-5,-2]])"
   ]
  },
  {
   "cell_type": "code",
   "execution_count": 36,
   "metadata": {},
   "outputs": [
    {
     "data": {
      "text/latex": [
       "$\\displaystyle 2 \\sqrt[4]{6}$"
      ],
      "text/plain": [
       "2*6**(1/4)"
      ]
     },
     "execution_count": 36,
     "metadata": {},
     "output_type": "execute_result"
    }
   ],
   "source": [
    "Pow(M.trace()**2-4,sympify(1)/4)"
   ]
  },
  {
   "cell_type": "code",
   "execution_count": 67,
   "metadata": {},
   "outputs": [
    {
     "data": {
      "text/latex": [
       "$\\displaystyle - \\frac{7}{5} + \\frac{2 \\sqrt{6} i}{5}$"
      ],
      "text/plain": [
       "-7/5 + 2*sqrt(6)*I/5"
      ]
     },
     "execution_count": 67,
     "metadata": {},
     "output_type": "execute_result"
    }
   ],
   "source": [
    "result[4]"
   ]
  },
  {
   "cell_type": "code",
   "execution_count": 68,
   "metadata": {},
   "outputs": [
    {
     "data": {
      "text/latex": [
       "$\\displaystyle - \\frac{2 \\sqrt{6}}{5}$"
      ],
      "text/plain": [
       "-2*sqrt(6)/5"
      ]
     },
     "execution_count": 68,
     "metadata": {},
     "output_type": "execute_result"
    }
   ],
   "source": [
    "result[5]"
   ]
  },
  {
   "cell_type": "code",
   "execution_count": 47,
   "metadata": {},
   "outputs": [],
   "source": [
    "from sympy.abc import a,b"
   ]
  },
  {
   "cell_type": "code",
   "execution_count": 50,
   "metadata": {},
   "outputs": [],
   "source": [
    "c = -5"
   ]
  },
  {
   "cell_type": "code",
   "execution_count": 71,
   "metadata": {},
   "outputs": [
    {
     "data": {
      "text/latex": [
       "$\\displaystyle -5$"
      ],
      "text/plain": [
       "-5"
      ]
     },
     "execution_count": 71,
     "metadata": {},
     "output_type": "execute_result"
    }
   ],
   "source": [
    "c"
   ]
  },
  {
   "cell_type": "code",
   "execution_count": 58,
   "metadata": {},
   "outputs": [],
   "source": [
    "solTuple = diop_linear(a*d-b*c-1)"
   ]
  },
  {
   "cell_type": "code",
   "execution_count": 60,
   "metadata": {},
   "outputs": [],
   "source": [
    "(a,b) = (solTuple[0].subs(solTuple[0].args[1].args[1],0),solTuple[1].subs(solTuple[0].args[1].args[1],0))"
   ]
  },
  {
   "cell_type": "code",
   "execution_count": 61,
   "metadata": {},
   "outputs": [
    {
     "data": {
      "text/latex": [
       "$\\displaystyle 2$"
      ],
      "text/plain": [
       "2"
      ]
     },
     "execution_count": 61,
     "metadata": {},
     "output_type": "execute_result"
    }
   ],
   "source": [
    "a"
   ]
  },
  {
   "cell_type": "code",
   "execution_count": 62,
   "metadata": {},
   "outputs": [
    {
     "data": {
      "text/latex": [
       "$\\displaystyle 1$"
      ],
      "text/plain": [
       "1"
      ]
     },
     "execution_count": 62,
     "metadata": {},
     "output_type": "execute_result"
    }
   ],
   "source": [
    "b"
   ]
  },
  {
   "cell_type": "code",
   "execution_count": 132,
   "metadata": {},
   "outputs": [],
   "source": [
    "t_0 = symbols(\"t_0\")"
   ]
  },
  {
   "cell_type": "code",
   "execution_count": 130,
   "metadata": {},
   "outputs": [
    {
     "data": {
      "text/latex": [
       "$\\displaystyle t_{0}$"
      ],
      "text/plain": [
       "t_0"
      ]
     },
     "execution_count": 130,
     "metadata": {},
     "output_type": "execute_result"
    }
   ],
   "source": [
    "t_0"
   ]
  },
  {
   "cell_type": "code",
   "execution_count": 109,
   "metadata": {},
   "outputs": [
    {
     "data": {
      "text/latex": [
       "$\\displaystyle t_{0} + 1$"
      ],
      "text/plain": [
       "t_0 + 1"
      ]
     },
     "execution_count": 109,
     "metadata": {},
     "output_type": "execute_result"
    }
   ],
   "source": [
    "t_0 + 1"
   ]
  },
  {
   "cell_type": "code",
   "execution_count": 112,
   "metadata": {},
   "outputs": [
    {
     "data": {
      "text/latex": [
       "$\\displaystyle 2$"
      ],
      "text/plain": [
       "2"
      ]
     },
     "execution_count": 112,
     "metadata": {},
     "output_type": "execute_result"
    }
   ],
   "source": [
    "(t_0+1).subs(t_0,1)"
   ]
  },
  {
   "cell_type": "code",
   "execution_count": 131,
   "metadata": {},
   "outputs": [
    {
     "data": {
      "text/latex": [
       "$\\displaystyle t_{0}$"
      ],
      "text/plain": [
       "t_0"
      ]
     },
     "execution_count": 131,
     "metadata": {},
     "output_type": "execute_result"
    }
   ],
   "source": [
    "expr.args[1].args[1].subs(t_0,0)"
   ]
  },
  {
   "cell_type": "code",
   "execution_count": 133,
   "metadata": {},
   "outputs": [],
   "source": [
    "a = symbols(\"b\")"
   ]
  },
  {
   "cell_type": "code",
   "execution_count": 134,
   "metadata": {},
   "outputs": [
    {
     "data": {
      "text/latex": [
       "$\\displaystyle b$"
      ],
      "text/plain": [
       "b"
      ]
     },
     "execution_count": 134,
     "metadata": {},
     "output_type": "execute_result"
    }
   ],
   "source": [
    "a"
   ]
  },
  {
   "cell_type": "code",
   "execution_count": 136,
   "metadata": {},
   "outputs": [],
   "source": [
    "expr"
   ]
  },
  {
   "cell_type": "code",
   "execution_count": null,
   "metadata": {},
   "outputs": [],
   "source": [
    "diop_linear(a*d-b*c-1)[0]"
   ]
  },
  {
   "cell_type": "code",
   "execution_count": 133,
   "metadata": {},
   "outputs": [],
   "source": [
    "from sympy.solvers.diophantine import base_solution_linear\n",
    "\n",
    "def fundDomainRep(z,zeta):\n",
    "    x = re(z)\n",
    "    y = im(z)\n",
    "    cMin = 0\n",
    "    dMin = 1\n",
    "    for c in range(ceiling(-1/abs(y)),floor(1/abs(y))+1):\n",
    "        for d in range(ceiling(-1-c*x),floor(1-c*x)+1):\n",
    "            if N((c*x+d)**2+(c*y)**2) < N((cMin*x+dMin)**2+(cMin*y)**2):\n",
    "                if igcd(c,d) == 1: #restrict to c,d coprime so that things work out\n",
    "                    cMin = c\n",
    "                    dMin = d\n",
    "    c = cMin\n",
    "    d = dMin\n",
    "    (a,b) = base_solution_linear(1,d,-c) #solves the linear diophantine equation\n",
    "    zNew = (a*z+b)/(c*z+d) #will be a horizontal translate of the desired z\n",
    "    trans = floor(re(zNew)+1/2) #translation factor\n",
    "    zNew = simplify(zNew - trans) #desired z\n",
    "    zetaNew = simplify(zeta/(c*z+d))\n",
    "    mat = Matrix([[a-trans*c,b-trans*d],[c,d]])\n",
    "    return (zNew,zetaNew,mat)"
   ]
  },
  {
   "cell_type": "code",
   "execution_count": 134,
   "metadata": {},
   "outputs": [
    {
     "ename": "NameError",
     "evalue": "name 'result' is not defined",
     "output_type": "error",
     "traceback": [
      "\u001b[0;31m---------------------------------------------------------------------------\u001b[0m",
      "\u001b[0;31mNameError\u001b[0m                                 Traceback (most recent call last)",
      "\u001b[0;32m<ipython-input-134-277038f671dc>\u001b[0m in \u001b[0;36m<module>\u001b[0;34m\u001b[0m\n\u001b[0;32m----> 1\u001b[0;31m \u001b[0mfundDomainRep\u001b[0m\u001b[0;34m(\u001b[0m\u001b[0mresult\u001b[0m\u001b[0;34m[\u001b[0m\u001b[0;36m4\u001b[0m\u001b[0;34m]\u001b[0m\u001b[0;34m,\u001b[0m\u001b[0mresult\u001b[0m\u001b[0;34m[\u001b[0m\u001b[0;36m5\u001b[0m\u001b[0;34m]\u001b[0m\u001b[0;34m)\u001b[0m\u001b[0;34m[\u001b[0m\u001b[0;36m0\u001b[0m\u001b[0;34m]\u001b[0m\u001b[0;34m\u001b[0m\u001b[0;34m\u001b[0m\u001b[0m\n\u001b[0m",
      "\u001b[0;31mNameError\u001b[0m: name 'result' is not defined"
     ]
    }
   ],
   "source": [
    "fundDomainRep(result[4],result[5])[0]"
   ]
  },
  {
   "cell_type": "code",
   "execution_count": 130,
   "metadata": {},
   "outputs": [
    {
     "name": "stdout",
     "output_type": "stream",
     "text": [
      "0 1\n"
     ]
    },
    {
     "data": {
      "text/latex": [
       "$\\displaystyle - \\frac{2 \\sqrt{6}}{5}$"
      ],
      "text/plain": [
       "-2*sqrt(6)/5"
      ]
     },
     "execution_count": 130,
     "metadata": {},
     "output_type": "execute_result"
    }
   ],
   "source": [
    "fundDomainRep(result[4],result[5])[1]"
   ]
  },
  {
   "cell_type": "code",
   "execution_count": 15,
   "metadata": {},
   "outputs": [
    {
     "data": {
      "text/latex": [
       "$\\displaystyle - \\frac{7}{5} + \\frac{2 \\sqrt{6} i}{5}$"
      ],
      "text/plain": [
       "-7/5 + 2*sqrt(6)*I/5"
      ]
     },
     "execution_count": 15,
     "metadata": {},
     "output_type": "execute_result"
    }
   ],
   "source": [
    "result[4]"
   ]
  },
  {
   "cell_type": "code",
   "execution_count": 163,
   "metadata": {},
   "outputs": [
    {
     "data": {
      "text/latex": [
       "$\\displaystyle 2 i$"
      ],
      "text/plain": [
       "2*I"
      ]
     },
     "execution_count": 163,
     "metadata": {},
     "output_type": "execute_result"
    }
   ],
   "source": [
    "fundDomainRep(4+2*I,I/2)[0]"
   ]
  },
  {
   "cell_type": "code",
   "execution_count": 125,
   "metadata": {},
   "outputs": [],
   "source": [
    "from sympy.solvers.diophantine import base_solution_linear"
   ]
  },
  {
   "cell_type": "code",
   "execution_count": 127,
   "metadata": {},
   "outputs": [
    {
     "data": {
      "text/plain": [
       "(2, -1)"
      ]
     },
     "execution_count": 127,
     "metadata": {},
     "output_type": "execute_result"
    }
   ],
   "source": [
    "base_solution_linear(1,-2,-5)"
   ]
  },
  {
   "cell_type": "code",
   "execution_count": 153,
   "metadata": {},
   "outputs": [
    {
     "data": {
      "text/latex": [
       "$\\displaystyle - \\frac{1}{5} + \\frac{8 i}{5}$"
      ],
      "text/plain": [
       "-1/5 + 8*I/5"
      ]
     },
     "execution_count": 153,
     "metadata": {},
     "output_type": "execute_result"
    }
   ],
   "source": [
    "simplify(-1/(sympify(3)/4+I/2-1)-1)"
   ]
  },
  {
   "cell_type": "code",
   "execution_count": 159,
   "metadata": {},
   "outputs": [
    {
     "data": {
      "text/latex": [
       "$\\displaystyle - \\frac{1}{5} + \\frac{8 i}{5}$"
      ],
      "text/plain": [
       "-1/5 + 8*I/5"
      ]
     },
     "execution_count": 159,
     "metadata": {},
     "output_type": "execute_result"
    }
   ],
   "source": [
    "simplify((sympify(3)/4+I/2)/(-1*(sympify(3)/4+I/2)+1))"
   ]
  },
  {
   "cell_type": "code",
   "execution_count": 38,
   "metadata": {},
   "outputs": [
    {
     "data": {
      "text/latex": [
       "$\\displaystyle 2 i$"
      ],
      "text/plain": [
       "2*I"
      ]
     },
     "execution_count": 38,
     "metadata": {},
     "output_type": "execute_result"
    }
   ],
   "source": [
    "fundDomainRep(4+2*I,I/2)[0]"
   ]
  },
  {
   "cell_type": "code",
   "execution_count": 111,
   "metadata": {},
   "outputs": [
    {
     "data": {
      "text/latex": [
       "$\\displaystyle \\frac{\\pi^{3}}{\\sqrt{\\pi^{6} + e^{10}}}$"
      ],
      "text/plain": [
       "pi**3/sqrt(pi**6 + exp(10))"
      ]
     },
     "execution_count": 111,
     "metadata": {},
     "output_type": "execute_result"
    }
   ],
   "source": [
    "abs(simplify(fundDomainRep(1/pi**3+I/E**5,I/E**5)[1]))"
   ]
  },
  {
   "cell_type": "code",
   "execution_count": 115,
   "metadata": {},
   "outputs": [
    {
     "data": {
      "text/latex": [
       "$\\displaystyle \\frac{1}{\\left(e^{-10} + \\frac{1}{\\pi^{6}}\\right) e^{5}}$"
      ],
      "text/plain": [
       "exp(-5)/(exp(-10) + pi**(-6))"
      ]
     },
     "execution_count": 115,
     "metadata": {},
     "output_type": "execute_result"
    }
   ],
   "source": [
    "im(fundDomainRep(1/pi**3+I/E**5,I/E**5)[0])"
   ]
  },
  {
   "cell_type": "code",
   "execution_count": 24,
   "metadata": {},
   "outputs": [
    {
     "data": {
      "text/latex": [
       "$\\displaystyle e$"
      ],
      "text/plain": [
       "E"
      ]
     },
     "execution_count": 24,
     "metadata": {},
     "output_type": "execute_result"
    }
   ],
   "source": [
    "E"
   ]
  },
  {
   "cell_type": "code",
   "execution_count": 25,
   "metadata": {},
   "outputs": [
    {
     "data": {
      "text/latex": [
       "$\\displaystyle e^{-1}$"
      ],
      "text/plain": [
       "exp(-1)"
      ]
     },
     "execution_count": 25,
     "metadata": {},
     "output_type": "execute_result"
    }
   ],
   "source": [
    "1/E"
   ]
  },
  {
   "cell_type": "code",
   "execution_count": 36,
   "metadata": {},
   "outputs": [
    {
     "data": {
      "text/latex": [
       "$\\displaystyle \\pi$"
      ],
      "text/plain": [
       "pi"
      ]
     },
     "execution_count": 36,
     "metadata": {},
     "output_type": "execute_result"
    }
   ],
   "source": [
    "pi"
   ]
  },
  {
   "cell_type": "code",
   "execution_count": 53,
   "metadata": {},
   "outputs": [],
   "source": [
    "import time\n"
   ]
  },
  {
   "cell_type": "code",
   "execution_count": 59,
   "metadata": {},
   "outputs": [
    {
     "name": "stdout",
     "output_type": "stream",
     "text": [
      "0.410346999999998\n"
     ]
    }
   ],
   "source": [
    "t = time.process_time()\n",
    "for i in range(10000000):\n",
    "    pass\n",
    "print(time.process_time() - t)"
   ]
  },
  {
   "cell_type": "code",
   "execution_count": 60,
   "metadata": {},
   "outputs": [
    {
     "data": {
      "text/latex": [
       "$\\displaystyle 1$"
      ],
      "text/plain": [
       "1"
      ]
     },
     "execution_count": 60,
     "metadata": {},
     "output_type": "execute_result"
    }
   ],
   "source": [
    "abs(I)"
   ]
  },
  {
   "cell_type": "code",
   "execution_count": 61,
   "metadata": {},
   "outputs": [
    {
     "data": {
      "text/latex": [
       "$\\displaystyle \\sqrt{2}$"
      ],
      "text/plain": [
       "sqrt(2)"
      ]
     },
     "execution_count": 61,
     "metadata": {},
     "output_type": "execute_result"
    }
   ],
   "source": [
    "abs(1+I)"
   ]
  },
  {
   "cell_type": "code",
   "execution_count": 11,
   "metadata": {},
   "outputs": [],
   "source": [
    "def inFundDom(z):\n",
    "    return (re(N(abs(z))) >= 1) and (re(N(abs(re(z))))<=1/2)"
   ]
  },
  {
   "cell_type": "code",
   "execution_count": 9,
   "metadata": {},
   "outputs": [],
   "source": [
    "def fundDomRepNew(z,zeta):\n",
    "    mat = Matrix([[1,0],[0,1]])\n",
    "    while not inFundDom(z):\n",
    "        trans = floor(re(z)+1/2) #translation factor\n",
    "        z = z - trans #desired z\n",
    "        mat = Matrix([[1,-trans],[0,1]])*mat\n",
    "        if (re(N(abs(z))) < 1):\n",
    "            zeta = simplify(zeta/z**2)\n",
    "            z = simplify(-1/z)\n",
    "            mat = Matrix([[0,1],[-1,0]])*mat\n",
    "    return (z,zeta,mat)"
   ]
  },
  {
   "cell_type": "code",
   "execution_count": 55,
   "metadata": {},
   "outputs": [],
   "source": [
    "def fundDomGeo(mat,res): #input hyperbolic geodesic matrix\n",
    "    geoInfo = geodesicInfoFromMatrix(mat)\n",
    "    length = geoInfo[0]\n",
    "    eigMat = geoInfo[2]\n",
    "    z = geoInfo[4]\n",
    "    zeta = geoInfo[5]\n",
    "    pointlist = []\n",
    "    newRep = fundDomRepNew(z,zeta)\n",
    "    z = newRep[0]\n",
    "    zeta = newRep[1]\n",
    "    eigMat = newRep[2]*eigMat\n",
    "    pointlist.append((re(N(z)),im(N(z))))\n",
    "    for t in range(res):        \n",
    "        eigMat = eigMat*Matrix([[E**(length/(2*res)),0],[0,E**(-length/(2*res))]])\n",
    "        newA = re(N(eigMat[0,0]))\n",
    "        newB = re(N(eigMat[0,1]))\n",
    "        newC = re(N(eigMat[1,0]))\n",
    "        newD = re(N(eigMat[1,1]))\n",
    "        timer = time.process_time()\n",
    "        z = N((newA*I+newB)/(newC*I+newD))\n",
    "        zeta = N(I/(newC*I+newD)**2)\n",
    "        print(time.process_time() - timer)\n",
    "        if not inFundDom(z):\n",
    "            newRep = fundDomRepNew(z,zeta)\n",
    "            z = newRep[0]\n",
    "            zeta = newRep[1]\n",
    "            eigMat = newRep[2]*eigMat\n",
    "        pointlist.append((re(N(z)),im(N(z))))\n",
    "    plt.scatter(*zip(*pointlist))\n",
    "    plt.show()"
   ]
  },
  {
   "cell_type": "code",
   "execution_count": 37,
   "metadata": {},
   "outputs": [
    {
     "data": {
      "text/plain": [
       "(-1/5 + 8*I/5,\n",
       " -32/25 - 24*I/25,\n",
       " Matrix([\n",
       " [ 1, 0],\n",
       " [-1, 1]]))"
      ]
     },
     "execution_count": 37,
     "metadata": {},
     "output_type": "execute_result"
    }
   ],
   "source": [
    "fundDomRepNew(3/sympify(4)+I/2,I/2)"
   ]
  },
  {
   "cell_type": "code",
   "execution_count": 4,
   "metadata": {},
   "outputs": [],
   "source": [
    "from sympy import *"
   ]
  },
  {
   "cell_type": "code",
   "execution_count": 149,
   "metadata": {},
   "outputs": [
    {
     "data": {
      "text/latex": [
       "$\\displaystyle - \\frac{1}{5} + \\frac{8 i}{5}$"
      ],
      "text/plain": [
       "-1/5 + 8*I/5"
      ]
     },
     "execution_count": 149,
     "metadata": {},
     "output_type": "execute_result"
    }
   ],
   "source": [
    "simplify((3/sympify(4)+I/2)/(-1*(3/sympify(4)+I/2)+1))"
   ]
  },
  {
   "cell_type": "code",
   "execution_count": 56,
   "metadata": {},
   "outputs": [
    {
     "name": "stdout",
     "output_type": "stream",
     "text": [
      "0.00394299999999248\n",
      "0.0031359999999835964\n",
      "0.0030690000000390683\n",
      "0.0030460000000402943\n",
      "0.004945999999961259\n",
      "0.004638999999997395\n",
      "0.0030060000000275977\n",
      "0.0037510000000224863\n",
      "0.0031869999999685206\n",
      "0.003129999999998745\n",
      "0.002736000000027161\n",
      "0.004226000000016938\n",
      "0.003149000000007618\n",
      "0.003444999999999254\n",
      "0.0030470000000377695\n",
      "0.002946000000008553\n",
      "0.0032270000000380605\n",
      "0.0034159999999587853\n",
      "0.00344799999999168\n",
      "0.003119999999967149\n",
      "0.0037079999999605207\n",
      "0.0049040000000104556\n",
      "0.0032280000000355358\n",
      "0.00484900000003563\n",
      "0.0037499999999681677\n",
      "0.0027589999999690917\n",
      "0.0035340000000019245\n",
      "0.0032439999999951397\n",
      "0.0038969999999949323\n",
      "0.003796000000022559\n",
      "0.0038749999999936335\n",
      "0.0036560000000349646\n",
      "0.004162000000007993\n",
      "0.004551999999989675\n",
      "0.0038010000000099353\n",
      "0.0031740000000013424\n",
      "0.004686999999989894\n",
      "0.003344000000026881\n",
      "0.0036269999999944957\n",
      "0.0028570000000058826\n",
      "0.0036410000000159926\n",
      "0.005285000000014861\n",
      "0.0036630000000172913\n",
      "0.00446199999998953\n",
      "0.004213999999990392\n",
      "0.0029250000000047294\n",
      "0.004093000000011671\n",
      "0.0037980000000175096\n",
      "0.0032749999999737156\n",
      "0.003962999999998829\n",
      "0.004078999999990174\n",
      "0.004098999999996522\n",
      "0.0037859999999909633\n",
      "0.003578000000004522\n",
      "0.002813000000003285\n",
      "0.004009999999993852\n",
      "0.003406999999981508\n",
      "0.0027579999999716165\n",
      "0.0036050000000500404\n",
      "0.004417999999986932\n",
      "0.0026809999999954925\n",
      "0.003106999999999971\n",
      "0.0033730000000105065\n",
      "0.0033500000000117325\n",
      "0.0034499999999866304\n",
      "0.0028340000000071086\n",
      "0.003256000000021686\n",
      "0.002751999999986765\n",
      "0.0035770000000070468\n",
      "0.0032360000000153377\n",
      "0.0031880000000228392\n",
      "0.0028259999999704633\n",
      "0.0036220000000071195\n",
      "0.0030209999999897263\n",
      "0.002938000000028751\n",
      "0.0030489999999758766\n",
      "0.0037989999999581414\n",
      "0.003527000000019598\n",
      "0.004123999999990247\n",
      "0.002935999999976957\n",
      "0.0034509999999841057\n",
      "0.0036180000000172186\n",
      "0.002900000000011005\n",
      "0.0032950000000369073\n",
      "0.0030749999999670763\n",
      "0.003137999999978547\n",
      "0.003064999999992324\n",
      "0.0031819999999811444\n",
      "0.0035940000000209693\n",
      "0.003893999999945663\n",
      "0.002970000000004802\n",
      "0.0027959999999893625\n",
      "0.0029289999999946303\n",
      "0.003700000000037562\n",
      "0.0030949999999734246\n",
      "0.002659999999991669\n",
      "0.0026799999999980173\n",
      "0.002858000000003358\n",
      "0.0028969999999617357\n",
      "0.0025959999999827232\n"
     ]
    },
    {
     "data": {
      "image/png": "[encoded data removed]",
      "text/plain": [
       "<Figure size 432x288 with 1 Axes>"
      ]
     },
     "metadata": {
      "needs_background": "light"
     },
     "output_type": "display_data"
    }
   ],
   "source": [
    "fundDomGeo(Matrix([[12,5],[-5,-2]]),100)"
   ]
  },
  {
   "cell_type": "code",
   "execution_count": 30,
   "metadata": {},
   "outputs": [],
   "source": [
    "import matplotlib.pyplot as plt"
   ]
  },
  {
   "cell_type": "code",
   "execution_count": 39,
   "metadata": {},
   "outputs": [],
   "source": [
    "import time"
   ]
  },
  {
   "cell_type": "code",
   "execution_count": null,
   "metadata": {},
   "outputs": [],
   "source": []
  }
 ],
 "metadata": {
  "kernelspec": {
   "display_name": "Python 3",
   "language": "python",
   "name": "python3"
  },
  "language_info": {
   "codemirror_mode": {
    "name": "ipython",
    "version": 3
   },
   "file_extension": ".py",
   "mimetype": "text/x-python",
   "name": "python",
   "nbconvert_exporter": "python",
   "pygments_lexer": "ipython3",
   "version": "3.7.6"
  }
 },
 "nbformat": 4,
 "nbformat_minor": 2
}
