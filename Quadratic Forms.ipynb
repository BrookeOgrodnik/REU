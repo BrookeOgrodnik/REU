{
 "cells": [
  {
   "cell_type": "code",
   "execution_count": 3,
   "metadata": {},
   "outputs": [],
   "source": [
    "import numpy as np\n",
    "import sympy as sp\n",
    "import math\n",
    "from sympy import ntheory\n",
    "from sympy.ntheory import continued_fraction_periodic"
   ]
  },
  {
   "cell_type": "code",
   "execution_count": null,
   "metadata": {},
   "outputs": [],
   "source": []
  },
  {
   "cell_type": "code",
   "execution_count": 28,
   "metadata": {},
   "outputs": [],
   "source": [
    "def classRepresentatives(length):\n",
    "    trace = 2*np.cosh(length/2)\n",
    "    bound = math.floor(trace**2-4)\n",
    "    quadraticForms = []\n",
    "    for D in range(2,bound+1):\n",
    "        if isASquare(D):\n",
    "            continue\n",
    "        elif D%4 == 0:\n",
    "            quadraticForms+=representatives(D)\n",
    "        elif D%4 == 1:\n",
    "            quadraticForms+=representatives(D)\n",
    "    return quadraticForms\n",
    "\n",
    "def representatives(D):\n",
    "    reps = []\n",
    "    seenFracs = []\n",
    "    for i in range(1,math.floor(np.sqrt(D))+1):\n",
    "        B = -i\n",
    "        if not (B**2-D)%4==0:\n",
    "            continue\n",
    "        for j in range(math.ceil((np.sqrt(D)+B)/2),math.floor((np.sqrt(D)-B)/2)+1):\n",
    "            A = j\n",
    "            if not ((B**2-D)//4)%A==0:\n",
    "                continue\n",
    "            C = ((B**2-D)//4)//A\n",
    "            Q = [A,B,C]\n",
    "            frac = ntheory.continued_fraction_periodic(-Q[1], 2*Q[0], disc(Q))[0]\n",
    "            if frac not in seenFracs:\n",
    "                seenFracs+=permutationsOf(frac)\n",
    "                reps.append(Q)\n",
    "            else:\n",
    "                continue\n",
    "    return reps\n",
    "\n",
    "def permutationsOf(a):\n",
    "    perms = []\n",
    "    if len(a)%2==0:\n",
    "        for n in range(0,len(a),2):\n",
    "            perms.append(a[n:]+a[:n])\n",
    "    else:\n",
    "        for n in range(0,len(a)):\n",
    "            perms.append(a[n:]+a[:n])\n",
    "    return perms\n",
    "\n",
    "def disc(quad):\n",
    "    return quad[1]**2-4*quad[0]*quad[2]\n",
    "\n",
    "def areEquivalent(Q,W):\n",
    "    return ntheory.continued_fraction_periodic(-Q[1], 2*Q[0], disc(Q))[0] in permutationsOf(ntheory.continued_fraction_periodic(-W[1], 2*W[0], disc(W))[0])"
   ]
  },
  {
   "cell_type": "code",
   "execution_count": 5,
   "metadata": {},
   "outputs": [],
   "source": [
    "def isASquare(n):\n",
    "    for i in range(2,n):\n",
    "        if n==i**2:\n",
    "            return True\n",
    "    return False"
   ]
  },
  {
   "cell_type": "code",
   "execution_count": 32,
   "metadata": {},
   "outputs": [],
   "source": [
    "def quadToMat(Q):\n",
    "    mat = np.identity(2)\n",
    "    length = 0\n",
    "    for x in ntheory.continued_fraction_periodic(-Q[1], 2*Q[0],disc(Q))[0]:\n",
    "        mat = np.matmul(mat,[[x,1],[1,0]])\n",
    "        length += 1\n",
    "    if length % 2 == 1:\n",
    "        mat = np.matmul(mat,mat)\n",
    "    return np.array(mat).astype(np.float64)"
   ]
  },
  {
   "cell_type": "code",
   "execution_count": 33,
   "metadata": {},
   "outputs": [
    {
     "data": {
      "text/plain": [
       "array([[2., 1.],\n",
       "       [1., 1.]])"
      ]
     },
     "execution_count": 33,
     "metadata": {},
     "output_type": "execute_result"
    }
   ],
   "source": [
    "quadToMat([1,-1,-1])"
   ]
  },
  {
   "cell_type": "code",
   "execution_count": null,
   "metadata": {},
   "outputs": [],
   "source": []
  }
 ],
 "metadata": {
  "kernelspec": {
   "display_name": "Python 3",
   "language": "python",
   "name": "python3"
  },
  "language_info": {
   "codemirror_mode": {
    "name": "ipython",
    "version": 3
   },
   "file_extension": ".py",
   "mimetype": "text/x-python",
   "name": "python",
   "nbconvert_exporter": "python",
   "pygments_lexer": "ipython3",
   "version": "3.7.6"
  }
 },
 "nbformat": 4,
 "nbformat_minor": 2
}
