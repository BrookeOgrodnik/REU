{
 "cells": [
  {
   "cell_type": "code",
   "execution_count": 261,
   "metadata": {},
   "outputs": [],
   "source": [
    "import numpy as np\n",
    "import math\n",
    "import matplotlib.pyplot as plt\n",
    "from sympy import ntheory\n",
    "from numpy.linalg import matrix_power\n",
    "import time\n",
    "import matplotlib\n",
    "from sympy.geometry import Point, Circle"
   ]
  },
  {
   "cell_type": "code",
   "execution_count": 262,
   "metadata": {},
   "outputs": [],
   "source": [
    "tolerance = 1e-6"
   ]
  },
  {
   "cell_type": "code",
   "execution_count": 263,
   "metadata": {},
   "outputs": [],
   "source": [
    "def getOrtho(circ1,circ2):\n",
    "    r1,x1 = circ1 \n",
    "    r2,x2 = circ2\n",
    "    if abs(x1-x2)<tolerance:\n",
    "        return (np.inf, (x1+x2)/2)\n",
    "    c1 = x1**2-r1**2\n",
    "    c2 = x2**2-r2**2\n",
    "    h = (c1-c2)/(2*(x2-x1))\n",
    "    x3 = -h\n",
    "    r3 = math.sqrt(h**2+2*x1*h+c1)\n",
    "    return (r3, x3)"
   ]
  },
  {
   "cell_type": "code",
   "execution_count": 264,
   "metadata": {},
   "outputs": [],
   "source": [
    "def getShear(pants1,pants2, gamma,s = 5):\n",
    "    circlesList, pbar,p = pantsShear(pants1,pants2,gamma,s)\n",
    "    circ1 = getOrtho((abs(circlesList[2][0]),circlesList[2][1]),(abs(circlesList[3][0]),circlesList[3][1]))\n",
    "    circ2 = getOrtho((abs(circlesList[3][0]),circlesList[3][1]),(abs(circlesList[4][0]),circlesList[4][1]))\n",
    "    circ3 = getOrtho((abs(circlesList[0][0]),circlesList[0][1]),(abs(circlesList[1][0]),circlesList[1][1]))\n",
    "    circ4 = getOrtho((abs(circlesList[0][0]),circlesList[0][1]),(abs(circlesList[5][0]),circlesList[5][1]))\n",
    "    if not pIsIn(p, toInterval(circ1)):\n",
    "        circ1 = (-circ1[0],circ1[1])\n",
    "    if not pIsIn(p,toInterval(circ2)):\n",
    "        circ2 = (-circ2[0],circ2[1])\n",
    "    if not pIsIn(pbar, toInterval(circ3)):\n",
    "        circ3 = (-circ3[0],circ3[1])\n",
    "    if not pIsIn(pbar,toInterval(circ4)):\n",
    "        circ4 = (-circ4[0],circ4[1])\n",
    "    sign_1 = 1\n",
    "    sign_2 = 1\n",
    "    if intIsIn(toInterval(circ1), toInterval(circ2)):\n",
    "        sign_1 = -1\n",
    "    if intIsIn(toInterval(circ3), toInterval(circ4)):\n",
    "        sign_2 = -1\n",
    "    radiusCenterPlotter(circlesList+[circ1,circ2]+[circ3,circ4],s)\n",
    "    radiusCenterPlotter2(circlesList+[circ1,circ2]+[circ3,circ4],s)\n",
    "    return (-1*sign_1*getDist(circ1,circ2), sign_2*getDist(circ3,circ4))"
   ]
  },
  {
   "cell_type": "code",
   "execution_count": 265,
   "metadata": {},
   "outputs": [],
   "source": [
    "def toInterval(circ): #we implicitly assume that we can never have trivial intervals of (x,x) = emptyset\n",
    "    r,x = circ\n",
    "    if r==np.inf:\n",
    "        return (x,np.inf)\n",
    "    elif r==np.NINF:\n",
    "        return (np.NINF,x)\n",
    "    else:\n",
    "        return (x-r, x+r)"
   ]
  },
  {
   "cell_type": "code",
   "execution_count": 266,
   "metadata": {},
   "outputs": [],
   "source": [
    "def getDist(circ1,circ2):\n",
    "    circ1,circ2 = getInv(circ1), getInv(circ2)\n",
    "    t1,u1,v1 = circ1\n",
    "    t2,u2,v2 = circ2\n",
    "    a = (t1*u2/2+t2*u1/2-v1*v2)\n",
    "    return np.arccosh(abs(a))"
   ]
  },
  {
   "cell_type": "code",
   "execution_count": 267,
   "metadata": {},
   "outputs": [],
   "source": [
    "def getInv(circ):\n",
    "    r,x = circ\n",
    "    if r == np.inf or r == np.NINF:\n",
    "        return (2*x,0,1)\n",
    "    return ((x**2-r**2)/r, 1/r, x/r)"
   ]
  },
  {
   "cell_type": "code",
   "execution_count": 268,
   "metadata": {},
   "outputs": [],
   "source": [
    "def InvToNormal(circ,N):\n",
    "    t,u,v = circ\n",
    "    if abs(u)<tolerance:\n",
    "        return (np.inf,t/2)\n",
    "    else:\n",
    "        r = 1/u\n",
    "        x = r*v\n",
    "        return (r,x)"
   ]
  },
  {
   "cell_type": "code",
   "execution_count": 269,
   "metadata": {},
   "outputs": [],
   "source": [
    "def pIsIn(p,interval): # open intervals\n",
    "    if interval[0] < interval[1]:\n",
    "        return interval[0] < p and p < interval[1]\n",
    "    else:\n",
    "        return interval[0] < p or p < interval[1]"
   ]
  },
  {
   "cell_type": "code",
   "execution_count": 270,
   "metadata": {},
   "outputs": [],
   "source": [
    "def intIsIn(int1, int2): # returns whether interval 1 contains interval 2 (i.e. True = \"1 contains 2\")\n",
    "    if int1[0] < int1[1] and int2[0] < int2[1]:\n",
    "        return int1[0] <= int2[0] and int1[1] >= int2[1]\n",
    "    elif int1[0] > int1[1] and int2[0] < int2[1]:\n",
    "        return int1[0] <= int2[0] or int2[1] <= int1[1]\n",
    "    elif int1[0] > int1[1] and int2[0] > int2[1]:\n",
    "        return int1[0] <= int2[0] and int1[1] >= int2[1]\n",
    "    else:\n",
    "        return False"
   ]
  },
  {
   "cell_type": "code",
   "execution_count": 271,
   "metadata": {},
   "outputs": [],
   "source": [
    "def act(M,x):\n",
    "    return (M[0,0]*x+M[0,1])/(M[1,0]*x+M[1,1])"
   ]
  },
  {
   "cell_type": "code",
   "execution_count": 272,
   "metadata": {},
   "outputs": [],
   "source": [
    "def pairToFrac(s1, s2):\n",
    "    return minPermutation(recover(list(s1) + [1] + list(inv(s2)) + [1]))"
   ]
  },
  {
   "cell_type": "code",
   "execution_count": 273,
   "metadata": {},
   "outputs": [],
   "source": [
    "def pantsShear(pants1, pants2, y,s = 5): # y is given in minimal form, without any 0's \n",
    "    s0,s1,s2 = pants1\n",
    "    pants1Arr = []\n",
    "    \n",
    "    pants1Arr.append(pairToFrac(s1,s2))\n",
    "    pants1Arr.append(pairToFrac(s2,s0))\n",
    "    pants1Arr.append(pairToFrac(s0,s1))\n",
    "    #pair to frac here sends extra R's at the front to the end, so it makes sense to compare to y later.\n",
    "    \n",
    "    i = -1\n",
    "    for l in range(3):\n",
    "        if pants1Arr[l] == y:\n",
    "            i = l\n",
    "    \n",
    "    pants1_new = [pairToFrac2(s1,s2),pairToFrac2(s2,s0),pairToFrac2(s0,s1)]\n",
    "    pants1_new = pants1_new[i:] + pants1_new[:i]\n",
    "    pants1  = pants1[i:] + pants1[:i]\n",
    "    \n",
    "    #the above puts the cuff that matches to y into the first slot of the array\n",
    "    #example: if i = 1, then pants1_new = [gamma1,gamma2,gamma0], and pants1 = [s1,s2,s0]\n",
    "    \n",
    "    s0,s1,s2 = pants2\n",
    "    \n",
    "    pants2Arr = []\n",
    "    \n",
    "    pants2Arr.append(pairToFrac(s1,s2))\n",
    "    pants2Arr.append(pairToFrac(s2,s0))\n",
    "    pants2Arr.append(pairToFrac(s0,s1))\n",
    "    \n",
    "    for l in range(3):\n",
    "        if minPermutation(pants2Arr[l][::-1]) == y:\n",
    "            i = l\n",
    "    \n",
    "    pants2_new = [pairToFrac2(s1,s2),pairToFrac2(s2,s0),pairToFrac2(s0,s1)]\n",
    "    pants2_new = pants2_new[i:] + pants2_new[:i]\n",
    "    pants2 = pants2[i:] + pants2[:i]\n",
    "    #the above puts the cuff that matches to the inverse of y into the first slot of the array\n",
    "    \n",
    "    gamma_1 = pants1_new[0]\n",
    "    gamma_2 = pants2_new[0]\n",
    "    \n",
    "    #the above are the two geodesics we want to match\n",
    "    A_1 = np.eye(2)\n",
    "    A_2 = np.eye(2)\n",
    "    if gamma_1[0]==0:\n",
    "        A_1 = np.linalg.inv(np.array([[0,1],[1,-gamma_1[1]]]) @ np.array([[0,1],[1,0]]))\n",
    "        gamma_1[-1]+=gamma_1[1]\n",
    "        gamma_1 = gamma_1[2:]\n",
    "    \n",
    "    #the above occurs when the start of the geo cutting sequence was an R and we then put a 0 in the cont frac\n",
    "    #to represent L^0\n",
    "    #we then store A_1 as the matrix that acts on the continued fraction by concatenating gamma_1[1] to the front\n",
    "    #next, we add gamma_1[1] to the last entry as that is how 0 works for continued fractions, and then take away entries\n",
    "        \n",
    "    \n",
    "    if gamma_2[0]==0:\n",
    "        A_2 = np.array([[0,1],[1,-gamma_2[1]]]) @ np.array([[0,1],[1,0]])\n",
    "        gamma_2[-1]+=gamma_2[1]\n",
    "        gamma_2 = gamma_2[2:]\n",
    "        \n",
    "    #the above stored matrix action on the cont frac is: delete the 0, then delete gamma_2[1] (really, rotate by 2 slots)\n",
    "    \n",
    "    gamma_2 = gamma_2[::-1]\n",
    "    l = len(gamma_1)\n",
    "    #reverse gamma_2 so we can compare it to gamma_1\n",
    "    k = -1\n",
    "    for i in range(0,l,2):\n",
    "        if (gamma_2[i:]+gamma_2[:i]) == gamma_1:\n",
    "            k = i\n",
    "    #the above marks which even permutation we need to take to match back to gamma_1\n",
    "    mat = np.array([[0,1],[-1,0]])\n",
    "\n",
    "    for i in range(k):\n",
    "        mat = np.matmul(np.array([[0,1],[1,-gamma_2[i]]]), mat)\n",
    "\n",
    "    #the original matrix is -1/z action that reverses the order of the cont frac of conj(z)\n",
    "    #the other multiplications take away entries now from the back of gamma_2\n",
    "        \n",
    "    B = np.array([[0,1],[-1,1]])\n",
    "    \n",
    "    #the above matrix permutes 0,1,infty cyclically. represented by: 1/(1-z)\n",
    "    \n",
    "    T = np.array([[1,1],[0,1]])\n",
    "    \n",
    "    #the above adds 1 to the cont frac\n",
    "    \n",
    "    T_inv = np.array([[1,-1],[0,1]])\n",
    "    \n",
    "    #the above subtracts 1 from the cont frac\n",
    "    \n",
    "    M = ((((((B @ T) @ A_1) @ mat) @ A_2) @ T_inv) @ matrix_power(B, 2))\n",
    "    pants2_in_plane = pantsInPlane(pants2)\n",
    "    min_max = [(x-r,x+r) for (r,x) in pants2_in_plane]\n",
    "    pants2_in_plane = [(act(M, mini),act(M,maxi)) for (mini,maxi) in min_max]\n",
    "    pants2_in_plane = [((x_max-x_min)/2,(x_max+x_min)/2) for (x_min,x_max) in pants2_in_plane]\n",
    "    pants1_in_plane  = pantsInPlane(pants1)\n",
    "    pbar = pants1_in_plane[0][1] - pants1_in_plane[0][0]\n",
    "    p = pants1_in_plane[0][1] + pants1_in_plane[0][0]\n",
    "    radiusCenterPlotter(pants1_in_plane, s)\n",
    "    radiusCenterPlotter2(pants1_in_plane, s)\n",
    "    radiusCenterPlotter(pants2_in_plane, s)\n",
    "    radiusCenterPlotter2(pants2_in_plane, s)\n",
    "    radiusCenterPlotter(pants1_in_plane + pants2_in_plane, s)\n",
    "    radiusCenterPlotter2(pants1_in_plane + pants2_in_plane, s)\n",
    "    return (pants1_in_plane + pants2_in_plane, pbar, p)"
   ]
  },
  {
   "cell_type": "code",
   "execution_count": 274,
   "metadata": {},
   "outputs": [],
   "source": [
    "#this thing will brute force compute the shears of a list of pants given by a range of traces\n",
    "def bruteShearsOnTraceRange(tmin, tmax):\n",
    "    shear_list = []\n",
    "    pre_pants_list = list(pantsInTraceRange(tmin,tmax))\n",
    "    pos_geo_list = pantsToGeodesics(pre_pants_list) #remember to import pantsToGeodesics. remember the geos here are minimal\n",
    "    pants_list = list(pantsInTraceRange2(tmin,tmax))\n",
    "    #also need to fix the rep of these pants to include 0s... the functions called here get rid of 0s\n",
    "    for geo in pos_geo_list:\n",
    "        inv_geo = geo[::-1]\n",
    "        list_of_pants_with_cuff = []\n",
    "        list_of_pants_with_inv_cuff = []\n",
    "        length = len(geo)\n",
    "        for i in range(0,length,2):\n",
    "            list_of_pants_with_cuff + pantsInTraceRangeWithCuff2(tmin, tmax, geo[i:] + geo[i:])\n",
    "        for i in range(0,length,2):\n",
    "            list_of_pants_with_inv_cuff + pantsInTraceRangeWithCuff2(tmin, tmax, inv_geo[i:] + inv_geo[i:])\n",
    "        for pants in list_of_pants_with_cuff:\n",
    "            for inv_pants in list_of_pants_with_inv_cuff:\n",
    "                shear_list.append(getShear(pants,inv_pants,geo)) #still need to fix rep of pants\n",
    "    return shear_list\n",
    "\n",
    "#things to import and convert:\n",
    "#pantsInTraceRange, pantsToGeodesics, pantsInTraceRangeWithCuff. look at listSplit-Copy1"
   ]
  },
  {
   "cell_type": "code",
   "execution_count": 275,
   "metadata": {},
   "outputs": [],
   "source": [
    "def isOdd(sequence):\n",
    "    return len(sequence) % 2"
   ]
  },
  {
   "cell_type": "code",
   "execution_count": 276,
   "metadata": {},
   "outputs": [],
   "source": [
    "def rotl(x, k):\n",
    "    return x[k:] + x[:k]"
   ]
  },
  {
   "cell_type": "code",
   "execution_count": 277,
   "metadata": {},
   "outputs": [],
   "source": [
    "def permutationsOf(sequence):\n",
    "    return list(permutationsOfGen(sequence))"
   ]
  },
  {
   "cell_type": "code",
   "execution_count": 278,
   "metadata": {},
   "outputs": [],
   "source": [
    "def permutationsOfGen(sequence):\n",
    "    for n in range(0, len(sequence), 1 if isOdd(sequence) else 2):\n",
    "        yield rotl(sequence, n)"
   ]
  },
  {
   "cell_type": "code",
   "execution_count": 279,
   "metadata": {},
   "outputs": [],
   "source": [
    "def minPermutation(sequence):\n",
    "    return min(permutationsOfGen(sequence))"
   ]
  },
  {
   "cell_type": "code",
   "execution_count": 280,
   "metadata": {},
   "outputs": [],
   "source": [
    "def inv(lr_sequence):\n",
    "    return tuple((np.array(lr_sequence[::-1]) - 1) ** 2)"
   ]
  },
  {
   "cell_type": "code",
   "execution_count": 281,
   "metadata": {},
   "outputs": [],
   "source": [
    "def pairToFrac2(s1,s2):\n",
    "    return recover2(list(s1) + [1] + list(inv(s2)) + [1])"
   ]
  },
  {
   "cell_type": "code",
   "execution_count": 282,
   "metadata": {},
   "outputs": [],
   "source": [
    "def recover(ls):\n",
    "    output = []\n",
    "    i = 0\n",
    "    while i < len(ls):\n",
    "        counter = 1\n",
    "        while (i < len(ls) - 1 and ls[i] == ls[i + 1]):\n",
    "            i += 1\n",
    "            counter += 1\n",
    "        i += 1\n",
    "        output.append(counter)\n",
    "    if isOdd(output):    #this is the line where we lump things\n",
    "        output[-1] += output[0]\n",
    "        output = output[1:]\n",
    "    return output\n",
    "\n",
    "def recover2(ls):\n",
    "    output = []\n",
    "    i = 0\n",
    "    while i < len(ls):\n",
    "        counter = 1\n",
    "        while (i < len(ls) - 1 and ls[i] == ls[i + 1]):\n",
    "            i += 1\n",
    "            counter += 1\n",
    "        i += 1\n",
    "        output.append(counter)\n",
    "    if isOdd(output):  \n",
    "        output = [0]+output\n",
    "    return output"
   ]
  },
  {
   "cell_type": "code",
   "execution_count": 283,
   "metadata": {},
   "outputs": [],
   "source": [
    "#this cell for graphing matrices from continued fractions\n",
    "def cfToMat(cf):\n",
    "    mat = np.identity(2)\n",
    "    length = 0\n",
    "    for x in cf:\n",
    "        mat = np.matmul(mat,[[x,1],[1,0]])\n",
    "        length += 1\n",
    "    if length % 2 == 1:\n",
    "        mat = np.matmul(mat,mat)\n",
    "    return np.array(mat).astype(int)\n",
    "\n",
    "def npCfReduce(cf): #works on fully periodic continued fractions\n",
    "    mat = cfToMat(cf)\n",
    "    return (mat[0,0]-mat[1,1] + math.sqrt(mat[0,0]**2+mat[1,1]**2+2*mat[1,0]*mat[0,1]-2))/(2*mat[1,0])\n",
    "\n",
    "def geodesicInfoFromMatrix(M): #input is a hyperbolic matrix M which lies in SL_2(Z)\n",
    "    tr = np.trace(M)\n",
    "    if abs(tr) <= 2:\n",
    "        raise ValueError('Matrix should have trace > 2')\n",
    "    if tr < 0:\n",
    "        M = -M\n",
    "        tr = -tr\n",
    "    length = 2*math.log(tr/2+math.sqrt((tr/2)**2-1))\n",
    "    eig = math.exp(1)**(length/2)\n",
    "    a = M.item(0,0)\n",
    "    b = M.item(0,1)\n",
    "    c = M.item(1,0)\n",
    "    d = M.item(1,1)\n",
    "    if c > 0:\n",
    "        eigMat = (1/((c**2)*(tr**2-4))**(1/4))*np.matrix([[eig-d,1/eig-d],[c,c]])\n",
    "    else: \n",
    "        eigMat = (1/((c**2)*(tr**2-4))**(1/4))*np.matrix([[-eig+d,1/eig-d],[-c,c]])\n",
    "    visPt = (eig-d)/c\n",
    "    newA = eigMat.item(0,0)\n",
    "    newB = eigMat.item(0,1)\n",
    "    newC = eigMat.item(1,0)\n",
    "    newD = eigMat.item(1,1)\n",
    "    visPtConj = (a - d - math.sqrt(tr**2 - 4))/(2*c)\n",
    "    z = (newA*1j+newB)/(newC*1j+newD)\n",
    "    zeta = 1j/(newC*1j+newD)**2\n",
    "    return (length,eig,eigMat,visPt,visPtConj,z,zeta)\n",
    "\n",
    "def plotMatrix(M): #input is a hyperbolic matrix M which lies in SL_2(Z)\n",
    "    trace = np.trace(M)\n",
    "    visPt = geodesicInfoFromMatrix(M)[3]\n",
    "    visPtConj = geodesicInfoFromMatrix(M)[4]\n",
    "    radius = (visPt - visPtConj)/2\n",
    "    center = (visPt + visPtConj)/2\n",
    "    circle = (radius, center)\n",
    "    \n",
    "    fig, ax = plt.subplots()\n",
    "    minimum = -1 + (circle[1]-abs(circle[0]))\n",
    "    maximum = 1 + (circle[1]+abs(circle[0]))\n",
    "    ax.set_xlim(float(minimum),float(maximum))\n",
    "    ax.set_ylim(0, float(abs(circle[0])+1))\n",
    "    \n",
    "    circle1 = plt.Circle((circle[1],0), abs(circle[0]), fill = False, color = 'r')\n",
    "    \n",
    "    if circle[0]>0:\n",
    "        plt.plot(circle[1], abs(circle[0]), '>', color=  'r')\n",
    "    else:\n",
    "        plt.plot(circle[1], abs(circle[0]), '<', color=  'r')\n",
    "    \n",
    "    ax.add_artist(circle1)\n",
    "    ax.set_aspect('equal', adjustable='box')"
   ]
  },
  {
   "cell_type": "code",
   "execution_count": 296,
   "metadata": {},
   "outputs": [],
   "source": [
    "def circlePoints(circ, N = 100):\n",
    "    r,x = circ\n",
    "    x_values,y_values = [],[]\n",
    "    for i in range(N+1):\n",
    "        curr_x = x+r*math.cos(pi*i/N)\n",
    "        curr_y = r*math.sin(pi*i/N)\n",
    "        x_values.append(curr_x)\n",
    "        y_values.append(curr_y)\n",
    "    return (x_values,y_values)"
   ]
  },
  {
   "cell_type": "code",
   "execution_count": 285,
   "metadata": {},
   "outputs": [],
   "source": [
    "def h(point):\n",
    "    xVals, yVals = point[0][0], point[0][1]\n",
    "    output = [[],[]]\n",
    "    for i in range(len(xVals)):\n",
    "        x,y = xVals[i],yVals[i]\n",
    "        a = x**2+(y+1)**2\n",
    "        output[0].append((x**2+y**2-1)/a)\n",
    "        output[1].append(-2*x/a)\n",
    "    return output"
   ]
  },
  {
   "cell_type": "code",
   "execution_count": 286,
   "metadata": {},
   "outputs": [],
   "source": [
    "def add_arrow(line, position=None, direction='right', size=15):\n",
    "    \"\"\"\n",
    "    add an arrow to a line.\n",
    "\n",
    "    line:       Line2D object\n",
    "    position:   x-position of the arrow. If None, mean of xdata is taken\n",
    "    direction:  'left' or 'right'\n",
    "    size:       size of the arrow in fontsize points\n",
    "    color:      if None, line color is taken.\n",
    "    \"\"\"\n",
    "    xdata = line.get_xdata()\n",
    "    ydata = line.get_ydata()\n",
    "\n",
    "    if position is None:\n",
    "        position = xdata.mean()\n",
    "    # find closest index\n",
    "    start_ind = np.argmin(abs(xdata - position))\n",
    "    if direction == 'right':\n",
    "        end_ind = start_ind + 1\n",
    "    else:\n",
    "        end_ind = start_ind - 1\n",
    "\n",
    "    line.axes.annotate('',\n",
    "        xytext=(xdata[start_ind], ydata[start_ind]),\n",
    "        xy=(xdata[end_ind], ydata[end_ind]),\n",
    "        arrowprops=dict(arrowstyle='simple'),\n",
    "        size=size\n",
    "    )"
   ]
  },
  {
   "cell_type": "code",
   "execution_count": 297,
   "metadata": {},
   "outputs": [],
   "source": [
    "def radiusCenterPlotter2(circArray,s=5): #draw circle given an array of radii and centers\n",
    "    fig, ax = plt.subplots()\n",
    "    fig.set_size_inches(s, s)\n",
    "    circles = [circ for circ in circArray if circ[0]!=np.inf and circ[0]!=-np.inf]\n",
    "    lines = [line for line in circArray if line[0]==np.inf or line[0]==-np.inf]\n",
    "    ax.set_xlim(-1,1.01)\n",
    "    ax.set_ylim(-1.001,1.001)\n",
    "    points = []\n",
    "    plotCirc = plt.Circle((0,0), 1, fill = False)\n",
    "    ax.add_artist(plotCirc)\n",
    "    plotCirc = plt.Circle((1,0), math.log(s)/100, fill = True, color = 'black', clip_on = False)\n",
    "    ax.add_artist(plotCirc)\n",
    "    for circ in circles:\n",
    "        points += [(circlePoints((abs(circ[0]), circ[1])),)]\n",
    "    for i in range(len(circles)):\n",
    "        circ = circles[i]\n",
    "        x_values,y_values = h(points[i])\n",
    "        line = plt.plot(x_values,y_values, 'black', linewidth = .3)[0]    \n",
    "        if circ[0] < 0:\n",
    "            add_arrow(line,position = x_values[len(x_values)//2], direction = 'right')\n",
    "        else:\n",
    "            add_arrow(line,position = x_values[len(x_values)//2], direction = 'left')\n",
    "   \n",
    "    for line in lines:\n",
    "        points = [[(line[1],line[1],line[1]),(5,10,15)]]\n",
    "        points = h(points)\n",
    "        p = points\n",
    "        points = (Point(p[0][0],p[1][0]), Point(p[0][1],p[1][1]), Point(p[0][2],p[1][2]))\n",
    "        circ = Circle(points[0],points[1],points[2])\n",
    "        r,center = circ.radius, (circ.center[0].evalf(),circ.center[1].evalf())\n",
    "        plotCirc = plt.Circle((center[0],center[1]), abs(r), fill = False)\n",
    "        ax.add_artist(plotCirc)\n",
    "        #if line[0]< 0:\n",
    "        #    add_arrow(plotCirc,position = x_values[len(x_values)//2], direction = 'right')\n",
    "        #else:\n",
    "        #    add_arrow(plotCirc,position = x_values[len(x_values)//2], direction = 'left')\n",
    "    ax.set_aspect('equal', adjustable='box')\n",
    "    plt.axis('off')\n",
    "    ax.annotate(r\"$\\infty$\",(1,0),(1+log(s)/50,-log(s)/55), size = 15*log(s))\n",
    "    #plt.plot((1,0),color = 'black', marker = \"o\", markersize=10)\n",
    "    plt.show()"
   ]
  },
  {
   "cell_type": "code",
   "execution_count": 298,
   "metadata": {},
   "outputs": [],
   "source": [
    "def radiusCenterPlotter(circArray,s= 5): #draw circle given an array of radii and centers\n",
    "    fig, ax = plt.subplots()\n",
    "    fig.set_size_inches(s, s)\n",
    "    circles = [circ for circ in circArray if circ[0]!=np.inf and circ[0]!=-np.inf]\n",
    "    lines = [line for line in circArray if line[0]==np.inf or line[0]==-np.inf]\n",
    "    minimum = min([circ[1]-abs(circ[0]) for circ in circles]+[l[1] for l in lines])\n",
    "    maximum = max([circ[1]+abs(circ[0]) for circ in circles]+[l[1] for l in lines])\n",
    "    ranges = maximum-minimum\n",
    "    maximum+=ranges/20\n",
    "    minimum-=ranges/20\n",
    "    maxY = max([abs(circ[0]) for circ in circles])\n",
    "    maxY+=maxY/20\n",
    "    ax.set_xlim(float(minimum),float(maximum))\n",
    "    ax.set_ylim(0, float(maxY))\n",
    "    \n",
    "    for circ in circles:\n",
    "        plotCirc = plt.Circle((circ[1],0), abs(circ[0]), fill = False)\n",
    "        if circ[0] > 0:\n",
    "            plt.plot(circ[1], abs(circ[0]), '>')\n",
    "        else:\n",
    "            plt.plot(circ[1], abs(circ[0]), '<')\n",
    "        ax.add_artist(plotCirc)\n",
    "    for line in lines:\n",
    "        plt.vlines(line[1], 0, float(maxY))\n",
    "        if line[0]> 0:\n",
    "            plt.plot(line[1],float(maxY/2), '^')\n",
    "        else:\n",
    "            plt.plot(line[1],float(maxY/2), 'v')\n",
    "    ax.set_aspect('equal', adjustable='box')"
   ]
  },
  {
   "cell_type": "code",
   "execution_count": 299,
   "metadata": {},
   "outputs": [],
   "source": [
    "def pantsInPlane(pants): #y0 is on top, y2 on left, y1 in default position (reduced position +1)\n",
    "    circles = []\n",
    "    s0,s1,s2 = pants\n",
    "    y2 = pairToFrac2(s0,s1)\n",
    "    y0 = pairToFrac2(s1,s2)\n",
    "    y1 = pairToFrac2(s2,s0)\n",
    "    B = lambda x : 1/(1-x)\n",
    "    \n",
    "    alpha = npCfReduce(y0)\n",
    "    alpha_conj = -1/(npCfReduce(y0[::-1]))\n",
    "    x_min = B(alpha_conj+1)\n",
    "    x_max = B(alpha+1)\n",
    "    r = (x_max-x_min)/2\n",
    "    x = (x_min+x_max)/2\n",
    "    circles.append((r,x))\n",
    "    \n",
    "    alpha = npCfReduce(y1)\n",
    "    alpha_conj = -1/(npCfReduce(y1[::-1]))\n",
    "    x_min = (alpha_conj+1)\n",
    "    x_max = (alpha+1)\n",
    "    r = (x_max-x_min)/2\n",
    "    x = (x_min+x_max)/2\n",
    "    circles.append((r,x))\n",
    "    \n",
    "    alpha = npCfReduce(y2)\n",
    "    alpha_conj = -1/(npCfReduce(y2[::-1]))\n",
    "    x_min = B(B(alpha_conj+1))\n",
    "    x_max = B(B(alpha+1))\n",
    "    r = (x_max-x_min)/2\n",
    "    x = (x_min+x_max)/2\n",
    "    circles.append((r,x))\n",
    "    \n",
    "    return circles"
   ]
  },
  {
   "cell_type": "code",
   "execution_count": 300,
   "metadata": {},
   "outputs": [],
   "source": [
    "def plotPants(pants): # y0 is red, y1 is green, y2 is blue\n",
    "    fig, ax = plt.subplots()\n",
    "    \n",
    "    circ1, circ2, circ3 = pantsInPlane(pants)\n",
    "    minimum = -1+min(circ1[1]-abs(circ1[0]), circ2[1]-abs(circ2[0]), circ3[1]-abs(circ3[0]))\n",
    "    maximum = 1+max(circ1[1]+abs(circ1[0]), circ2[1]+abs(circ2[0]), circ3[1]+abs(circ3[0]))\n",
    "    ax.set_xlim(float(minimum),float(maximum))\n",
    "    ax.set_ylim(0, float(max(abs(circ1[0]), abs(circ2[0]), abs(circ3[0]))+1))\n",
    "    \n",
    "    circle1 = plt.Circle((circ1[1],0), abs(circ1[0]), fill = False, color = 'r')\n",
    "    circle2 = plt.Circle((circ2[1],0), abs(circ2[0]), fill = False, color = 'g')\n",
    "    circle3 = plt.Circle((circ3[1],0), abs(circ3[0]), fill = False, color = 'b')\n",
    "    \n",
    "    if circ1[0]>0:\n",
    "        plt.plot(circ1[1], abs(circ1[0]), '>', color=  'r')\n",
    "    else:\n",
    "        plt.plot(circ1[1], abs(circ1[0]), '<', color=  'r')\n",
    "    if circ2[0]>0:\n",
    "        plt.plot(circ2[1], abs(circ2[0]), '>', color=  'g')\n",
    "    else:\n",
    "        plt.plot(circ2[1], abs(circ2[0]), '<', color=  'g')\n",
    "    if circ3[0]>0:\n",
    "        plt.plot(circ3[1], abs(circ3[0]), '>', color=  'b')\n",
    "    else:\n",
    "        plt.plot(circ3[1], abs(circ3[0]), '<', color=  'b')\n",
    "    \n",
    "    ax.add_artist(circle1)\n",
    "    ax.add_artist(circle2)\n",
    "    ax.add_artist(circle3)\n",
    "    ax.set_aspect('equal', adjustable='box')\n",
    "    s0,s1,s2 = pants\n",
    "    print('red: ' + str(pairToFrac2(s0,s1)))\n",
    "    print('green: ' + str(pairToFrac2(s1,s2)))\n",
    "    print('blue: ' + str(pairToFrac2(s2,s0)))"
   ]
  },
  {
   "cell_type": "code",
   "execution_count": 301,
   "metadata": {},
   "outputs": [],
   "source": [
    "def pantsInPlane2(pants):\n",
    "    circles = []\n",
    "    s0,s1,s2 = pants\n",
    "    y2 = pairToFrac2(s0,s1)\n",
    "    y0 = pairToFrac2(s1,s2)\n",
    "    y1 = pairToFrac2(s2,s0)\n",
    "    B = lambda x : 1/(1-x)\n",
    "    \n",
    "    alpha = npCfReduce(y0)\n",
    "    alpha_conj = -1/(npCfReduce(y0[::-1]))\n",
    "    x_min = alpha_conj\n",
    "    x_max = alpha\n",
    "    r = (x_max-x_min)/2\n",
    "    x = (x_min+x_max)/2\n",
    "    circles.append((r,x))\n",
    "    \n",
    "    alpha = npCfReduce(y1)\n",
    "    alpha_conj = -1/(npCfReduce(y1[::-1]))\n",
    "    x_min = alpha_conj\n",
    "    x_max = alpha\n",
    "    r = (x_max-x_min)/2\n",
    "    x = (x_min+x_max)/2\n",
    "    circles.append((r,x))\n",
    "    \n",
    "    alpha = npCfReduce(y2)\n",
    "    alpha_conj = -1/(npCfReduce(y2[::-1]))\n",
    "    x_min = alpha_conj\n",
    "    x_max = alpha\n",
    "    r = (x_max-x_min)/2\n",
    "    x = (x_min+x_max)/2\n",
    "    circles.append((r,x))\n",
    "    return circles\n",
    "    \n",
    "def plotPants2(pants):\n",
    "    fig, ax = plt.subplots()\n",
    "    \n",
    "    circ1, circ2, circ3 = pantsInPlane2(pants)\n",
    "    minimum = -1+min(circ1[1]-abs(circ1[0]), circ2[1]-abs(circ2[0]), circ3[1]-abs(circ3[0]))\n",
    "    maximum = 1+max(circ1[1]+abs(circ1[0]), circ2[1]+abs(circ2[0]), circ3[1]+abs(circ3[0]))\n",
    "    ax.set_xlim(float(minimum),float(maximum))\n",
    "    ax.set_ylim(0, float(max(abs(circ1[0]), abs(circ2[0]), abs(circ3[0]))+1))\n",
    "    \n",
    "    circle1 = plt.Circle((circ1[1],0), abs(circ1[0]), fill = False, color = 'r')\n",
    "    circle2 = plt.Circle((circ2[1],0), abs(circ2[0]), fill = False, color = 'g')\n",
    "    circle3 = plt.Circle((circ3[1],0), abs(circ3[0]), fill = False, color = 'b')\n",
    "    \n",
    "    if circ1[0]>0:\n",
    "        plt.plot(circ1[1], abs(circ1[0]), '>', color=  'r')\n",
    "    else:\n",
    "        plt.plot(circ1[1], abs(circ1[0]), '<', color=  'r')\n",
    "    if circ2[0]>0:\n",
    "        plt.plot(circ2[1], abs(circ2[0]), '>', color=  'g')\n",
    "    else:\n",
    "        plt.plot(circ2[1], abs(circ2[0]), '<', color=  'g')\n",
    "    if circ3[0]>0:\n",
    "        plt.plot(circ3[1], abs(circ3[0]), '>', color=  'b')\n",
    "    else:\n",
    "        plt.plot(circ3[1], abs(circ3[0]), '<', color=  'b')\n",
    "        \n",
    "    ax.add_artist(circle1)\n",
    "    ax.add_artist(circle2)\n",
    "    ax.add_artist(circle3)\n",
    "    ax.set_aspect('equal', adjustable='box')"
   ]
  },
  {
   "cell_type": "code",
   "execution_count": 292,
   "metadata": {},
   "outputs": [],
   "source": [
    "def geos(pants):\n",
    "    s0,s1,s2 = pants\n",
    "    return pairToFrac2(s1,s2),pairToFrac2(s2,s0),pairToFrac2(s0,s1)\n",
    "\n",
    "def minGeos(pants):\n",
    "    s0,s1,s2 = pants\n",
    "    return pairToFrac(s1,s2),pairToFrac(s2,s0),pairToFrac(s0,s1)"
   ]
  },
  {
   "cell_type": "code",
   "execution_count": 293,
   "metadata": {},
   "outputs": [
    {
     "data": {
      "image/png": "[encoded data removed]",
      "text/plain": [
       "<Figure size 360x360 with 1 Axes>"
      ]
     },
     "metadata": {
      "needs_background": "light"
     },
     "output_type": "display_data"
    }
   ],
   "source": [
    "radiusCenterPlotter([(1,0),(2,0),(3,0),(4,0),(5,0),(6,0), (7,0), (8,0),(9,0),(10,0)])"
   ]
  },
  {
   "cell_type": "code",
   "execution_count": 294,
   "metadata": {
    "scrolled": true
   },
   "outputs": [
    {
     "data": {
      "text/plain": [
       "[(-2.234519989790892, 1.5882352941176474),\n",
       " (1.681203818991539, 1.9090909090909092),\n",
       " (0.42513200020475705, -0.20689655172413798)]"
      ]
     },
     "execution_count": 294,
     "metadata": {},
     "output_type": "execute_result"
    }
   ],
   "source": [
    "pantsInPlane(([1,1,1,0], [0,1,0,1,1], [0,0,1,0]))"
   ]
  },
  {
   "cell_type": "code",
   "execution_count": 295,
   "metadata": {},
   "outputs": [
    {
     "ename": "NameError",
     "evalue": "name 'cos' is not defined",
     "output_type": "error",
     "traceback": [
      "\u001b[0;31m---------------------------------------------------------------------------\u001b[0m",
      "\u001b[0;31mNameError\u001b[0m                                 Traceback (most recent call last)",
      "\u001b[0;32m<ipython-input-295-a21c8b2d1be9>\u001b[0m in \u001b[0;36m<module>\u001b[0;34m\u001b[0m\n\u001b[0;32m----> 1\u001b[0;31m \u001b[0mgetShear\u001b[0m\u001b[0;34m(\u001b[0m\u001b[0;34m(\u001b[0m\u001b[0;34m[\u001b[0m\u001b[0;36m1\u001b[0m\u001b[0;34m,\u001b[0m\u001b[0;36m1\u001b[0m\u001b[0;34m,\u001b[0m\u001b[0;36m1\u001b[0m\u001b[0;34m,\u001b[0m\u001b[0;36m0\u001b[0m\u001b[0;34m]\u001b[0m\u001b[0;34m,\u001b[0m \u001b[0;34m[\u001b[0m\u001b[0;36m0\u001b[0m\u001b[0;34m,\u001b[0m\u001b[0;36m1\u001b[0m\u001b[0;34m,\u001b[0m\u001b[0;36m0\u001b[0m\u001b[0;34m,\u001b[0m\u001b[0;36m1\u001b[0m\u001b[0;34m,\u001b[0m\u001b[0;36m1\u001b[0m\u001b[0;34m]\u001b[0m\u001b[0;34m,\u001b[0m \u001b[0;34m[\u001b[0m\u001b[0;36m0\u001b[0m\u001b[0;34m,\u001b[0m\u001b[0;36m0\u001b[0m\u001b[0;34m,\u001b[0m\u001b[0;36m1\u001b[0m\u001b[0;34m,\u001b[0m\u001b[0;36m0\u001b[0m\u001b[0;34m]\u001b[0m\u001b[0;34m)\u001b[0m\u001b[0;34m,\u001b[0m\u001b[0;34m(\u001b[0m\u001b[0;34m[\u001b[0m\u001b[0;36m0\u001b[0m\u001b[0;34m,\u001b[0m\u001b[0;36m0\u001b[0m\u001b[0;34m,\u001b[0m\u001b[0;36m0\u001b[0m\u001b[0;34m]\u001b[0m\u001b[0;34m,\u001b[0m\u001b[0;34m[\u001b[0m\u001b[0;36m1\u001b[0m\u001b[0;34m,\u001b[0m\u001b[0;36m0\u001b[0m\u001b[0;34m,\u001b[0m\u001b[0;36m1\u001b[0m\u001b[0;34m,\u001b[0m\u001b[0;36m1\u001b[0m\u001b[0;34m,\u001b[0m\u001b[0;36m1\u001b[0m\u001b[0;34m,\u001b[0m\u001b[0;36m1\u001b[0m\u001b[0;34m]\u001b[0m\u001b[0;34m,\u001b[0m\u001b[0;34m[\u001b[0m\u001b[0;36m0\u001b[0m\u001b[0;34m,\u001b[0m\u001b[0;36m0\u001b[0m\u001b[0;34m,\u001b[0m\u001b[0;36m1\u001b[0m\u001b[0;34m,\u001b[0m\u001b[0;36m1\u001b[0m\u001b[0;34m,\u001b[0m\u001b[0;36m1\u001b[0m\u001b[0;34m]\u001b[0m\u001b[0;34m)\u001b[0m\u001b[0;34m,\u001b[0m\u001b[0;34m[\u001b[0m\u001b[0;36m1\u001b[0m\u001b[0;34m,\u001b[0m\u001b[0;36m1\u001b[0m\u001b[0;34m,\u001b[0m\u001b[0;36m1\u001b[0m\u001b[0;34m,\u001b[0m\u001b[0;36m4\u001b[0m\u001b[0;34m,\u001b[0m\u001b[0;36m1\u001b[0m\u001b[0;34m,\u001b[0m\u001b[0;36m3\u001b[0m\u001b[0;34m]\u001b[0m\u001b[0;34m)\u001b[0m\u001b[0;34m\u001b[0m\u001b[0;34m\u001b[0m\u001b[0m\n\u001b[0m",
      "\u001b[0;32m<ipython-input-264-b22344bc0586>\u001b[0m in \u001b[0;36mgetShear\u001b[0;34m(pants1, pants2, gamma, s)\u001b[0m\n\u001b[1;32m      1\u001b[0m \u001b[0;32mdef\u001b[0m \u001b[0mgetShear\u001b[0m\u001b[0;34m(\u001b[0m\u001b[0mpants1\u001b[0m\u001b[0;34m,\u001b[0m\u001b[0mpants2\u001b[0m\u001b[0;34m,\u001b[0m \u001b[0mgamma\u001b[0m\u001b[0;34m,\u001b[0m\u001b[0ms\u001b[0m \u001b[0;34m=\u001b[0m \u001b[0;36m5\u001b[0m\u001b[0;34m)\u001b[0m\u001b[0;34m:\u001b[0m\u001b[0;34m\u001b[0m\u001b[0;34m\u001b[0m\u001b[0m\n\u001b[0;32m----> 2\u001b[0;31m     \u001b[0mcirclesList\u001b[0m\u001b[0;34m,\u001b[0m \u001b[0mpbar\u001b[0m\u001b[0;34m,\u001b[0m\u001b[0mp\u001b[0m \u001b[0;34m=\u001b[0m \u001b[0mpantsShear\u001b[0m\u001b[0;34m(\u001b[0m\u001b[0mpants1\u001b[0m\u001b[0;34m,\u001b[0m\u001b[0mpants2\u001b[0m\u001b[0;34m,\u001b[0m\u001b[0mgamma\u001b[0m\u001b[0;34m,\u001b[0m\u001b[0ms\u001b[0m\u001b[0;34m)\u001b[0m\u001b[0;34m\u001b[0m\u001b[0;34m\u001b[0m\u001b[0m\n\u001b[0m\u001b[1;32m      3\u001b[0m     \u001b[0mcirc1\u001b[0m \u001b[0;34m=\u001b[0m \u001b[0mgetOrtho\u001b[0m\u001b[0;34m(\u001b[0m\u001b[0;34m(\u001b[0m\u001b[0mabs\u001b[0m\u001b[0;34m(\u001b[0m\u001b[0mcirclesList\u001b[0m\u001b[0;34m[\u001b[0m\u001b[0;36m2\u001b[0m\u001b[0;34m]\u001b[0m\u001b[0;34m[\u001b[0m\u001b[0;36m0\u001b[0m\u001b[0;34m]\u001b[0m\u001b[0;34m)\u001b[0m\u001b[0;34m,\u001b[0m\u001b[0mcirclesList\u001b[0m\u001b[0;34m[\u001b[0m\u001b[0;36m2\u001b[0m\u001b[0;34m]\u001b[0m\u001b[0;34m[\u001b[0m\u001b[0;36m1\u001b[0m\u001b[0;34m]\u001b[0m\u001b[0;34m)\u001b[0m\u001b[0;34m,\u001b[0m\u001b[0;34m(\u001b[0m\u001b[0mabs\u001b[0m\u001b[0;34m(\u001b[0m\u001b[0mcirclesList\u001b[0m\u001b[0;34m[\u001b[0m\u001b[0;36m3\u001b[0m\u001b[0;34m]\u001b[0m\u001b[0;34m[\u001b[0m\u001b[0;36m0\u001b[0m\u001b[0;34m]\u001b[0m\u001b[0;34m)\u001b[0m\u001b[0;34m,\u001b[0m\u001b[0mcirclesList\u001b[0m\u001b[0;34m[\u001b[0m\u001b[0;36m3\u001b[0m\u001b[0;34m]\u001b[0m\u001b[0;34m[\u001b[0m\u001b[0;36m1\u001b[0m\u001b[0;34m]\u001b[0m\u001b[0;34m)\u001b[0m\u001b[0;34m)\u001b[0m\u001b[0;34m\u001b[0m\u001b[0;34m\u001b[0m\u001b[0m\n\u001b[1;32m      4\u001b[0m     \u001b[0mcirc2\u001b[0m \u001b[0;34m=\u001b[0m \u001b[0mgetOrtho\u001b[0m\u001b[0;34m(\u001b[0m\u001b[0;34m(\u001b[0m\u001b[0mabs\u001b[0m\u001b[0;34m(\u001b[0m\u001b[0mcirclesList\u001b[0m\u001b[0;34m[\u001b[0m\u001b[0;36m3\u001b[0m\u001b[0;34m]\u001b[0m\u001b[0;34m[\u001b[0m\u001b[0;36m0\u001b[0m\u001b[0;34m]\u001b[0m\u001b[0;34m)\u001b[0m\u001b[0;34m,\u001b[0m\u001b[0mcirclesList\u001b[0m\u001b[0;34m[\u001b[0m\u001b[0;36m3\u001b[0m\u001b[0;34m]\u001b[0m\u001b[0;34m[\u001b[0m\u001b[0;36m1\u001b[0m\u001b[0;34m]\u001b[0m\u001b[0;34m)\u001b[0m\u001b[0;34m,\u001b[0m\u001b[0;34m(\u001b[0m\u001b[0mabs\u001b[0m\u001b[0;34m(\u001b[0m\u001b[0mcirclesList\u001b[0m\u001b[0;34m[\u001b[0m\u001b[0;36m4\u001b[0m\u001b[0;34m]\u001b[0m\u001b[0;34m[\u001b[0m\u001b[0;36m0\u001b[0m\u001b[0;34m]\u001b[0m\u001b[0;34m)\u001b[0m\u001b[0;34m,\u001b[0m\u001b[0mcirclesList\u001b[0m\u001b[0;34m[\u001b[0m\u001b[0;36m4\u001b[0m\u001b[0;34m]\u001b[0m\u001b[0;34m[\u001b[0m\u001b[0;36m1\u001b[0m\u001b[0;34m]\u001b[0m\u001b[0;34m)\u001b[0m\u001b[0;34m)\u001b[0m\u001b[0;34m\u001b[0m\u001b[0;34m\u001b[0m\u001b[0m\n\u001b[1;32m      5\u001b[0m     \u001b[0mcirc3\u001b[0m \u001b[0;34m=\u001b[0m \u001b[0mgetOrtho\u001b[0m\u001b[0;34m(\u001b[0m\u001b[0;34m(\u001b[0m\u001b[0mabs\u001b[0m\u001b[0;34m(\u001b[0m\u001b[0mcirclesList\u001b[0m\u001b[0;34m[\u001b[0m\u001b[0;36m0\u001b[0m\u001b[0;34m]\u001b[0m\u001b[0;34m[\u001b[0m\u001b[0;36m0\u001b[0m\u001b[0;34m]\u001b[0m\u001b[0;34m)\u001b[0m\u001b[0;34m,\u001b[0m\u001b[0mcirclesList\u001b[0m\u001b[0;34m[\u001b[0m\u001b[0;36m0\u001b[0m\u001b[0;34m]\u001b[0m\u001b[0;34m[\u001b[0m\u001b[0;36m1\u001b[0m\u001b[0;34m]\u001b[0m\u001b[0;34m)\u001b[0m\u001b[0;34m,\u001b[0m\u001b[0;34m(\u001b[0m\u001b[0mabs\u001b[0m\u001b[0;34m(\u001b[0m\u001b[0mcirclesList\u001b[0m\u001b[0;34m[\u001b[0m\u001b[0;36m1\u001b[0m\u001b[0;34m]\u001b[0m\u001b[0;34m[\u001b[0m\u001b[0;36m0\u001b[0m\u001b[0;34m]\u001b[0m\u001b[0;34m)\u001b[0m\u001b[0;34m,\u001b[0m\u001b[0mcirclesList\u001b[0m\u001b[0;34m[\u001b[0m\u001b[0;36m1\u001b[0m\u001b[0;34m]\u001b[0m\u001b[0;34m[\u001b[0m\u001b[0;36m1\u001b[0m\u001b[0;34m]\u001b[0m\u001b[0;34m)\u001b[0m\u001b[0;34m)\u001b[0m\u001b[0;34m\u001b[0m\u001b[0;34m\u001b[0m\u001b[0m\n",
      "\u001b[0;32m<ipython-input-273-e2a7a343f2f4>\u001b[0m in \u001b[0;36mpantsShear\u001b[0;34m(pants1, pants2, y, s)\u001b[0m\n\u001b[1;32m     98\u001b[0m     \u001b[0mp\u001b[0m \u001b[0;34m=\u001b[0m \u001b[0mpants1_in_plane\u001b[0m\u001b[0;34m[\u001b[0m\u001b[0;36m0\u001b[0m\u001b[0;34m]\u001b[0m\u001b[0;34m[\u001b[0m\u001b[0;36m1\u001b[0m\u001b[0;34m]\u001b[0m \u001b[0;34m+\u001b[0m \u001b[0mpants1_in_plane\u001b[0m\u001b[0;34m[\u001b[0m\u001b[0;36m0\u001b[0m\u001b[0;34m]\u001b[0m\u001b[0;34m[\u001b[0m\u001b[0;36m0\u001b[0m\u001b[0;34m]\u001b[0m\u001b[0;34m\u001b[0m\u001b[0;34m\u001b[0m\u001b[0m\n\u001b[1;32m     99\u001b[0m     \u001b[0mradiusCenterPlotter\u001b[0m\u001b[0;34m(\u001b[0m\u001b[0mpants1_in_plane\u001b[0m\u001b[0;34m,\u001b[0m \u001b[0ms\u001b[0m\u001b[0;34m)\u001b[0m\u001b[0;34m\u001b[0m\u001b[0;34m\u001b[0m\u001b[0m\n\u001b[0;32m--> 100\u001b[0;31m     \u001b[0mradiusCenterPlotter2\u001b[0m\u001b[0;34m(\u001b[0m\u001b[0mpants1_in_plane\u001b[0m\u001b[0;34m,\u001b[0m \u001b[0ms\u001b[0m\u001b[0;34m)\u001b[0m\u001b[0;34m\u001b[0m\u001b[0;34m\u001b[0m\u001b[0m\n\u001b[0m\u001b[1;32m    101\u001b[0m     \u001b[0mradiusCenterPlotter\u001b[0m\u001b[0;34m(\u001b[0m\u001b[0mpants2_in_plane\u001b[0m\u001b[0;34m,\u001b[0m \u001b[0ms\u001b[0m\u001b[0;34m)\u001b[0m\u001b[0;34m\u001b[0m\u001b[0;34m\u001b[0m\u001b[0m\n\u001b[1;32m    102\u001b[0m     \u001b[0mradiusCenterPlotter2\u001b[0m\u001b[0;34m(\u001b[0m\u001b[0mpants2_in_plane\u001b[0m\u001b[0;34m,\u001b[0m \u001b[0ms\u001b[0m\u001b[0;34m)\u001b[0m\u001b[0;34m\u001b[0m\u001b[0;34m\u001b[0m\u001b[0m\n",
      "\u001b[0;32m<ipython-input-287-d3541e79ce53>\u001b[0m in \u001b[0;36mradiusCenterPlotter2\u001b[0;34m(circArray, s)\u001b[0m\n\u001b[1;32m     12\u001b[0m     \u001b[0max\u001b[0m\u001b[0;34m.\u001b[0m\u001b[0madd_artist\u001b[0m\u001b[0;34m(\u001b[0m\u001b[0mplotCirc\u001b[0m\u001b[0;34m)\u001b[0m\u001b[0;34m\u001b[0m\u001b[0;34m\u001b[0m\u001b[0m\n\u001b[1;32m     13\u001b[0m     \u001b[0;32mfor\u001b[0m \u001b[0mcirc\u001b[0m \u001b[0;32min\u001b[0m \u001b[0mcircles\u001b[0m\u001b[0;34m:\u001b[0m\u001b[0;34m\u001b[0m\u001b[0;34m\u001b[0m\u001b[0m\n\u001b[0;32m---> 14\u001b[0;31m         \u001b[0mpoints\u001b[0m \u001b[0;34m+=\u001b[0m \u001b[0;34m[\u001b[0m\u001b[0;34m(\u001b[0m\u001b[0mcirclePoints\u001b[0m\u001b[0;34m(\u001b[0m\u001b[0;34m(\u001b[0m\u001b[0mabs\u001b[0m\u001b[0;34m(\u001b[0m\u001b[0mcirc\u001b[0m\u001b[0;34m[\u001b[0m\u001b[0;36m0\u001b[0m\u001b[0;34m]\u001b[0m\u001b[0;34m)\u001b[0m\u001b[0;34m,\u001b[0m \u001b[0mcirc\u001b[0m\u001b[0;34m[\u001b[0m\u001b[0;36m1\u001b[0m\u001b[0;34m]\u001b[0m\u001b[0;34m)\u001b[0m\u001b[0;34m)\u001b[0m\u001b[0;34m,\u001b[0m\u001b[0;34m)\u001b[0m\u001b[0;34m]\u001b[0m\u001b[0;34m\u001b[0m\u001b[0;34m\u001b[0m\u001b[0m\n\u001b[0m\u001b[1;32m     15\u001b[0m     \u001b[0;32mfor\u001b[0m \u001b[0mi\u001b[0m \u001b[0;32min\u001b[0m \u001b[0mrange\u001b[0m\u001b[0;34m(\u001b[0m\u001b[0mlen\u001b[0m\u001b[0;34m(\u001b[0m\u001b[0mcircles\u001b[0m\u001b[0;34m)\u001b[0m\u001b[0;34m)\u001b[0m\u001b[0;34m:\u001b[0m\u001b[0;34m\u001b[0m\u001b[0;34m\u001b[0m\u001b[0m\n\u001b[1;32m     16\u001b[0m         \u001b[0mcirc\u001b[0m \u001b[0;34m=\u001b[0m \u001b[0mcircles\u001b[0m\u001b[0;34m[\u001b[0m\u001b[0mi\u001b[0m\u001b[0;34m]\u001b[0m\u001b[0;34m\u001b[0m\u001b[0;34m\u001b[0m\u001b[0m\n",
      "\u001b[0;32m<ipython-input-284-66c5e521e2b1>\u001b[0m in \u001b[0;36mcirclePoints\u001b[0;34m(circ, N)\u001b[0m\n\u001b[1;32m      3\u001b[0m     \u001b[0mx_values\u001b[0m\u001b[0;34m,\u001b[0m\u001b[0my_values\u001b[0m \u001b[0;34m=\u001b[0m \u001b[0;34m[\u001b[0m\u001b[0;34m]\u001b[0m\u001b[0;34m,\u001b[0m\u001b[0;34m[\u001b[0m\u001b[0;34m]\u001b[0m\u001b[0;34m\u001b[0m\u001b[0;34m\u001b[0m\u001b[0m\n\u001b[1;32m      4\u001b[0m     \u001b[0;32mfor\u001b[0m \u001b[0mi\u001b[0m \u001b[0;32min\u001b[0m \u001b[0mrange\u001b[0m\u001b[0;34m(\u001b[0m\u001b[0mN\u001b[0m\u001b[0;34m+\u001b[0m\u001b[0;36m1\u001b[0m\u001b[0;34m)\u001b[0m\u001b[0;34m:\u001b[0m\u001b[0;34m\u001b[0m\u001b[0;34m\u001b[0m\u001b[0m\n\u001b[0;32m----> 5\u001b[0;31m         \u001b[0mcurr_x\u001b[0m \u001b[0;34m=\u001b[0m \u001b[0mx\u001b[0m\u001b[0;34m+\u001b[0m\u001b[0mr\u001b[0m\u001b[0;34m*\u001b[0m\u001b[0mcos\u001b[0m\u001b[0;34m(\u001b[0m\u001b[0mpi\u001b[0m\u001b[0;34m*\u001b[0m\u001b[0mi\u001b[0m\u001b[0;34m/\u001b[0m\u001b[0mN\u001b[0m\u001b[0;34m)\u001b[0m\u001b[0;34m\u001b[0m\u001b[0;34m\u001b[0m\u001b[0m\n\u001b[0m\u001b[1;32m      6\u001b[0m         \u001b[0mcurr_x\u001b[0m \u001b[0;34m=\u001b[0m \u001b[0mcurr_x\u001b[0m\u001b[0;34m.\u001b[0m\u001b[0mevalf\u001b[0m\u001b[0;34m(\u001b[0m\u001b[0;34m)\u001b[0m\u001b[0;34m\u001b[0m\u001b[0;34m\u001b[0m\u001b[0m\n\u001b[1;32m      7\u001b[0m         \u001b[0mcurr_y\u001b[0m \u001b[0;34m=\u001b[0m \u001b[0mr\u001b[0m\u001b[0;34m*\u001b[0m\u001b[0msin\u001b[0m\u001b[0;34m(\u001b[0m\u001b[0mpi\u001b[0m\u001b[0;34m*\u001b[0m\u001b[0mi\u001b[0m\u001b[0;34m/\u001b[0m\u001b[0mN\u001b[0m\u001b[0;34m)\u001b[0m\u001b[0;34m\u001b[0m\u001b[0;34m\u001b[0m\u001b[0m\n",
      "\u001b[0;31mNameError\u001b[0m: name 'cos' is not defined"
     ]
    },
    {
     "data": {
      "image/png": "[encoded data removed]",
      "text/plain": [
       "<Figure size 360x360 with 1 Axes>"
      ]
     },
     "metadata": {
      "needs_background": "light"
     },
     "output_type": "display_data"
    },
    {
     "data": {
      "image/png": "[encoded data removed]",
      "text/plain": [
       "<Figure size 360x360 with 1 Axes>"
      ]
     },
     "metadata": {
      "needs_background": "light"
     },
     "output_type": "display_data"
    }
   ],
   "source": [
    "getShear(([1,1,1,0], [0,1,0,1,1], [0,0,1,0]),([0,0,0],[1,0,1,1,1,1],[0,0,1,1,1]),[1,1,1,4,1,3])"
   ]
  },
  {
   "cell_type": "code",
   "execution_count": 147,
   "metadata": {},
   "outputs": [
    {
     "data": {
      "text/plain": [
       "(-5.0740173050691055, -5.074017305548428)"
      ]
     },
     "execution_count": 147,
     "metadata": {},
     "output_type": "execute_result"
    }
   ],
   "source": [
    "getShear(([0,0,1,0],[0,1,0],[0,1,1,0,1,1,1]),([0,1,0],[0,0,1,0,0,1,1],[1,1,0,0]),[1, 1, 1, 1, 3, 1, 2, 2])"
   ]
  },
  {
   "cell_type": "code",
   "execution_count": 148,
   "metadata": {},
   "outputs": [
    {
     "data": {
      "text/plain": [
       "(3.437873616958345, 3.4378736169583233)"
      ]
     },
     "execution_count": 148,
     "metadata": {},
     "output_type": "execute_result"
    }
   ],
   "source": [
    "getShear(([1,1,1,1,1,1,0,1,0], [0,1,1,1,1], [1,0,1,0,1,1]),([0,0,1,1,1],[1,0,1,1,1,1,0,1,0,0],[1,0,0,1,1]),[1,1,1,4,1,1,6,2])"
   ]
  },
  {
   "cell_type": "code",
   "execution_count": 180,
   "metadata": {},
   "outputs": [
    {
     "data": {
      "text/plain": [
       "(-5.444462912236995, -5.444462901161734)"
      ]
     },
     "execution_count": 180,
     "metadata": {},
     "output_type": "execute_result"
    }
   ],
   "source": [
    "getShear(([1,1,1,1,1,1,0,1,0], [0,1,1,1,1], [1,0,1,0,1,1]),([1,0,0,0,0,0],[1,0,0,1,1],[0,0,0,0,1,0,1,0,0]),[1,1,1,4,1,1,6,2])"
   ]
  },
  {
   "cell_type": "code",
   "execution_count": 181,
   "metadata": {
    "scrolled": false
   },
   "outputs": [
    {
     "data": {
      "text/plain": [
       "(0.6102897852195379, 0.6102897852195363)"
      ]
     },
     "execution_count": 181,
     "metadata": {},
     "output_type": "execute_result"
    }
   ],
   "source": [
    "getShear(((0,), (0, 1), (1, 0, 0)), ((0, 0), (1,), (1, 1, 0, 1, 1)), (1, 1, 1, 2), s= 5)"
   ]
  },
  {
   "cell_type": "code",
   "execution_count": 190,
   "metadata": {
    "scrolled": false
   },
   "outputs": [
    {
     "name": "stdout",
     "output_type": "stream",
     "text": [
      "0.2543506622314453 0.0001232624053955078 0.004377126693725586 8.58306884765625e-05 0.21970605850219727 1.9788742065429688e-05\n"
     ]
    },
    {
     "data": {
      "text/plain": [
       "(-5.444462912236995, -5.444462901161734)"
      ]
     },
     "execution_count": 190,
     "metadata": {},
     "output_type": "execute_result"
    }
   ],
   "source": [
    "getShear(([1,1,1,1,1,1,0,1,0], [0,1,1,1,1], [1,0,1,0,1,1]),([1,0,0,0,0,0],[1,0,0,1,1],[0,0,0,0,1,0,1,0,0]),[1,1,1,4,1,1,6,2]) "
   ]
  }
 ],
 "metadata": {
  "kernelspec": {
   "display_name": "Python 3",
   "language": "python",
   "name": "python3"
  },
  "language_info": {
   "codemirror_mode": {
    "name": "ipython",
    "version": 3
   },
   "file_extension": ".py",
   "mimetype": "text/x-python",
   "name": "python",
   "nbconvert_exporter": "python",
   "pygments_lexer": "ipython3",
   "version": "3.7.6"
  }
 },
 "nbformat": 4,
 "nbformat_minor": 2
}
