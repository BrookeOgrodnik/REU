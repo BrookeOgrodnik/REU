{
 "cells": [
  {
   "cell_type": "code",
   "execution_count": 1,
   "metadata": {},
   "outputs": [],
   "source": [
    "import numpy as np"
   ]
  },
  {
   "cell_type": "code",
   "execution_count": 7,
   "metadata": {},
   "outputs": [],
   "source": [
    "def geodesicInfoFromMatrix(M): #input is a hyperbolic matrix M which lies in SL_2(Z)\n",
    "    tr = np.trace(M)\n",
    "    if tr < 0:\n",
    "        M = -M\n",
    "    length = 2*np.log(tr/2+np.sqrt((tr/2)**2-1))\n",
    "    eig = np.exp(1)**(length/2)\n",
    "    a = M.item(0,0)\n",
    "    b = M.item(0,1)\n",
    "    c = M.item(1,0)\n",
    "    d = M.item(1,1)\n",
    "    if c > 0:\n",
    "        eigMat = (1/((c**2)*(tr**2-4))**(1/4))*np.matrix([[eig-d,1/eig-d],[c,c]])\n",
    "    else: \n",
    "        eigMat = (1/((c**2)*(tr**2-4))**(1/4))*np.matrix([[-eig+d,1/eig-d],[-c,c]])\n",
    "    visPt = (eig-d)/c\n",
    "    newA = eigMat.item(0,0)\n",
    "    newB = eigMat.item(0,1)\n",
    "    newC = eigMat.item(1,0)\n",
    "    newD = eigMat.item(1,1)\n",
    "    z = (newA*1j+newB)/(newC*1j+newD)\n",
    "    zeta = 1j/(newC*1j+newD)**2\n",
    "    return (length,eig,eigMat,visPt,z,zeta)"
   ]
  },
  {
   "cell_type": "code",
   "execution_count": 15,
   "metadata": {},
   "outputs": [],
   "source": [
    "def inFundDom(z):\n",
    "    return (np.abs(z) >= 1) and (np.abs(np.real(z))<=1/2)"
   ]
  },
  {
   "cell_type": "code",
   "execution_count": 16,
   "metadata": {},
   "outputs": [],
   "source": [
    "def fundDomRep(z,zeta):\n",
    "    mat = np.matrix([[1,0],[0,1]])\n",
    "    while not inFundDom(z):\n",
    "        trans = np.floor(np.real(z)+1/2) #translation factor\n",
    "        z = z - trans #desired z\n",
    "        mat = np.matmul(np.matrix([[1,-trans],[0,1]]),mat)\n",
    "        if (np.abs(z) < 1):\n",
    "            zeta = zeta/z**2\n",
    "            z = -1/z\n",
    "            mat = np.matmul(np.matrix([[0,1],[-1,0]]),mat)\n",
    "    return (z,zeta,mat)"
   ]
  },
  {
   "cell_type": "code",
   "execution_count": 73,
   "metadata": {},
   "outputs": [],
   "source": [
    "import matplotlib.pyplot as plt\n",
    "from matplotlib.patches import Arc\n",
    "def fundDomGeo(mat,res): #input hyperbolic geodesic matrix\n",
    "    geoInfo = geodesicInfoFromMatrix(mat)\n",
    "    length = geoInfo[0]\n",
    "    eigMat = geoInfo[2]\n",
    "    z = geoInfo[4]\n",
    "    zeta = geoInfo[5]\n",
    "    pointlist = []\n",
    "    newRep = fundDomRep(z,zeta)\n",
    "    z = newRep[0]\n",
    "    zeta = newRep[1]\n",
    "    eigMat = np.matmul(newRep[2],eigMat)\n",
    "    pointlist.append((np.real(z),np.imag(z)))\n",
    "    yMax = np.imag(z)\n",
    "    for t in range(res):\n",
    "        e = np.exp(1)\n",
    "        eigMat = np.matmul(eigMat,np.matrix([[e**(length/(2*res)),0],[0,e**(-length/(2*res))]]))\n",
    "        newA = eigMat.item(0,0)\n",
    "        newB = eigMat.item(0,1)\n",
    "        newC = eigMat.item(1,0)\n",
    "        newD = eigMat.item(1,1)\n",
    "        z = (newA*1j+newB)/(newC*1j+newD)\n",
    "        if np.imag(z) > yMax:\n",
    "            yMax = np.imag(z)\n",
    "        zeta = 1j/(newC*1j+newD)**2\n",
    "        if not inFundDom(z):\n",
    "            newRep = fundDomRep(z,zeta)\n",
    "            z = newRep[0]\n",
    "            zeta = newRep[1]\n",
    "            eigMat = np.matmul(newRep[2],eigMat)\n",
    "        pointlist.append((np.real(z),np.imag(z)))\n",
    "    fig, ax = plt.subplots()\n",
    "    # plt.ylim(0,yMax+0.2) # can change the bounds on the y-axis\n",
    "    ax.scatter(*zip(*pointlist),s=0.1)\n",
    "    ax.vlines([-1/2,1/2],np.sin(np.pi/3),yMax)\n",
    "    ax.add_patch(Arc((0, 0), 2, 2,\n",
    "                 theta1=60, theta2=120))\n",
    "    plt.show()"
   ]
  },
  {
   "cell_type": "code",
   "execution_count": 74,
   "metadata": {},
   "outputs": [
    {
     "data": {
      "image/png": "[encoded data removed]",
      "text/plain": [
       "<Figure size 432x288 with 1 Axes>"
      ]
     },
     "metadata": {
      "needs_background": "light"
     },
     "output_type": "display_data"
    }
   ],
   "source": [
    "fundDomGeo(np.matrix([[12,5],[-5,-2]]),10000)"
   ]
  },
  {
   "cell_type": "code",
   "execution_count": null,
   "metadata": {},
   "outputs": [],
   "source": []
  }
 ],
 "metadata": {
  "kernelspec": {
   "display_name": "Python 3",
   "language": "python",
   "name": "python3"
  },
  "language_info": {
   "codemirror_mode": {
    "name": "ipython",
    "version": 3
   },
   "file_extension": ".py",
   "mimetype": "text/x-python",
   "name": "python",
   "nbconvert_exporter": "python",
   "pygments_lexer": "ipython3",
   "version": "3.7.6"
  }
 },
 "nbformat": 4,
 "nbformat_minor": 4
}
