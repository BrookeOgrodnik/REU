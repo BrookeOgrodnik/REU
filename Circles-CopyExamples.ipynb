{
 "cells": [
  {
   "cell_type": "code",
   "execution_count": 2,
   "metadata": {},
   "outputs": [],
   "source": [
    "import numpy as np\n",
    "import sympy as sp\n",
    "from sympy import ntheory\n",
    "from sympy.ntheory import continued_fraction_reduce\n",
    "from sympy import *\n",
    "import matplotlib.pyplot as plt\n",
    "from numpy.linalg import matrix_power"
   ]
  },
  {
   "cell_type": "code",
   "execution_count": 3,
   "metadata": {},
   "outputs": [],
   "source": [
    "def getOrtho(circ1,circ2):\n",
    "    r1,x1 = circ1 \n",
    "    r2,x2 = circ2\n",
    "    c1 = x1**2-r1**2\n",
    "    c2 = x2**2-r2**2\n",
    "    x3 = (c1-c2)/(2*(h1-h2))\n",
    "    r3 = np.sqrt(h**2+2*x1*h+c1)\n",
    "    return (r3, x3)"
   ]
  },
  {
   "cell_type": "code",
   "execution_count": 4,
   "metadata": {},
   "outputs": [],
   "source": [
    "def getDist(circ1,circ2):\n",
    "    circ1,circ2 = getInv(circ1), getInv(circ2)\n",
    "    t1,u1,v1 = circ1\n",
    "    t2,u2,v2 = circ2\n",
    "    return np.arccosh(t1*u2/2+t2*u1/2-v1*v2)"
   ]
  },
  {
   "cell_type": "code",
   "execution_count": 5,
   "metadata": {},
   "outputs": [],
   "source": [
    "def normalToInv(circ):\n",
    "    r,x = circ\n",
    "    return ((x**2-r**2)/r, 1/r, x/r)"
   ]
  },
  {
   "cell_type": "code",
   "execution_count": 6,
   "metadata": {},
   "outputs": [],
   "source": [
    "def InvToNormal(circ):\n",
    "    t,u,v = circ\n",
    "    r = 1/u\n",
    "    x = r*v\n",
    "    return (r,x)"
   ]
  },
  {
   "cell_type": "code",
   "execution_count": 7,
   "metadata": {},
   "outputs": [],
   "source": [
    "def pairToFrac(s1, s2):\n",
    "    return minPermutation(recover(list(s1) + [1] + list(inv(s2)) + [1]))"
   ]
  },
  {
   "cell_type": "code",
   "execution_count": 44,
   "metadata": {},
   "outputs": [],
   "source": [
    "def pantsShear(pants1, pants2, y): # y is given in minimal form, without any 0's \n",
    "    \n",
    "    print(y)\n",
    "    s0,s1,s2 = pants1\n",
    "    pants1Arr = []\n",
    "    \n",
    "    pants1Arr.append(pairToFrac(s1,s2))\n",
    "    pants1Arr.append(pairToFrac(s2,s0))\n",
    "    pants1Arr.append(pairToFrac(s0,s1))\n",
    "    \n",
    "    i = -1\n",
    "    for l in range(3):\n",
    "        if pants1Arr[l] == y:\n",
    "            i = l\n",
    "    \n",
    "    pants1_new = [pairToFrac2(s1,s2),pairToFrac2(s2,s0),pairToFrac2(s0,s1)]\n",
    "    pants1_new = pants1_new[i:] + pants1_new[:i]\n",
    "    pants1  = pants1[i:] + pants1[:i]\n",
    "    \n",
    "    s0,s1,s2 = pants2\n",
    "    \n",
    "    pants2Arr = []\n",
    "    \n",
    "    pants2Arr.append(pairToFrac(s1,s2))\n",
    "    pants2Arr.append(pairToFrac(s2,s0))\n",
    "    pants2Arr.append(pairToFrac(s0,s1))\n",
    "    \n",
    "    for l in range(3):\n",
    "        if minPermutation(pants2Arr[l][::-1]) == y:\n",
    "            i = l\n",
    "    \n",
    "    pants2_new = [pairToFrac2(s1,s2),pairToFrac2(s2,s0),pairToFrac2(s0,s1)]\n",
    "    pants2_new = pants2_new[i:] + pants2_new[:i]\n",
    "    pants2 = pants2[i:] + pants2[:i]\n",
    "    \n",
    "    gamma_1 = pants1_new[0]\n",
    "    gamma_2 = pants2_new[0]\n",
    "    A_1 = np.eye(2)\n",
    "    A_2 = np.eye(2)\n",
    "    \n",
    "    if gamma_1[0]==0:\n",
    "        A_1 = np.linalg.inv(np.array([[0,1],[1,-gamma_1[1]]]) @ np.array([[0,1],[1,0]]))\n",
    "        gamma_1[-1]+=gamma_1[1]\n",
    "        gamma_1 = gamma_1[2:]\n",
    "        \n",
    "    \n",
    "    if gamma_2[0]==0:\n",
    "        A_2 = np.array([[0,1],[1,-gamma_2[1]]]) @ np.array([[0,1],[1,0]])\n",
    "        gamma_2[-1]+=gamma_2[1]\n",
    "        gamma_2 = gamma_2[2:]\n",
    "        \n",
    "    gamma_2 = gamma_2[::-1]\n",
    "    l = len(gamma_1)\n",
    "    \n",
    "    k = -1\n",
    "    for i in range(0,l,2):\n",
    "        if (gamma_2[i:]+gamma_2[:i]) == gamma_1:\n",
    "            k = i\n",
    "\n",
    "    mat = np.array([[0,1],[-1,0]])\n",
    "    for i in range(k):\n",
    "        mat = np.matmul(np.array([[0,1],[1,-gamma_2[i]]]), mat)\n",
    "        \n",
    "    B = np.array([[0,1],[-1,1]])\n",
    "    T = np.array([[1,1],[0,1]])\n",
    "    T_inv = np.array([[1,-1],[0,1]])\n",
    "    \n",
    "    M = ((((((B @ T) @ A_1) @ mat)@ A_2) @ T_inv) @ matrix_power(B, 2))\n",
    "    \n",
    "    pants2_in_plane = pantsInPlane(pants2)\n",
    "    min_max = [(x-r,x+r) for (r,x) in pants2_in_plane]\n",
    "    pants2_in_plane = [(act(M, mini),act(M,maxi)) for (mini,maxi) in min_max]\n",
    "    pants2_in_plane = [((x_max-x_min)/2,(x_max+x_min)/2) for (x_min,x_max) in pants2_in_plane]\n",
    "    pants1_in_plane  = pantsInPlane(pants1)\n",
    "    for (radius,center) in pants1_in_plane:\n",
    "        print((radius,center))\n",
    "    radiusCenterPlotter(pants1_in_plane+ pants2_in_plane)"
   ]
  },
  {
   "cell_type": "code",
   "execution_count": 9,
   "metadata": {},
   "outputs": [],
   "source": [
    "def act(M,x):\n",
    "    return (M[0,0]*x+M[0,1])/(M[1,0]*x+M[1,1])"
   ]
  },
  {
   "cell_type": "code",
   "execution_count": 10,
   "metadata": {},
   "outputs": [],
   "source": [
    "def isOdd(sequence):\n",
    "    return len(sequence) % 2"
   ]
  },
  {
   "cell_type": "code",
   "execution_count": 11,
   "metadata": {},
   "outputs": [],
   "source": [
    "def rotl(x, k):\n",
    "    return x[k:] + x[:k]"
   ]
  },
  {
   "cell_type": "code",
   "execution_count": 12,
   "metadata": {},
   "outputs": [],
   "source": [
    "def permutationsOf(sequence):\n",
    "    return list(permutationsOfGen(sequence))"
   ]
  },
  {
   "cell_type": "code",
   "execution_count": 13,
   "metadata": {},
   "outputs": [],
   "source": [
    "def permutationsOfGen(sequence):\n",
    "    for n in range(0, len(sequence), 1 if isOdd(sequence) else 2):\n",
    "        yield rotl(sequence, n)"
   ]
  },
  {
   "cell_type": "code",
   "execution_count": 14,
   "metadata": {},
   "outputs": [],
   "source": [
    "def minPermutation(sequence):\n",
    "    return min(permutationsOfGen(sequence))"
   ]
  },
  {
   "cell_type": "code",
   "execution_count": 15,
   "metadata": {},
   "outputs": [],
   "source": [
    "def inv(lr_sequence):\n",
    "    return tuple((np.array(lr_sequence[::-1]) - 1) ** 2)"
   ]
  },
  {
   "cell_type": "code",
   "execution_count": 16,
   "metadata": {},
   "outputs": [],
   "source": [
    "def pairToFrac2(s1,s2):\n",
    "    return recover2(list(s1) + [1] + list(inv(s2)) + [1])"
   ]
  },
  {
   "cell_type": "code",
   "execution_count": 17,
   "metadata": {},
   "outputs": [],
   "source": [
    "def recover(ls):\n",
    "    output = []\n",
    "    i = 0\n",
    "    while i < len(ls):\n",
    "        counter = 1\n",
    "        while (i < len(ls) - 1 and ls[i] == ls[i + 1]):\n",
    "            i += 1\n",
    "            counter += 1\n",
    "        i += 1\n",
    "        output.append(counter)\n",
    "    if isOdd(output):    #this is the line where we lump things\n",
    "        output[-1] += output[0]\n",
    "        output = output[1:]\n",
    "    return output\n",
    "\n",
    "def recover2(ls):\n",
    "    output = []\n",
    "    i = 0\n",
    "    while i < len(ls):\n",
    "        counter = 1\n",
    "        while (i < len(ls) - 1 and ls[i] == ls[i + 1]):\n",
    "            i += 1\n",
    "            counter += 1\n",
    "        i += 1\n",
    "        output.append(counter)\n",
    "    if isOdd(output):  \n",
    "        output = [0]+output\n",
    "    return output"
   ]
  },
  {
   "cell_type": "code",
   "execution_count": 18,
   "metadata": {},
   "outputs": [],
   "source": [
    "#this cell for graphing matrices from continued fractions\n",
    "def cfToMat(cf):\n",
    "    mat = np.identity(2)\n",
    "    length = 0\n",
    "    for x in cf:\n",
    "        mat = np.matmul(mat,[[x,1],[1,0]])\n",
    "        length += 1\n",
    "    if length % 2 == 1:\n",
    "        mat = np.matmul(mat,mat)\n",
    "    return np.array(mat).astype(int)\n",
    "\n",
    "def geodesicInfoFromMatrix(M): #input is a hyperbolic matrix M which lies in SL_2(Z)\n",
    "    tr = np.trace(M)\n",
    "    if np.abs(tr) <= 2:\n",
    "        raise ValueError('Matrix should have trace > 2')\n",
    "    if tr < 0:\n",
    "        M = -M\n",
    "        tr = -tr\n",
    "    length = 2*np.log(tr/2+np.sqrt((tr/2)**2-1))\n",
    "    eig = np.exp(1)**(length/2)\n",
    "    a = M.item(0,0)\n",
    "    b = M.item(0,1)\n",
    "    c = M.item(1,0)\n",
    "    d = M.item(1,1)\n",
    "    if c > 0:\n",
    "        eigMat = (1/((c**2)*(tr**2-4))**(1/4))*np.matrix([[eig-d,1/eig-d],[c,c]])\n",
    "    else: \n",
    "        eigMat = (1/((c**2)*(tr**2-4))**(1/4))*np.matrix([[-eig+d,1/eig-d],[-c,c]])\n",
    "    visPt = (eig-d)/c\n",
    "    newA = eigMat.item(0,0)\n",
    "    newB = eigMat.item(0,1)\n",
    "    newC = eigMat.item(1,0)\n",
    "    newD = eigMat.item(1,1)\n",
    "    visPtConj = (a - d - np.sqrt(tr**2 - 4))/(2*c)\n",
    "    z = (newA*1j+newB)/(newC*1j+newD)\n",
    "    zeta = 1j/(newC*1j+newD)**2\n",
    "    return (length,eig,eigMat,visPt,visPtConj,z,zeta)\n",
    "\n",
    "def plotMatrix(M): #input is a hyperbolic matrix M which lies in SL_2(Z)\n",
    "    trace = np.trace(M)\n",
    "    visPt = geodesicInfoFromMatrix(M)[3]\n",
    "    visPtConj = geodesicInfoFromMatrix(M)[4]\n",
    "    radius = (visPt - visPtConj)/2\n",
    "    center = (visPt + visPtConj)/2\n",
    "    circle = (radius, center)\n",
    "    \n",
    "    fig, ax = plt.subplots()\n",
    "    minimum = -1 + (circle[1]-abs(circle[0]))\n",
    "    maximum = 1 + (circle[1]+abs(circle[0]))\n",
    "    ax.set_xlim(float(minimum),float(maximum))\n",
    "    ax.set_ylim(0, float(abs(circle[0])+1))\n",
    "    \n",
    "    circle1 = plt.Circle((circle[1],0), abs(circle[0]), fill = False, color = 'r')\n",
    "    \n",
    "    if circle[0]>0:\n",
    "        plt.plot(circle[1], abs(circle[0]), '>', color=  'r')\n",
    "    else:\n",
    "        plt.plot(circle[1], abs(circle[0]), '<', color=  'r')\n",
    "    \n",
    "    ax.add_artist(circle1)\n",
    "    ax.set_aspect('equal', adjustable='box')"
   ]
  },
  {
   "cell_type": "code",
   "execution_count": 19,
   "metadata": {},
   "outputs": [],
   "source": [
    "def radiusCenterPlotter(circArray): #draw circle given an array of radii and centers\n",
    "    fig, ax = plt.subplots()\n",
    "    \n",
    "    minimum = -1 + min([circ[1]-abs(circ[0]) for circ in circArray])\n",
    "    maximum = 1 + max([circ[1]+abs(circ[0]) for circ in circArray])\n",
    "    \n",
    "    ax.set_xlim(float(minimum),float(maximum))\n",
    "    ax.set_ylim(0, float(max([abs(circ[0]) for circ in circArray])+1))\n",
    "    \n",
    "    for circ in circArray:\n",
    "        plotCirc = plt.Circle((circ[1],0), abs(circ[0]), fill = False)\n",
    "        if circ[0] > 0:\n",
    "            plt.plot(circ[1], abs(circ[0]), '>')\n",
    "        else:\n",
    "            plt.plot(circ[1], abs(circ[0]), '<')\n",
    "        \n",
    "        ax.add_artist(plotCirc)\n",
    "        \n",
    "    ax.set_aspect('equal', adjustable='box')"
   ]
  },
  {
   "cell_type": "code",
   "execution_count": 20,
   "metadata": {},
   "outputs": [],
   "source": [
    "def pantsInPlane(pants): #y0 is on top, y2 on left, y1 in default position (reduced position +1)\n",
    "    circles = []\n",
    "    s0,s1,s2 = pants\n",
    "    y2 = pairToFrac2(s0,s1)\n",
    "    y0 = pairToFrac2(s1,s2)\n",
    "    y1 = pairToFrac2(s2,s0)\n",
    "    B = lambda x : 1/(1-x)\n",
    "    \n",
    "    alpha = ntheory.continued_fraction_reduce([y0])\n",
    "    alpha_conj = -1/(ntheory.continued_fraction_reduce([y0[::-1]]))\n",
    "    x_min = B(alpha_conj+1)\n",
    "    x_max = B(alpha+1)\n",
    "    r = (x_max-x_min)/2\n",
    "    r = r.evalf()\n",
    "    x = (x_min+x_max)/2\n",
    "    x = x.evalf()\n",
    "    circles.append((r,x))\n",
    "    \n",
    "    alpha = ntheory.continued_fraction_reduce([y1])\n",
    "    alpha_conj = -1/(ntheory.continued_fraction_reduce([y1[::-1]]))\n",
    "    x_min = (alpha_conj+1)\n",
    "    x_max = (alpha+1)\n",
    "    r = (x_max-x_min)/2\n",
    "    r = r.evalf()\n",
    "    x = (x_min+x_max)/2\n",
    "    x = x.evalf()\n",
    "    circles.append((r,x))\n",
    "    \n",
    "    alpha = ntheory.continued_fraction_reduce([y2])\n",
    "    alpha_conj = -1/(ntheory.continued_fraction_reduce([y2[::-1]]))\n",
    "    x_min = B(B(alpha_conj+1))\n",
    "    x_max = B(B(alpha+1))\n",
    "    r = (x_max-x_min)/2\n",
    "    r = r.evalf()\n",
    "    x = (x_min+x_max)/2\n",
    "    x = x.evalf()\n",
    "    circles.append((r,x))\n",
    "    return circles"
   ]
  },
  {
   "cell_type": "code",
   "execution_count": 21,
   "metadata": {},
   "outputs": [
    {
     "data": {
      "text/plain": [
       "[(-2.23451998979089, 1.58823529411765),\n",
       " (1.68120381899154, 1.90909090909091),\n",
       " (0.425132000204757, -0.206896551724138)]"
      ]
     },
     "execution_count": 21,
     "metadata": {},
     "output_type": "execute_result"
    }
   ],
   "source": [
    "pantsInPlane(([1,1,1,0], [0,1,0,1,1], [0,0,1,0]))"
   ]
  },
  {
   "cell_type": "code",
   "execution_count": 22,
   "metadata": {},
   "outputs": [],
   "source": [
    "def plotPants(pants): # y0 is red, y1 is green, y2 is blue\n",
    "    fig, ax = plt.subplots()\n",
    "    \n",
    "    circ1, circ2, circ3 = pantsInPlane(pants)\n",
    "    minimum = -1+min(circ1[1]-abs(circ1[0]), circ2[1]-abs(circ2[0]), circ3[1]-abs(circ3[0]))\n",
    "    maximum = 1+max(circ1[1]+abs(circ1[0]), circ2[1]+abs(circ2[0]), circ3[1]+abs(circ3[0]))\n",
    "    ax.set_xlim(float(minimum),float(maximum))\n",
    "    ax.set_ylim(0, float(max(abs(circ1[0]), abs(circ2[0]), abs(circ3[0]))+1))\n",
    "    \n",
    "    circle1 = plt.Circle((circ1[1],0), abs(circ1[0]), fill = False, color = 'r')\n",
    "    circle2 = plt.Circle((circ2[1],0), abs(circ2[0]), fill = False, color = 'g')\n",
    "    circle3 = plt.Circle((circ3[1],0), abs(circ3[0]), fill = False, color = 'b')\n",
    "    \n",
    "    if circ1[0]>0:\n",
    "        plt.plot(circ1[1], abs(circ1[0]), '>', color=  'r')\n",
    "    else:\n",
    "        plt.plot(circ1[1], abs(circ1[0]), '<', color=  'r')\n",
    "    if circ2[0]>0:\n",
    "        plt.plot(circ2[1], abs(circ2[0]), '>', color=  'g')\n",
    "    else:\n",
    "        plt.plot(circ2[1], abs(circ2[0]), '<', color=  'g')\n",
    "    if circ3[0]>0:\n",
    "        plt.plot(circ3[1], abs(circ3[0]), '>', color=  'b')\n",
    "    else:\n",
    "        plt.plot(circ3[1], abs(circ3[0]), '<', color=  'b')\n",
    "    \n",
    "    ax.add_artist(circle1)\n",
    "    ax.add_artist(circle2)\n",
    "    ax.add_artist(circle3)\n",
    "    ax.set_aspect('equal', adjustable='box')\n",
    "    s0,s1,s2 = pants\n",
    "    print('red: ' + str(pairToFrac2(s0,s1)))\n",
    "    print('green: ' + str(pairToFrac2(s1,s2)))\n",
    "    print('blue: ' + str(pairToFrac2(s2,s0)))"
   ]
  },
  {
   "cell_type": "code",
   "execution_count": 23,
   "metadata": {},
   "outputs": [],
   "source": [
    "def pantsInPlane2(pants):\n",
    "    circles = []\n",
    "    s0,s1,s2 = pants\n",
    "    y2 = pairToFrac2(s0,s1)\n",
    "    y0 = pairToFrac2(s1,s2)\n",
    "    y1 = pairToFrac2(s2,s0)\n",
    "    B = lambda x : 1/(1-x)\n",
    "    \n",
    "    alpha = ntheory.continued_fraction_reduce([y0])\n",
    "    alpha_conj = -1/(ntheory.continued_fraction_reduce([y0[::-1]]))\n",
    "    x_min = alpha_conj+1\n",
    "    x_max = alpha+1\n",
    "    r = (x_max-x_min)/2\n",
    "    r = r.evalf()\n",
    "    x = (x_min+x_max)/2\n",
    "    x = x.evalf()\n",
    "    circles.append((r,x))\n",
    "    \n",
    "    alpha = ntheory.continued_fraction_reduce([y1])\n",
    "    alpha_conj = -1/(ntheory.continued_fraction_reduce([y1[::-1]]))\n",
    "    x_min = alpha_conj+1\n",
    "    x_max = alpha+1\n",
    "    r = (x_max-x_min)/2\n",
    "    r = r.evalf()\n",
    "    x = (x_min+x_max)/2\n",
    "    x = x.evalf()\n",
    "    circles.append((r,x))\n",
    "    \n",
    "    alpha = ntheory.continued_fraction_reduce([y2])\n",
    "    alpha_conj = -1/(ntheory.continued_fraction_reduce([y2[::-1]]))\n",
    "    x_min = alpha_conj+1\n",
    "    x_max = alpha+1\n",
    "    r = (x_max-x_min)/2\n",
    "    r = r.evalf()\n",
    "    x = (x_min+x_max)/2\n",
    "    x = x.evalf()\n",
    "    circles.append((r,x))\n",
    "    return circles\n",
    "    \n",
    "def plotPants2(pants):\n",
    "    fig, ax = plt.subplots()\n",
    "    \n",
    "    circ1, circ2, circ3 = pantsInPlane2(pants)\n",
    "    minimum = -1+min(circ1[1]-abs(circ1[0]), circ2[1]-abs(circ2[0]), circ3[1]-abs(circ3[0]))\n",
    "    maximum = 1+max(circ1[1]+abs(circ1[0]), circ2[1]+abs(circ2[0]), circ3[1]+abs(circ3[0]))\n",
    "    ax.set_xlim(float(minimum),float(maximum))\n",
    "    ax.set_ylim(0, float(max(abs(circ1[0]), abs(circ2[0]), abs(circ3[0]))+1))\n",
    "    \n",
    "    circle1 = plt.Circle((circ1[1],0), abs(circ1[0]), fill = False, color = 'r')\n",
    "    circle2 = plt.Circle((circ2[1],0), abs(circ2[0]), fill = False, color = 'g')\n",
    "    circle3 = plt.Circle((circ3[1],0), abs(circ3[0]), fill = False, color = 'b')\n",
    "    \n",
    "    if circ1[0]>0:\n",
    "        plt.plot(circ1[1], abs(circ1[0]), '>', color=  'r')\n",
    "    else:\n",
    "        plt.plot(circ1[1], abs(circ1[0]), '<', color=  'r')\n",
    "    if circ2[0]>0:\n",
    "        plt.plot(circ2[1], abs(circ2[0]), '>', color=  'g')\n",
    "    else:\n",
    "        plt.plot(circ2[1], abs(circ2[0]), '<', color=  'g')\n",
    "    if circ3[0]>0:\n",
    "        plt.plot(circ3[1], abs(circ3[0]), '>', color=  'b')\n",
    "    else:\n",
    "        plt.plot(circ3[1], abs(circ3[0]), '<', color=  'b')\n",
    "        \n",
    "    ax.add_artist(circle1)\n",
    "    ax.add_artist(circle2)\n",
    "    ax.add_artist(circle3)\n",
    "    ax.set_aspect('equal', adjustable='box')"
   ]
  },
  {
   "cell_type": "code",
   "execution_count": 40,
   "metadata": {},
   "outputs": [
    {
     "name": "stdout",
     "output_type": "stream",
     "text": [
      "[1, 1, 1, 4, 1, 3]\n",
      "(-2.23451998979089, 1.58823529411765)\n",
      "(1.68120381899154, 1.90909090909091)\n",
      "(0.425132000204757, -0.206896551724138)\n"
     ]
    },
    {
     "data": {
      "image/png": "[encoded data removed]",
      "text/plain": [
       "<Figure size 432x288 with 1 Axes>"
      ]
     },
     "metadata": {
      "needs_background": "light"
     },
     "output_type": "display_data"
    }
   ],
   "source": [
    "pantsShear(([1,1,1,0], [0,1,0,1,1], [0,0,1,0]),([0,0,0],[1,0,1,1,1,1],[0,0,1,1,1]),[1,1,1,4,1,3])"
   ]
  },
  {
   "cell_type": "code",
   "execution_count": 47,
   "metadata": {},
   "outputs": [
    {
     "name": "stdout",
     "output_type": "stream",
     "text": [
      "[1, 1, 1, 1, 3, 1, 2, 2]\n",
      "(-1.48429276087974, 0.875000000000000)\n",
      "(0.805090064406695, 1.54545454545455)\n",
      "(0.650747375796894, 0.0697674418604651)\n"
     ]
    },
    {
     "data": {
      "image/png": "[encoded data removed]",
      "text/plain": [
       "<Figure size 432x288 with 1 Axes>"
      ]
     },
     "metadata": {
      "needs_background": "light"
     },
     "output_type": "display_data"
    }
   ],
   "source": [
    "pantsShear(([0,0,1,0],[0,1,0],[0,1,1,0,1,1,1]),([0,1,0],[0,0,1,0,0,1,1],[1,1,0,0]),[1, 1, 1, 1, 3, 1, 2, 2])"
   ]
  },
  {
   "cell_type": "code",
   "execution_count": 45,
   "metadata": {},
   "outputs": [
    {
     "name": "stdout",
     "output_type": "stream",
     "text": [
      "[1, 1, 1, 4, 1, 1, 6, 2]\n",
      "0\n",
      "(1.39900610557223, -0.246305418719212)\n",
      "(0.888416956337483, -2.53389830508475)\n",
      "(-2.36916630068521, -1.06521739130435)\n"
     ]
    },
    {
     "data": {
      "image/png": "[encoded data removed]",
      "text/plain": [
       "<Figure size 432x288 with 1 Axes>"
      ]
     },
     "metadata": {
      "needs_background": "light"
     },
     "output_type": "display_data"
    },
    {
     "data": {
      "image/png": "[encoded data removed]",
      "text/plain": [
       "<Figure size 432x288 with 1 Axes>"
      ]
     },
     "metadata": {
      "needs_background": "light"
     },
     "output_type": "display_data"
    }
   ],
   "source": [
    "pantsShearExperimental(([1,1,1,1,1,1,0,1,0], [0,1,1,1,1], [1,0,1,0,1,1]),([0,0,1,1,1],[1,0,1,1,1,1,0,1,0,0],[1,0,0,1,1]),[1,1,1,4,1,1,6,2])"
   ]
  },
  {
   "cell_type": "code",
   "execution_count": 46,
   "metadata": {},
   "outputs": [
    {
     "name": "stdout",
     "output_type": "stream",
     "text": [
      "[1, 1, 1, 4, 1, 1, 6, 2]\n",
      "(-1.39900610557223, -0.246305418719212)\n",
      "(0.301172325733176, 0.850148367952522)\n",
      "(1.08505423320659, -0.542553191489362)\n"
     ]
    },
    {
     "data": {
      "image/png": "[encoded data removed]",
      "text/plain": [
       "<Figure size 432x288 with 1 Axes>"
      ]
     },
     "metadata": {
      "needs_background": "light"
     },
     "output_type": "display_data"
    }
   ],
   "source": [
    "pantsShear(([1,1,1,1,1,1,0,1,0], [0,1,1,1,1], [1,0,1,0,1,1]),([0,0,1,1,1],[1,0,1,1,1,1,0,1,0,0],[1,0,0,1,1]),[1,1,1,4,1,1,6,2])"
   ]
  },
  {
   "cell_type": "code",
   "execution_count": null,
   "metadata": {},
   "outputs": [],
   "source": []
  }
 ],
 "metadata": {
  "kernelspec": {
   "display_name": "Python 3",
   "language": "python",
   "name": "python3"
  },
  "language_info": {
   "codemirror_mode": {
    "name": "ipython",
    "version": 3
   },
   "file_extension": ".py",
   "mimetype": "text/x-python",
   "name": "python",
   "nbconvert_exporter": "python",
   "pygments_lexer": "ipython3",
   "version": "3.7.6"
  }
 },
 "nbformat": 4,
 "nbformat_minor": 2
}
