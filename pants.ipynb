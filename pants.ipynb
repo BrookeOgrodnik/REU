{
 "cells": [
  {
   "cell_type": "code",
   "execution_count": 8,
   "metadata": {
    "collapsed": true
   },
   "outputs": [],
   "source": [
    "with open('sequences20') as handle:\n",
    "    u = handle.read()"
   ]
  },
  {
   "cell_type": "code",
   "execution_count": 9,
   "metadata": {
    "collapsed": true
   },
   "outputs": [],
   "source": [
    "import json\n",
    "seqs_by_length = json.loads(u)"
   ]
  },
  {
   "cell_type": "code",
   "execution_count": 10,
   "metadata": {
    "collapsed": true
   },
   "outputs": [],
   "source": [
    "seqs_by_length_copy = seqs_by_length[:]"
   ]
  },
  {
   "cell_type": "code",
   "execution_count": 11,
   "metadata": {
    "collapsed": true
   },
   "outputs": [],
   "source": [
    "import numpy as np"
   ]
  },
  {
   "cell_type": "code",
   "execution_count": 103,
   "metadata": {},
   "outputs": [],
   "source": [
    "# The matrix for an EVEN LENGTH R-L sequence\n",
    "def cf2matrix(a):\n",
    "    u = np.eye(2, dtype=np.int64)\n",
    "    for x in a:\n",
    "        u = np.matmul(u, [[x, 1], [1, 0]])\n",
    "    return u\n",
    "\n",
    "# The matrix for an even or odd length sequence, where the odd case is just the \"condensed form\" for an even sequence\n",
    "def m_rep(seq):\n",
    "    if len(seq) % 2 == 0:\n",
    "        return cf2matrix(seq)\n",
    "    else:\n",
    "        return cf2matrix(seq + seq)\n",
    "    \n",
    "def rotl(x, k):\n",
    "    return x[k:] + x[:k]\n",
    "\n",
    "def min_rot(x):\n",
    "    return min(rotl(x, k) for k in range(len(x)))\n",
    "\n",
    "def min_rot2(x):\n",
    "    return min(rotl(x, k) for k in range(0, len(x), 2))\n",
    "    \n",
    "def trace2length(t):\n",
    "    return 2 * np.arccosh(t/2)\n",
    "\n",
    "def length2trace(l):\n",
    "    return 2 * np.cosh(l/2)\n",
    "\n",
    "# The sequences that we actually want, from the \"condensed forms\" that take primitive roots in PGL_2(Z)\n",
    "def actual_sequences(a, length):\n",
    "    min_trace = int(length2trace(length)) + 1\n",
    "    max_trace = int(length2trace(length+1)) + 1\n",
    "    result = []\n",
    "    for _x in a:\n",
    "        x = _x[:] # Need this to make x harmlessly mutable\n",
    "        m = m_rep(x)\n",
    "        t = np.trace(m)\n",
    "        if t < min_trace or t >= max_trace:\n",
    "            x_length = trace2length(t)\n",
    "            k = int((length + 1)/x_length)\n",
    "            x *= k\n",
    "        # Symmetrize by both R-L flip and time reversal, and add all four\n",
    "        if len(x) % 2 == 0:\n",
    "            result += [x, rotl(x, 1)]\n",
    "        # Expand condensed form, and then symmetrize by time reversal\n",
    "        else:\n",
    "            xx = x + x\n",
    "            result += [xx]\n",
    "    return result\n",
    "\n",
    "def my_actual_sequences(length):\n",
    "    return actual_sequences(seqs_by_length[length], length)\n",
    "\n",
    "def reduce_and_remove_duplicates(seqs):\n",
    "    u = {tuple(min_rot2(x)) for x in seqs}\n",
    "    return [list(x) for x in u]\n",
    "            \n"
   ]
  },
  {
   "cell_type": "code",
   "execution_count": 71,
   "metadata": {
    "collapsed": true
   },
   "outputs": [],
   "source": [
    "def guys_for_trace(t):\n",
    "    l = int(trace2length(t))\n",
    "    l_seqs = my_actual_sequences(l)\n",
    "    t_seqs = [x for x in l_seqs if np.trace(cf2matrix(x)) == t]\n",
    "    return reduce_and_remove_duplicates(t_seqs)\n",
    "    "
   ]
  },
  {
   "cell_type": "code",
   "execution_count": 204,
   "metadata": {},
   "outputs": [],
   "source": [
    "# Now we extract from each seqence the partial sequences:\n",
    "completions = {}\n",
    "\n",
    "# all ways to divide a sequence by removing two R's\n",
    "# all sequences start and end with R's, but possibly zero of them\n",
    "# input is list of list, output is list of pairs of lists\n",
    "def Rdivisions(seq):\n",
    "    result = []\n",
    "    # First the ways where they're both in the same string of R's:\n",
    "    for i in range(0, len(seq), 2):\n",
    "        r = rotl(seq, i)\n",
    "        m = r[0]\n",
    "        rr = r[1:]\n",
    "        if m < 2: \n",
    "            continue\n",
    "        for j in range(0, m):\n",
    "            for k in range(j+1, m):\n",
    "                result.append(([k-j-1], [m-k-1] + rr + [j]))\n",
    "    # Now all the ways where they're in different strings of R's\n",
    "    for i in range(0, len(seq), 2):\n",
    "        for j in range(i+2, len(seq), 2):\n",
    "            mi, mj = seq[i], seq[j]\n",
    "            ai = seq[i+1:j]\n",
    "            \n",
    "            aj = seq[j+1:] + seq[:i]\n",
    "            for si in range(0, mi):\n",
    "                for sj in range(0, mj):\n",
    "                    result.append(([mi - si -1] + ai + [sj], [mj - sj -1] + aj + [si]))\n",
    "    return result  + [(v, u) for (u, v) in result]\n",
    "\n",
    "# takes R to R as input, gives R to R as output\n",
    "# output is list\n",
    "def reverse_segment(seg):\n",
    "    seq = list(reversed(seg))\n",
    "    if len(seq) == 1:\n",
    "        return [0, seq[0], 0]\n",
    "    if seq[0] > 0:\n",
    "        start = [0] + seq[:1]\n",
    "    else:\n",
    "        start = []\n",
    "    if seq[-1] > 0:\n",
    "        end = seq[-1:] + [0]\n",
    "    else:\n",
    "        end = []\n",
    "    return start + seq[1:-1] + end\n",
    "    \n",
    "# divisions will be a list of pairs u, v that is an Rdivision of a sequence in seqs\n",
    "# completions[x] is all the ways of completing x to a sequence in seq\n",
    "# divisions is list of list\n",
    "# completions and reverse_completions are dictionaries\n",
    "def Rdivisions_tables(seqs):\n",
    "    completions = dict()\n",
    "    reverse_completions = dict()\n",
    "    divisions = []\n",
    "    for seq in seqs:\n",
    "        divisions += Rdivisions(seq)\n",
    "    for (u, v) in divisions:\n",
    "        uu = tuple(u)\n",
    "        vv = tuple(v)\n",
    "        if uu in completions:\n",
    "            completions[uu].add(vv)\n",
    "            reverse_completions[uu].add(tuple(reverse_segment(vv)))\n",
    "        else:\n",
    "            completions[uu] = {vv}\n",
    "            reverse_completions[uu] = {tuple(reverse_segment(vv))}\n",
    "    return divisions, completions, reverse_completions\n",
    "\n",
    "# returns triples sigma_i such that R-(sigma_i)^{-1}-R-sigma_{i+1} are in seqs\n",
    "def pants_with_boundaries(seqs):\n",
    "    pants = []\n",
    "    divisions, completions, reverse_completions = Rdivisions_tables(seqs)\n",
    "    for u, v in divisions:\n",
    "        uu = tuple(reverse_segment(u))\n",
    "        vv = tuple(reverse_segment(v))\n",
    "        if uu not in reverse_completions or vv not in completions:\n",
    "            continue\n",
    "        for w in reverse_completions[uu] & completions[vv]:\n",
    "            pants.append((list(uu), v, list(w)))\n",
    "    return pants\n",
    "\n",
    "# greedily and repeatedly replace x 0 y with x+y\n",
    "def remove_zeros(seq, circular = True):\n",
    "    result = []\n",
    "    buffer = seq[0]\n",
    "    just_skipped_zero = False\n",
    "    for x in seq[1:]:\n",
    "        if just_skipped_zero:\n",
    "            buffer += x\n",
    "            just_skipped_zero = False\n",
    "        elif x > 0:\n",
    "            result.append(buffer)\n",
    "            buffer = x\n",
    "        else: # x = 0 and previous was nonzero\n",
    "            just_skipped_zero = True\n",
    "    if just_skipped_zero:\n",
    "        if circular:\n",
    "            result[0] += buffer\n",
    "        else:\n",
    "            result += [buffer, 0]\n",
    "    else:    \n",
    "        result.append(buffer)\n",
    "    return result\n",
    "\n",
    "\n",
    "def boundary_for_pants(pants):\n",
    "    result = []\n",
    "    for i in range(3):\n",
    "        u = pants[(i-1) % 3]\n",
    "        v = reverse_segment(pants[(i+1) % 3])\n",
    "        print(u, v)\n",
    "        w = [1, 0] + u + [0, 1, 0] + v + [0]\n",
    "        result.append(remove_zeros(w))\n",
    "    return result\n",
    "        \n",
    "    "
   ]
  },
  {
   "cell_type": "code",
   "execution_count": 213,
   "metadata": {},
   "outputs": [
    {
     "data": {
      "text/plain": [
       "[[3, 2],\n",
       " [3, 3],\n",
       " [9, 1],\n",
       " [7, 1],\n",
       " [8, 1],\n",
       " [6, 1],\n",
       " [1, 1, 2, 1],\n",
       " [1, 10],\n",
       " [1, 8],\n",
       " [2, 5],\n",
       " [1, 6],\n",
       " [2, 3],\n",
       " [1, 1, 1, 2],\n",
       " [1, 7],\n",
       " [1, 9],\n",
       " [4, 2],\n",
       " [10, 1],\n",
       " [5, 2],\n",
       " [2, 4]]"
      ]
     },
     "execution_count": 213,
     "metadata": {},
     "output_type": "execute_result"
    }
   ],
   "source": [
    "reduce_and_remove_duplicates(my_actual_sequences(4))"
   ]
  },
  {
   "cell_type": "code",
   "execution_count": 214,
   "metadata": {},
   "outputs": [
    {
     "data": {
      "text/plain": [
       "[8, 11, 11, 9, 10, 8, 10, 12, 10, 12, 8, 8, 10, 9, 11, 10, 12, 12, 10]"
      ]
     },
     "execution_count": 214,
     "metadata": {},
     "output_type": "execute_result"
    }
   ],
   "source": [
    "[cf2matrix(x).trace() for x in _]"
   ]
  },
  {
   "cell_type": "code",
   "execution_count": null,
   "metadata": {
    "collapsed": true
   },
   "outputs": [],
   "source": []
  },
  {
   "cell_type": "code",
   "execution_count": null,
   "metadata": {
    "collapsed": true
   },
   "outputs": [],
   "source": []
  },
  {
   "cell_type": "code",
   "execution_count": 209,
   "metadata": {
    "scrolled": false
   },
   "outputs": [
    {
     "data": {
      "text/plain": [
       "[([0, 1, 0], [0, 3, 0], [1, 1, 0]),\n",
       " ([0, 1, 0], [0, 3, 0], [0, 1, 1]),\n",
       " ([3], [1], [1, 1, 0]),\n",
       " ([3], [1], [0, 1, 1]),\n",
       " ([0, 2, 0], [2, 1, 0], [1]),\n",
       " ([0, 3, 0], [1, 1, 0], [0, 1, 0]),\n",
       " ([0, 3, 0], [0, 1, 1], [0, 1, 0]),\n",
       " ([0, 2, 0], [0, 1, 2], [1]),\n",
       " ([1, 2, 0], [2], [0, 1, 0]),\n",
       " ([1, 1, 0], [3], [1]),\n",
       " ([0, 1, 1], [3], [1]),\n",
       " ([0, 2, 1], [2], [0, 1, 0]),\n",
       " ([1], [1, 1, 0], [3]),\n",
       " ([0, 1, 1], [0, 1, 0], [0, 3, 0]),\n",
       " ([1, 1, 0], [0, 1, 0], [0, 3, 0]),\n",
       " ([1], [0, 1, 1], [3]),\n",
       " ([1], [0, 2, 0], [0, 1, 2]),\n",
       " ([1], [0, 2, 0], [2, 1, 0]),\n",
       " ([2], [0, 1, 0], [0, 2, 1]),\n",
       " ([2], [0, 1, 0], [1, 2, 0]),\n",
       " ([0, 1, 0], [1, 2, 0], [2]),\n",
       " ([0, 2, 0], [0, 2, 0], [0, 2, 0]),\n",
       " ([0, 1, 0], [0, 2, 1], [2]),\n",
       " ([2, 1, 0], [1], [0, 2, 0]),\n",
       " ([2], [2], [2]),\n",
       " ([0, 1, 2], [1], [0, 2, 0])]"
      ]
     },
     "execution_count": 209,
     "metadata": {},
     "output_type": "execute_result"
    }
   ],
   "source": [
    "pants_with_boundaries(_)"
   ]
  },
  {
   "cell_type": "code",
   "execution_count": 210,
   "metadata": {},
   "outputs": [
    {
     "name": "stdout",
     "output_type": "stream",
     "text": [
      "[1, 1, 0] [3]\n",
      "[0, 1, 0] [1, 1, 0]\n",
      "[0, 3, 0] [1]\n"
     ]
    },
    {
     "data": {
      "text/plain": [
       "[[6, 1], [1, 1, 2, 1], [3, 3]]"
      ]
     },
     "execution_count": 210,
     "metadata": {},
     "output_type": "execute_result"
    }
   ],
   "source": [
    "boundary_for_pants(_[0])"
   ]
  },
  {
   "cell_type": "code",
   "execution_count": 86,
   "metadata": {
    "scrolled": true
   },
   "outputs": [],
   "source": [
    "# greedily and repeatedly replace x 0 y with x+y\n",
    "def remove_zeros(seq):\n",
    "    result = []\n",
    "    buffer = seq[0]\n",
    "    just_skipped_zero = False\n",
    "    for x in seq[1:]:\n",
    "        if just_skipped_zero:\n",
    "            buffer += x\n",
    "            just_skipped_zero = False\n",
    "        elif x > 0:\n",
    "            result.append(buffer)\n",
    "            buffer = x\n",
    "        else: # x = 0 and previous was nonzero\n",
    "            just_skipped_zero = True\n",
    "    if just_skipped_zero:\n",
    "        result += [buffer, 0]\n",
    "    else: \n",
    "        result.append(buffer)\n",
    "    return result\n",
    "\n",
    "def invert_R_to_R(seq):\n",
    "    return remove_zeros([0] + list(reversed(seq)) + [0])"
   ]
  },
  {
   "cell_type": "code",
   "execution_count": 94,
   "metadata": {},
   "outputs": [
    {
     "data": {
      "text/plain": [
       "[17]"
      ]
     },
     "execution_count": 94,
     "metadata": {},
     "output_type": "execute_result"
    }
   ],
   "source": [
    "remove_zeros([5, 0, 0, 0, 4, 0, 8])"
   ]
  },
  {
   "cell_type": "code",
   "execution_count": 215,
   "metadata": {},
   "outputs": [
    {
     "name": "stdout",
     "output_type": "stream",
     "text": [
      "[1, 1, 0] [0, 1, 0]\n",
      "[3] [1, 1, 0]\n",
      "[1] [0, 3, 0]\n"
     ]
    },
    {
     "data": {
      "text/plain": [
       "[[2, 1, 1, 1], [6, 1], [3, 3]]"
      ]
     },
     "execution_count": 215,
     "metadata": {},
     "output_type": "execute_result"
    }
   ],
   "source": [
    "boundary_for_pants(([3], [1], [1, 1, 0]))"
   ]
  },
  {
   "cell_type": "code",
   "execution_count": 216,
   "metadata": {},
   "outputs": [
    {
     "data": {
      "text/plain": [
       "[10, 8, 11]"
      ]
     },
     "execution_count": 216,
     "metadata": {},
     "output_type": "execute_result"
    }
   ],
   "source": [
    "[cf2matrix(x).trace() for x in _]"
   ]
  },
  {
   "cell_type": "code",
   "execution_count": null,
   "metadata": {
    "collapsed": true
   },
   "outputs": [],
   "source": []
  },
  {
   "cell_type": "code",
   "execution_count": 74,
   "metadata": {},
   "outputs": [
    {
     "data": {
      "text/plain": [
       "[[1, 1, 1, 3],\n",
       " [1, 11],\n",
       " [3, 4],\n",
       " [1, 12],\n",
       " [1, 2],\n",
       " [2, 6],\n",
       " [1, 1, 2, 2],\n",
       " [1, 13],\n",
       " [1, 14],\n",
       " [1, 1, 1, 4],\n",
       " [2, 7],\n",
       " [3, 5],\n",
       " [1, 15],\n",
       " [1, 16],\n",
       " [1, 2, 1, 3],\n",
       " [1],\n",
       " [2, 8],\n",
       " [4],\n",
       " [1, 1, 1, 5],\n",
       " [1, 17],\n",
       " [2, 9],\n",
       " [1, 1, 2, 3],\n",
       " [1, 18],\n",
       " [1, 1, 3, 2],\n",
       " [3, 6]]"
      ]
     },
     "execution_count": 74,
     "metadata": {},
     "output_type": "execute_result"
    }
   ],
   "source": [
    "seqs_by_length[5]"
   ]
  },
  {
   "cell_type": "code",
   "execution_count": 77,
   "metadata": {},
   "outputs": [
    {
     "data": {
      "text/plain": [
       "189022"
      ]
     },
     "execution_count": 77,
     "metadata": {},
     "output_type": "execute_result"
    }
   ],
   "source": [
    "len(pants(seqs_by_length[11]))"
   ]
  },
  {
   "cell_type": "code",
   "execution_count": 78,
   "metadata": {},
   "outputs": [
    {
     "data": {
      "text/plain": [
       "935079"
      ]
     },
     "execution_count": 78,
     "metadata": {},
     "output_type": "execute_result"
    }
   ],
   "source": [
    "len(pants(seqs_by_length[12]))"
   ]
  },
  {
   "cell_type": "code",
   "execution_count": 79,
   "metadata": {},
   "outputs": [
    {
     "data": {
      "text/plain": [
       "4903283"
      ]
     },
     "execution_count": 79,
     "metadata": {},
     "output_type": "execute_result"
    }
   ],
   "source": [
    "len(pants(seqs_by_length[13]))"
   ]
  },
  {
   "cell_type": "code",
   "execution_count": 83,
   "metadata": {
    "collapsed": true
   },
   "outputs": [],
   "source": [
    "import numpy as np"
   ]
  },
  {
   "cell_type": "code",
   "execution_count": 84,
   "metadata": {},
   "outputs": [
    {
     "data": {
      "text/plain": [
       "[12.149618689383981, 13.748386296680188, 15.40541553873106]"
      ]
     },
     "execution_count": 84,
     "metadata": {},
     "output_type": "execute_result"
    }
   ],
   "source": [
    "[np.log(x) for x in [Out[77], Out[78], Out[79]]]"
   ]
  },
  {
   "cell_type": "code",
   "execution_count": 91,
   "metadata": {
    "collapsed": true
   },
   "outputs": [],
   "source": [
    "pants_by_length = [[]] * 20"
   ]
  },
  {
   "cell_type": "code",
   "execution_count": 92,
   "metadata": {},
   "outputs": [
    {
     "name": "stdout",
     "output_type": "stream",
     "text": [
      "1\n",
      "2018-04-27 10:19:44.658341\n",
      "2\n",
      "2018-04-27 10:19:44.658370\n",
      "3\n",
      "2018-04-27 10:19:44.658388\n",
      "4\n",
      "2018-04-27 10:19:44.658452\n",
      "5\n",
      "2018-04-27 10:19:44.665189\n",
      "6\n",
      "2018-04-27 10:19:44.706617\n",
      "7\n",
      "2018-04-27 10:19:44.818805\n",
      "8\n",
      "2018-04-27 10:19:45.204440\n",
      "9\n",
      "2018-04-27 10:19:45.551284\n",
      "10\n",
      "2018-04-27 10:19:45.705561\n",
      "11\n",
      "2018-04-27 10:19:46.157927\n",
      "12\n",
      "2018-04-27 10:19:47.963836\n",
      "13\n",
      "2018-04-27 10:20:09.013427\n",
      "14\n",
      "2018-04-27 10:20:59.646871\n",
      "15\n",
      "2018-04-27 10:30:25.636399\n"
     ]
    },
    {
     "ename": "KeyboardInterrupt",
     "evalue": "",
     "output_type": "error",
     "traceback": [
      "\u001b[0;31m---------------------------------------------------------------------------\u001b[0m",
      "\u001b[0;31mKeyboardInterrupt\u001b[0m                         Traceback (most recent call last)",
      "\u001b[0;32m<ipython-input-92-88e04bc19e2a>\u001b[0m in \u001b[0;36m<module>\u001b[0;34m()\u001b[0m\n\u001b[1;32m      3\u001b[0m     \u001b[0mprint\u001b[0m\u001b[0;34m(\u001b[0m\u001b[0mi\u001b[0m\u001b[0;34m)\u001b[0m\u001b[0;34m\u001b[0m\u001b[0m\n\u001b[1;32m      4\u001b[0m     \u001b[0mprint\u001b[0m\u001b[0;34m(\u001b[0m\u001b[0mdatetime\u001b[0m\u001b[0;34m.\u001b[0m\u001b[0mdatetime\u001b[0m\u001b[0;34m.\u001b[0m\u001b[0mnow\u001b[0m\u001b[0;34m(\u001b[0m\u001b[0;34m)\u001b[0m\u001b[0;34m)\u001b[0m\u001b[0;34m\u001b[0m\u001b[0m\n\u001b[0;32m----> 5\u001b[0;31m     \u001b[0mpants_by_length\u001b[0m\u001b[0;34m[\u001b[0m\u001b[0mi\u001b[0m\u001b[0;34m]\u001b[0m \u001b[0;34m=\u001b[0m \u001b[0mpants\u001b[0m\u001b[0;34m(\u001b[0m\u001b[0mseqs_by_length\u001b[0m\u001b[0;34m[\u001b[0m\u001b[0mi\u001b[0m\u001b[0;34m]\u001b[0m\u001b[0;34m)\u001b[0m\u001b[0;34m\u001b[0m\u001b[0m\n\u001b[0m",
      "\u001b[0;32m<ipython-input-70-7d49406961bb>\u001b[0m in \u001b[0;36mpants\u001b[0;34m(seqs)\u001b[0m\n\u001b[1;32m     45\u001b[0m \u001b[0;32mdef\u001b[0m \u001b[0mpants\u001b[0m\u001b[0;34m(\u001b[0m\u001b[0mseqs\u001b[0m\u001b[0;34m)\u001b[0m\u001b[0;34m:\u001b[0m\u001b[0;34m\u001b[0m\u001b[0m\n\u001b[1;32m     46\u001b[0m     \u001b[0mpants\u001b[0m \u001b[0;34m=\u001b[0m \u001b[0;34m[\u001b[0m\u001b[0;34m]\u001b[0m\u001b[0;34m\u001b[0m\u001b[0m\n\u001b[0;32m---> 47\u001b[0;31m     \u001b[0mdivisions\u001b[0m\u001b[0;34m,\u001b[0m \u001b[0mcompletions\u001b[0m \u001b[0;34m=\u001b[0m \u001b[0mRdivisions_tables\u001b[0m\u001b[0;34m(\u001b[0m\u001b[0mseqs\u001b[0m\u001b[0;34m)\u001b[0m\u001b[0;34m\u001b[0m\u001b[0m\n\u001b[0m\u001b[1;32m     48\u001b[0m     \u001b[0;32mfor\u001b[0m \u001b[0mu\u001b[0m\u001b[0;34m,\u001b[0m \u001b[0mv\u001b[0m \u001b[0;32min\u001b[0m \u001b[0mdivisions\u001b[0m\u001b[0;34m:\u001b[0m\u001b[0;34m\u001b[0m\u001b[0m\n\u001b[1;32m     49\u001b[0m         \u001b[0muu\u001b[0m \u001b[0;34m=\u001b[0m \u001b[0mtuple\u001b[0m\u001b[0;34m(\u001b[0m\u001b[0mu\u001b[0m\u001b[0;34m)\u001b[0m\u001b[0;34m\u001b[0m\u001b[0m\n",
      "\u001b[0;32m<ipython-input-70-7d49406961bb>\u001b[0m in \u001b[0;36mRdivisions_tables\u001b[0;34m(seqs)\u001b[0m\n\u001b[1;32m     29\u001b[0m \u001b[0;32mdef\u001b[0m \u001b[0mRdivisions_tables\u001b[0m\u001b[0;34m(\u001b[0m\u001b[0mseqs\u001b[0m\u001b[0;34m)\u001b[0m\u001b[0;34m:\u001b[0m\u001b[0;34m\u001b[0m\u001b[0m\n\u001b[1;32m     30\u001b[0m     \u001b[0mcompletions\u001b[0m \u001b[0;34m=\u001b[0m \u001b[0mdict\u001b[0m\u001b[0;34m(\u001b[0m\u001b[0;34m)\u001b[0m\u001b[0;34m\u001b[0m\u001b[0m\n\u001b[0;32m---> 31\u001b[0;31m     \u001b[0mdivs_by_seq\u001b[0m \u001b[0;34m=\u001b[0m \u001b[0;34m{\u001b[0m\u001b[0mtuple\u001b[0m\u001b[0;34m(\u001b[0m\u001b[0mseq\u001b[0m\u001b[0;34m)\u001b[0m\u001b[0;34m:\u001b[0m \u001b[0mRdivisions\u001b[0m\u001b[0;34m(\u001b[0m\u001b[0mseq\u001b[0m\u001b[0;34m)\u001b[0m \u001b[0;32mfor\u001b[0m \u001b[0mseq\u001b[0m \u001b[0;32min\u001b[0m \u001b[0mseqs\u001b[0m\u001b[0;34m}\u001b[0m\u001b[0;34m\u001b[0m\u001b[0m\n\u001b[0m\u001b[1;32m     32\u001b[0m     \u001b[0mdivisions\u001b[0m \u001b[0;34m=\u001b[0m \u001b[0;34m[\u001b[0m\u001b[0;34m]\u001b[0m\u001b[0;34m\u001b[0m\u001b[0m\n\u001b[1;32m     33\u001b[0m     \u001b[0;32mfor\u001b[0m \u001b[0mseq\u001b[0m \u001b[0;32min\u001b[0m \u001b[0mdivs_by_seq\u001b[0m\u001b[0;34m:\u001b[0m\u001b[0;34m\u001b[0m\u001b[0m\n",
      "\u001b[0;32m<ipython-input-70-7d49406961bb>\u001b[0m in \u001b[0;36m<dictcomp>\u001b[0;34m(.0)\u001b[0m\n\u001b[1;32m     29\u001b[0m \u001b[0;32mdef\u001b[0m \u001b[0mRdivisions_tables\u001b[0m\u001b[0;34m(\u001b[0m\u001b[0mseqs\u001b[0m\u001b[0;34m)\u001b[0m\u001b[0;34m:\u001b[0m\u001b[0;34m\u001b[0m\u001b[0m\n\u001b[1;32m     30\u001b[0m     \u001b[0mcompletions\u001b[0m \u001b[0;34m=\u001b[0m \u001b[0mdict\u001b[0m\u001b[0;34m(\u001b[0m\u001b[0;34m)\u001b[0m\u001b[0;34m\u001b[0m\u001b[0m\n\u001b[0;32m---> 31\u001b[0;31m     \u001b[0mdivs_by_seq\u001b[0m \u001b[0;34m=\u001b[0m \u001b[0;34m{\u001b[0m\u001b[0mtuple\u001b[0m\u001b[0;34m(\u001b[0m\u001b[0mseq\u001b[0m\u001b[0;34m)\u001b[0m\u001b[0;34m:\u001b[0m \u001b[0mRdivisions\u001b[0m\u001b[0;34m(\u001b[0m\u001b[0mseq\u001b[0m\u001b[0;34m)\u001b[0m \u001b[0;32mfor\u001b[0m \u001b[0mseq\u001b[0m \u001b[0;32min\u001b[0m \u001b[0mseqs\u001b[0m\u001b[0;34m}\u001b[0m\u001b[0;34m\u001b[0m\u001b[0m\n\u001b[0m\u001b[1;32m     32\u001b[0m     \u001b[0mdivisions\u001b[0m \u001b[0;34m=\u001b[0m \u001b[0;34m[\u001b[0m\u001b[0;34m]\u001b[0m\u001b[0;34m\u001b[0m\u001b[0m\n\u001b[1;32m     33\u001b[0m     \u001b[0;32mfor\u001b[0m \u001b[0mseq\u001b[0m \u001b[0;32min\u001b[0m \u001b[0mdivs_by_seq\u001b[0m\u001b[0;34m:\u001b[0m\u001b[0;34m\u001b[0m\u001b[0m\n",
      "\u001b[0;32m<ipython-input-70-7d49406961bb>\u001b[0m in \u001b[0;36mRdivisions\u001b[0;34m(seq)\u001b[0m\n\u001b[1;32m     15\u001b[0m         \u001b[0;32mfor\u001b[0m \u001b[0mj\u001b[0m \u001b[0;32min\u001b[0m \u001b[0mrange\u001b[0m\u001b[0;34m(\u001b[0m\u001b[0;36m0\u001b[0m\u001b[0;34m,\u001b[0m \u001b[0mm\u001b[0m\u001b[0;34m)\u001b[0m\u001b[0;34m:\u001b[0m\u001b[0;34m\u001b[0m\u001b[0m\n\u001b[1;32m     16\u001b[0m             \u001b[0;32mfor\u001b[0m \u001b[0mk\u001b[0m \u001b[0;32min\u001b[0m \u001b[0mrange\u001b[0m\u001b[0;34m(\u001b[0m\u001b[0mj\u001b[0m\u001b[0;34m+\u001b[0m\u001b[0;36m1\u001b[0m\u001b[0;34m,\u001b[0m \u001b[0mm\u001b[0m\u001b[0;34m)\u001b[0m\u001b[0;34m:\u001b[0m\u001b[0;34m\u001b[0m\u001b[0m\n\u001b[0;32m---> 17\u001b[0;31m                 \u001b[0mresult\u001b[0m\u001b[0;34m.\u001b[0m\u001b[0mappend\u001b[0m\u001b[0;34m(\u001b[0m\u001b[0;34m(\u001b[0m\u001b[0;34m[\u001b[0m\u001b[0mk\u001b[0m\u001b[0;34m-\u001b[0m\u001b[0mj\u001b[0m\u001b[0;34m-\u001b[0m\u001b[0;36m1\u001b[0m\u001b[0;34m]\u001b[0m\u001b[0;34m,\u001b[0m \u001b[0;34m[\u001b[0m\u001b[0mm\u001b[0m\u001b[0;34m-\u001b[0m\u001b[0mk\u001b[0m\u001b[0;34m-\u001b[0m\u001b[0;36m1\u001b[0m\u001b[0;34m]\u001b[0m \u001b[0;34m+\u001b[0m \u001b[0mrr\u001b[0m \u001b[0;34m+\u001b[0m \u001b[0;34m[\u001b[0m\u001b[0mj\u001b[0m\u001b[0;34m]\u001b[0m\u001b[0;34m)\u001b[0m\u001b[0;34m)\u001b[0m\u001b[0;34m\u001b[0m\u001b[0m\n\u001b[0m\u001b[1;32m     18\u001b[0m     \u001b[0;31m# Now all the ways where they're in different strings of R's\u001b[0m\u001b[0;34m\u001b[0m\u001b[0;34m\u001b[0m\u001b[0m\n\u001b[1;32m     19\u001b[0m     \u001b[0;32mfor\u001b[0m \u001b[0mi\u001b[0m \u001b[0;32min\u001b[0m \u001b[0mrange\u001b[0m\u001b[0;34m(\u001b[0m\u001b[0;36m0\u001b[0m\u001b[0;34m,\u001b[0m \u001b[0mlen\u001b[0m\u001b[0;34m(\u001b[0m\u001b[0mseq\u001b[0m\u001b[0;34m)\u001b[0m\u001b[0;34m,\u001b[0m \u001b[0;36m2\u001b[0m\u001b[0;34m)\u001b[0m\u001b[0;34m:\u001b[0m\u001b[0;34m\u001b[0m\u001b[0m\n",
      "\u001b[0;31mKeyboardInterrupt\u001b[0m: "
     ]
    }
   ],
   "source": [
    "import datetime\n",
    "for i in range(1, 20):\n",
    "    print(i)\n",
    "    print(datetime.datetime.now())\n",
    "    pants_by_length[i] = pants(seqs_by_length[i])"
   ]
  },
  {
   "cell_type": "code",
   "execution_count": 98,
   "metadata": {},
   "outputs": [
    {
     "name": "stderr",
     "output_type": "stream",
     "text": [
      "//anaconda/lib/python3.5/site-packages/ipykernel/__main__.py:1: RuntimeWarning: divide by zero encountered in log\n",
      "  if __name__ == '__main__':\n",
      "//anaconda/lib/python3.5/site-packages/ipykernel/__main__.py:1: RuntimeWarning: invalid value encountered in double_scalars\n",
      "  if __name__ == '__main__':\n"
     ]
    },
    {
     "data": {
      "text/plain": [
       "[(1, nan),\n",
       " (2, nan),\n",
       " (3, nan),\n",
       " (4, nan),\n",
       " (5, inf),\n",
       " (6, 2.5649493574615367),\n",
       " (7, 2.582545119351916),\n",
       " (8, 1.6198486484519394),\n",
       " (9, 1.9331711232778828),\n",
       " (10, 1.6369286825006455),\n",
       " (11, 1.8121757583400608),\n",
       " (12, 1.5987676072962067),\n",
       " (13, 1.6570292420508714),\n",
       " (14, 1.6535614417323394),\n",
       " (15, -inf),\n",
       " (16, nan),\n",
       " (17, nan),\n",
       " (18, nan),\n",
       " (19, nan)]"
      ]
     },
     "execution_count": 98,
     "metadata": {},
     "output_type": "execute_result"
    }
   ],
   "source": [
    "[(i, np.log(len(pants_by_length[i]))-np.log(len(pants_by_length[i-1]))) for i in range(1,len(pants_by_length))]"
   ]
  },
  {
   "cell_type": "code",
   "execution_count": 99,
   "metadata": {},
   "outputs": [
    {
     "data": {
      "text/plain": [
       "5.206979827179849"
      ]
     },
     "execution_count": 99,
     "metadata": {},
     "output_type": "execute_result"
    }
   ],
   "source": [
    "np.exp(1.65)"
   ]
  },
  {
   "cell_type": "code",
   "execution_count": 100,
   "metadata": {},
   "outputs": [
    {
     "data": {
      "text/plain": [
       "[0,\n",
       " 0,\n",
       " 0,\n",
       " 0,\n",
       " 0,\n",
       " 1,\n",
       " 13,\n",
       " 172,\n",
       " 869,\n",
       " 6006,\n",
       " 30867,\n",
       " 189022,\n",
       " 935079,\n",
       " 4903283,\n",
       " 25622386,\n",
       " 0,\n",
       " 0,\n",
       " 0,\n",
       " 0,\n",
       " 0]"
      ]
     },
     "execution_count": 100,
     "metadata": {},
     "output_type": "execute_result"
    }
   ],
   "source": [
    "[len(x) for x in pants_by_length]"
   ]
  },
  {
   "cell_type": "code",
   "execution_count": 101,
   "metadata": {
    "scrolled": false
   },
   "outputs": [
    {
     "data": {
      "text/plain": [
       "[0,\n",
       " 1,\n",
       " 1,\n",
       " 5,\n",
       " 10,\n",
       " 25,\n",
       " 48,\n",
       " 127,\n",
       " 303,\n",
       " 736,\n",
       " 1768,\n",
       " 4497,\n",
       " 11114,\n",
       " 27944,\n",
       " 71067,\n",
       " 180094,\n",
       " 460635,\n",
       " 1181266,\n",
       " 3036122,\n",
       " 7831535]"
      ]
     },
     "execution_count": 101,
     "metadata": {},
     "output_type": "execute_result"
    }
   ],
   "source": [
    "[len(x) for x in seqs_by_length]"
   ]
  },
  {
   "cell_type": "markdown",
   "metadata": {},
   "source": [
    "The next cell is an attempt to speed things up with multiprocessing, but it only ends up slowing it down. I think it's because each batch has to come with the completions dictionary, which is so large that it's hard to move it around. "
   ]
  },
  {
   "cell_type": "code",
   "execution_count": 23,
   "metadata": {
    "collapsed": true
   },
   "outputs": [],
   "source": [
    "import multiprocessing as mp\n",
    "\n",
    "# a new version of the above for multiprocessing\n",
    "def pants_for_batch(division_batch_and_completions):\n",
    "    division_batch, completions = division_batch_and_completions\n",
    "    pants = []\n",
    "    for u, v in division_batch:\n",
    "        uu = tuple(u)\n",
    "        vv = tuple(reversed(v))\n",
    "        if uu not in completions or vv not in completions:\n",
    "            continue\n",
    "        for w in completions[uu] & completions[vv]:\n",
    "            pants.append((list(reversed(u)), v, list(w)))\n",
    "    return pants\n",
    "\n",
    "# divides a list l into batches (where the last one has size at most batch_size)\n",
    "def batches(l, batch_size):\n",
    "    result = []\n",
    "    for i in range(0, len(l), batch_size):\n",
    "        result.append(l[i: i+ batch_size])\n",
    "    return result\n",
    "\n",
    "def division_batches_and_completions(seqs, batch_size = None, num_batches = 100):\n",
    "    divisions, completions = Rdivisions_tables(seqs)\n",
    "    if not batch_size:\n",
    "        batch_size = 1 + len(divisions)//num_batches\n",
    "    division_batches = batches(divisions, batch_size)\n",
    "    return division_batches, completions\n",
    "    \n",
    "def pants_mp(seqs, pool_size):\n",
    "    num_batches = pool_size\n",
    "    division_batches, completions = division_batches_and_completions(seqs, num_batches=num_batches)\n",
    "    batches_with_completions = [(batch, completions) for batch in division_batches]\n",
    "    with mp.Pool(pool_size) as p:\n",
    "        prelim_results = p.map_async(pants_for_batch, batches_with_completions)\n",
    "        pants_arrays = prelim_results.get()\n",
    "    pants = [pant for pant_array in pants_arrays for pant in pant_array]\n",
    "    return pants"
   ]
  },
  {
   "cell_type": "code",
   "execution_count": 21,
   "metadata": {
    "collapsed": true
   },
   "outputs": [],
   "source": [
    "import datetime\n",
    "def start_timing():\n",
    "    global _jk_timer\n",
    "    _jk_timer = datetime.datetime.now()\n",
    "    \n",
    "def end_timing():\n",
    "    global _jk_timer\n",
    "    delta = datetime.datetime.now() - _jk_timer\n",
    "    seconds = delta.seconds\n",
    "    minutes = (seconds % 3600)// 60\n",
    "    hours = seconds // 3600\n",
    "    seconds = seconds % 60\n",
    "    print(\"{} days, {} hours, {} minutes, {} seconds, {} microseconds\".format(\n",
    "          delta.days, hours, minutes, seconds, delta.microseconds))"
   ]
  },
  {
   "cell_type": "code",
   "execution_count": 25,
   "metadata": {},
   "outputs": [
    {
     "name": "stdout",
     "output_type": "stream",
     "text": [
      "4903283\n",
      "0 days, 0 hours, 0 minutes, 47 seconds, 921454 microseconds\n"
     ]
    }
   ],
   "source": [
    "start_timing()\n",
    "print(len(pants(seqs_by_length[13])))\n",
    "end_timing()"
   ]
  },
  {
   "cell_type": "code",
   "execution_count": 26,
   "metadata": {
    "scrolled": true
   },
   "outputs": [
    {
     "name": "stdout",
     "output_type": "stream",
     "text": [
      "4903283\n",
      "0 days, 0 hours, 4 minutes, 54 seconds, 787668 microseconds\n"
     ]
    }
   ],
   "source": [
    "start_timing()\n",
    "print(len(pants_mp(seqs_by_length[13], 8)))\n",
    "end_timing()"
   ]
  }
 ],
 "metadata": {
  "kernelspec": {
   "display_name": "Python 3",
   "language": "python",
   "name": "python3"
  },
  "language_info": {
   "codemirror_mode": {
    "name": "ipython",
    "version": 3
   },
   "file_extension": ".py",
   "mimetype": "text/x-python",
   "name": "python",
   "nbconvert_exporter": "python",
   "pygments_lexer": "ipython3",
   "version": "3.7.1"
  }
 },
 "nbformat": 4,
 "nbformat_minor": 1
}
