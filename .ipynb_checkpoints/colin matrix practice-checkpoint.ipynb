{
 "cells": [
  {
   "cell_type": "code",
   "execution_count": 43,
   "metadata": {},
   "outputs": [],
   "source": [
    "import numpy as np"
   ]
  },
  {
   "cell_type": "code",
   "execution_count": 55,
   "metadata": {},
   "outputs": [],
   "source": [
    "from numpy import exp"
   ]
  },
  {
   "cell_type": "code",
   "execution_count": 8,
   "metadata": {},
   "outputs": [],
   "source": [
    "from numpy.linalg import inv, det, eig, norm"
   ]
  },
  {
   "cell_type": "code",
   "execution_count": 54,
   "metadata": {},
   "outputs": [],
   "source": [
    "import cmath"
   ]
  },
  {
   "cell_type": "code",
   "execution_count": 52,
   "metadata": {},
   "outputs": [],
   "source": [
    "import sympy as sp"
   ]
  },
  {
   "cell_type": "code",
   "execution_count": 53,
   "metadata": {},
   "outputs": [],
   "source": [
    "from sympy import *"
   ]
  },
  {
   "cell_type": "code",
   "execution_count": 60,
   "metadata": {},
   "outputs": [],
   "source": [
    "def PSL2_Action(M,z,zeta): #input a matrix in SL_2(R), a point in the upper half plane and a point in the unit tangent bundle, \n",
    "                           #and output the fractional linear action\n",
    "\n",
    "    a = M[0,0] #first entry of matrix\n",
    "    b = M[0,1] #second entry of matrix\n",
    "    c = M[1,0] #third entry of matrix\n",
    "    d = M[1,1] #fourth entry of matrix\n",
    "    \n",
    "    if M.det() != 1:\n",
    "        #print(\"Matrix input is not in SL2R.\")\n",
    "        return\n",
    "    \n",
    "    if im(z) <= 0:\n",
    "        print(\"Complex number input is not in the upper half plane.\")\n",
    "        return\n",
    "    \n",
    "    if abs(zeta) != im(z):\n",
    "        print(\"Tangent vector input is not in the unit tangent bundle.\")\n",
    "        return\n",
    "\n",
    "    point_image = (a*z+b)/(c*z+d) #image of z under action of M    \n",
    "    vector_image = zeta/(c*z+d)**2 #image of zeta under action of M   \n",
    "    return(point_image, vector_image)"
   ]
  },
  {
   "cell_type": "code",
   "execution_count": 66,
   "metadata": {},
   "outputs": [],
   "source": [
    "def Geo_Info_From_Matrix(M): #input a matrix with |tr(M)|>2, and output the following information:\n",
    "                             #length of corresponding flow, eigenvalues of M, eigenvector change of basis matrix g of M, \n",
    "                             #visual point of flow, point corresponding to g, and unit tangent vector corresponding to g\n",
    "\n",
    "    if M.trace() < 0: #this is done since we like PSL2R and orientation, and therefore have our geodesics flow in the \n",
    "                      #correct direction\n",
    "        M = -M\n",
    "        \n",
    "    a = M[0,0] #first entry of matrix\n",
    "    b = M[0,1] #second entry of matrix\n",
    "    c = M[1,0] #third entry of matrix\n",
    "    d = M[1,1] #fourth entry of matrix\n",
    "    \n",
    "    tr = M.trace() #trace of M\n",
    "    length_of_flow = 2*log(tr/2 + sqrt((tr/2)**sympify(2) - 1)) #length of geodesic flow that M gives\n",
    "    eigenvalue = E**length_of_flow/2 #one eigenvalue of M (note that this determines the other)\n",
    "    \n",
    "    if c > 0: #note that c is never zero by conditions on the absolute value of the trace being at least 2\n",
    "        eigen_matrix = (1/((c**2)*(tr**2 - 4))**(sympify(1)/4))*Matrix([[eigenvalue - d, 1/eigenvalue - d], [c, c]])\n",
    "    else:\n",
    "        eigen_matrix = (1/((c**2)*(tr**2 - 4))**(sympify(1)/4))*Matrix([[- eigenvalue + d, 1/eigenvalue - d], [-c, c]])\n",
    "    \n",
    "    visual_point = (eigenvalue - d)/c #visual point of the geodesic flow that M gives\n",
    "    point = PSL2_Action(eigen_matrix,I,I)[0]\n",
    "    unit_vector = PSL2_Action(eigen_matrix,I,I)[1]\n",
    "    return(tr, length_of_flow, eigenvalue, eigen_matrix, visual_point, point, unit_vector)"
   ]
  },
  {
   "cell_type": "code",
   "execution_count": null,
   "metadata": {},
   "outputs": [],
   "source": []
  }
 ],
 "metadata": {
  "kernelspec": {
   "display_name": "Python 3",
   "language": "python",
   "name": "python3"
  },
  "language_info": {
   "codemirror_mode": {
    "name": "ipython",
    "version": 3
   },
   "file_extension": ".py",
   "mimetype": "text/x-python",
   "name": "python",
   "nbconvert_exporter": "python",
   "pygments_lexer": "ipython3",
   "version": "3.7.6"
  }
 },
 "nbformat": 4,
 "nbformat_minor": 4
}
