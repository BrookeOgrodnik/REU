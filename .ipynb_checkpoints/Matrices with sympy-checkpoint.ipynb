{
 "cells": [
  {
   "cell_type": "code",
   "execution_count": 89,
   "metadata": {},
   "outputs": [],
   "source": [
    "import numpy as np"
   ]
  },
  {
   "cell_type": "code",
   "execution_count": 90,
   "metadata": {},
   "outputs": [],
   "source": [
    "from numpy import exp, matmul"
   ]
  },
  {
   "cell_type": "code",
   "execution_count": 91,
   "metadata": {},
   "outputs": [],
   "source": [
    "from numpy.linalg import inv, det, eig, norm"
   ]
  },
  {
   "cell_type": "code",
   "execution_count": 92,
   "metadata": {},
   "outputs": [],
   "source": [
    "π = np.pi"
   ]
  },
  {
   "cell_type": "code",
   "execution_count": 93,
   "metadata": {},
   "outputs": [],
   "source": [
    "e = exp(1)"
   ]
  },
  {
   "cell_type": "code",
   "execution_count": 94,
   "metadata": {},
   "outputs": [],
   "source": [
    "def diag(t):\n",
    "    return np.array([[e**(t/2),0],[0,e**(-t/2)]])"
   ]
  },
  {
   "cell_type": "code",
   "execution_count": 95,
   "metadata": {},
   "outputs": [],
   "source": [
    "def act(M,pair):\n",
    "    (x,y), (q,v) = pair\n",
    "    (a,b),(c,d) = M\n",
    "    h = det(M)\n",
    "    denom  = np.array([c*x+d,c*y])\n",
    "    mat = np.array([[(d**2+c**2*(x**2-y**2)+2*d*c*x),(2*c**2*x*y+2*d*c*y)],[-(2*c**2*x*y+2*d*c*y),(d**2+c**2*(x**2-y**2)+2*d*c*x)]])\n",
    "    newXi = matmul(mat,pair[1])\n",
    "    return (np.array([a*c*norm(z)+b*d+(a*d+b*c)*x, h*y])/norm(denom), newXi*h/norm(denom)**2)"
   ]
  },
  {
   "cell_type": "code",
   "execution_count": 96,
   "metadata": {},
   "outputs": [],
   "source": [
    "def flow(t, pair):\n",
    "    return act(diag(t), pair)"
   ]
  },
  {
   "cell_type": "code",
   "execution_count": 97,
   "metadata": {},
   "outputs": [],
   "source": [
    "def identity(M):\n",
    "    i = np.array([0,1])\n",
    "    up  = np.array([0,1])\n",
    "    return act(M,(i,up))"
   ]
  },
  {
   "cell_type": "code",
   "execution_count": 98,
   "metadata": {},
   "outputs": [],
   "source": [
    "def isSpecial(M):\n",
    "    return det(M) == 1"
   ]
  },
  {
   "cell_type": "code",
   "execution_count": 99,
   "metadata": {},
   "outputs": [],
   "source": [
    "def isUnit(pair):\n",
    "    return norm(pair[1])==pair[0][1]"
   ]
  },
  {
   "cell_type": "code",
   "execution_count": null,
   "metadata": {},
   "outputs": [],
   "source": []
  },
  {
   "cell_type": "code",
   "execution_count": 3,
   "metadata": {},
   "outputs": [],
   "source": [
    "import sympy as sp"
   ]
  },
  {
   "cell_type": "code",
   "execution_count": 4,
   "metadata": {},
   "outputs": [],
   "source": [
    "from sympy import *"
   ]
  },
  {
   "cell_type": "code",
   "execution_count": 7,
   "metadata": {},
   "outputs": [],
   "source": [
    "def geodesicInfoFromMatrix(M): #input is a hyperbolic matrix M which lies in SL_2(Z)\n",
    "    if M.trace() < 0:\n",
    "        M = -M\n",
    "    tr = M.trace()\n",
    "    length = 2*log(tr/2+sqrt((tr/2)**sympify(2)-1))\n",
    "    eig = E**(length/2)\n",
    "    a = M[0,0]\n",
    "    b = M[0,1]\n",
    "    c = M[1,0]\n",
    "    d = M[1,1]\n",
    "    if c > 0:\n",
    "        eigMat = (1/((c**2)*(tr**2-4))**(sympify(1)/4))*Matrix([[eig-d,1/eig-d],[c,c]])\n",
    "    else: \n",
    "        eigMat = (1/((c**2)*(tr**2-4))**(sympify(1)/4))*Matrix([[-eig+d,1/eig-d],[-c,c]])\n",
    "    visPt = (eig-d)/c\n",
    "    newA = eigMat[0,0]\n",
    "    newB = eigMat[0,1]\n",
    "    newC = eigMat[1,0]\n",
    "    newD = eigMat[1,1]\n",
    "    z = simplify((newA*I+newB)/(newC*I+newD))\n",
    "    zeta = simplify(I/(newC*I+newD)**2)\n",
    "    return (length,eig,eigMat,visPt,z,zeta)"
   ]
  },
  {
   "cell_type": "code",
   "execution_count": 11,
   "metadata": {},
   "outputs": [],
   "source": [
    "def inFundDom(z):\n",
    "    return (re(N(abs(z))) >= 1) and (re(N(abs(re(z))))<=1/2)"
   ]
  },
  {
   "cell_type": "code",
   "execution_count": 9,
   "metadata": {},
   "outputs": [],
   "source": [
    "def fundDomRepNew(z,zeta):\n",
    "    mat = Matrix([[1,0],[0,1]])\n",
    "    while not inFundDom(z):\n",
    "        trans = floor(re(z)+1/2) #translation factor\n",
    "        z = z - trans #desired z\n",
    "        mat = Matrix([[1,-trans],[0,1]])*mat\n",
    "        if (re(N(abs(z))) < 1):\n",
    "            zeta = simplify(zeta/z**2)\n",
    "            z = simplify(-1/z)\n",
    "            mat = Matrix([[0,1],[-1,0]])*mat\n",
    "    return (z,zeta,mat)"
   ]
  },
  {
   "cell_type": "code",
   "execution_count": 95,
   "metadata": {},
   "outputs": [],
   "source": [
    "def fundDomGeo(mat,res): #input hyperbolic geodesic matrix\n",
    "    geoInfo = geodesicInfoFromMatrix(mat)\n",
    "    length = N(geoInfo[0])\n",
    "    eigMat = spToNpMat(geoInfo[2])\n",
    "    z = geoInfo[4]\n",
    "    zeta = geoInfo[5]\n",
    "    pointlist = []\n",
    "    newRep = fundDomRepNew(z,zeta)\n",
    "    z = newRep[0]\n",
    "    zeta = newRep[1]\n",
    "    eigMat = np.matmul(spToNpMat(newRep[2]),eigMat)\n",
    "    pointlist.append((re(N(z)),im(N(z))))\n",
    "    \n",
    "    for t in range(res):\n",
    "        e = np.exp(1)\n",
    "        eigMat = np.matmul(eigMat,np.matrix([[e**(length/(2*res)),0],[0,e**(-length/(2*res))]]))\n",
    "        newA = eigMat.item(0,0)\n",
    "        newB = eigMat.item(0,1)\n",
    "        newC = eigMat.item(1,0)\n",
    "        newD = eigMat.item(1,1)\n",
    "        z = (newA*I+newB)/(newC*I+newD)\n",
    "        zeta = I/(newC*I+newD)**2\n",
    "        timer = time.process_time()\n",
    "        if not inFundDom(z):\n",
    "            newRep = fundDomRepNew(z,zeta)\n",
    "            z = newRep[0]\n",
    "            zeta = newRep[1]\n",
    "            eigMat = np.matmul(spToNpMat(newRep[2]),eigMat)\n",
    "        print(time.process_time() - timer)\n",
    "        pointlist.append((re(N(z)),im(N(z))))\n",
    "    plt.scatter(*zip(*pointlist),s=1)\n",
    "    plt.show()"
   ]
  },
  {
   "cell_type": "code",
   "execution_count": 37,
   "metadata": {},
   "outputs": [
    {
     "data": {
      "text/plain": [
       "(-1/5 + 8*I/5,\n",
       " -32/25 - 24*I/25,\n",
       " Matrix([\n",
       " [ 1, 0],\n",
       " [-1, 1]]))"
      ]
     },
     "execution_count": 37,
     "metadata": {},
     "output_type": "execute_result"
    }
   ],
   "source": [
    "fundDomRepNew(3/sympify(4)+I/2,I/2)"
   ]
  },
  {
   "cell_type": "code",
   "execution_count": 4,
   "metadata": {},
   "outputs": [],
   "source": [
    "from sympy import *"
   ]
  },
  {
   "cell_type": "code",
   "execution_count": 149,
   "metadata": {},
   "outputs": [
    {
     "data": {
      "text/latex": [
       "$\\displaystyle - \\frac{1}{5} + \\frac{8 i}{5}$"
      ],
      "text/plain": [
       "-1/5 + 8*I/5"
      ]
     },
     "execution_count": 149,
     "metadata": {},
     "output_type": "execute_result"
    }
   ],
   "source": [
    "simplify((3/sympify(4)+I/2)/(-1*(3/sympify(4)+I/2)+1))"
   ]
  },
  {
   "cell_type": "code",
   "execution_count": 98,
   "metadata": {},
   "outputs": [
    {
     "name": "stdout",
     "output_type": "stream",
     "text": [
      "0.02029200000004039\n",
      "0.02340100000003531\n",
      "0.04541900000003807\n",
      "0.018641999999999825\n",
      "0.01788699999997334\n",
      "0.019692999999961103\n",
      "0.12228700000002846\n",
      "0.023973999999952866\n",
      "0.027328000000011343\n",
      "0.02212700000006862\n",
      "0.021995999999944615\n",
      "0.020931000000018685\n",
      "0.023066999999969084\n",
      "0.024894000000017513\n",
      "0.026800999999977648\n",
      "0.022739000000001397\n",
      "0.02484099999992395\n",
      "0.021596000000045024\n",
      "0.022062000000005355\n",
      "0.021470000000022083\n",
      "0.021945999999957166\n",
      "0.021382000000016887\n",
      "0.023919999999975516\n",
      "0.025952000000074804\n",
      "0.07714500000008684\n",
      "0.03552899999999681\n",
      "0.029017000000067128\n",
      "0.031126999999969485\n",
      "0.03141199999993205\n",
      "0.024495999999999185\n",
      "0.02486700000008568\n",
      "0.02448099999992337\n",
      "0.021142000000054395\n",
      "0.02095900000006168\n",
      "0.019992999999999483\n",
      "0.026300000000105683\n",
      "0.021819000000050437\n",
      "0.05256199999996625\n",
      "0.02190399999994952\n",
      "0.023037999999928616\n",
      "0.022053000000028078\n",
      "0.023004000000014457\n",
      "0.027441999999950895\n",
      "0.025415999999950145\n",
      "0.028682000000003427\n",
      "0.028820999999993546\n",
      "0.0271900000000187\n",
      "0.028392000000053486\n",
      "0.031323000000043066\n",
      "0.024152999999955682\n",
      "0.03188000000000102\n",
      "0.025193999999942207\n",
      "0.022425999999995838\n",
      "0.02675299999998515\n",
      "0.027143000000023676\n",
      "0.024364999999988868\n",
      "0.11362799999994877\n",
      "0.02277599999990798\n",
      "0.020117000000027474\n",
      "0.043917999999962376\n",
      "0.018926000000078602\n",
      "0.01836300000002211\n",
      "0.019442000000026383\n",
      "0.018792999999959648\n",
      "0.022457000000031258\n",
      "0.12277100000005703\n",
      "0.026854999999954998\n",
      "0.029014000000074702\n",
      "0.028946000000019012\n",
      "0.023845999999934975\n",
      "0.02361400000006597\n",
      "0.023522999999954664\n",
      "0.024131000000011227\n",
      "0.030196000000046297\n",
      "0.0280680000000757\n",
      "0.03212199999995846\n",
      "0.026871999999912077\n",
      "0.025795000000016444\n",
      "0.022418000000016036\n",
      "0.024397000000021762\n",
      "0.0307549999999992\n",
      "0.04970100000002731\n",
      "0.025208000000020547\n",
      "0.02472099999999955\n",
      "0.023322000000007392\n",
      "0.02075800000000072\n",
      "0.022163999999975204\n",
      "0.03286300000002029\n",
      "0.02338899999995192\n",
      "0.028129999999919164\n",
      "0.02629599999988841\n",
      "0.025667999999996027\n",
      "0.021736999999916407\n",
      "0.027378999999996267\n",
      "0.022555000000011205\n",
      "0.026486999999974614\n",
      "0.11740800000006857\n",
      "0.020803000000000793\n",
      "0.021311999999966247\n",
      "0.02415700000005927\n"
     ]
    },
    {
     "data": {
      "image/png": "[encoded data removed]",
      "text/plain": [
       "<Figure size 432x288 with 1 Axes>"
      ]
     },
     "metadata": {
      "needs_background": "light"
     },
     "output_type": "display_data"
    }
   ],
   "source": [
    "fundDomGeo(Matrix([[12,5],[-5,-2]]),100)"
   ]
  },
  {
   "cell_type": "code",
   "execution_count": 57,
   "metadata": {},
   "outputs": [],
   "source": [
    "import numpy as np"
   ]
  },
  {
   "cell_type": "code",
   "execution_count": 97,
   "metadata": {},
   "outputs": [],
   "source": [
    "def spToNpMat(mat):\n",
    "    return np.array(mat).astype(np.float64)"
   ]
  },
  {
   "cell_type": "code",
   "execution_count": null,
   "metadata": {},
   "outputs": [],
   "source": []
  }
 ],
 "metadata": {
  "kernelspec": {
   "display_name": "Python 3",
   "language": "python",
   "name": "python3"
  },
  "language_info": {
   "codemirror_mode": {
    "name": "ipython",
    "version": 3
   },
   "file_extension": ".py",
   "mimetype": "text/x-python",
   "name": "python",
   "nbconvert_exporter": "python",
   "pygments_lexer": "ipython3",
   "version": "3.7.6"
  }
 },
 "nbformat": 4,
 "nbformat_minor": 2
}
