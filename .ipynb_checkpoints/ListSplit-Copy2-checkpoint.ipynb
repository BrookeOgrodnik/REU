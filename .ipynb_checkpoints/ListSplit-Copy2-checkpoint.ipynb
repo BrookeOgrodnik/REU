{
 "cells": [
  {
   "cell_type": "code",
   "execution_count": 23,
   "metadata": {},
   "outputs": [],
   "source": [
    "import numpy as np\n",
    "import sympy as sp\n",
    "from sympy import ntheory\n",
    "from sympy.ntheory import continued_fraction_periodic\n",
    "from sympy import *\n",
    "from sympy import sympify\n",
    "import math"
   ]
  },
  {
   "cell_type": "code",
   "execution_count": 2,
   "metadata": {},
   "outputs": [],
   "source": [
    "def classRepresentatives(trace): # gives quadratic forms of given trace\n",
    "    bound = math.floor(trace**2-4)\n",
    "    quadraticForms = []\n",
    "    i = 1\n",
    "    while i**2 < bound:\n",
    "        if not bound % (i**2) == 0:\n",
    "            i = i + 1\n",
    "            continue\n",
    "        D = bound//(i**2)\n",
    "        if isASquare(D):\n",
    "            i = i + 1\n",
    "            continue\n",
    "        elif D%4 == 0:\n",
    "            quadraticForms+=representatives(D)\n",
    "        elif D%4 == 1:\n",
    "            quadraticForms+=representatives(D)\n",
    "        i = i + 1\n",
    "    return [Q for Q in quadraticForms if tr(Q)==np.round(trace)]\n",
    "\n",
    "def representatives(D):\n",
    "    reps = []\n",
    "    seenFracs = []\n",
    "    for i in range(1,math.floor(np.sqrt(D))+1):\n",
    "        B = -i\n",
    "        if not (B**2-D)%4==0:\n",
    "            continue\n",
    "        for j in range(math.ceil((np.sqrt(D)+B)/2),math.floor((np.sqrt(D)-B)/2)+1):\n",
    "            A = j\n",
    "            if not ((B**2-D)//4)%A==0:\n",
    "                continue\n",
    "            C = ((B**2-D)//4)//A\n",
    "            Q = [A,B,C]\n",
    "            frac = ntheory.continued_fraction_periodic(-Q[1], 2*Q[0], disc(Q))[0]\n",
    "            if frac not in seenFracs and gcd(A,B,C)==1:\n",
    "                seenFracs+=permutationsOf(frac)\n",
    "                reps.append(Q)\n",
    "            else:\n",
    "                continue\n",
    "    return reps\n",
    "\n",
    "def classCFReps(trace): # gives continued fractions of a given trace\n",
    "    bound = math.floor(trace**2-4)\n",
    "    cfList = []\n",
    "    i = 1\n",
    "    while i**2 < bound:\n",
    "        if not bound % (i**2) == 0:\n",
    "            i = i + 1\n",
    "            continue\n",
    "        D = bound//(i**2)\n",
    "        if isASquare(D):\n",
    "            i = i + 1\n",
    "            continue\n",
    "        elif D%4 == 0:\n",
    "            cfList+=cfReps(D)\n",
    "        elif D%4 == 1:\n",
    "            cfList+=cfReps(D)\n",
    "        i = i + 1\n",
    "    return [cf for cf in cfList if cfTrace(cf)==np.round(trace)]\n",
    "\n",
    "def cfReps(D):\n",
    "    fracReps = []\n",
    "    seenFracs = []\n",
    "    for i in range(1,math.floor(np.sqrt(D))+1):\n",
    "        B = -i\n",
    "        if not (B**2-D)%4==0:\n",
    "            continue\n",
    "        for j in range(math.ceil((np.sqrt(D)+B)/2),math.floor((np.sqrt(D)-B)/2)+1):\n",
    "            A = j\n",
    "            if not ((B**2-D)//4)%A==0:\n",
    "                continue\n",
    "            C = ((B**2-D)//4)//A\n",
    "            Q = [A,B,C]\n",
    "            frac = ntheory.continued_fraction_periodic(-Q[1], 2*Q[0], disc(Q))[0]\n",
    "            if frac not in seenFracs and gcd(A,B,C)==1:\n",
    "                seenFracs+=permutationsOf(frac)\n",
    "                fracReps.append(frac)\n",
    "            else:\n",
    "                continue\n",
    "    return fracReps\n",
    "\n",
    "def classCFReps2(trace): # gives continued fractions of a given trace\n",
    "    bound = math.floor(trace**2-4)\n",
    "    cfList = []\n",
    "    i = 1\n",
    "    while i**2 < bound:\n",
    "        if not bound % (i**2) == 0:\n",
    "            i = i + 1\n",
    "            continue\n",
    "        D = bound//(i**2)\n",
    "        if isASquare(D):\n",
    "            i = i + 1\n",
    "            continue\n",
    "        elif D%4 == 0:\n",
    "            cfList+=cfReps2(D)\n",
    "        elif D%4 == 1:\n",
    "            cfList+=cfReps2(D)\n",
    "        i = i + 1\n",
    "    return [cf for cf in cfList if cfTrace(cf)==np.round(trace)]\n",
    "\n",
    "def cfReps2(D):\n",
    "    fracReps = []\n",
    "    for i in range(1,math.floor(np.sqrt(D))+1):\n",
    "        B = -i\n",
    "        if not (B**2-D)%4==0:\n",
    "            continue\n",
    "        for j in range(math.ceil((np.sqrt(D)+B)/2),math.floor((np.sqrt(D)-B)/2)+1):\n",
    "            A = j\n",
    "            if not ((B**2-D)//4)%A==0:\n",
    "                continue\n",
    "            C = ((B**2-D)//4)//A\n",
    "            Q = [A,B,C]\n",
    "            frac = ntheory.continued_fraction_periodic(-Q[1], 2*Q[0], disc(Q))[0]\n",
    "            minRep = min(permutationsOf(frac))\n",
    "            if minRep not in fracReps and gcd(A,B,C)==1:\n",
    "                fracReps.append(minRep)\n",
    "            else:\n",
    "                continue\n",
    "    return fracReps\n",
    "\n",
    "def permutationsOf(a):\n",
    "    perms = []\n",
    "    if len(a)%2==0:\n",
    "        for n in range(0,len(a),2):\n",
    "            perms.append(a[n:]+a[:n])\n",
    "    else:\n",
    "        for n in range(0,len(a)):\n",
    "            perms.append(a[n:]+a[:n])\n",
    "    return perms\n",
    "\n",
    "def disc(Q):\n",
    "    return Q[1]**2-4*Q[0]*Q[2]\n",
    "\n",
    "def areEquivalent(Q,W):\n",
    "    return ntheory.continued_fraction_periodic(-Q[1], 2*Q[0], disc(Q))[0] in permutationsOf(ntheory.continued_fraction_periodic(-W[1], 2*W[0], disc(W))[0])\n",
    "\n",
    "def equalsQuad(L,M):\n",
    "    if len(L)!=len(M):\n",
    "        return False\n",
    "    for l in L:\n",
    "        counter = 0\n",
    "        for m in M:\n",
    "            if areEquivalent(m,l):\n",
    "                M.remove(m)\n",
    "                counter+=1\n",
    "        if counter !=1:\n",
    "            return False\n",
    "    return True\n",
    "\n",
    "def classNum(D):\n",
    "    return len(representatives(D))\n",
    "\n",
    "def tr(Q):\n",
    "    return np.trace(quadToMat(Q))\n",
    "\n",
    "def cfTrace(cf):\n",
    "    return np.trace(cfToMat(cf))\n",
    "\n",
    "def isASquare(n):\n",
    "    for i in range(2,n):\n",
    "        if n==i**2:\n",
    "            return True\n",
    "    return False\n",
    "\n",
    "def gcd(a,b,c):\n",
    "    return np.gcd(a,np.gcd(b,c))\n",
    "\n",
    "def matgcd(mat):\n",
    "    return gcd(mat[1,0],mat[1,1]-mat[0,0],mat[0,1])\n",
    "\n",
    "def quadToMat(Q):\n",
    "    mat = np.identity(2)\n",
    "    length = 0\n",
    "    for x in ntheory.continued_fraction_periodic(-Q[1], 2*Q[0],disc(Q))[0]:\n",
    "        mat = np.matmul(mat,[[x,1],[1,0]])\n",
    "        length += 1\n",
    "    if length % 2 == 1:\n",
    "        mat = np.matmul(mat,mat)\n",
    "    return np.array(mat).astype(int)"
   ]
  },
  {
   "cell_type": "code",
   "execution_count": 38,
   "metadata": {},
   "outputs": [],
   "source": [
    "def contFracToLR(contFrac):\n",
    "    if len(contFrac)%2==1:\n",
    "        contFrac = contFrac + contFrac\n",
    "    output = []\n",
    "    for i in range(len(contFrac)):\n",
    "        if i%2==1: #if original cont'd frac is even length, making last one R/alternating is same as this (hopefully)\n",
    "            for j in range(contFrac[i]):\n",
    "                output.append(1)\n",
    "        else:\n",
    "            for j in range(contFrac[i]):\n",
    "                output.append(0)\n",
    "    return output\n",
    "\n",
    "def recover2(ls): #sends a whole list to a cont'd fraction (not clear whether this is needed)\n",
    "    output = []\n",
    "    i=0\n",
    "    while i<len(ls):\n",
    "        counter=1\n",
    "        while(i<len(ls)-1 and ls[i] == ls[i+1]):\n",
    "            i+=1\n",
    "            counter+=1\n",
    "        i+=1\n",
    "        output.append(counter)\n",
    "    if (len(output)%2!=0):\n",
    "        output[len(output)-1]+=output[0]\n",
    "        output = output[1:]\n",
    "    return output\n",
    "\n",
    "def indices(lrSeq): #positions of R's (R=1)\n",
    "    return [i for i in range(len(lrSeq)) if lrSeq[i]==1]\n",
    "\n",
    "def pairs(lrSeq): #pairs of R's on which to split\n",
    "    output = []\n",
    "    for i in indices(lrSeq):\n",
    "        for j in indices(lrSeq):\n",
    "            if i==j:\n",
    "                continue\n",
    "            else:\n",
    "                output.append((i,j))\n",
    "    return output\n",
    "\n",
    "def split(contFrac): #splits a cont'd fraction on every possible pair of R's into 2 groups of R's and L's (in 0's and 1's)\n",
    "    output = []\n",
    "    converted = contFracToLR(contFrac)\n",
    "    n = len(converted)\n",
    "    splitPoints = pairs(converted)\n",
    "    for i,j in splitPoints:\n",
    "        temp = converted[i:]+converted[:i]\n",
    "        temp1 = temp[1:(j-i)%n]\n",
    "        temp2 = inv(temp[(j-i)%n+1:]) #inv(temp[(j-i)%n+1:])\n",
    "        output.append((tuple(temp1),tuple(temp2)))\n",
    "    return output\n",
    "\n",
    "def printCon(lrSeq): #R = 1, L = 0\n",
    "    a = ''\n",
    "    for i in lrSeq:\n",
    "        if i==1:\n",
    "            a+= 'R'\n",
    "        else:\n",
    "            a+= 'L'\n",
    "    return a\n",
    "\n",
    "def printConLs(ls):\n",
    "    printList = []\n",
    "    for L in ls:\n",
    "        printList.append(printCon(L))\n",
    "    return printList\n",
    "\n",
    "#def getDict(contFrac):\n",
    "#    output = []\n",
    "#    fracs = []\n",
    "#    for t in range(1+2*e):\n",
    "#        tr = trace-e+t\n",
    "#        fracs += [ntheory.continued_fraction_periodic(-Q[1], 2*Q[0], disc(Q))[0] for Q in classRepresentatives(tr)]\n",
    "#    for f in fracs:\n",
    "#        output += split(f)\n",
    "#    return output\n",
    "\n",
    "#def cfListToDict(cfList):\n",
    "#    outputDict = {}\n",
    "#    for cf in cfList:\n",
    "#        for obj in split(cf):\n",
    "#            if obj[0] in outputDict:\n",
    "#                outputDict[obj[0]].add(obj[1])\n",
    "#            else:\n",
    "#                outputDict[obj[0]] = {obj[1]}\n",
    "#    return outputDict\n",
    "\n",
    "def cfListToDicts(cfList):\n",
    "    forwardDict = {}\n",
    "    invDict = {}\n",
    "    for cf in cfList:\n",
    "        for obj in split(cf):\n",
    "            if obj[0] in forwardDict:\n",
    "                forwardDict[obj[0]].add(obj[1])\n",
    "            else:\n",
    "                forwardDict[obj[0]] = {obj[1]}\n",
    "            if obj[1] in invDict:\n",
    "                invDict[obj[1]].add(obj[0])\n",
    "            else:\n",
    "                invDict[obj[1]] = {obj[0]}\n",
    "    return forwardDict,invDict\n",
    "\n",
    "def inv(lrSeq): #inverts a list of 0's and 1's (R's and L's)\n",
    "    return tuple((np.array(lrSeq[::-1])-1)**2)\n",
    "\n",
    "def pairToFrac(s1,s2):\n",
    "    out = list(s1)+[1]+list(inv(s2))+[1]\n",
    "    return tuple(min(permutationsOf(recover2(out))))\n",
    "\n",
    "#def getPants(cfList): #this clearly doesn't work\n",
    "#    allPairs = cfListToDict(cfList)\n",
    "#    output,fracs = [],[]\n",
    "#    for s0,s1 in allPairs:\n",
    "#        temp1,temp2 = set([tuple(a[1]) for a in allPairs if a[0]==s0]), set([tuple(a[1]) for a in allPairs if a[0]==s1])\n",
    "#        s  = temp1.intersection(temp2)\n",
    "#        for s2 in s:\n",
    "#            s2 = list(s2)\n",
    "#            output.append([s0,s1,s2])\n",
    "#            fracs = [pairToFrac(s0,inv(s1)),pairToFrac(s1,inv(s2)),pairToFrac(s2,inv(s0))]\n",
    "#    return fracs\n",
    "\n",
    "def getPants(cfList):\n",
    "    dictPair = cfListToDicts(cfList)\n",
    "    forwardDict = dictPair[0]\n",
    "    invDict = dictPair[1]\n",
    "    pants = set()\n",
    "    for s0 in forwardDict:\n",
    "        for s1 in forwardDict[s0]:\n",
    "            if s1 in forwardDict and s0 in invDict:\n",
    "                for s2 in forwardDict[s1].intersection(invDict[s0]):\n",
    "                    y0,y1,y2 = pairToFrac(s0,s1),pairToFrac(s1,s2),pairToFrac(s2,s0)\n",
    "                    if y0==y1 or y1==y2 or y0==y2:\n",
    "                        continue\n",
    "                    pants.add(frozenset((y0,y1,y2)))\n",
    "    return pants\n",
    "\n",
    "def pantsInTraceRange(traceMin,traceMax):\n",
    "    cfList = []\n",
    "    for trace in range(traceMin,traceMax+1):\n",
    "        cfList += classCFReps(trace)\n",
    "    return getPants(cfList)\n",
    "\n",
    "def pantsInTraceRangeAndWithGivenCuff(traceMin,traceMax,cuttingSequence):\n",
    "    allPants = pantsInTraceRange(traceMin,traceMax)\n",
    "    pantsWithCuff = []\n",
    "    for pants in allPants:\n",
    "        if min(permutationsOf(cuttingSequence)) in pants:\n",
    "            pantsWithCuff.append(pants)\n",
    "    return pantsWithCuff\n",
    "\n",
    "def boundaryCountForOrientedCuffs(traceMin,traceMax,cuttingSequencePositive): #i sort of screwed up orientation here\n",
    "                                                                                #since surface is on the left and therefore\n",
    "                                                                                #we prefer counterclockwise...\n",
    "    cuttingSequenceNegative = cuttingSequencePositive[::-1]\n",
    "    positiveOrientationPants = pantsInTraceRangeAndWithGivenCuff(traceMin,traceMax,cuttingSequencePositive)\n",
    "    negativeOrientationPants = pantsInTraceRangeAndWithGivenCuff(traceMin,traceMax,cuttingSequenceNegative)\n",
    "    return (len(positiveOrientationPants) - len(negativeOrientationPants))\n",
    "            \n",
    "\n",
    "def cfToMat(cf):\n",
    "    mat = np.identity(2)\n",
    "    length = 0\n",
    "    for x in cf:\n",
    "        mat = np.matmul(mat,[[x,1],[1,0]])\n",
    "        length += 1\n",
    "    if length % 2 == 1:\n",
    "        mat = np.matmul(mat,mat)\n",
    "    return np.array(mat).astype(int)\n",
    "\n",
    "\n",
    "def pantsToGeodesics(pList):\n",
    "    positives = list()\n",
    "    for p in pList:\n",
    "        for geo in p:\n",
    "            minGeo = min(permutationsOf(geo))\n",
    "            invGeo = min(permutationsOf(minGeo[::-1]))\n",
    "            if minGeo in positives or invGeo in positives:\n",
    "                continue\n",
    "            else:\n",
    "                positives.append(minGeo)\n",
    "    return positives\n",
    "                \n",
    "def geosToEyes(geos):\n",
    "    eyes = list()\n",
    "    for geo in geos:\n",
    "        for i in range(0,len(geo),2):\n",
    "            a = geo[i:]+geo[:i]\n",
    "            a = a[1:]\n",
    "            a[0]-=1\n",
    "            a[len(a)-1]-=1\n",
    "            eyes.append((geo,a))\n",
    "    return eyes\n",
    "\n",
    "def geosToEyes2(geos):\n",
    "    eyes = list()\n",
    "    for geo in geos:\n",
    "        for i in range(0,len(geo),2):\n",
    "            a = geo[i:]+geo[:i]\n",
    "            a = a[1:]\n",
    "            a[0]-=1\n",
    "            a[len(a)-1]-=1\n",
    "            eyes.append((tuple(geo),tuple(a)))\n",
    "    return eyes\n",
    "\n",
    "def cusps(eList): #this is a list of cusps\n",
    "    output = list()\n",
    "    for e in eList:\n",
    "        eye = e[1]\n",
    "        invEye = eye[::-1]\n",
    "        if eye in output or invEye in output:\n",
    "            continue\n",
    "        else:\n",
    "            output.append(eye)\n",
    "    return output\n",
    "\n",
    "def setOfPantsToListOfPants(setOfPants):\n",
    "    return list(setOfPants)\n",
    "\n",
    "def pantsAndEyesToMatrix2(listOfPants, listOfEyes, positiveGeos, positiveCusps):\n",
    "    #recall: a single pants is a frozen set, and a single eye is a tuple\n",
    "    listOfColumnVectors = listOfPants + listOfEyes\n",
    "    listOfBasisVectors = positiveGeos + positiveCusps\n",
    "    numberOfGeos = len(positiveGeos)\n",
    "    numberOfColumns = len(listOfColumnVectors)\n",
    "    numberOfRows = len(listOfBasisVectors)\n",
    "    matrix = np.zeros((numberOfRows, numberOfColumns))\n",
    "    for vector in listOfColumnVectors:\n",
    "        if vector in listOfPants:\n",
    "            for geo in vector:\n",
    "                if geo in positiveGeos:\n",
    "                    matrix[positiveGeos.index(geo)][listOfColumnVectors.index(vector)] = 1\n",
    "                else:\n",
    "                    matrix[positiveGeos.index(geo)][listOfColumnVectors.index(vector)] = -1\n",
    "        else: #then vector is in listOfEyes\n",
    "            if vector[0] in positiveGeos: #check the geodesic part\n",
    "                matrix[positiveGeos.index(vector[0])][listOfColumnVectors.index(vector)] = 1\n",
    "            else:\n",
    "                #need to invert vector[0] here to get the proper coordinate\n",
    "                matrix[positiveGeos.index(min(permutationsOf(vector[0][::-1])))][listOfColumnVectors.index(vector)] = -1\n",
    "            if vector[1] in positiveCusps: #check the cusp part\n",
    "                matrix[numberOfGeos + positiveCusps.index(vector[1])][listOfColumnVectors.index(vector)] = 1\n",
    "            else:\n",
    "                #need to invert vector[1] here to get the proper coordinate\n",
    "                matrix[numberOfGeos + positiveCusps.index((vector[1][::-1]))][listOfColumnVectors.index(vector)] = -1\n",
    "    return matrix\n",
    "\n",
    "def pantsAndEyesToMatrixViaSympy(listOfPants, listOfEyes, positiveGeos, positiveCusps):\n",
    "    m = pantsAndEyesToMatrix2(listOfPants, listOfEyes, positiveGeos, positiveCusps)\n",
    "    matrix = sp.Matrix(m)\n",
    "    return matrix\n",
    "\n",
    "def nullSpaceOfPantsAndEyesViaSympy(listOfPants, listOfEyes, positiveGeos, positiveCusps):\n",
    "    matrix = pantsAndEyesToMatrixViaSympy(listOfPants, listOfEyes, positiveGeos, positiveCusps)\n",
    "    return matrix.nullspace()\n",
    "    \n",
    "    \n",
    "    \n",
    "    \n",
    "\n"
   ]
  },
  {
   "cell_type": "code",
   "execution_count": 6,
   "metadata": {},
   "outputs": [],
   "source": [
    "listOfPants = pantsInTraceRange(50,50)"
   ]
  },
  {
   "cell_type": "code",
   "execution_count": 7,
   "metadata": {},
   "outputs": [],
   "source": [
    "listOfEyes = geosToEyes2([[2, 2, 6, 1],\n",
    " [1, 1, 2, 9],\n",
    " [1, 1, 1, 1, 1, 5],\n",
    " [1, 9, 2, 1],\n",
    " [2, 1, 6, 2],\n",
    " [3, 16],\n",
    " [1, 1, 2, 1, 1, 3],\n",
    " [12, 4]])"
   ]
  },
  {
   "cell_type": "code",
   "execution_count": 8,
   "metadata": {},
   "outputs": [
    {
     "name": "stdout",
     "output_type": "stream",
     "text": [
      "[((2, 2, 6, 1), (1, 6, 0)), ((2, 2, 6, 1), (0, 2, 1)), ((1, 1, 2, 9), (0, 2, 8)), ((1, 1, 2, 9), (8, 1, 0)), ((1, 1, 1, 1, 1, 5), (0, 1, 1, 1, 4)), ((1, 1, 1, 1, 1, 5), (0, 1, 5, 1, 0)), ((1, 1, 1, 1, 1, 5), (4, 1, 1, 1, 0)), ((1, 9, 2, 1), (8, 2, 0)), ((1, 9, 2, 1), (0, 1, 8)), ((2, 1, 6, 2), (0, 6, 1)), ((2, 1, 6, 2), (1, 2, 0)), ((3, 16), (14,)), ((1, 1, 2, 1, 1, 3), (0, 2, 1, 1, 2)), ((1, 1, 2, 1, 1, 3), (0, 1, 3, 1, 0)), ((1, 1, 2, 1, 1, 3), (2, 1, 1, 2, 0)), ((12, 4), (2,))]\n"
     ]
    }
   ],
   "source": [
    "print(listOfEyes)"
   ]
  },
  {
   "cell_type": "code",
   "execution_count": 9,
   "metadata": {},
   "outputs": [],
   "source": [
    "positiveGeos = pantsToGeodesics(pantsInTraceRange(50,50))"
   ]
  },
  {
   "cell_type": "code",
   "execution_count": 10,
   "metadata": {},
   "outputs": [
    {
     "name": "stdout",
     "output_type": "stream",
     "text": [
      "[(2, 2, 6, 1), (1, 1, 2, 9), (1, 1, 1, 1, 1, 5), (1, 9, 2, 1), (2, 1, 6, 2), (3, 16), (1, 1, 2, 1, 1, 3), (12, 4)]\n"
     ]
    }
   ],
   "source": [
    "print(positiveGeos)"
   ]
  },
  {
   "cell_type": "code",
   "execution_count": 11,
   "metadata": {},
   "outputs": [],
   "source": [
    "positiveCusps = cusps(listOfEyes)"
   ]
  },
  {
   "cell_type": "code",
   "execution_count": 12,
   "metadata": {},
   "outputs": [
    {
     "name": "stdout",
     "output_type": "stream",
     "text": [
      "[(1, 6, 0), (0, 2, 1), (0, 2, 8), (8, 1, 0), (0, 1, 1, 1, 4), (0, 1, 5, 1, 0), (14,), (0, 2, 1, 1, 2), (0, 1, 3, 1, 0), (2,)]\n"
     ]
    }
   ],
   "source": [
    "print(positiveCusps)"
   ]
  },
  {
   "cell_type": "code",
   "execution_count": 13,
   "metadata": {},
   "outputs": [],
   "source": [
    "mat = pantsAndEyesToMatrix2(list(listOfPants), list(listOfEyes), list(positiveGeos), list(positiveCusps))"
   ]
  },
  {
   "cell_type": "code",
   "execution_count": 14,
   "metadata": {},
   "outputs": [
    {
     "data": {
      "text/plain": [
       "array([3., 3., 3., 2., 2., 2., 2., 2., 2., 0., 0., 0., 0., 0., 2., 2., 2.,\n",
       "       0., 2.])"
      ]
     },
     "execution_count": 14,
     "metadata": {},
     "output_type": "execute_result"
    }
   ],
   "source": [
    "np.sum(mat, axis=0)"
   ]
  },
  {
   "cell_type": "code",
   "execution_count": 15,
   "metadata": {},
   "outputs": [
    {
     "data": {
      "text/plain": [
       "array([[ 1.,  0.,  0.,  1.,  1.,  0.,  0.,  0.,  0.,  0.,  0.,  0.,  0.,\n",
       "         0.,  0.,  0.,  0.,  0.,  0.],\n",
       "       [ 1.,  0.,  0.,  0.,  0.,  1.,  1.,  0.,  0.,  0.,  0.,  0.,  0.,\n",
       "         0.,  0.,  0.,  0.,  0.,  0.],\n",
       "       [ 1.,  1.,  0.,  0.,  0.,  0.,  0.,  1.,  1.,  1.,  0.,  0.,  0.,\n",
       "         0.,  0.,  0.,  0.,  0.,  0.],\n",
       "       [ 0.,  1.,  0.,  0.,  0.,  0.,  0.,  0.,  0.,  0.,  1.,  1.,  0.,\n",
       "         0.,  0.,  0.,  0.,  0.,  0.],\n",
       "       [ 0.,  1.,  0.,  0.,  0.,  0.,  0.,  0.,  0.,  0.,  0.,  0.,  1.,\n",
       "         1.,  0.,  0.,  0.,  0.,  0.],\n",
       "       [ 0.,  0.,  1.,  0.,  0.,  0.,  0.,  0.,  0.,  0.,  0.,  0.,  0.,\n",
       "         0.,  1.,  0.,  0.,  0.,  0.],\n",
       "       [ 0.,  0.,  1.,  0.,  0.,  0.,  0.,  0.,  0.,  0.,  0.,  0.,  0.,\n",
       "         0.,  0.,  1.,  1.,  1.,  0.],\n",
       "       [ 0.,  0.,  1.,  0.,  0.,  0.,  0.,  0.,  0.,  0.,  0.,  0.,  0.,\n",
       "         0.,  0.,  0.,  0.,  0.,  1.],\n",
       "       [ 0.,  0.,  0.,  1.,  0.,  0.,  0.,  0.,  0.,  0.,  0.,  0., -1.,\n",
       "         0.,  0.,  0.,  0.,  0.,  0.],\n",
       "       [ 0.,  0.,  0.,  0.,  1.,  0.,  0.,  0.,  0.,  0.,  0.,  0.,  0.,\n",
       "        -1.,  0.,  0.,  0.,  0.,  0.],\n",
       "       [ 0.,  0.,  0.,  0.,  0.,  1.,  0.,  0.,  0.,  0., -1.,  0.,  0.,\n",
       "         0.,  0.,  0.,  0.,  0.,  0.],\n",
       "       [ 0.,  0.,  0.,  0.,  0.,  0.,  1.,  0.,  0.,  0.,  0., -1.,  0.,\n",
       "         0.,  0.,  0.,  0.,  0.,  0.],\n",
       "       [ 0.,  0.,  0.,  0.,  0.,  0.,  0.,  1.,  0., -1.,  0.,  0.,  0.,\n",
       "         0.,  0.,  0.,  0.,  0.,  0.],\n",
       "       [ 0.,  0.,  0.,  0.,  0.,  0.,  0.,  0.,  1.,  0.,  0.,  0.,  0.,\n",
       "         0.,  0.,  0.,  0.,  0.,  0.],\n",
       "       [ 0.,  0.,  0.,  0.,  0.,  0.,  0.,  0.,  0.,  0.,  0.,  0.,  0.,\n",
       "         0.,  1.,  0.,  0.,  0.,  0.],\n",
       "       [ 0.,  0.,  0.,  0.,  0.,  0.,  0.,  0.,  0.,  0.,  0.,  0.,  0.,\n",
       "         0.,  0.,  1.,  0., -1.,  0.],\n",
       "       [ 0.,  0.,  0.,  0.,  0.,  0.,  0.,  0.,  0.,  0.,  0.,  0.,  0.,\n",
       "         0.,  0.,  0.,  1.,  0.,  0.],\n",
       "       [ 0.,  0.,  0.,  0.,  0.,  0.,  0.,  0.,  0.,  0.,  0.,  0.,  0.,\n",
       "         0.,  0.,  0.,  0.,  0.,  1.]])"
      ]
     },
     "execution_count": 15,
     "metadata": {},
     "output_type": "execute_result"
    }
   ],
   "source": [
    "pantsAndEyesToMatrix2(list(listOfPants), list(listOfEyes), list(positiveGeos), list(positiveCusps))"
   ]
  },
  {
   "cell_type": "code",
   "execution_count": 37,
   "metadata": {},
   "outputs": [
    {
     "data": {
      "text/latex": [
       "$\\displaystyle \\left[\\begin{array}{ccccccccccccccccccc}1.0 & 0.0 & 0.0 & 1.0 & 1.0 & 0.0 & 0.0 & 0.0 & 0.0 & 0.0 & 0.0 & 0.0 & 0.0 & 0.0 & 0.0 & 0.0 & 0.0 & 0.0 & 0.0\\\\1.0 & 0.0 & 0.0 & 0.0 & 0.0 & 1.0 & 1.0 & 0.0 & 0.0 & 0.0 & 0.0 & 0.0 & 0.0 & 0.0 & 0.0 & 0.0 & 0.0 & 0.0 & 0.0\\\\1.0 & 1.0 & 0.0 & 0.0 & 0.0 & 0.0 & 0.0 & 1.0 & 1.0 & 1.0 & 0.0 & 0.0 & 0.0 & 0.0 & 0.0 & 0.0 & 0.0 & 0.0 & 0.0\\\\0.0 & 1.0 & 0.0 & 0.0 & 0.0 & 0.0 & 0.0 & 0.0 & 0.0 & 0.0 & 1.0 & 1.0 & 0.0 & 0.0 & 0.0 & 0.0 & 0.0 & 0.0 & 0.0\\\\0.0 & 1.0 & 0.0 & 0.0 & 0.0 & 0.0 & 0.0 & 0.0 & 0.0 & 0.0 & 0.0 & 0.0 & 1.0 & 1.0 & 0.0 & 0.0 & 0.0 & 0.0 & 0.0\\\\0.0 & 0.0 & 1.0 & 0.0 & 0.0 & 0.0 & 0.0 & 0.0 & 0.0 & 0.0 & 0.0 & 0.0 & 0.0 & 0.0 & 1.0 & 0.0 & 0.0 & 0.0 & 0.0\\\\0.0 & 0.0 & 1.0 & 0.0 & 0.0 & 0.0 & 0.0 & 0.0 & 0.0 & 0.0 & 0.0 & 0.0 & 0.0 & 0.0 & 0.0 & 1.0 & 1.0 & 1.0 & 0.0\\\\0.0 & 0.0 & 1.0 & 0.0 & 0.0 & 0.0 & 0.0 & 0.0 & 0.0 & 0.0 & 0.0 & 0.0 & 0.0 & 0.0 & 0.0 & 0.0 & 0.0 & 0.0 & 1.0\\\\0.0 & 0.0 & 0.0 & 1.0 & 0.0 & 0.0 & 0.0 & 0.0 & 0.0 & 0.0 & 0.0 & 0.0 & -1.0 & 0.0 & 0.0 & 0.0 & 0.0 & 0.0 & 0.0\\\\0.0 & 0.0 & 0.0 & 0.0 & 1.0 & 0.0 & 0.0 & 0.0 & 0.0 & 0.0 & 0.0 & 0.0 & 0.0 & -1.0 & 0.0 & 0.0 & 0.0 & 0.0 & 0.0\\\\0.0 & 0.0 & 0.0 & 0.0 & 0.0 & 1.0 & 0.0 & 0.0 & 0.0 & 0.0 & -1.0 & 0.0 & 0.0 & 0.0 & 0.0 & 0.0 & 0.0 & 0.0 & 0.0\\\\0.0 & 0.0 & 0.0 & 0.0 & 0.0 & 0.0 & 1.0 & 0.0 & 0.0 & 0.0 & 0.0 & -1.0 & 0.0 & 0.0 & 0.0 & 0.0 & 0.0 & 0.0 & 0.0\\\\0.0 & 0.0 & 0.0 & 0.0 & 0.0 & 0.0 & 0.0 & 1.0 & 0.0 & -1.0 & 0.0 & 0.0 & 0.0 & 0.0 & 0.0 & 0.0 & 0.0 & 0.0 & 0.0\\\\0.0 & 0.0 & 0.0 & 0.0 & 0.0 & 0.0 & 0.0 & 0.0 & 1.0 & 0.0 & 0.0 & 0.0 & 0.0 & 0.0 & 0.0 & 0.0 & 0.0 & 0.0 & 0.0\\\\0.0 & 0.0 & 0.0 & 0.0 & 0.0 & 0.0 & 0.0 & 0.0 & 0.0 & 0.0 & 0.0 & 0.0 & 0.0 & 0.0 & 1.0 & 0.0 & 0.0 & 0.0 & 0.0\\\\0.0 & 0.0 & 0.0 & 0.0 & 0.0 & 0.0 & 0.0 & 0.0 & 0.0 & 0.0 & 0.0 & 0.0 & 0.0 & 0.0 & 0.0 & 1.0 & 0.0 & -1.0 & 0.0\\\\0.0 & 0.0 & 0.0 & 0.0 & 0.0 & 0.0 & 0.0 & 0.0 & 0.0 & 0.0 & 0.0 & 0.0 & 0.0 & 0.0 & 0.0 & 0.0 & 1.0 & 0.0 & 0.0\\\\0.0 & 0.0 & 0.0 & 0.0 & 0.0 & 0.0 & 0.0 & 0.0 & 0.0 & 0.0 & 0.0 & 0.0 & 0.0 & 0.0 & 0.0 & 0.0 & 0.0 & 0.0 & 1.0\\end{array}\\right]$"
      ],
      "text/plain": [
       "Matrix([\n",
       "[1.0, 0.0, 0.0, 1.0, 1.0, 0.0, 0.0, 0.0, 0.0,  0.0,  0.0,  0.0,  0.0,  0.0, 0.0, 0.0, 0.0,  0.0, 0.0],\n",
       "[1.0, 0.0, 0.0, 0.0, 0.0, 1.0, 1.0, 0.0, 0.0,  0.0,  0.0,  0.0,  0.0,  0.0, 0.0, 0.0, 0.0,  0.0, 0.0],\n",
       "[1.0, 1.0, 0.0, 0.0, 0.0, 0.0, 0.0, 1.0, 1.0,  1.0,  0.0,  0.0,  0.0,  0.0, 0.0, 0.0, 0.0,  0.0, 0.0],\n",
       "[0.0, 1.0, 0.0, 0.0, 0.0, 0.0, 0.0, 0.0, 0.0,  0.0,  1.0,  1.0,  0.0,  0.0, 0.0, 0.0, 0.0,  0.0, 0.0],\n",
       "[0.0, 1.0, 0.0, 0.0, 0.0, 0.0, 0.0, 0.0, 0.0,  0.0,  0.0,  0.0,  1.0,  1.0, 0.0, 0.0, 0.0,  0.0, 0.0],\n",
       "[0.0, 0.0, 1.0, 0.0, 0.0, 0.0, 0.0, 0.0, 0.0,  0.0,  0.0,  0.0,  0.0,  0.0, 1.0, 0.0, 0.0,  0.0, 0.0],\n",
       "[0.0, 0.0, 1.0, 0.0, 0.0, 0.0, 0.0, 0.0, 0.0,  0.0,  0.0,  0.0,  0.0,  0.0, 0.0, 1.0, 1.0,  1.0, 0.0],\n",
       "[0.0, 0.0, 1.0, 0.0, 0.0, 0.0, 0.0, 0.0, 0.0,  0.0,  0.0,  0.0,  0.0,  0.0, 0.0, 0.0, 0.0,  0.0, 1.0],\n",
       "[0.0, 0.0, 0.0, 1.0, 0.0, 0.0, 0.0, 0.0, 0.0,  0.0,  0.0,  0.0, -1.0,  0.0, 0.0, 0.0, 0.0,  0.0, 0.0],\n",
       "[0.0, 0.0, 0.0, 0.0, 1.0, 0.0, 0.0, 0.0, 0.0,  0.0,  0.0,  0.0,  0.0, -1.0, 0.0, 0.0, 0.0,  0.0, 0.0],\n",
       "[0.0, 0.0, 0.0, 0.0, 0.0, 1.0, 0.0, 0.0, 0.0,  0.0, -1.0,  0.0,  0.0,  0.0, 0.0, 0.0, 0.0,  0.0, 0.0],\n",
       "[0.0, 0.0, 0.0, 0.0, 0.0, 0.0, 1.0, 0.0, 0.0,  0.0,  0.0, -1.0,  0.0,  0.0, 0.0, 0.0, 0.0,  0.0, 0.0],\n",
       "[0.0, 0.0, 0.0, 0.0, 0.0, 0.0, 0.0, 1.0, 0.0, -1.0,  0.0,  0.0,  0.0,  0.0, 0.0, 0.0, 0.0,  0.0, 0.0],\n",
       "[0.0, 0.0, 0.0, 0.0, 0.0, 0.0, 0.0, 0.0, 1.0,  0.0,  0.0,  0.0,  0.0,  0.0, 0.0, 0.0, 0.0,  0.0, 0.0],\n",
       "[0.0, 0.0, 0.0, 0.0, 0.0, 0.0, 0.0, 0.0, 0.0,  0.0,  0.0,  0.0,  0.0,  0.0, 1.0, 0.0, 0.0,  0.0, 0.0],\n",
       "[0.0, 0.0, 0.0, 0.0, 0.0, 0.0, 0.0, 0.0, 0.0,  0.0,  0.0,  0.0,  0.0,  0.0, 0.0, 1.0, 0.0, -1.0, 0.0],\n",
       "[0.0, 0.0, 0.0, 0.0, 0.0, 0.0, 0.0, 0.0, 0.0,  0.0,  0.0,  0.0,  0.0,  0.0, 0.0, 0.0, 1.0,  0.0, 0.0],\n",
       "[0.0, 0.0, 0.0, 0.0, 0.0, 0.0, 0.0, 0.0, 0.0,  0.0,  0.0,  0.0,  0.0,  0.0, 0.0, 0.0, 0.0,  0.0, 1.0]])"
      ]
     },
     "execution_count": 37,
     "metadata": {},
     "output_type": "execute_result"
    }
   ],
   "source": [
    "pantsAndEyesToMatrixViaSympy(list(listOfPants), list(listOfEyes), list(positiveGeos), list(positiveCusps))"
   ]
  },
  {
   "cell_type": "code",
   "execution_count": 39,
   "metadata": {},
   "outputs": [
    {
     "data": {
      "text/plain": [
       "[Matrix([\n",
       " [   0],\n",
       " [   0],\n",
       " [   0],\n",
       " [   0],\n",
       " [   0],\n",
       " [-1.0],\n",
       " [ 1.0],\n",
       " [   0],\n",
       " [   0],\n",
       " [   0],\n",
       " [-1.0],\n",
       " [   1],\n",
       " [   0],\n",
       " [   0],\n",
       " [   0],\n",
       " [   0],\n",
       " [   0],\n",
       " [   0],\n",
       " [   0]]),\n",
       " Matrix([\n",
       " [-1.0],\n",
       " [-1.0],\n",
       " [   0],\n",
       " [ 1.0],\n",
       " [   0],\n",
       " [ 1.0],\n",
       " [   0],\n",
       " [ 1.0],\n",
       " [   0],\n",
       " [ 1.0],\n",
       " [ 1.0],\n",
       " [   0],\n",
       " [   1],\n",
       " [   0],\n",
       " [   0],\n",
       " [   0],\n",
       " [   0],\n",
       " [   0],\n",
       " [   0]]),\n",
       " Matrix([\n",
       " [-1.0],\n",
       " [-1.0],\n",
       " [   0],\n",
       " [   0],\n",
       " [ 1.0],\n",
       " [ 1.0],\n",
       " [   0],\n",
       " [ 1.0],\n",
       " [   0],\n",
       " [ 1.0],\n",
       " [ 1.0],\n",
       " [   0],\n",
       " [   0],\n",
       " [   1],\n",
       " [   0],\n",
       " [   0],\n",
       " [   0],\n",
       " [   0],\n",
       " [   0]])]"
      ]
     },
     "execution_count": 39,
     "metadata": {},
     "output_type": "execute_result"
    }
   ],
   "source": [
    "nullSpaceOfPantsAndEyesViaSympy(list(listOfPants), list(listOfEyes), list(positiveGeos), list(positiveCusps))"
   ]
  },
  {
   "cell_type": "code",
   "execution_count": 71,
   "metadata": {},
   "outputs": [
    {
     "data": {
      "text/plain": [
       "{frozenset({(1, 1, 1, 1, 1, 5), (1, 1, 2, 9), (2, 2, 6, 1)}),\n",
       " frozenset({(1, 1, 1, 1, 1, 5), (1, 9, 2, 1), (2, 1, 6, 2)}),\n",
       " frozenset({(1, 1, 2, 1, 1, 3), (3, 16), (12, 4)})}"
      ]
     },
     "execution_count": 71,
     "metadata": {},
     "output_type": "execute_result"
    }
   ],
   "source": [
    "pantsInTraceRange(50,50)"
   ]
  },
  {
   "cell_type": "code",
   "execution_count": 181,
   "metadata": {
    "scrolled": true
   },
   "outputs": [
    {
     "data": {
      "text/plain": [
       "{((1, 1, 2, 2, 2, 1), (1, 1, 3, 3), (1, 8)),\n",
       " ((1, 1, 3, 3), (1, 8), (1, 1, 2, 2, 2, 1)),\n",
       " ((1, 8), (1, 1, 2, 2, 2, 1), (1, 1, 3, 3)),\n",
       " ((1, 8), (3, 3, 1, 1), (2, 1, 1, 1, 2, 2)),\n",
       " ((2, 1, 1, 1, 2, 2), (1, 8), (3, 3, 1, 1)),\n",
       " ((3, 3, 1, 1), (2, 1, 1, 1, 2, 2), (1, 8))}"
      ]
     },
     "execution_count": 181,
     "metadata": {},
     "output_type": "execute_result"
    }
   ],
   "source": [
    "getPants([[1,1,2,2,2,1],[1,1,3,3],[1,8]])"
   ]
  },
  {
   "cell_type": "code",
   "execution_count": 139,
   "metadata": {},
   "outputs": [
    {
     "name": "stdout",
     "output_type": "stream",
     "text": [
      "[0, 1, 1, 0, 0, 0, 1, 1, 1, 1]\n",
      "[1, 1, 1, 1, 0, 1, 1, 0, 0, 0]\n",
      "[1, 1, 1, 0]\n",
      "[1, 0, 0, 0]\n"
     ]
    }
   ],
   "source": [
    "conv = contFracToLR([1,2,3,4])\n",
    "print(conv)\n",
    "temp = conv[6:] + conv[:6]\n",
    "print(temp)\n",
    "temp1 = temp[1:(1-6)%len(conv)]\n",
    "print(temp1)\n",
    "temp2 = temp[(1-6)%len(conv)+1:]\n",
    "print(temp2)"
   ]
  },
  {
   "cell_type": "code",
   "execution_count": 57,
   "metadata": {},
   "outputs": [
    {
     "name": "stdout",
     "output_type": "stream",
     "text": [
      "[0, 1, 1, 0, 0, 0, 1, 1, 1, 1]\n",
      "LRRLLLRRRR\n",
      "\n",
      "\n",
      " LLLRRRRL\n",
      "RLLL RRRL\n",
      "RLLLR RRL\n",
      "RLLLRR RL\n",
      "RLLLRRR L\n",
      "LLLRRRRL \n",
      "LLL RRRLR\n",
      "LLLR RRLR\n",
      "LLLRR RLR\n",
      "LLLRRR LR\n",
      "RRRL RLLL\n",
      "RRRLR LLL\n",
      " RRLRRLLL\n",
      "R RLRRLLL\n",
      "RR LRRLLL\n",
      "RRL RLLLR\n",
      "RRLR LLLR\n",
      "RRLRRLLL \n",
      " RLRRLLLR\n",
      "R LRRLLLR\n",
      "RL RLLLRR\n",
      "RLR LLLRR\n",
      "RLRRLLL R\n",
      "RLRRLLLR \n",
      " LRRLLLRR\n",
      "L RLLLRRR\n",
      "LR LLLRRR\n",
      "LRRLLL RR\n",
      "LRRLLLR R\n",
      "LRRLLLRR \n"
     ]
    },
    {
     "data": {
      "text/plain": [
       "30"
      ]
     },
     "execution_count": 57,
     "metadata": {},
     "output_type": "execute_result"
    }
   ],
   "source": [
    "print(contFracToLR([1,2,3,4]))\n",
    "print(printCon(contFracToLR([1,2,3,4])))\n",
    "print('\\n')\n",
    "for obj in split([1,2,3,4]):\n",
    "    print(printCon(obj[0]),printCon(obj[1]))"
   ]
  },
  {
   "cell_type": "code",
   "execution_count": 69,
   "metadata": {},
   "outputs": [
    {
     "name": "stdout",
     "output_type": "stream",
     "text": [
      "[(2, 2, 6, 1), (1, 1, 2, 9), (1, 1, 1, 1, 1, 5), (1, 9, 2, 1), (2, 1, 6, 2), (3, 16), (1, 1, 2, 1, 1, 3), (12, 4)]\n"
     ]
    }
   ],
   "source": [
    "print(pantsToGeodesics(pantsInTraceRange(50,50)))"
   ]
  },
  {
   "cell_type": "code",
   "execution_count": 70,
   "metadata": {},
   "outputs": [
    {
     "data": {
      "text/plain": [
       "{frozenset({(1, 1, 1, 1, 1, 5), (1, 1, 2, 9), (2, 2, 6, 1)}),\n",
       " frozenset({(1, 1, 1, 1, 1, 5), (1, 9, 2, 1), (2, 1, 6, 2)}),\n",
       " frozenset({(1, 1, 2, 1, 1, 3), (3, 16), (12, 4)})}"
      ]
     },
     "execution_count": 70,
     "metadata": {},
     "output_type": "execute_result"
    }
   ],
   "source": [
    "pantsInTraceRange(50,50)"
   ]
  },
  {
   "cell_type": "code",
   "execution_count": null,
   "metadata": {},
   "outputs": [],
   "source": []
  }
 ],
 "metadata": {
  "kernelspec": {
   "display_name": "Python 3",
   "language": "python",
   "name": "python3"
  },
  "language_info": {
   "codemirror_mode": {
    "name": "ipython",
    "version": 3
   },
   "file_extension": ".py",
   "mimetype": "text/x-python",
   "name": "python",
   "nbconvert_exporter": "python",
   "pygments_lexer": "ipython3",
   "version": "3.7.6"
  }
 },
 "nbformat": 4,
 "nbformat_minor": 2
}
