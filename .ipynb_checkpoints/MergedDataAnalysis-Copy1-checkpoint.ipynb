{
 "cells": [
  {
   "cell_type": "code",
   "execution_count": 1,
   "metadata": {},
   "outputs": [],
   "source": [
    "with open('sequences20') as handle:\n",
    "    u = handle.read()\n",
    "import json\n",
    "seqs_by_length = json.loads(u)"
   ]
  },
  {
   "cell_type": "code",
   "execution_count": 2,
   "metadata": {},
   "outputs": [],
   "source": [
    "import numpy as np\n",
    "import matplotlib.pyplot as plt\n",
    "import cvxpy as cp\n",
    "from sympy import ntheory\n",
    "from sympy.ntheory import continued_fraction_reduce\n",
    "import matplotlib.colors as mcolors\n",
    "import time"
   ]
  },
  {
   "cell_type": "code",
   "execution_count": 3,
   "metadata": {},
   "outputs": [],
   "source": [
    "# The matrix for an EVEN LENGTH R-L sequence\n",
    "def cf2matrix(a):\n",
    "    u = np.eye(2, dtype=np.int64)\n",
    "    for x in a:\n",
    "        u = np.matmul(u, [[x, 1], [1, 0]])\n",
    "    return u\n",
    "\n",
    "# The matrix for an even or odd length sequence, where the odd case is just the \"condensed form\" for an even sequence\n",
    "def m_rep(seq):\n",
    "    if len(seq) % 2 == 0:\n",
    "        return cf2matrix(seq)\n",
    "    else:\n",
    "        return cf2matrix(seq + seq)\n",
    "    \n",
    "def rotl(x, k):\n",
    "    return x[k:] + x[:k]\n",
    "\n",
    "def min_rot(x):\n",
    "    return min(rotl(x, k) for k in range(len(x)))\n",
    "\n",
    "def min_rot2(x):\n",
    "    return min(rotl(x, k) for k in range(0, len(x), 2))\n",
    "    \n",
    "def trace2length(t):\n",
    "    return 2 * np.arccosh(t/2)\n",
    "\n",
    "def length2trace(l):\n",
    "    return 2 * np.cosh(l/2)\n",
    "\n",
    "# The sequences that we actually want, from the \"condensed forms\" that take primitive roots in PGL_2(Z)\n",
    "def actual_sequences(a, length):\n",
    "    min_trace = int(length2trace(length)) + 1\n",
    "    max_trace = int(length2trace(length+1)) + 1\n",
    "    result = []\n",
    "    for _x in a:\n",
    "        x = _x[:] # Need this to make x harmlessly mutable\n",
    "        m = m_rep(x)\n",
    "        t = np.trace(m)\n",
    "        if t < min_trace or t >= max_trace:\n",
    "            x_length = trace2length(t)\n",
    "            k = int((length + 1)/x_length)\n",
    "            x *= k\n",
    "        # Symmetrize by both R-L flip and time reversal, and add all four\n",
    "        if len(x) % 2 == 0:\n",
    "            result += [x, rotl(x, 1)]\n",
    "        # Expand condensed form, and then symmetrize by time reversal\n",
    "        else:\n",
    "            xx = x + x\n",
    "            result += [xx]\n",
    "    return result\n",
    "\n",
    "def my_actual_sequences(length):\n",
    "    return actual_sequences(seqs_by_length[length], length)\n",
    "\n",
    "def reduce_and_remove_duplicates(seqs):\n",
    "    u = {tuple(min_rot2(x)) for x in seqs}\n",
    "    return [list(x) for x in u if min_rot2(x[::-1]) != x]\n",
    "            \n",
    "def guys_for_trace(t):\n",
    "    l = int(trace2length(t))\n",
    "    l_seqs = my_actual_sequences(l)\n",
    "    t_seqs = [x for x in l_seqs if np.trace(cf2matrix(x)) == t]\n",
    "    return reduce_and_remove_duplicates(t_seqs)\n",
    "    \n",
    "def geos_in_trace_range(t0,t1):\n",
    "    all_seqs = []\n",
    "    for i in range(t0,t1+1):\n",
    "        all_seqs += guys_for_trace(i)\n",
    "    return all_seqs"
   ]
  },
  {
   "cell_type": "code",
   "execution_count": 4,
   "metadata": {},
   "outputs": [],
   "source": [
    "def cfListToDicts(cfList):\n",
    "    forwardDict = {}\n",
    "    invDict = {}\n",
    "    for cf in cfList:\n",
    "        for obj in split(cf):\n",
    "            if obj[0] in forwardDict:\n",
    "                forwardDict[obj[0]].add(obj[1])\n",
    "            else:\n",
    "                forwardDict[obj[0]] = {obj[1]}\n",
    "            if obj[1] in invDict:\n",
    "                invDict[obj[1]].add(obj[0])\n",
    "            else:\n",
    "                invDict[obj[1]] = {obj[0]}\n",
    "    return forwardDict,invDict\n",
    "\n",
    "def permutationsOf(a):\n",
    "    perms = []\n",
    "    if len(a)%2==0:\n",
    "        for n in range(0,len(a),2):\n",
    "            perms.append(a[n:]+a[:n])\n",
    "    else:\n",
    "        for n in range(0,len(a)):\n",
    "            perms.append(a[n:]+a[:n])\n",
    "    return perms\n",
    "\n",
    "def inv(lrSeq): #inverts a list of 0's and 1's (R's and L's)\n",
    "    return tuple((np.array(lrSeq[::-1])-1)**2)\n",
    "\n",
    "def split(contFrac): #splits a cont'd fraction on every possible pair of R's into 2 groups of R's and L's (in 0's and 1's)\n",
    "    output = []\n",
    "    converted = contFracToLR(contFrac)\n",
    "    n = len(converted)\n",
    "    splitPoints = pairs(converted)\n",
    "    for i,j in splitPoints:\n",
    "        temp = converted[i:]+converted[:i]\n",
    "        temp1 = temp[1:(j-i)%n]\n",
    "        temp2 = inv(temp[(j-i)%n+1:]) #inv(temp[(j-i)%n+1:])\n",
    "        output.append((tuple(temp1),tuple(temp2)))\n",
    "    return output\n",
    "\n",
    "def contFracToLR(contFrac):\n",
    "    if len(contFrac)%2==1:\n",
    "        contFrac = contFrac + contFrac\n",
    "    output = []\n",
    "    for i in range(len(contFrac)):\n",
    "        if i%2==1: #if original cont'd frac is even length, making last one R/alternating is same as this (hopefully)\n",
    "            for j in range(contFrac[i]):\n",
    "                output.append(1)\n",
    "        else:\n",
    "            for j in range(contFrac[i]):\n",
    "                output.append(0)\n",
    "    return output\n",
    "\n",
    "def indices(lrSeq): #positions of R's (R=1)\n",
    "    return [i for i in range(len(lrSeq)) if lrSeq[i]==1]\n",
    "\n",
    "def pairs(lrSeq): #pairs of R's on which to split\n",
    "    output = []\n",
    "    for i in indices(lrSeq):\n",
    "        for j in indices(lrSeq):\n",
    "            if i==j:\n",
    "                continue\n",
    "            else:\n",
    "                output.append((i,j))\n",
    "    return output\n",
    "\n",
    "def recover2(ls): #sends a whole list to a cont'd fraction (not clear whether this is needed)\n",
    "    output = []\n",
    "    i=0\n",
    "    while i<len(ls):\n",
    "        counter=1\n",
    "        while(i<len(ls)-1 and ls[i] == ls[i+1]):\n",
    "            i+=1\n",
    "            counter+=1\n",
    "        i+=1\n",
    "        output.append(counter)\n",
    "    if (len(output)%2!=0):\n",
    "        output[len(output)-1]+=output[0]\n",
    "        output = output[1:]\n",
    "    return output\n",
    "\n",
    "def pairToFrac(s1,s2):\n",
    "    out = list(s1)+[1]+list(inv(s2))+[1]\n",
    "    return tuple(min(permutationsOf(recover2(out))))\n",
    "\n",
    "def getPants(cfList):\n",
    "    dictPair = cfListToDicts(cfList)\n",
    "    forwardDict = dictPair[0]\n",
    "    invDict = dictPair[1]\n",
    "    pants = set()\n",
    "    for s0 in forwardDict:\n",
    "        for s1 in forwardDict[s0]:\n",
    "            if s1 in forwardDict and s0 in invDict:\n",
    "                for s2 in forwardDict[s1].intersection(invDict[s0]):\n",
    "                    y0,y1,y2 = pairToFrac(s0,s1),pairToFrac(s1,s2),pairToFrac(s2,s0)\n",
    "                    if y0==y1 or y1==y2 or y0==y2:\n",
    "                        continue\n",
    "                    pants.add(frozenset((y0,y1,y2)))\n",
    "    return pants\n",
    "\n",
    "def pantsInTraceRange(traceMin,traceMax):\n",
    "    cfList = []\n",
    "    for trace in range(traceMin,traceMax+1):\n",
    "        cfList += guys_for_trace(trace)\n",
    "    return getPants(cfList)\n",
    "\n",
    "def boundByCuff(pantSet,cuttingSequence):\n",
    "    pantsWithCuff = []\n",
    "    seq = min(permutationsOf(cuttingSequence))\n",
    "    for pants in pantSet:\n",
    "        if seq in pants:\n",
    "            pantsWithCuff.append(pants)\n",
    "    return pantsWithCuff\n",
    "\n",
    "def boundary(pantSet,seq): \n",
    "    inv = seq[::-1]\n",
    "    return (len(boundByCuff(pantSet,seq)) - len(boundByCuff(pantSet,inv)))\n",
    "            \n",
    "\n",
    "def cfToMat(cf):\n",
    "    mat = np.identity(2)\n",
    "    length = 0\n",
    "    for x in cf:\n",
    "        mat = np.matmul(mat,[[x,1],[1,0]])\n",
    "        length += 1\n",
    "    if length % 2 == 1:\n",
    "        mat = np.matmul(mat,mat)\n",
    "    return np.array(mat).astype(int)\n",
    "\n",
    "\n",
    "def pantsToGeodesics(pList):\n",
    "    positives = list()\n",
    "    for p in pList:\n",
    "        for geo in p:\n",
    "            minGeo = min(permutationsOf(geo))\n",
    "            invGeo = min(permutationsOf(minGeo[::-1]))\n",
    "            if minGeo in positives or invGeo in positives:\n",
    "                continue\n",
    "            else:\n",
    "                positives.append(minGeo)\n",
    "    return positives\n",
    "                \n",
    "def geosToEyes(geos):\n",
    "    eyes = list()\n",
    "    for geo in geos:\n",
    "        for i in range(0,len(geo),2):\n",
    "            a = list(geo[i:])+list(geo[:i])\n",
    "            a = a[1:]\n",
    "            a[0]-=1\n",
    "            a[len(a)-1]-=1\n",
    "            eyes.append((geo,tuple(a)))\n",
    "    return eyes\n",
    "\n",
    "def cuspInv(cusp):\n",
    "    invCusp = list(cusp[::-1])\n",
    "    if len(invCusp) == 1 and invCusp[0] <= 0:\n",
    "        return tuple(invCusp)\n",
    "    else:\n",
    "        if invCusp[0] == 0:\n",
    "            invCusp = invCusp[1:]\n",
    "        else:\n",
    "            invCusp = [0] + invCusp\n",
    "        if invCusp[-1] == 0:\n",
    "            invCusp = invCusp[:-1]\n",
    "        else:\n",
    "            invCusp = invCusp + [0]\n",
    "        return tuple(invCusp)\n",
    "\n",
    "def eyesToCusps(eList):\n",
    "    output = list()\n",
    "    for e in eList:\n",
    "        eye = e[1]\n",
    "        invEye = cuspInv(eye)\n",
    "        if eye in output or invEye in output:\n",
    "            continue\n",
    "        else:\n",
    "            output.append(eye)\n",
    "    return output\n",
    "                \n",
    "def pantsAndEyesToMatrix(pantList, eyeList, posGeoList, posCuspList):\n",
    "    \n",
    "    geoIndexDict = {}\n",
    "    cuspIndexDict = {}\n",
    "    \n",
    "    basisList = posGeoList + posCuspList\n",
    "    \n",
    "    for i in range(len(basisList)):\n",
    "        if i < len(posGeoList):\n",
    "            geoIndexDict[posGeoList[i]] = i \n",
    "        else:\n",
    "            cuspIndexDict[posCuspList[i-len(posGeoList)]] = i\n",
    "        \n",
    "    colList = []\n",
    "    for pants in pantList:\n",
    "        col = np.zeros(len(basisList))\n",
    "        for geo in pants:\n",
    "            if geo in geoIndexDict:\n",
    "                col[geoIndexDict[geo]] = 1\n",
    "            else:\n",
    "                col[geoIndexDict[min(permutationsOf(geo[::-1]))]] = -1\n",
    "        colList.append(col)\n",
    "    \n",
    "    for eye in eyeList:\n",
    "        col = np.zeros(len(basisList))\n",
    "        \n",
    "        if eye[0] in geoIndexDict:\n",
    "            col[geoIndexDict[eye[0]]] = 1\n",
    "        else:\n",
    "            col[geoIndexDict[min(permutationsOf(eye[0][::-1]))]] = -1\n",
    "        \n",
    "        if eye[1] in cuspIndexDict:\n",
    "            col[cuspIndexDict[eye[1]]] = 1\n",
    "        else:\n",
    "            col[cuspIndexDict[cuspInv(eye[1])]] = -1\n",
    "        \n",
    "        colList.append(col)\n",
    "    \n",
    "    return np.column_stack(colList)"
   ]
  },
  {
   "cell_type": "code",
   "execution_count": 5,
   "metadata": {},
   "outputs": [],
   "source": [
    "def height(geo):\n",
    "    alpha = ntheory.continued_fraction_reduce([geo])\n",
    "    alpha_conj = -1/(ntheory.continued_fraction_reduce([geo[::-1]]))\n",
    "    h = abs(alpha-alpha_conj)/2\n",
    "    return h.evalf()"
   ]
  },
  {
   "cell_type": "code",
   "execution_count": 6,
   "metadata": {},
   "outputs": [],
   "source": [
    "def hPant(pants):\n",
    "    return max([height(list(g)) for g in pants])"
   ]
  },
  {
   "cell_type": "code",
   "execution_count": 7,
   "metadata": {},
   "outputs": [],
   "source": [
    "def hEye(eye):\n",
    "    return height(list(eye[0]))"
   ]
  },
  {
   "cell_type": "code",
   "execution_count": 8,
   "metadata": {},
   "outputs": [],
   "source": [
    "def bPant(pantList,pants):\n",
    "    pants = list(pants)\n",
    "    geo = pants[np.argmax([height(list(g)) for g in pants])]\n",
    "    output  = abs(boundary(pantList,geo))\n",
    "    return output"
   ]
  },
  {
   "cell_type": "code",
   "execution_count": 9,
   "metadata": {},
   "outputs": [],
   "source": [
    "def plotBvH(boundsP, heightsP, n = 12):\n",
    "    numP = len(boundsP)\n",
    "    fig = plt.figure()\n",
    "    n = 12\n",
    "    sections = np.histogram(heightsP,  bins = n, range = (0,float(np.mean(heightsP)+.5*np.var(heightsP))))\n",
    "    output = []\n",
    "    for i in range(1,len(sections[1])):\n",
    "        Lis = [boundsP[p] for p in range(numP) if heightsP[p]<sections[1][i] and heightsP[p]>sections[1][i-1]]\n",
    "        output.append((np.mean(Lis),np.var(Lis)))\n",
    "    x = [(sections[1][i]+sections[1][i-1])/2 for i in range(1,len(sections[1]))]\n",
    "    y = [u for (u,v) in output]\n",
    "    yerror = [v for (u,v) in output]\n",
    "    plt.errorbar(x,y,yerr  = yerror, capsize = 5.0, capthick = 2.0)\n",
    "    plt.xlabel('height of pants')\n",
    "    plt.ylabel('boundary size')\n",
    "    plt.show()"
   ]
  },
  {
   "cell_type": "code",
   "execution_count": 10,
   "metadata": {},
   "outputs": [],
   "source": [
    "def printTime():\n",
    "    currentTime = [time.localtime().tm_hour, time.localtime().tm_min]\n",
    "    if currentTime[1]<10:\n",
    "        currentTime[1] = '0'+str(currentTime[1])\n",
    "    if currentTime[0]<12 and currentTime[0]>0:\n",
    "        print(f\"The time is currently {currentTime[0]}:{currentTime[1]} am.\")\n",
    "    elif currentTime[0]==12:\n",
    "        print(f\"The time is currently {currentTime[0]}:{currentTime[1]} pm.\")\n",
    "    elif 12<currentTime[0]:\n",
    "        print(f\"The time is currently {currentTime[0]-12}:{currentTime[1]} pm.\")\n",
    "    else:\n",
    "        print(f\"The time is currently 12:{currentTime[1]} am.\")"
   ]
  },
  {
   "cell_type": "code",
   "execution_count": 11,
   "metadata": {},
   "outputs": [],
   "source": [
    "def printExpectedTime(tm, string):\n",
    "    if tm==0:\n",
    "        return\n",
    "    elif tm==1:\n",
    "        print(f\"Expect to wait approximately 1 minute for {string} to be computed.\")\n",
    "    elif tm<60:\n",
    "        print(f\"Expect to wait approximately {round(tm)} minutes for {string} to be computed.\")\n",
    "    elif int(tm//60)==1:\n",
    "        if int(round(tm%60))!=1:\n",
    "            print(f\"Expect to wait approximately 1 hour and {int(round(tm%60))} minutes for {string} to be computed.\")\n",
    "        else:\n",
    "            print(f\"Expect to wait approximately 1 hour and 1 minute for {string} to be computed.\")\n",
    "    else:\n",
    "        if int(round(tm%60))!=1:\n",
    "            print(f\"Expect to wait approximately {int(tm//60)} hours and {int(round(tm%60))} minutes for {string} to be computed.\")\n",
    "        else:\n",
    "            print(f\"Expect to wait approximately {int(tm//60)} hours and 1 minute for {string} to be computed.\")"
   ]
  },
  {
   "cell_type": "code",
   "execution_count": 75,
   "metadata": {},
   "outputs": [],
   "source": [
    "def graphAndReturn(mini,maxi,short = False, weights = (1,0)):\n",
    "    pantsSet = pantsInTraceRange(mini,maxi)\n",
    "    posGeoList = pantsToGeodesics(pantsSet)\n",
    "    eyeList = geosToEyes(posGeoList)\n",
    "    posCuspList = eyesToCusps(eyeList)\n",
    "    pantsList = list(pantsSet)\n",
    "    A = pantsAndEyesToMatrix(pantsList,eyeList,posGeoList,posCuspList)\n",
    "    numP = len(pantsList)\n",
    "    numE = len(eyeList)\n",
    "    numG = len(posGeoList)\n",
    "    print(f\"The matrix A has the shape {A.shape}.\\n\")\n",
    "    #cvxpy without integer constraints\n",
    "    print(\"trace range = \" + str((mini,maxi)))\n",
    "    resultList = pantsList+eyeList\n",
    "    startTime = time.time()\n",
    "    P = np.diag([weights[0]]*numP + [weights[1]]*numE)\n",
    "    # input\n",
    "    b = np.zeros(A.shape[0])\n",
    "    # Construct a CVXPY problem\n",
    "    x = cp.Variable(A.shape[1],nonneg = True)\n",
    "    objective = cp.Minimize(cp.quad_form(x,P))\n",
    "    constraints = []\n",
    "    constraints.append(A@x==b)\n",
    "    constraints.append(cp.sum(x) == 10**6) #scaled solutions\n",
    "    prob = cp.Problem(objective,constraints)\n",
    "    prob.solve()\n",
    "\n",
    "    n_bins = 20\n",
    "\n",
    "    pVals = x.value[:numP]\n",
    "    eVals = x.value[numP:]\n",
    "    endTime = time.time()\n",
    "    timeElapsed = endTime-startTime\n",
    "    if timeElapsed<60:\n",
    "        print(f\"It took {round(timeElapsed)} seconds to solve the quadratic program.\\n\")\n",
    "    else:\n",
    "        mins = int(timeElapsed//60)\n",
    "        if mins>1:\n",
    "            print(f\"It took {mins} minutes and {round(timeElapsed%60)} seconds to solve the quadratic program.\\n\")\n",
    "        else:\n",
    "            print(f\"It took 1 minute and {round(timeElapsed%60)} seconds to solve the quadratic program.\\n\")\n",
    "    \n",
    "    print(f\"P = ({weights[0]},{weights[1]})\")\n",
    "    print(\"pants sum: \" + str(sum(pVals)))\n",
    "    print(\"avg pants cf: \" + str(sum(pVals)/numP))\n",
    "    print(\"eyes sum: \" + str(sum(eVals)))\n",
    "    print(\"avg eyes cf: \" + str(sum(eVals)/numE))\n",
    "    print(\"pants variance: \" + str(np.var(pVals)))\n",
    "    print(\"eyes variance: \" + str(np.var(eVals)))\n",
    "\n",
    "    fig, axs = plt.subplots(1, 2, tight_layout=True)\n",
    "\n",
    "    axs[0].hist(pVals, bins=n_bins)\n",
    "    axs[1].hist(eVals, bins=n_bins)\n",
    "    axs[0].set_ylabel('number of pants')\n",
    "    axs[1].set_ylabel('number of eyes')\n",
    "    axs[0].set_xlabel('weight')\n",
    "    axs[1].set_xlabel('weight')\n",
    "    plt.show()\n",
    "    \n",
    "    if short:\n",
    "        return (pVals, eVals)\n",
    "    \n",
    "    geosPerMin = 250\n",
    "    ExpectedTimeForPantsHeights = numG/geosPerMin\n",
    "    printExpectedTime(ExpectedTimeForPantsHeights, \"heights\")\n",
    "    printTime()\n",
    "    heights = [height(list(geo)) for geo in posGeoList]\n",
    "    print(\"completed computing heights!\\n\")\n",
    "    \n",
    "    print(\"now computing pants' heights:\")\n",
    "    heightsP = np.amax(np.array(np.diag(heights),dtype = np.float64) @ A[:numG,:numP], axis = 0)\n",
    "    print(\"completed computing pants' heights!\\n\")\n",
    "\n",
    "    print(\"now computing eyes' heights:\")\n",
    "    heightsE = np.amax(np.array(np.diag(heights),dtype = np.float64) @ A[:numG,numP:], axis = 0)\n",
    "    print(\"completed computing eyes' heights!\\n\")\n",
    "\n",
    "    print(\"now computing geodesics' boundaries:\")\n",
    "    boundsG = [int(i) for i in list(abs(np.dot(A,np.array([1]*(numP)+[0]*(numE)))))]\n",
    "    print(\"completed computing geodesics' boundaries!\\n\")\n",
    "    \n",
    "    print(\"now computing pants' boundaries:\")\n",
    "    boundsP = [int(abs(i)) for i in np.amax(np.array(np.diag(boundsG),dtype = np.float64) @ A[:numG,:numP], axis = 0)]\n",
    "    print(\"completed computing pants' boundaries\")\n",
    "    #solList = list(zip(resultList,x.value))\n",
    "    #solList.sort(key=lambda x:x[1], reverse=True)\n",
    "    #resultStr = \"\"\n",
    "    #for x in solList:\n",
    "    #    resultStr += \"+\" + str(x[1]) + \"*\" + str(x[0]) + \"\\n\"\n",
    "    #print(resultStr)\n",
    "    \n",
    "    return (pVals, eVals, heightsP, heightsE, boundsP)"
   ]
  },
  {
   "cell_type": "code",
   "execution_count": 76,
   "metadata": {},
   "outputs": [],
   "source": [
    "def grapher(pVals, eVals, heightsP, heightsE, boundsP):\n",
    "    \n",
    "    n_bins = 20\n",
    "    \n",
    "    fig, axs = plt.subplots(1, 4, tight_layout=True)\n",
    "\n",
    "    axs[0].scatter(heightsP, pVals)\n",
    "    axs[1].scatter(heightsE, eVals)\n",
    "    axs[2].scatter(boundsP, pVals)\n",
    "    axs[3].scatter(heightsP, boundsP)\n",
    "\n",
    "    axs[0].set_xlabel('height of pants')\n",
    "    axs[1].set_xlabel('height of eyes')\n",
    "    axs[2].set_xlabel('size of boundary')\n",
    "    axs[3].set_xlabel('height of pants')\n",
    "\n",
    "    axs[0].set_ylabel('copies of each pants')\n",
    "    axs[1].set_ylabel('copies of each pants')\n",
    "    axs[2].set_ylabel('copies of each pants')\n",
    "    axs[3].set_ylabel('size of boundary')\n",
    "\n",
    "    plt.show()\n",
    "\n",
    "    fig, axs = plt.subplots(1, 4, tight_layout=True)\n",
    "    a,b = np.median(heightsP)+np.var(heightsP),np.median(pVals)+0.03*np.var(pVals)\n",
    "    a,b = round(a), round(b)\n",
    "    c,d = np.median(heightsE)+2*np.var(heightsE),np.median(eVals)+.005*np.var(eVals)\n",
    "    c,d = round(c), float(d)\n",
    "    e,f = np.median(boundsP)+np.var(boundsP),np.median(pVals)+0.25*np.var(pVals)\n",
    "    e,f = round(e), round(f)\n",
    "    g,h = np.median(heightsP)+np.var(heightsP),np.median(boundsP)+1*np.var(boundsP)\n",
    "    g,h = round(g), round(h)\n",
    "\n",
    "\n",
    "    axs[0].hist2d(heightsP, pVals, bins  = n_bins, range = [[0,a],[0,b]], normed = True, norm = mcolors.PowerNorm(.2))\n",
    "    axs[1].hist2d(heightsE, eVals, bins  = n_bins, range = [[0,c],[0,d]], normed  = True, norm = mcolors.PowerNorm(.2))\n",
    "    axs[2].hist2d(boundsP,pVals, bins = n_bins, range = [[0,e],[0,f]], normed = True, norm  = mcolors.PowerNorm(.2))\n",
    "    axs[3].hist2d(heightsP, boundsP, bins  = n_bins, range = [[0,g],[0,h]], normed = True, norm = mcolors.PowerNorm(.2))\n",
    "\n",
    "    axs[0].set_xlabel('height of pants')\n",
    "    axs[1].set_xlabel('height of eyes')\n",
    "    axs[2].set_xlabel('size of boundary')\n",
    "    axs[3].set_xlabel('height of pants')\n",
    "\n",
    "    axs[0].set_ylabel('number of pants')\n",
    "    axs[1].set_ylabel('number of eyes')\n",
    "    axs[2].set_ylabel('copies of each pants')\n",
    "    axs[3].set_ylabel('size of boundary')\n",
    "\n",
    "    plt.show()\n",
    "\n",
    "    plotBvH(boundsP, heightsP)"
   ]
  },
  {
   "cell_type": "code",
   "execution_count": 276,
   "metadata": {},
   "outputs": [
    {
     "name": "stdout",
     "output_type": "stream",
     "text": [
      "trace range = (200, 250)\n",
      "P = (1,0)\n",
      "pants sum: 477336.7119203562\n",
      "avg pants cf: 19.10340224598216\n",
      "eyes sum: 523890.51868239365\n",
      "avg eyes cf: 214.79726063238772\n",
      "pants variance: 314.83304008383004\n",
      "eyes variance: 126236.34536491167\n"
     ]
    },
    {
     "data": {
      "image/png": "[encoded data removed]",
      "text/plain": [
       "<Figure size 432x288 with 2 Axes>"
      ]
     },
     "metadata": {
      "needs_background": "light"
     },
     "output_type": "display_data"
    },
    {
     "name": "stdout",
     "output_type": "stream",
     "text": [
      "Expect to wait approximately 1 hours and 40 minutes for pants' heights to be computed\n",
      "The time is currently 6:15 pm\n",
      "completed computing pants' heights!\n",
      "Expect to wait approximately 3 minutes for eyes' heights to be computed\n",
      "The time is currently 7:50 pm\n",
      "completed computing eyes' heights!\n",
      "Expect to wait approximately 1 hours and 44 minutes for boundaries to be computed\n",
      "The time is currently 7:53 pm\n",
      "completed computing pants' boundaries!\n"
     ]
    },
    {
     "data": {
      "image/png": "[encoded data removed]",
      "text/plain": [
       "<Figure size 432x288 with 4 Axes>"
      ]
     },
     "metadata": {
      "needs_background": "light"
     },
     "output_type": "display_data"
    },
    {
     "data": {
      "image/png": "[encoded data removed]",
      "text/plain": [
       "<Figure size 432x288 with 4 Axes>"
      ]
     },
     "metadata": {
      "needs_background": "light"
     },
     "output_type": "display_data"
    },
    {
     "data": {
      "image/png": "[encoded data removed]",
      "text/plain": [
       "<Figure size 432x288 with 1 Axes>"
      ]
     },
     "metadata": {
      "needs_background": "light"
     },
     "output_type": "display_data"
    }
   ],
   "source": [
    "pVals_200_250, eVals_200_250, heightsP_200_250, heightsE_200_250, boundsP_200_250 = graphAndReturn(200,250)\n",
    "grapher(pVals_200_250, eVals_200_250, heightsP_200_250, heightsE_200_250, boundsP_200_250)"
   ]
  },
  {
   "cell_type": "code",
   "execution_count": 77,
   "metadata": {},
   "outputs": [
    {
     "name": "stdout",
     "output_type": "stream",
     "text": [
      "The matrix A has the shape (331, 3959).\n",
      "\n",
      "trace range = (30, 60)\n",
      "It took 8 seconds to solve the quadratic program.\n",
      "\n",
      "P = (1,0)\n",
      "pants sum: 388985.43426084856\n",
      "avg pants cf: 105.81758276954531\n",
      "eyes sum: 616182.2106958411\n",
      "avg eyes cf: 2177.3222992785904\n",
      "pants variance: 25830.85874065153\n",
      "eyes variance: 11771206.277141612\n"
     ]
    },
    {
     "data": {
      "image/png": "[encoded data removed]",
      "text/plain": [
       "<Figure size 432x288 with 2 Axes>"
      ]
     },
     "metadata": {
      "needs_background": "light"
     },
     "output_type": "display_data"
    },
    {
     "name": "stdout",
     "output_type": "stream",
     "text": [
      "Expect to wait approximately 1 minutes for heights to be computed.\n",
      "The time is currently 5:31 pm.\n",
      "completed computing heights!\n",
      "\n",
      "now computing pants' heights:\n",
      "completed computing pants' heights!\n",
      "\n",
      "now computing eyes' heights:\n",
      "completed computing eyes' heights!\n",
      "\n",
      "now computing geodesics' boundaries:\n",
      "completed computing geodesics' boundaries!\n",
      "\n",
      "now computing pants' boundaries:\n"
     ]
    },
    {
     "ename": "ValueError",
     "evalue": "shapes (331,331) and (167,3676) not aligned: 331 (dim 1) != 167 (dim 0)",
     "output_type": "error",
     "traceback": [
      "\u001b[0;31m---------------------------------------------------------------------------\u001b[0m",
      "\u001b[0;31mValueError\u001b[0m                                Traceback (most recent call last)",
      "\u001b[0;32m<ipython-input-77-dbbd0a37efb8>\u001b[0m in \u001b[0;36m<module>\u001b[0;34m\u001b[0m\n\u001b[0;32m----> 1\u001b[0;31m \u001b[0mpVals_30_60\u001b[0m\u001b[0;34m,\u001b[0m \u001b[0meVals_30_60\u001b[0m\u001b[0;34m,\u001b[0m \u001b[0mheightsP_30_60\u001b[0m\u001b[0;34m,\u001b[0m \u001b[0mheightsE_30_60\u001b[0m\u001b[0;34m,\u001b[0m \u001b[0mboundsP_30_60\u001b[0m \u001b[0;34m=\u001b[0m \u001b[0mgraphAndReturn\u001b[0m\u001b[0;34m(\u001b[0m\u001b[0;36m30\u001b[0m\u001b[0;34m,\u001b[0m\u001b[0;36m60\u001b[0m\u001b[0;34m)\u001b[0m\u001b[0;34m\u001b[0m\u001b[0;34m\u001b[0m\u001b[0m\n\u001b[0m\u001b[1;32m      2\u001b[0m \u001b[0mgrapher\u001b[0m\u001b[0;34m(\u001b[0m\u001b[0mpVals_30_60\u001b[0m\u001b[0;34m,\u001b[0m \u001b[0meVals_30_60\u001b[0m\u001b[0;34m,\u001b[0m \u001b[0mheightsP_30_60\u001b[0m\u001b[0;34m,\u001b[0m \u001b[0mheightsE_30_60\u001b[0m\u001b[0;34m,\u001b[0m \u001b[0mboundsP_30_60\u001b[0m\u001b[0;34m)\u001b[0m\u001b[0;34m\u001b[0m\u001b[0;34m\u001b[0m\u001b[0m\n\u001b[1;32m      3\u001b[0m \u001b[0mprint\u001b[0m\u001b[0;34m(\u001b[0m\u001b[0mheightsP_30_60\u001b[0m\u001b[0;34m[\u001b[0m\u001b[0;34m:\u001b[0m\u001b[0;36m30\u001b[0m\u001b[0;34m]\u001b[0m\u001b[0;34m,\u001b[0m \u001b[0mboundsP_30_60\u001b[0m\u001b[0;34m[\u001b[0m\u001b[0;34m:\u001b[0m\u001b[0;36m30\u001b[0m\u001b[0;34m]\u001b[0m\u001b[0;34m)\u001b[0m\u001b[0;34m\u001b[0m\u001b[0;34m\u001b[0m\u001b[0m\n",
      "\u001b[0;32m<ipython-input-75-9c40120f9479>\u001b[0m in \u001b[0;36mgraphAndReturn\u001b[0;34m(mini, maxi, short, weights)\u001b[0m\n\u001b[1;32m     82\u001b[0m \u001b[0;34m\u001b[0m\u001b[0m\n\u001b[1;32m     83\u001b[0m     \u001b[0mprint\u001b[0m\u001b[0;34m(\u001b[0m\u001b[0;34m\"now computing pants' boundaries:\"\u001b[0m\u001b[0;34m)\u001b[0m\u001b[0;34m\u001b[0m\u001b[0;34m\u001b[0m\u001b[0m\n\u001b[0;32m---> 84\u001b[0;31m     \u001b[0mboundsP\u001b[0m \u001b[0;34m=\u001b[0m \u001b[0;34m[\u001b[0m\u001b[0mint\u001b[0m\u001b[0;34m(\u001b[0m\u001b[0mabs\u001b[0m\u001b[0;34m(\u001b[0m\u001b[0mi\u001b[0m\u001b[0;34m)\u001b[0m\u001b[0;34m)\u001b[0m \u001b[0;32mfor\u001b[0m \u001b[0mi\u001b[0m \u001b[0;32min\u001b[0m \u001b[0mnp\u001b[0m\u001b[0;34m.\u001b[0m\u001b[0mamax\u001b[0m\u001b[0;34m(\u001b[0m\u001b[0mnp\u001b[0m\u001b[0;34m.\u001b[0m\u001b[0marray\u001b[0m\u001b[0;34m(\u001b[0m\u001b[0mnp\u001b[0m\u001b[0;34m.\u001b[0m\u001b[0mdiag\u001b[0m\u001b[0;34m(\u001b[0m\u001b[0mboundsG\u001b[0m\u001b[0;34m)\u001b[0m\u001b[0;34m,\u001b[0m\u001b[0mdtype\u001b[0m \u001b[0;34m=\u001b[0m \u001b[0mnp\u001b[0m\u001b[0;34m.\u001b[0m\u001b[0mfloat64\u001b[0m\u001b[0;34m)\u001b[0m \u001b[0;34m@\u001b[0m \u001b[0mA\u001b[0m\u001b[0;34m[\u001b[0m\u001b[0;34m:\u001b[0m\u001b[0mnumG\u001b[0m\u001b[0;34m,\u001b[0m\u001b[0;34m:\u001b[0m\u001b[0mnumP\u001b[0m\u001b[0;34m]\u001b[0m\u001b[0;34m,\u001b[0m \u001b[0maxis\u001b[0m \u001b[0;34m=\u001b[0m \u001b[0;36m0\u001b[0m\u001b[0;34m)\u001b[0m\u001b[0;34m]\u001b[0m\u001b[0;34m\u001b[0m\u001b[0;34m\u001b[0m\u001b[0m\n\u001b[0m\u001b[1;32m     85\u001b[0m     \u001b[0mprint\u001b[0m\u001b[0;34m(\u001b[0m\u001b[0;34m\"completed computing pants' boundaries\"\u001b[0m\u001b[0;34m)\u001b[0m\u001b[0;34m\u001b[0m\u001b[0;34m\u001b[0m\u001b[0m\n\u001b[1;32m     86\u001b[0m     \u001b[0;31m#solList = list(zip(resultList,x.value))\u001b[0m\u001b[0;34m\u001b[0m\u001b[0;34m\u001b[0m\u001b[0;34m\u001b[0m\u001b[0m\n",
      "\u001b[0;31mValueError\u001b[0m: shapes (331,331) and (167,3676) not aligned: 331 (dim 1) != 167 (dim 0)"
     ]
    }
   ],
   "source": [
    "pVals_30_60, eVals_30_60, heightsP_30_60, heightsE_30_60, boundsP_30_60 = graphAndReturn(30,60)\n",
    "grapher(pVals_30_60, eVals_30_60, heightsP_30_60, heightsE_30_60, boundsP_30_60)\n",
    "print(heightsP_30_60[:30], boundsP_30_60[:30])"
   ]
  },
  {
   "cell_type": "code",
   "execution_count": 15,
   "metadata": {},
   "outputs": [
    {
     "name": "stdout",
     "output_type": "stream",
     "text": [
      "The matrix A has the shape (4241, 45486).\n",
      "\n",
      "trace range = (250, 310)\n",
      "It took 38 minutes and 55 seconds to solve the quadratic program.\n",
      "\n",
      "P = (1,0)\n",
      "pants sum: 500994.8931054194\n",
      "avg pants cf: 11.957489453086529\n",
      "eyes sum: 499379.7528787822\n",
      "avg eyes cf: 139.18053313232502\n",
      "pants variance: 113.96421083681108\n",
      "eyes variance: 61998.315634013816\n"
     ]
    },
    {
     "name": "stderr",
     "output_type": "stream",
     "text": [
      "/Users/Kai/anaconda3/lib/python3.7/site-packages/matplotlib/figure.py:2366: UserWarning: This figure includes Axes that are not compatible with tight_layout, so results might be incorrect.\n",
      "  warnings.warn(\"This figure includes Axes that are not compatible \"\n"
     ]
    },
    {
     "data": {
      "image/png": "[encoded data removed]",
      "text/plain": [
       "<Figure size 432x288 with 2 Axes>"
      ]
     },
     "metadata": {
      "needs_background": "light"
     },
     "output_type": "display_data"
    },
    {
     "name": "stdout",
     "output_type": "stream",
     "text": [
      "Expect to wait approximately 2 hours and 48 minutes for pants' heights to be computed.\n",
      "The time is currently 1:36 am.\n",
      "completed computing pants' heights!\n",
      "\n",
      "Expect to wait approximately 5 minutes for eyes' heights to be computed.\n",
      "The time is currently 4:17 am.\n",
      "completed computing eyes' heights!\n",
      "\n",
      "Expect to wait approximately 2 hours and 55 minutes for boundaries to be computed.\n",
      "The time is currently 4:21 am.\n",
      "completed computing pants' boundaries!\n",
      "\n"
     ]
    },
    {
     "data": {
      "image/png": "[encoded data removed]",
      "text/plain": [
       "<Figure size 432x288 with 4 Axes>"
      ]
     },
     "metadata": {
      "needs_background": "light"
     },
     "output_type": "display_data"
    },
    {
     "ename": "NameError",
     "evalue": "name 'n_bins' is not defined",
     "output_type": "error",
     "traceback": [
      "\u001b[0;31m---------------------------------------------------------------------------\u001b[0m",
      "\u001b[0;31mNameError\u001b[0m                                 Traceback (most recent call last)",
      "\u001b[0;32m<ipython-input-15-3cc38334cf4f>\u001b[0m in \u001b[0;36m<module>\u001b[0;34m\u001b[0m\n\u001b[1;32m      1\u001b[0m \u001b[0mpVals_300_380\u001b[0m\u001b[0;34m,\u001b[0m \u001b[0meVals_300_380\u001b[0m\u001b[0;34m,\u001b[0m \u001b[0mheightsP_300_380\u001b[0m\u001b[0;34m,\u001b[0m \u001b[0mheightsE_300_380\u001b[0m\u001b[0;34m,\u001b[0m \u001b[0mboundsP_300_380\u001b[0m \u001b[0;34m=\u001b[0m \u001b[0mgraphAndReturn\u001b[0m\u001b[0;34m(\u001b[0m\u001b[0;36m250\u001b[0m\u001b[0;34m,\u001b[0m\u001b[0;36m310\u001b[0m\u001b[0;34m)\u001b[0m\u001b[0;34m\u001b[0m\u001b[0;34m\u001b[0m\u001b[0m\n\u001b[0;32m----> 2\u001b[0;31m \u001b[0mgrapher\u001b[0m\u001b[0;34m(\u001b[0m\u001b[0mpVals_300_380\u001b[0m\u001b[0;34m,\u001b[0m \u001b[0meVals_300_380\u001b[0m\u001b[0;34m,\u001b[0m \u001b[0mheightsP_300_380\u001b[0m\u001b[0;34m,\u001b[0m \u001b[0mheightsE_300_380\u001b[0m\u001b[0;34m,\u001b[0m \u001b[0mboundsP_300_380\u001b[0m\u001b[0;34m)\u001b[0m\u001b[0;34m\u001b[0m\u001b[0;34m\u001b[0m\u001b[0m\n\u001b[0m",
      "\u001b[0;32m<ipython-input-14-7208b0a9802e>\u001b[0m in \u001b[0;36mgrapher\u001b[0;34m(pVals, eVals, heightsP, heightsE, boundsP)\u001b[0m\n\u001b[1;32m     30\u001b[0m \u001b[0;34m\u001b[0m\u001b[0m\n\u001b[1;32m     31\u001b[0m \u001b[0;34m\u001b[0m\u001b[0m\n\u001b[0;32m---> 32\u001b[0;31m     \u001b[0maxs\u001b[0m\u001b[0;34m[\u001b[0m\u001b[0;36m0\u001b[0m\u001b[0;34m]\u001b[0m\u001b[0;34m.\u001b[0m\u001b[0mhist2d\u001b[0m\u001b[0;34m(\u001b[0m\u001b[0mheightsP\u001b[0m\u001b[0;34m,\u001b[0m \u001b[0mpVals\u001b[0m\u001b[0;34m,\u001b[0m \u001b[0mbins\u001b[0m  \u001b[0;34m=\u001b[0m \u001b[0mn_bins\u001b[0m\u001b[0;34m,\u001b[0m \u001b[0mrange\u001b[0m \u001b[0;34m=\u001b[0m \u001b[0;34m[\u001b[0m\u001b[0;34m[\u001b[0m\u001b[0;36m0\u001b[0m\u001b[0;34m,\u001b[0m\u001b[0ma\u001b[0m\u001b[0;34m]\u001b[0m\u001b[0;34m,\u001b[0m\u001b[0;34m[\u001b[0m\u001b[0;36m0\u001b[0m\u001b[0;34m,\u001b[0m\u001b[0mb\u001b[0m\u001b[0;34m]\u001b[0m\u001b[0;34m]\u001b[0m\u001b[0;34m,\u001b[0m \u001b[0mnormed\u001b[0m \u001b[0;34m=\u001b[0m \u001b[0;32mTrue\u001b[0m\u001b[0;34m,\u001b[0m \u001b[0mnorm\u001b[0m \u001b[0;34m=\u001b[0m \u001b[0mmcolors\u001b[0m\u001b[0;34m.\u001b[0m\u001b[0mPowerNorm\u001b[0m\u001b[0;34m(\u001b[0m\u001b[0;36m.2\u001b[0m\u001b[0;34m)\u001b[0m\u001b[0;34m)\u001b[0m\u001b[0;34m\u001b[0m\u001b[0;34m\u001b[0m\u001b[0m\n\u001b[0m\u001b[1;32m     33\u001b[0m     \u001b[0maxs\u001b[0m\u001b[0;34m[\u001b[0m\u001b[0;36m1\u001b[0m\u001b[0;34m]\u001b[0m\u001b[0;34m.\u001b[0m\u001b[0mhist2d\u001b[0m\u001b[0;34m(\u001b[0m\u001b[0mheightsE\u001b[0m\u001b[0;34m,\u001b[0m \u001b[0meVals\u001b[0m\u001b[0;34m,\u001b[0m \u001b[0mbins\u001b[0m  \u001b[0;34m=\u001b[0m \u001b[0mn_bins\u001b[0m\u001b[0;34m,\u001b[0m \u001b[0mrange\u001b[0m \u001b[0;34m=\u001b[0m \u001b[0;34m[\u001b[0m\u001b[0;34m[\u001b[0m\u001b[0;36m0\u001b[0m\u001b[0;34m,\u001b[0m\u001b[0mc\u001b[0m\u001b[0;34m]\u001b[0m\u001b[0;34m,\u001b[0m\u001b[0;34m[\u001b[0m\u001b[0;36m0\u001b[0m\u001b[0;34m,\u001b[0m\u001b[0md\u001b[0m\u001b[0;34m]\u001b[0m\u001b[0;34m]\u001b[0m\u001b[0;34m,\u001b[0m \u001b[0mnormed\u001b[0m  \u001b[0;34m=\u001b[0m \u001b[0;32mTrue\u001b[0m\u001b[0;34m,\u001b[0m \u001b[0mnorm\u001b[0m \u001b[0;34m=\u001b[0m \u001b[0mmcolors\u001b[0m\u001b[0;34m.\u001b[0m\u001b[0mPowerNorm\u001b[0m\u001b[0;34m(\u001b[0m\u001b[0;36m.2\u001b[0m\u001b[0;34m)\u001b[0m\u001b[0;34m)\u001b[0m\u001b[0;34m\u001b[0m\u001b[0;34m\u001b[0m\u001b[0m\n\u001b[1;32m     34\u001b[0m     \u001b[0maxs\u001b[0m\u001b[0;34m[\u001b[0m\u001b[0;36m2\u001b[0m\u001b[0;34m]\u001b[0m\u001b[0;34m.\u001b[0m\u001b[0mhist2d\u001b[0m\u001b[0;34m(\u001b[0m\u001b[0mboundsP\u001b[0m\u001b[0;34m,\u001b[0m\u001b[0mpVals\u001b[0m\u001b[0;34m,\u001b[0m \u001b[0mbins\u001b[0m \u001b[0;34m=\u001b[0m \u001b[0mn_bins\u001b[0m\u001b[0;34m,\u001b[0m \u001b[0mrange\u001b[0m \u001b[0;34m=\u001b[0m \u001b[0;34m[\u001b[0m\u001b[0;34m[\u001b[0m\u001b[0;36m0\u001b[0m\u001b[0;34m,\u001b[0m\u001b[0me\u001b[0m\u001b[0;34m]\u001b[0m\u001b[0;34m,\u001b[0m\u001b[0;34m[\u001b[0m\u001b[0;36m0\u001b[0m\u001b[0;34m,\u001b[0m\u001b[0mf\u001b[0m\u001b[0;34m]\u001b[0m\u001b[0;34m]\u001b[0m\u001b[0;34m,\u001b[0m \u001b[0mnormed\u001b[0m \u001b[0;34m=\u001b[0m \u001b[0;32mTrue\u001b[0m\u001b[0;34m,\u001b[0m \u001b[0mnorm\u001b[0m  \u001b[0;34m=\u001b[0m \u001b[0mmcolors\u001b[0m\u001b[0;34m.\u001b[0m\u001b[0mPowerNorm\u001b[0m\u001b[0;34m(\u001b[0m\u001b[0;36m.2\u001b[0m\u001b[0;34m)\u001b[0m\u001b[0;34m)\u001b[0m\u001b[0;34m\u001b[0m\u001b[0;34m\u001b[0m\u001b[0m\n",
      "\u001b[0;31mNameError\u001b[0m: name 'n_bins' is not defined"
     ]
    },
    {
     "data": {
      "image/png": "[encoded data removed]",
      "text/plain": [
       "<Figure size 432x288 with 4 Axes>"
      ]
     },
     "metadata": {
      "needs_background": "light"
     },
     "output_type": "display_data"
    }
   ],
   "source": [
    "pVals_300_380, eVals_300_380, heightsP_300_380, heightsE_300_380, boundsP_300_380 = graphAndReturn(250,310)\n",
    "grapher(pVals_300_380, eVals_300_380, heightsP_300_380, heightsE_300_380, boundsP_300_380)"
   ]
  }
 ],
 "metadata": {
  "kernelspec": {
   "display_name": "Python 3",
   "language": "python",
   "name": "python3"
  },
  "language_info": {
   "codemirror_mode": {
    "name": "ipython",
    "version": 3
   },
   "file_extension": ".py",
   "mimetype": "text/x-python",
   "name": "python",
   "nbconvert_exporter": "python",
   "pygments_lexer": "ipython3",
   "version": "3.7.1"
  }
 },
 "nbformat": 4,
 "nbformat_minor": 4
}
