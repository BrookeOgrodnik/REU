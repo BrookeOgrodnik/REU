{
 "cells": [
  {
   "cell_type": "code",
   "execution_count": 58,
   "metadata": {},
   "outputs": [],
   "source": [
    "def sist(ls):\n",
    "    l = len(ls)\n",
    "    n = sum(ls)\n",
    "    outputs = []\n",
    "    for s1 in range(1,n+1):\n",
    "        for s2 in range(1,n+1):\n",
    "            part1, part2 = [],[]\n",
    "            length1 = abs(s2-s1)-1\n",
    "            length2 = n-length1-2\n",
    "            if length1<0:\n",
    "                continue\n",
    "            else:\n",
    "                i, sumSoFar = 0,0\n",
    "                while(sumSoFar+ls[i]<=s1):\n",
    "                    sumSoFar+=ls[i]\n",
    "                    i = (i+1)%l\n",
    "                part1.append(sumSoFar+ls[i]-(s1))\n",
    "                sumSoFar=0\n",
    "                while(sumSoFar+ls[i]<=length1):\n",
    "                    part1.append(ls[i])\n",
    "                    sumSoFar+=ls[i]\n",
    "                    i = (i+1)%l\n",
    "                if (sumSoFar+ls[i]!=length1):\n",
    "                    part1.append(length1-sumSoFar)\n",
    "                    part2.append(sumSoFar+ls[i]-length1)\n",
    "                sumSoFar = 0\n",
    "                while(sumSoFar+ls[i]<=length2):\n",
    "                    part2.append(ls[i])\n",
    "                    sumSoFar+=ls[i]\n",
    "                    i = (i+1)%l\n",
    "                part2.append(length2-sumSoFar)\n",
    "                outputs.append((part1,part2,(s1,s2)))\n",
    "    return outputs\n",
    "\n",
    "def se(ls):\n",
    "    output = []\n",
    "    for i in range(len(ls)):\n",
    "        if i%2==0:\n",
    "            for j in range(ls[i]):\n",
    "                output.append(1)\n",
    "        else:\n",
    "            for j in range(ls[i]):\n",
    "                output.append(0)\n",
    "    return output\n",
    "\n",
    "def recover(ls):\n",
    "    output = []\n",
    "    i=0\n",
    "    while i<len(ls):\n",
    "        counter=1\n",
    "        while(i<len(ls)-1 and ls[i] == ls[i+1]):\n",
    "            i+=1\n",
    "            counter+=1\n",
    "        i+=1\n",
    "        output.append(counter)\n",
    "    return output"
   ]
  },
  {
   "cell_type": "code",
   "execution_count": 59,
   "metadata": {},
   "outputs": [
    {
     "data": {
      "text/plain": [
       "[1, 2, 5]"
      ]
     },
     "execution_count": 59,
     "metadata": {},
     "output_type": "execute_result"
    }
   ],
   "source": [
    "recover([1, 0, 0, 1, 1, 1, 1, 1])"
   ]
  },
  {
   "cell_type": "code",
   "execution_count": null,
   "metadata": {},
   "outputs": [],
   "source": []
  }
 ],
 "metadata": {
  "kernelspec": {
   "display_name": "Python 3",
   "language": "python",
   "name": "python3"
  },
  "language_info": {
   "codemirror_mode": {
    "name": "ipython",
    "version": 3
   },
   "file_extension": ".py",
   "mimetype": "text/x-python",
   "name": "python",
   "nbconvert_exporter": "python",
   "pygments_lexer": "ipython3",
   "version": "3.7.1"
  }
 },
 "nbformat": 4,
 "nbformat_minor": 2
}
