{
 "cells": [
  {
   "cell_type": "code",
   "execution_count": 1,
   "metadata": {},
   "outputs": [],
   "source": [
    "data_path = \"new_sequences20.dat\""
   ]
  },
  {
   "cell_type": "code",
   "execution_count": 2,
   "metadata": {},
   "outputs": [],
   "source": [
    "import math\n",
    "import time\n",
    "import matplotlib\n",
    "import numpy as np\n",
    "import matplotlib.pyplot as plt\n",
    "from numpy.linalg import matrix_power\n",
    "from sympy.geometry import Point, Circle\n",
    "from numpy import pi"
   ]
  },
  {
   "cell_type": "code",
   "execution_count": 3,
   "metadata": {},
   "outputs": [],
   "source": [
    "tolerance = 1e-6\n",
    "epsilon = .1"
   ]
  },
  {
   "cell_type": "code",
   "execution_count": 4,
   "metadata": {},
   "outputs": [],
   "source": [
    "def isOdd(sequence):\n",
    "    return len(sequence) % 2"
   ]
  },
  {
   "cell_type": "code",
   "execution_count": 5,
   "metadata": {},
   "outputs": [],
   "source": [
    "def isEven(sequence):\n",
    "    return not isOdd(sequence)"
   ]
  },
  {
   "cell_type": "code",
   "execution_count": 6,
   "metadata": {},
   "outputs": [],
   "source": [
    "def genLen(generator):\n",
    "    return sum(1 for _ in generator)"
   ]
  },
  {
   "cell_type": "code",
   "execution_count": 7,
   "metadata": {},
   "outputs": [],
   "source": [
    "def cfToMatrix(sequence):\n",
    "    matrix = np.eye(2, dtype=np.int64)\n",
    "    for x in sequence:\n",
    "        matrix = np.matmul(matrix, [[x, 1], [1, 0]])\n",
    "    return matrix"
   ]
  },
  {
   "cell_type": "code",
   "execution_count": 8,
   "metadata": {},
   "outputs": [],
   "source": [
    "def npCfReduce(cf): #works on fully periodic continued fractions\n",
    "    mat = cfToMat(cf)\n",
    "    return (mat[0,0]-mat[1,1] + math.sqrt(mat[0,0]**2+mat[1,1]**2+2*mat[1,0]*mat[0,1]-2))/(2*mat[1,0])"
   ]
  },
  {
   "cell_type": "code",
   "execution_count": 9,
   "metadata": {},
   "outputs": [],
   "source": [
    "def cfMatrixTrace(sequence):\n",
    "    return np.trace(cfToMatrix(sequence))"
   ]
  },
  {
   "cell_type": "code",
   "execution_count": 10,
   "metadata": {},
   "outputs": [],
   "source": [
    "def asMatrix(sequence):\n",
    "    return cfToMatrix(sequence + sequence if isOdd(sequence) else sequence)"
   ]
  },
  {
   "cell_type": "code",
   "execution_count": 11,
   "metadata": {},
   "outputs": [],
   "source": [
    "def matrixTrace(sequence):\n",
    "    return np.trace(asMatrix(sequence))"
   ]
  },
  {
   "cell_type": "code",
   "execution_count": 12,
   "metadata": {},
   "outputs": [],
   "source": [
    "def rotl(x, k):\n",
    "    return x[k:] + x[:k]"
   ]
  },
  {
   "cell_type": "code",
   "execution_count": 13,
   "metadata": {},
   "outputs": [],
   "source": [
    "def minRot(x, step=1):\n",
    "    return min(rotl(x, k) for k in range(0, len(x), step))"
   ]
  },
  {
   "cell_type": "code",
   "execution_count": 14,
   "metadata": {},
   "outputs": [],
   "source": [
    "def minRot2(x):\n",
    "    return minRot(x, step=2)"
   ]
  },
  {
   "cell_type": "code",
   "execution_count": 15,
   "metadata": {},
   "outputs": [],
   "source": [
    "def traceToLength(t):\n",
    "    return 2 * np.arccosh(t / 2)"
   ]
  },
  {
   "cell_type": "code",
   "execution_count": 16,
   "metadata": {},
   "outputs": [],
   "source": [
    "def lengthToTrace(l):\n",
    "    return 2 * np.cosh(l / 2)"
   ]
  },
  {
   "cell_type": "code",
   "execution_count": 17,
   "metadata": {},
   "outputs": [],
   "source": [
    "def actualSequencesGen(data, length):\n",
    "    min_trace = int(lengthToTrace(length)) + 1\n",
    "    max_trace = int(lengthToTrace(length + 1)) + 1\n",
    "    for x in data:\n",
    "        trace = matrixTrace(x)\n",
    "        if trace < min_trace or trace >= max_trace:\n",
    "            x *= int((length + 1) / traceToLength(trace))\n",
    "        if isOdd(x):\n",
    "            # Expand condensed form, and then symmetrize by time reversal\n",
    "            yield x + x\n",
    "        else:\n",
    "            # Symmetrize by both R-L flip and time reversal, and add all four\n",
    "            yield x\n",
    "            yield rotl(x, 1)"
   ]
  },
  {
   "cell_type": "code",
   "execution_count": 18,
   "metadata": {},
   "outputs": [],
   "source": [
    "def actualSequences(data, length):\n",
    "    return list(actualSequencesGen(data, length))"
   ]
  },
  {
   "cell_type": "code",
   "execution_count": 19,
   "metadata": {},
   "outputs": [],
   "source": [
    "def guysForTraceGen(data, trace):\n",
    "    length = int(traceToLength(trace))\n",
    "    sequences = actualSequencesGen(data.get(length), length)\n",
    "    matched = (x for x in sequences if cfMatrixTrace(x) == trace)\n",
    "    yield from reduceAndRemoveDuplicatesGen(matched)"
   ]
  },
  {
   "cell_type": "code",
   "execution_count": 20,
   "metadata": {},
   "outputs": [],
   "source": [
    "def guysForTrace(data, trace):\n",
    "    return list(guysForTraceGen(data, trace))"
   ]
  },
  {
   "cell_type": "code",
   "execution_count": 21,
   "metadata": {},
   "outputs": [],
   "source": [
    "def geosInTraceRangeGen(data, tmin, tmax):\n",
    "    for i in range(tmin, tmax + 1):\n",
    "        yield from guysForTraceGen(data, i)"
   ]
  },
  {
   "cell_type": "code",
   "execution_count": 22,
   "metadata": {},
   "outputs": [],
   "source": [
    "def geosInTraceRange(data, tmin, tmax):\n",
    "    return list(geosInTraceRangeGen(data, tmin, tmax))"
   ]
  },
  {
   "cell_type": "code",
   "execution_count": 23,
   "metadata": {},
   "outputs": [],
   "source": [
    "def pantsInTraceRange(data, tmin, tmax):\n",
    "    return getPants(geosInTraceRangeGen(data, tmin, tmax))\n",
    "\n",
    "def pantsInTraceRange2(data, tmin, tmax):\n",
    "    return getPants2(geosInTraceRangeGen(data, tmin, tmax))"
   ]
  },
  {
   "cell_type": "code",
   "execution_count": 24,
   "metadata": {},
   "outputs": [],
   "source": [
    "def pantsInTraceRangeDict(data, tmin, tmax):\n",
    "    return getPantsDict(geosInTraceRangeGen(data, tmin, tmax))"
   ]
  },
  {
   "cell_type": "code",
   "execution_count": 25,
   "metadata": {},
   "outputs": [],
   "source": [
    "def reduceAndRemoveDuplicatesGen(sequences):\n",
    "    for x in {tuple(minRot2(s)) for s in sequences}:\n",
    "        if minRot2(x[::-1]) != x:\n",
    "            yield list(x)"
   ]
  },
  {
   "cell_type": "code",
   "execution_count": 26,
   "metadata": {},
   "outputs": [],
   "source": [
    "def reduceAndRemoveDuplicates(sequences):\n",
    "    return list(reduceAndRemoveDuplicatesGen(sequences))"
   ]
  },
  {
   "cell_type": "code",
   "execution_count": 27,
   "metadata": {},
   "outputs": [],
   "source": [
    "def cfListToDicts(cfs):\n",
    "    forward, reverse = {}, {}\n",
    "    for cf in cfs:\n",
    "        for left, right in split(cf):\n",
    "            if left in forward:\n",
    "                forward[left].add(right)\n",
    "            else:\n",
    "                forward[left] = {right}\n",
    "            if right in reverse:\n",
    "                reverse[right].add(left)\n",
    "            else:\n",
    "                reverse[right] = {left}\n",
    "    return forward, reverse"
   ]
  },
  {
   "cell_type": "code",
   "execution_count": 28,
   "metadata": {},
   "outputs": [],
   "source": [
    "def permutationsOfGen(sequence):\n",
    "    for n in range(0, len(sequence), 1 if isOdd(sequence) else 2):\n",
    "        yield rotl(sequence, n)"
   ]
  },
  {
   "cell_type": "code",
   "execution_count": 29,
   "metadata": {},
   "outputs": [],
   "source": [
    "def permutationsOf(sequence):\n",
    "    return list(permutationsOfGen(sequence))"
   ]
  },
  {
   "cell_type": "code",
   "execution_count": 30,
   "metadata": {},
   "outputs": [],
   "source": [
    "def minPermutations(sequence):\n",
    "    return min(permutationsOfGen(sequence))"
   ]
  },
  {
   "cell_type": "code",
   "execution_count": 31,
   "metadata": {},
   "outputs": [],
   "source": [
    "def inv(lr_sequence):\n",
    "    return tuple((np.array(lr_sequence[::-1]) - 1) ** 2)"
   ]
  },
  {
   "cell_type": "code",
   "execution_count": 32,
   "metadata": {},
   "outputs": [],
   "source": [
    "def splitGen(continued_fraction):\n",
    "    converted = contFracToLR(continued_fraction)\n",
    "    n = len(converted)\n",
    "    for i, j in pairsGen(converted):\n",
    "        rotated = rotl(converted, i)\n",
    "        yield (tuple(rotated[1:(j - i) % n]),\n",
    "               tuple(inv(rotated[(j - i) % n + 1:])))"
   ]
  },
  {
   "cell_type": "code",
   "execution_count": 33,
   "metadata": {},
   "outputs": [],
   "source": [
    "def split(continued_fraction):\n",
    "    return list(splitGen(continued_fraction))"
   ]
  },
  {
   "cell_type": "code",
   "execution_count": 34,
   "metadata": {},
   "outputs": [],
   "source": [
    "def contFracToLRGen(continued_fraction):\n",
    "    if isOdd(continued_fraction):\n",
    "        continued_fraction += continued_fraction\n",
    "    for i in range(len(continued_fraction)):\n",
    "        for j in range(continued_fraction[i]):\n",
    "            yield i % 2"
   ]
  },
  {
   "cell_type": "code",
   "execution_count": 35,
   "metadata": {},
   "outputs": [],
   "source": [
    "def contFracToLR(continued_fraction):\n",
    "    return list(contFracToLRGen(continued_fraction))"
   ]
  },
  {
   "cell_type": "code",
   "execution_count": 36,
   "metadata": {},
   "outputs": [],
   "source": [
    "def indicesGen(lr_sequence):\n",
    "    for i in range(len(lr_sequence)):\n",
    "        if lr_sequence[i] == 1:\n",
    "            yield i"
   ]
  },
  {
   "cell_type": "code",
   "execution_count": 37,
   "metadata": {},
   "outputs": [],
   "source": [
    "def indices(lr_sequence):\n",
    "    return list(indicesGen(lr_sequence))"
   ]
  },
  {
   "cell_type": "code",
   "execution_count": 38,
   "metadata": {},
   "outputs": [],
   "source": [
    "def pairsGen(lr_sequence):\n",
    "    sequence_indices = indices(lr_sequence)\n",
    "    for i in sequence_indices:\n",
    "        for j in sequence_indices:\n",
    "            if i != j:\n",
    "                yield (i, j)"
   ]
  },
  {
   "cell_type": "code",
   "execution_count": 39,
   "metadata": {},
   "outputs": [],
   "source": [
    "def pairs(lr_sequence):\n",
    "    return list(pairsGen(lr_sequence))"
   ]
  },
  {
   "cell_type": "code",
   "execution_count": 40,
   "metadata": {},
   "outputs": [],
   "source": [
    "def recover(ls):\n",
    "    output = []\n",
    "    i = 0\n",
    "    while i < len(ls):\n",
    "        counter = 1\n",
    "        while (i < len(ls) - 1 and ls[i] == ls[i + 1]):\n",
    "            i += 1\n",
    "            counter += 1\n",
    "        i += 1\n",
    "        output.append(counter)\n",
    "    if isOdd(output):    #this is the line where we lump things\n",
    "        output[-1] += output[0]\n",
    "        output = output[1:]\n",
    "    return output\n",
    "\n",
    "def recover2(ls):\n",
    "    output = []\n",
    "    i = 0\n",
    "    while i < len(ls):\n",
    "        counter = 1\n",
    "        while (i < len(ls) - 1 and ls[i] == ls[i + 1]):\n",
    "            i += 1\n",
    "            counter += 1\n",
    "        i += 1\n",
    "        output.append(counter)\n",
    "    if isOdd(output):  \n",
    "        output = [0]+output\n",
    "    return output"
   ]
  },
  {
   "cell_type": "code",
   "execution_count": 41,
   "metadata": {},
   "outputs": [],
   "source": [
    "def pairToFrac(s1, s2):\n",
    "    return minPermutations(recover(list(s1) + [1] + list(inv(s2)) + [1]))\n",
    "\n",
    "def pairToFrac2(s1,s2):\n",
    "    return recover2(list(s1) + [1] + list(inv(s2)) + [1])"
   ]
  },
  {
   "cell_type": "code",
   "execution_count": 42,
   "metadata": {},
   "outputs": [],
   "source": [
    "def getPants(cf_list): #output here is set of triples of theta sequences\n",
    "    forward, reverse = cfListToDicts(cf_list)\n",
    "    pants = set()\n",
    "    for s0 in forward:\n",
    "        for s1 in forward[s0]:\n",
    "            if s1 in forward and s0 in reverse:\n",
    "                for s2 in forward[s1].intersection(reverse[s0]):\n",
    "                    y0 = pairToFrac(s0, s1)\n",
    "                    y1 = pairToFrac(s1, s2)\n",
    "                    y2 = pairToFrac(s2, s0)\n",
    "                    s0i, s1i,s2i = inv(s0), inv(s1), inv(s2)\n",
    "                    if not (y0 == y1 or y1 == y2 or y0 == y2):\n",
    "                        if (s1,s2,s0) not in pants and (s2,s0,s1) not in pants and (s2i,s1i,s0i) not in pants and (s1i,s0i,s2i) not in pants and (s0i,s2i,s1i) not in pants:\n",
    "                            pants.add((s0, s1, s2))\n",
    "    return pants\n",
    "\n",
    "def getPants2(cf_list): #output here is list of triples of geos\n",
    "    forward, reverse = cfListToDicts(cf_list)\n",
    "    pants = set()\n",
    "    for s0 in forward:\n",
    "        for s1 in forward[s0]:\n",
    "            if s1 in forward and s0 in reverse:\n",
    "                for s2 in forward[s1].intersection(reverse[s0]):\n",
    "                    y0 = pairToFrac(s0, s1)\n",
    "                    y1 = pairToFrac(s1, s2)\n",
    "                    y2 = pairToFrac(s2, s0)\n",
    "                    if not (y0 == y1 or y1 == y2 or y0 == y2):\n",
    "                        pants.add((y0, y1, y2))\n",
    "    return pants"
   ]
  },
  {
   "cell_type": "code",
   "execution_count": 43,
   "metadata": {},
   "outputs": [],
   "source": [
    "def getPantsDict(cf_list):\n",
    "    forward, reverse = cfListToDicts(cf_list)\n",
    "    pantsDict = {}\n",
    "    for s0 in forward:\n",
    "        for s1 in forward[s0]:\n",
    "            if s1 in forward and s0 in reverse:\n",
    "                for s2 in forward[s1].intersection(reverse[s0]):\n",
    "                    y0 = tuple(pairToFrac(s0, s1))\n",
    "                    y1 = tuple(pairToFrac(s1, s2))\n",
    "                    y2 = tuple(pairToFrac(s2, s0))\n",
    "                    s0i, s1i,s2i = inv(s0), inv(s1), inv(s2)\n",
    "                    if not (y0 == y1 or y1 == y2 or y0 == y2):\n",
    "                        if y0 in pantsDict and (s1,s2,s0) not in pantsDict[y0] and (s2,s0,s1) not in pantsDict[y0] and (s2i,s1i,s0i) not in pantsDict[y0] and (s1i,s0i,s2i) not in pantsDict[y0] and (s0i,s2i,s1i) not in pantsDict[y0]:\n",
    "                            pantsDict[y0].add((s0,s1,s2))\n",
    "                        else:\n",
    "                            pantsDict[y0] = {(s0,s1,s2)}\n",
    "                        if y1 in pantsDict and (s1,s2,s0) not in pantsDict[y0] and (s2,s0,s1) not in pantsDict[y0] and (s2i,s1i,s0i) not in pantsDict[y0] and (s1i,s0i,s2i) not in pantsDict[y0] and (s0i,s2i,s1i) not in pantsDict[y0]:\n",
    "                            pantsDict[y1].add((s0,s1,s2))\n",
    "                        else:\n",
    "                            pantsDict[y1] = {(s0,s1,s2)}\n",
    "                        if y2 in pantsDict and (s1,s2,s0) not in pantsDict[y0] and (s2,s0,s1) not in pantsDict[y0] and (s2i,s1i,s0i) not in pantsDict[y0] and (s1i,s0i,s2i) not in pantsDict[y0] and (s0i,s2i,s1i) not in pantsDict[y0]:\n",
    "                            pantsDict[y2].add((s0,s1,s2))\n",
    "                        else:\n",
    "                            pantsDict[y2] = {(s0,s1,s2)}\n",
    "    return pantsDict"
   ]
  },
  {
   "cell_type": "code",
   "execution_count": 44,
   "metadata": {},
   "outputs": [],
   "source": [
    "def pantsInTraceRangeWithCuff(data, tmin, tmax, cutting_sequence):\n",
    "    pants_with_cuff = []\n",
    "    for pants in pantsInTraceRange(data, tmin, tmax):\n",
    "        if cutting_sequence in pants:\n",
    "            pants_with_cuff.append(pants)\n",
    "    return pants_with_cuff"
   ]
  },
  {
   "cell_type": "code",
   "execution_count": 45,
   "metadata": {},
   "outputs": [],
   "source": [
    "def pantsInTraceRangeWithCuffGen(data, tmin, tmax, cutting_sequence):\n",
    "    for pants in pantsInTraceRange(data, tmin, tmax):\n",
    "        if cutting_sequence in pants:\n",
    "            yield pants"
   ]
  },
  {
   "cell_type": "code",
   "execution_count": 46,
   "metadata": {},
   "outputs": [],
   "source": [
    "def boundaryCountForOrientedCuffs(data, tmin, tmax, cutting_sequence):\n",
    "    cutting_sequence_reverse = cutting_sequence[::-1]\n",
    "    positive = pantsInTraceRangeWithCuffGen(data, tmin, tmax, minPermutations(cutting_sequence))\n",
    "    negative = pantsInTraceRangeWithCuffGen(data, tmin, tmax, minPermutations(cutting_sequence_reverse))\n",
    "    return genLen(positive) - genLen(negative)"
   ]
  },
  {
   "cell_type": "code",
   "execution_count": 47,
   "metadata": {},
   "outputs": [],
   "source": [
    "def cfToMat(cf):\n",
    "    mat = np.identity(2)\n",
    "    length = 0\n",
    "    for x in cf:\n",
    "        mat = np.matmul(mat, [[x, 1], [1, 0]])\n",
    "        length += 1\n",
    "    if length % 2:\n",
    "        mat = np.matmul(mat, mat)\n",
    "    return np.array(mat).astype(int)"
   ]
  },
  {
   "cell_type": "code",
   "execution_count": 48,
   "metadata": {},
   "outputs": [],
   "source": [
    "def halfLength(cf):\n",
    "    return math.acosh(np.trace(cfToMat(cf))/2)"
   ]
  },
  {
   "cell_type": "code",
   "execution_count": 49,
   "metadata": {},
   "outputs": [],
   "source": [
    "def pantsToGeodesics(pants_list):\n",
    "    positives = []\n",
    "    for pants in pants_list:\n",
    "        geos = [pairToFrac(pants[0], pants[1]), pairToFrac(pants[1], pants[2]), pairToFrac(pants[2], pants[0])]\n",
    "        for geodesic in geos:\n",
    "            min_geo = minPermutations(geodesic)\n",
    "            min_inv_geo = minPermutations(min_geo[::-1])\n",
    "            if not (min_geo in positives or min_inv_geo in positives):\n",
    "                positives.append(min_geo)\n",
    "    return positives"
   ]
  },
  {
   "cell_type": "code",
   "execution_count": 50,
   "metadata": {},
   "outputs": [],
   "source": [
    "def geosToEyesGen(geodesics):\n",
    "    for geodesic in geodesics:\n",
    "        for i in range(0, len(geodesic), 2):\n",
    "            rotated = rotl(list(geodesic), i)[1:]\n",
    "            rotated[0] -= 1\n",
    "            rotated[-1] -= 1\n",
    "            yield (geodesic, tuple(rotated))"
   ]
  },
  {
   "cell_type": "code",
   "execution_count": 51,
   "metadata": {},
   "outputs": [],
   "source": [
    "def geosToEyes(geodesics):\n",
    "    return list(geosToEyesGen(geodesics))"
   ]
  },
  {
   "cell_type": "code",
   "execution_count": 52,
   "metadata": {},
   "outputs": [],
   "source": [
    "def cuspInv(cusp):\n",
    "    inv_cusp = list(cusp[::-1])\n",
    "    if len(inv_cusp) == 1 and inv_cusp[0] <= 0:\n",
    "        return tuple(inv_cusp)\n",
    "    else:\n",
    "        if inv_cusp[0] == 0:\n",
    "            inv_cusp = inv_cusp[1:]\n",
    "        else:\n",
    "            inv_cusp = [0] + inv_cusp\n",
    "        if inv_cusp[-1] == 0:\n",
    "            inv_cusp = inv_cusp[:-1]\n",
    "        else:\n",
    "            inv_cusp = inv_cusp + [0]\n",
    "        return tuple(inv_cusp)"
   ]
  },
  {
   "cell_type": "code",
   "execution_count": 53,
   "metadata": {},
   "outputs": [],
   "source": [
    "def eyesToCusps(eyes):\n",
    "    cusps = []\n",
    "    for eye in eyes:\n",
    "        eye = eye[1]\n",
    "        inv_eye = cuspInv(eye)\n",
    "        if not (eye in cusps or inv_eye in cusps):\n",
    "            cusps.append(eye)\n",
    "    return cusps"
   ]
  },
  {
   "cell_type": "code",
   "execution_count": 54,
   "metadata": {},
   "outputs": [],
   "source": [
    "def pantsAndEyesToMatrix(pants_list, eye_list, pos_geos, pos_cusps):\n",
    "    geo_indices, cusp_indices = {}, {}\n",
    "    basis_count = len(pos_geos) + len(pos_cusps)\n",
    "    \n",
    "    for i in range(basis_count):\n",
    "        if i < len(pos_geos):\n",
    "            geo_indices[pos_geos[i]] = i \n",
    "        else:\n",
    "            cusp_indices[pos_cusps[i - len(pos_geos)]] = i\n",
    "\n",
    "    columns = []\n",
    "    for pants in pants_list:\n",
    "        column = np.zeros(basis_count)\n",
    "        for geo in pants:\n",
    "            if geo in geo_indices:\n",
    "                column[geo_indices[geo]] = 1\n",
    "            else:\n",
    "                column[geo_indices[minPermutations(geo[::-1])]] = -1\n",
    "        columns.append(column)\n",
    "    \n",
    "    for eye in eye_list:\n",
    "        column = np.zeros(basis_count)\n",
    "        if eye[0] in geo_indices:\n",
    "            column[geo_indices[eye[0]]] = 1\n",
    "        else:\n",
    "            column[geo_indices[minPermutations(eye[0][::-1])]] = -1\n",
    "        if eye[1] in cusp_indices:\n",
    "            column[cusp_indices[eye[1]]] = 1\n",
    "        else:\n",
    "            column[cusp_indices[cuspInv(eye[1])]] = -1\n",
    "        columns.append(column)\n",
    "    \n",
    "    return np.column_stack(columns)"
   ]
  },
  {
   "cell_type": "code",
   "execution_count": 55,
   "metadata": {},
   "outputs": [],
   "source": [
    "class LineReader:\n",
    "    \"\"\"\n",
    "    Read a static file with smart line access.\n",
    "\n",
    "    WARNING: This implementation assumes that the file does not change between\n",
    "    calls of the `clear` function and never checks for valid file handlers.\n",
    "    \"\"\"\n",
    "\n",
    "    def __init__(self, file_handle=None, parser=lambda e: e):\n",
    "        \"\"\"Initialize the LineReader.\"\"\"\n",
    "        self.file_handle = file_handle\n",
    "        self.parser = parser\n",
    "        self.clear()\n",
    "\n",
    "    def clear(self):\n",
    "        \"\"\"Clear line cache and offset table.\"\"\"\n",
    "        self.cache = {}\n",
    "        self.offsets = []\n",
    "\n",
    "    def get(self, n):\n",
    "        \"\"\"\n",
    "        Get line as fast as possible, using the line cache and offset table.\n",
    "        \"\"\"\n",
    "        line = self.cache.get(n)\n",
    "        if line is not None or n < 0:\n",
    "            return line\n",
    "        offset_index = len(self.offsets) - 1\n",
    "        if offset_index >= n:\n",
    "            self.file_handle.seek(self.offsets[n])\n",
    "            self.cache[n] = self.parser(self.file_handle.readline()[:-1])\n",
    "            return self.cache[n]\n",
    "        if not self.offsets:\n",
    "            self.offsets.append(0)\n",
    "            offset_index = 0\n",
    "        self.file_handle.seek(self.offsets[-1])\n",
    "        for (index, line) in enumerate(self.file_handle, start=offset_index):\n",
    "            self.offsets.append(self.offsets[-1] + len(line))\n",
    "            if index == n:\n",
    "                self.cache[n] = self.parser(line[:-1])\n",
    "                return self.cache[n]\n",
    "        return None"
   ]
  },
  {
   "cell_type": "code",
   "execution_count": 56,
   "metadata": {},
   "outputs": [],
   "source": [
    "def getOrtho(circ1,circ2):\n",
    "    r1,x1 = circ1 \n",
    "    r2,x2 = circ2\n",
    "    if abs(x1-x2)<tolerance:\n",
    "        return (np.inf, (x1+x2)/2)\n",
    "    c1 = x1**2-r1**2\n",
    "    c2 = x2**2-r2**2\n",
    "    h = (c1-c2)/(2*(x2-x1))\n",
    "    x3 = -h\n",
    "    r3 = math.sqrt(h**2+2*x1*h+c1)\n",
    "    return (r3, x3)"
   ]
  },
  {
   "cell_type": "code",
   "execution_count": 57,
   "metadata": {},
   "outputs": [],
   "source": [
    "def toInterval(circ): #we implicitly assume that we can never have trivial intervals of (x,x) = emptyset\n",
    "    r,x = circ\n",
    "    if r==np.inf:\n",
    "        return (x,np.inf)\n",
    "    elif r==np.NINF:\n",
    "        return (np.NINF,x)\n",
    "    else:\n",
    "        return (x-r, x+r)"
   ]
  },
  {
   "cell_type": "code",
   "execution_count": 58,
   "metadata": {},
   "outputs": [],
   "source": [
    "def getDist(circ1,circ2):\n",
    "    circ1,circ2 = getInv(circ1), getInv(circ2)\n",
    "    t1,u1,v1 = circ1\n",
    "    t2,u2,v2 = circ2\n",
    "    a = (t1*u2/2+t2*u1/2-v1*v2)\n",
    "    return math.acosh(abs(a)+tolerance)"
   ]
  },
  {
   "cell_type": "code",
   "execution_count": 59,
   "metadata": {},
   "outputs": [],
   "source": [
    "def getInv(circ):\n",
    "    r,x = circ\n",
    "    if r == np.inf or r == np.NINF:\n",
    "        return (2*x,0,1)\n",
    "    return ((x**2-r**2)/r, 1/r, x/r)"
   ]
  },
  {
   "cell_type": "code",
   "execution_count": 60,
   "metadata": {},
   "outputs": [],
   "source": [
    "def InvToNormal(circ,N):\n",
    "    t,u,v = circ\n",
    "    if abs(u)<tolerance:\n",
    "        return (np.inf,t/2)\n",
    "    else:\n",
    "        r = 1/u\n",
    "        x = r*v\n",
    "        return (r,x)"
   ]
  },
  {
   "cell_type": "code",
   "execution_count": 61,
   "metadata": {},
   "outputs": [],
   "source": [
    "def pIsIn(p,interval): # open intervals\n",
    "    if interval[0] < interval[1]:\n",
    "        return interval[0] < p and p < interval[1]\n",
    "    else:\n",
    "        return interval[0] < p or p < interval[1]"
   ]
  },
  {
   "cell_type": "code",
   "execution_count": 62,
   "metadata": {},
   "outputs": [],
   "source": [
    "def intIsIn(int1, int2): # returns whether interval 1 contains interval 2 (i.e. True = \"1 contains 2\")\n",
    "    if int1[0] < int1[1] and int2[0] < int2[1]:\n",
    "        return int1[0] <= int2[0] and int1[1] >= int2[1]\n",
    "    elif int1[0] > int1[1] and int2[0] < int2[1]:\n",
    "        return int1[0] <= int2[0] or int2[1] <= int1[1]\n",
    "    elif int1[0] > int1[1] and int2[0] > int2[1]:\n",
    "        return int1[0] <= int2[0] and int1[1] >= int2[1]\n",
    "    else:\n",
    "        return False"
   ]
  },
  {
   "cell_type": "code",
   "execution_count": 63,
   "metadata": {},
   "outputs": [],
   "source": [
    "def act(M,x):\n",
    "    return (M[0,0]*x+M[0,1])/(M[1,0]*x+M[1,1])"
   ]
  },
  {
   "cell_type": "code",
   "execution_count": 64,
   "metadata": {},
   "outputs": [],
   "source": [
    "def radiusCenterPlotter(circArray,s= 5): #draw circle given an array of radii and centers\n",
    "    fig, ax = plt.subplots()\n",
    "    fig.set_size_inches(s, s)\n",
    "    circles = [circ for circ in circArray if circ[0]!=np.inf and circ[0]!=-np.inf]\n",
    "    lines = [line for line in circArray if line[0]==np.inf or line[0]==-np.inf]\n",
    "    minimum = min([circ[1]-abs(circ[0]) for circ in circles]+[l[1] for l in lines])\n",
    "    maximum = max([circ[1]+abs(circ[0]) for circ in circles]+[l[1] for l in lines])\n",
    "    ranges = maximum-minimum\n",
    "    maximum+=ranges/20\n",
    "    minimum-=ranges/20\n",
    "    maxY = max([abs(circ[0]) for circ in circles])\n",
    "    maxY+=maxY/20\n",
    "    ax.set_xlim(float(minimum),float(maximum))\n",
    "    ax.set_ylim(0, float(maxY))\n",
    "    \n",
    "    for circ in circles:\n",
    "        plotCirc = plt.Circle((circ[1],0), abs(circ[0]), fill = False)\n",
    "        if circ[0] > 0:\n",
    "            plt.plot(circ[1], abs(circ[0]), '>')\n",
    "        else:\n",
    "            plt.plot(circ[1], abs(circ[0]), '<')\n",
    "        ax.add_artist(plotCirc)\n",
    "    for line in lines:\n",
    "        plt.vlines(line[1], 0, float(maxY))\n",
    "        if line[0]> 0:\n",
    "            plt.plot(line[1],float(maxY/2), '^')\n",
    "        else:\n",
    "            plt.plot(line[1],float(maxY/2), 'v')\n",
    "    ax.set_aspect('equal', adjustable='box')"
   ]
  },
  {
   "cell_type": "code",
   "execution_count": 65,
   "metadata": {},
   "outputs": [],
   "source": [
    "def circlePoints(circ, N = 100):\n",
    "    r,x = circ\n",
    "    x_values,y_values = [],[]\n",
    "    for i in range(N+1):\n",
    "        curr_x = x+abs(r)*math.cos(math.pi*i/N)\n",
    "        curr_y = abs(r)*math.sin(math.pi*i/N)\n",
    "        x_values.append(curr_x)\n",
    "        y_values.append(curr_y)\n",
    "    if r < 0:\n",
    "        return (x_values,y_values)\n",
    "    else:\n",
    "        return (x_values[::-1],y_values[::-1])"
   ]
  },
  {
   "cell_type": "code",
   "execution_count": 66,
   "metadata": {},
   "outputs": [],
   "source": [
    "def h(point):\n",
    "    xVals, yVals = point[0][0], point[0][1]\n",
    "    output = [[],[]]\n",
    "    for i in range(len(xVals)):\n",
    "        x,y = xVals[i],yVals[i]\n",
    "        a = x**2+(y+1)**2\n",
    "        output[0].append((x**2+y**2-1)/a)\n",
    "        output[1].append(-2*x/a)\n",
    "    return output"
   ]
  },
  {
   "cell_type": "code",
   "execution_count": 67,
   "metadata": {},
   "outputs": [],
   "source": [
    "def add_arrow(line, position=None, direction='right', size=15):\n",
    "    \"\"\"\n",
    "    add an arrow to a line.\n",
    "\n",
    "    line:       Line2D object\n",
    "    position:   x-position of the arrow. If None, mean of xdata is taken\n",
    "    direction:  'left' or 'right'\n",
    "    size:       size of the arrow in fontsize points\n",
    "    color:      if None, line color is taken.\n",
    "    \"\"\"\n",
    "    xdata = line.get_xdata()\n",
    "    ydata = line.get_ydata()\n",
    "\n",
    "    if position is None:\n",
    "        position = xdata.mean()\n",
    "    # find closest index\n",
    "    start_ind = np.argmin(abs(xdata - position))\n",
    "    if direction == 'right':\n",
    "        end_ind = start_ind + 1\n",
    "    else:\n",
    "        end_ind = start_ind - 1\n",
    "\n",
    "    line.axes.annotate('',\n",
    "        xytext=(xdata[start_ind], ydata[start_ind]),\n",
    "        xy=(xdata[end_ind], ydata[end_ind]),\n",
    "        arrowprops=dict(arrowstyle='simple'),\n",
    "        size=size\n",
    "    )"
   ]
  },
  {
   "cell_type": "code",
   "execution_count": 68,
   "metadata": {},
   "outputs": [],
   "source": [
    "def radiusCenterPlotter2(circArray,s=5,n=0): #draw circle given an array of radii and centers\n",
    "    if n==0:\n",
    "        n = len(circArray)\n",
    "    dashed_val = 'solid'\n",
    "    fig, ax = plt.subplots()\n",
    "    fig.set_size_inches(s, s)\n",
    "    circles = [circ for circ in circArray if circ[0]!=np.inf and circ[0]!=-np.inf]\n",
    "    lines = [line for line in circArray if line[0]==np.inf or line[0]==-np.inf]\n",
    "    ax.set_xlim(-1,1.01)\n",
    "    ax.set_ylim(-1.001,1.001)\n",
    "    points = []\n",
    "    plotCirc = plt.Circle((0,0), 1, fill = False)\n",
    "    ax.add_artist(plotCirc)\n",
    "    plotCirc = plt.Circle((1,0), math.log(s)/100, fill = True, color = 'black', clip_on = False)\n",
    "    ax.add_artist(plotCirc)\n",
    "    plotCirc = plt.Circle((0,-1), math.log(s)/100, fill = True, color = 'black', clip_on = False)\n",
    "    ax.add_artist(plotCirc)\n",
    "    plotCirc = plt.Circle((-1,0), math.log(s)/100, fill = True, color = 'black', clip_on = False)\n",
    "    ax.add_artist(plotCirc)\n",
    "    for circ in circles:\n",
    "        points += [(circlePoints((circ[0], circ[1])),)]\n",
    "    for i in range(len(circles)):\n",
    "        circ = circles[i]\n",
    "        x_values,y_values = h(points[i])\n",
    "        if i>(n-1):\n",
    "            dashed_val = 'dashed'\n",
    "        line = plt.plot(x_values,y_values, 'black', linewidth = .3, linestyle = dashed_val)[0]    \n",
    "        pos = len(x_values)//2\n",
    "        angle = 180*math.atan2((y_values[pos+1]-y_values[pos]),(x_values[pos+1]-x_values[pos]))/math.pi\n",
    "        plt.plot(x_values[pos],y_values[pos], marker = (3, 0, angle+35), markersize=10, linestyle='None')\n",
    "   \n",
    "    for line in lines:\n",
    "        points = [[(line[1],line[1],line[1]),(5,10,15)]]\n",
    "        points = h(points)\n",
    "        p = points\n",
    "        points = (Point(p[0][0],p[1][0]), Point(p[0][1],p[1][1]), Point(p[0][2],p[1][2]))\n",
    "        circ = Circle(points[0],points[1],points[2])\n",
    "        r,center = circ.radius, (circ.center[0].evalf(),circ.center[1].evalf())\n",
    "        plotCirc = plt.Circle((center[0],center[1]), abs(r), fill = False, linestyle = 'dashed')\n",
    "        ax.add_artist(plotCirc)\n",
    "        #if line[0]< 0:\n",
    "        #    add_arrow(plotCirc,position = x_values[len(x_values)//2], direction = 'right')\n",
    "        #else:\n",
    "        #    add_arrow(plotCirc,position = x_values[len(x_values)//2], direction = 'left')\n",
    "    ax.set_aspect('equal', adjustable='box')\n",
    "    plt.axis('off')\n",
    "    ax.annotate(r\"$\\infty$\",(1,0),(1+math.log(s)/50,-math.log(s)/55), size = 15*math.log(s))\n",
    "    #plt.plot((1,0),color = 'black', marker = \"o\", markersize=10)\n",
    "    plt.show()"
   ]
  },
  {
   "cell_type": "code",
   "execution_count": 69,
   "metadata": {},
   "outputs": [],
   "source": [
    "def pantsInPlane(pants): #y0 is on top, y2 on left, y1 in default position (reduced position +1)\n",
    "    circles = []\n",
    "    s0,s1,s2 = pants\n",
    "    y2 = pairToFrac2(s0,s1)\n",
    "    y0 = pairToFrac2(s1,s2)\n",
    "    y1 = pairToFrac2(s2,s0)\n",
    "    B = lambda x : 1/(1-x)\n",
    "    \n",
    "    alpha = npCfReduce(y0)\n",
    "    alpha_conj = -1/(npCfReduce(y0[::-1]))\n",
    "    x_min = B(alpha_conj+1)\n",
    "    x_max = B(alpha+1)\n",
    "    r = (x_max-x_min)/2\n",
    "    x = (x_min+x_max)/2\n",
    "    circles.append((r,x))\n",
    "    \n",
    "    alpha = npCfReduce(y1)\n",
    "    alpha_conj = -1/(npCfReduce(y1[::-1]))\n",
    "    x_min = (alpha_conj+1)\n",
    "    x_max = (alpha+1)\n",
    "    r = (x_max-x_min)/2\n",
    "    x = (x_min+x_max)/2\n",
    "    circles.append((r,x))\n",
    "    \n",
    "    alpha = npCfReduce(y2)\n",
    "    alpha_conj = -1/(npCfReduce(y2[::-1]))\n",
    "    x_min = B(B(alpha_conj+1))\n",
    "    x_max = B(B(alpha+1))\n",
    "    r = (x_max-x_min)/2\n",
    "    x = (x_min+x_max)/2\n",
    "    circles.append((r,x))\n",
    "    \n",
    "    return circles"
   ]
  },
  {
   "cell_type": "code",
   "execution_count": 70,
   "metadata": {},
   "outputs": [],
   "source": [
    "def pantsPutterInv(pants1, pants2, # pants1 contains y, pants2 contains inv(y)\n",
    "                   y, s = 5, vis = True): # y is given in minimal form, without any 0's \n",
    "    s0,s1,s2 = pants1\n",
    "    pants1Arr = []\n",
    "    \n",
    "    pants1Arr.append(pairToFrac(s1,s2))\n",
    "    pants1Arr.append(pairToFrac(s2,s0))\n",
    "    pants1Arr.append(pairToFrac(s0,s1))\n",
    "    #pair to frac here sends extra R's at the front to the end, so it makes sense to compare to y later.\n",
    "    \n",
    "    i = -1\n",
    "    for l in range(3):\n",
    "        if pants1Arr[l] == y:\n",
    "            i = l\n",
    "    \n",
    "    pants1_new = [pairToFrac2(s1,s2),pairToFrac2(s2,s0),pairToFrac2(s0,s1)]\n",
    "    pants1_new = pants1_new[i:] + pants1_new[:i]\n",
    "    pants1  = pants1[i:] + pants1[:i]\n",
    "    \n",
    "    #the above puts the cuff that matches to y into the first slot of the array\n",
    "    #example: if i = 1, then pants1_new = [gamma1,gamma2,gamma0], and pants1 = [s1,s2,s0]\n",
    "    \n",
    "    s0,s1,s2 = pants2\n",
    "    \n",
    "    pants2Arr = []\n",
    "    \n",
    "    pants2Arr.append(pairToFrac(s1,s2))\n",
    "    pants2Arr.append(pairToFrac(s2,s0))\n",
    "    pants2Arr.append(pairToFrac(s0,s1))\n",
    "    \n",
    "    for l in range(3):\n",
    "        if minPermutations(pants2Arr[l][::-1]) == y:\n",
    "            i = l\n",
    "    \n",
    "    pants2_new = [pairToFrac2(s1,s2),pairToFrac2(s2,s0),pairToFrac2(s0,s1)]\n",
    "    pants2_new = pants2_new[i:] + pants2_new[:i]\n",
    "    pants2 = pants2[i:] + pants2[:i]\n",
    "    #the above puts the cuff that matches to the inverse of y into the first slot of the array\n",
    "    \n",
    "    gamma_1 = pants1_new[0]\n",
    "    gamma_2 = pants2_new[0]\n",
    "    \n",
    "    #the above are the two geodesics we want to match\n",
    "    A_1 = np.eye(2)\n",
    "    A_2 = np.eye(2)\n",
    "    if gamma_1[0]==0:\n",
    "        A_1 = np.linalg.inv(np.array([[0,1],[1,-gamma_1[1]]]) @ np.array([[0,1],[1,0]]))\n",
    "        gamma_1[-1]+=gamma_1[1]\n",
    "        gamma_1 = gamma_1[2:]\n",
    "    \n",
    "    #the above occurs when the start of the geo cutting sequence was an R and we then put a 0 in the cont frac\n",
    "    #to represent L^0\n",
    "    #we then store A_1 as the matrix that acts on the continued fraction by concatenating gamma_1[1] to the front\n",
    "    #next, we add gamma_1[1] to the last entry as that is how 0 works for continued fractions, and then take away entries\n",
    "        \n",
    "    \n",
    "    if gamma_2[0]==0:\n",
    "        A_2 = np.array([[0,1],[1,-gamma_2[1]]]) @ np.array([[0,1],[1,0]])\n",
    "        gamma_2[-1]+=gamma_2[1]\n",
    "        gamma_2 = gamma_2[2:]\n",
    "        \n",
    "    #the above stored matrix action on the cont frac is: delete the 0, then delete gamma_2[1] (really, rotate by 2 slots)\n",
    "    \n",
    "    gamma_2 = gamma_2[::-1]\n",
    "    l = len(gamma_1)\n",
    "    #reverse gamma_2 so we can compare it to gamma_1\n",
    "    k = -1\n",
    "    for i in range(0,l,2):\n",
    "        if (gamma_2[i:]+gamma_2[:i]) == gamma_1:\n",
    "            k = i\n",
    "    #the above marks which even permutation we need to take to match back to gamma_1\n",
    "    mat = np.array([[0,1],[-1,0]])\n",
    "\n",
    "    for i in range(k):\n",
    "        mat = np.matmul(np.array([[0,1],[1,-gamma_2[i]]]), mat)\n",
    "\n",
    "    #the original matrix is -1/z action that reverses the order of the cont frac of conj(z)\n",
    "    #the other multiplications take away entries now from the back of gamma_2\n",
    "        \n",
    "    B = np.array([[0,1],[-1,1]])\n",
    "    \n",
    "    #the above matrix permutes 0,1,infty cyclically. represented by: 1/(1-z)\n",
    "    \n",
    "    T = np.array([[1,1],[0,1]])\n",
    "    \n",
    "    #the above adds 1 to the cont frac\n",
    "    \n",
    "    T_inv = np.array([[1,-1],[0,1]])\n",
    "    \n",
    "    #the above subtracts 1 from the cont frac\n",
    "    \n",
    "    M = ((((((B @ T) @ A_1) @ mat) @ A_2) @ T_inv) @ matrix_power(B, 2))\n",
    "    pants2_in_plane = pantsInPlane(pants2)\n",
    "    min_max = [(x-r,x+r) for (r,x) in pants2_in_plane]\n",
    "    pants2_in_plane = [(act(M, mini),act(M,maxi)) for (mini,maxi) in min_max]\n",
    "    pants2_in_plane = [((x_max-x_min)/2,(x_max+x_min)/2) for (x_min,x_max) in pants2_in_plane]\n",
    "    pants1_in_plane  = pantsInPlane(pants1)\n",
    "    visualPt = pants1_in_plane[0][1] - pants1_in_plane[0][0]\n",
    "    if vis:\n",
    "        #radiusCenterPlotter(pants1_in_plane, s)\n",
    "        radiusCenterPlotter2(pants1_in_plane, s)\n",
    "        #radiusCenterPlotter(pants2_in_plane, s)\n",
    "        radiusCenterPlotter2(pants2_in_plane, s)\n",
    "        #radiusCenterPlotter(pants1_in_plane + pants2_in_plane, s)\n",
    "        radiusCenterPlotter2(pants1_in_plane + pants2_in_plane, s)\n",
    "    return (pants1_in_plane + pants2_in_plane, visualPt)"
   ]
  },
  {
   "cell_type": "code",
   "execution_count": 71,
   "metadata": {},
   "outputs": [],
   "source": [
    "def pantsPutterPos(pants1, pants2, # pants1 contains y, pants2 contains inv(y)\n",
    "                   y, s = 5, vis = True): # y is given in minimal form, without any 0's \n",
    "    s0,s1,s2 = pants1\n",
    "    pants1Arr = []\n",
    "    \n",
    "    pants1Arr.append(pairToFrac(s1,s2))\n",
    "    pants1Arr.append(pairToFrac(s2,s0))\n",
    "    pants1Arr.append(pairToFrac(s0,s1))\n",
    "    #pair to frac here sends extra R's at the front to the end, so it makes sense to compare to y later.\n",
    "    \n",
    "    i = -1\n",
    "    for l in range(3):\n",
    "        if pants1Arr[l] == y:\n",
    "            i = l\n",
    "    \n",
    "    pants1_new = [pairToFrac2(s1,s2),pairToFrac2(s2,s0),pairToFrac2(s0,s1)]\n",
    "    pants1_new = pants1_new[i:] + pants1_new[:i]\n",
    "    pants1  = pants1[i:] + pants1[:i]\n",
    "    \n",
    "    #the above puts the cuff that matches to y into the first slot of the array\n",
    "    #example: if i = 1, then pants1_new = [gamma1,gamma2,gamma0], and pants1 = [s1,s2,s0]\n",
    "    \n",
    "    s0,s1,s2 = pants2\n",
    "    \n",
    "    pants2Arr = []\n",
    "    \n",
    "    pants2Arr.append(pairToFrac(s1,s2))\n",
    "    pants2Arr.append(pairToFrac(s2,s0))\n",
    "    pants2Arr.append(pairToFrac(s0,s1))\n",
    "    \n",
    "    for l in range(3):\n",
    "        if pants2Arr[l] == y:\n",
    "            i = l\n",
    "    \n",
    "    pants2_new = [pairToFrac2(s1,s2),pairToFrac2(s2,s0),pairToFrac2(s0,s1)]\n",
    "    pants2_new = pants2_new[i:] + pants2_new[:i]\n",
    "    pants2 = pants2[i:] + pants2[:i]\n",
    "    #the above puts the cuff that matches to the inverse of y into the first slot of the array\n",
    "    \n",
    "    gamma_1 = pants1_new[0]\n",
    "    gamma_2 = pants2_new[0]\n",
    "    \n",
    "    #the above are the two geodesics we want to match\n",
    "    A_1 = np.eye(2)\n",
    "    A_2 = np.eye(2)\n",
    "    if gamma_1[0]==0:\n",
    "        A_1 = np.linalg.inv(np.array([[0,1],[1,-gamma_1[1]]]) @ np.array([[0,1],[1,0]]))\n",
    "        gamma_1[-1]+=gamma_1[1]\n",
    "        gamma_1 = gamma_1[2:]\n",
    "    \n",
    "    #the above occurs when the start of the geo cutting sequence was an R and we then put a 0 in the cont frac\n",
    "    #to represent L^0\n",
    "    #we then store A_1 as the matrix that acts on the continued fraction by concatenating gamma_1[1] to the front\n",
    "    #next, we add gamma_1[1] to the last entry as that is how 0 works for continued fractions, and then take away entries\n",
    "        \n",
    "    \n",
    "    if gamma_2[0]==0:\n",
    "        A_2 = np.array([[0,1],[1,-gamma_2[1]]]) @ np.array([[0,1],[1,0]])\n",
    "        gamma_2[-1]+=gamma_2[1]\n",
    "        gamma_2 = gamma_2[2:]\n",
    "        \n",
    "    #the above stored matrix action on the cont frac is: delete the 0, then delete gamma_2[1] (really, rotate by 2 slots)\n",
    "\n",
    "    l = len(gamma_1)\n",
    "    #reverse gamma_2 so we can compare it to gamma_1\n",
    "    k = -1\n",
    "    for i in range(0,l,2):\n",
    "        if (gamma_2[i:]+gamma_2[:i]) == gamma_1:\n",
    "            k = i\n",
    "    #the above marks which even permutation we need to take to match back to gamma_1\n",
    "    mat = np.eye(2)\n",
    "\n",
    "    for i in range(k):\n",
    "        mat = np.matmul(np.array([[0,1],[1,-gamma_2[i]]]), mat)\n",
    "\n",
    "    #the original matrix is -1/z action that reverses the order of the cont frac of conj(z)\n",
    "    #the other multiplications take away entries now from the back of gamma_2\n",
    "        \n",
    "    B = np.array([[0,1],[-1,1]])\n",
    "    \n",
    "    #the above matrix permutes 0,1,infty cyclically. represented by: 1/(1-z)\n",
    "    \n",
    "    T = np.array([[1,1],[0,1]])\n",
    "    \n",
    "    #the above adds 1 to the cont frac\n",
    "    \n",
    "    T_inv = np.array([[1,-1],[0,1]])\n",
    "    \n",
    "    #the above subtracts 1 from the cont frac\n",
    "    \n",
    "    M = ((((((B @ T) @ A_1) @ mat) @ A_2) @ T_inv) @ matrix_power(B, 2))\n",
    "    pants2_in_plane = pantsInPlane(pants2)\n",
    "    min_max = [(x-r,x+r) for (r,x) in pants2_in_plane]\n",
    "    pants2_in_plane = [(act(M, mini),act(M,maxi)) for (mini,maxi) in min_max]\n",
    "    pants2_in_plane = [((x_max-x_min)/2,(x_max+x_min)/2) for (x_min,x_max) in pants2_in_plane]\n",
    "    pants1_in_plane  = pantsInPlane(pants1)\n",
    "    visualPt = pants1_in_plane[0][1] - pants1_in_plane[0][0]\n",
    "    if vis:\n",
    "        #radiusCenterPlotter(pants1_in_plane, s)\n",
    "        radiusCenterPlotter2(pants1_in_plane, s)\n",
    "        #radiusCenterPlotter(pants2_in_plane, s)\n",
    "        radiusCenterPlotter2(pants2_in_plane, s)\n",
    "        #radiusCenterPlotter(pants1_in_plane + pants2_in_plane, s)\n",
    "        radiusCenterPlotter2(pants1_in_plane + pants2_in_plane, s)\n",
    "    return (pants1_in_plane + pants2_in_plane, visualPt)"
   ]
  },
  {
   "cell_type": "code",
   "execution_count": 72,
   "metadata": {},
   "outputs": [],
   "source": [
    "def shearCoordInv(pants1,pants2, gamma, s = 5, vis = True): #gamma in p1, gamma inv in p2\n",
    "    circlesList, visualPt = pantsPutterInv(pants1, pants2, gamma, s, vis)\n",
    "    circ1 = getOrtho((abs(circlesList[2][0]),circlesList[2][1]),(abs(circlesList[0][0]),circlesList[0][1]))\n",
    "    circ2 = getOrtho((abs(circlesList[0][0]),circlesList[0][1]),(abs(circlesList[4][0]),circlesList[4][1]))\n",
    "    if not pIsIn(visualPt, toInterval(circ1)):\n",
    "        circ1 = (-circ1[0],circ1[1])\n",
    "    if not pIsIn(visualPt, toInterval(circ2)):\n",
    "        circ2 = (-circ2[0],circ2[1])\n",
    "    sign = 1\n",
    "    if intIsIn(toInterval(circ1), toInterval(circ2)):\n",
    "        sign = -1\n",
    "    if vis:\n",
    "        #radiusCenterPlotter(circlesList+[circ1,circ2]+[circ3,circ4],s)\n",
    "        radiusCenterPlotter2(circlesList + [circ1,circ2], s, n = 6)\n",
    "    return sign*getDist(circ1,circ2)"
   ]
  },
  {
   "cell_type": "code",
   "execution_count": 73,
   "metadata": {},
   "outputs": [],
   "source": [
    "def shearCoordPos(pants1,pants2, gamma, s = 5, vis = True): #gamma in p1 and p2\n",
    "    circlesList, visualPt = pantsPutterPos(pants1, pants2, gamma, s, vis)\n",
    "    circ1 = getOrtho((abs(circlesList[2][0]),circlesList[2][1]),(abs(circlesList[0][0]),circlesList[0][1]))\n",
    "    circ2 = getOrtho((abs(circlesList[0][0]),circlesList[0][1]),(abs(circlesList[4][0]),circlesList[4][1]))\n",
    "    if not pIsIn(visualPt, toInterval(circ1)):\n",
    "        circ1 = (-circ1[0],circ1[1])\n",
    "    if not pIsIn(visualPt, toInterval(circ2)):\n",
    "        circ2 = (-circ2[0],circ2[1])\n",
    "    sign = 1\n",
    "    if intIsIn(toInterval(circ1), toInterval(circ2)):\n",
    "        sign = -1\n",
    "    if vis:\n",
    "        #radiusCenterPlotter(circlesList+[circ1,circ2]+[circ3,circ4],s)\n",
    "        radiusCenterPlotter2(circlesList + [circ1,circ2], s, n = 6)\n",
    "    return sign*getDist(circ1,circ2)"
   ]
  },
  {
   "cell_type": "code",
   "execution_count": 74,
   "metadata": {},
   "outputs": [],
   "source": [
    "def geos(pants):\n",
    "    s0,s1,s2 = pants\n",
    "    return pairToFrac2(s1,s2),pairToFrac2(s2,s0),pairToFrac2(s0,s1)\n",
    "\n",
    "def minGeos(pants):\n",
    "    s0,s1,s2 = pants\n",
    "    return pairToFrac(s1,s2),pairToFrac(s2,s0),pairToFrac(s0,s1)"
   ]
  },
  {
   "cell_type": "code",
   "execution_count": 75,
   "metadata": {},
   "outputs": [],
   "source": [
    "def shearCoords(geo, pantsDict): # coordinatizes a geo (from posGeoList)\n",
    "    posPantsCoords = {}\n",
    "    \n",
    "    pList = list(pantsDict[geo])\n",
    "    p0 = pList[0]\n",
    "    \n",
    "    invGeo = minPermutations(geo[::-1])\n",
    "    geo = list(geo)\n",
    "    \n",
    "    hl = halfLength(geo)\n",
    "    \n",
    "    for pants in pList:\n",
    "        s = shearCoordPos(p0, pants, geo, vis = False) % hl\n",
    "        if s in posPantsCoords:\n",
    "            posPantsCoords[s].append(pants)\n",
    "        else:\n",
    "            posPantsCoords[s] = [pants]\n",
    "    \n",
    "    temp = [[x, posPantsCoords[x]] for x in posPantsCoords]\n",
    "    posPantsCoords = sorted(temp, key = lambda x:x[0])\n",
    "    \n",
    "    temp = []\n",
    "    curr = -1\n",
    "    for p in posPantsCoords:\n",
    "        if abs(curr - p[0]) < tolerance:\n",
    "            temp[-1][1] += p[1]\n",
    "        else:\n",
    "            temp.append(p)\n",
    "        curr = p[0]\n",
    "    posPantsCoords = temp\n",
    "    \n",
    "    invPantsCoords = []\n",
    "    if invGeo in pantsDict:\n",
    "        invPantsCoords = {}\n",
    "        pInvList = list(pantsDict[invGeo])\n",
    "        invGeo = list(invGeo)\n",
    "\n",
    "        for pants in pInvList:\n",
    "            s = (shearCoordInv(p0, pants, geo, vis = False) - 1) % hl\n",
    "            if s in invPantsCoords:\n",
    "                invPantsCoords[s].append(pants)\n",
    "            else:\n",
    "                invPantsCoords[s] = [pants]\n",
    "\n",
    "        temp = [[x, invPantsCoords[x]] for x in invPantsCoords]\n",
    "        invPantsCoords = sorted(temp, key = lambda x:x[0])\n",
    "\n",
    "        temp = []\n",
    "        curr = -1\n",
    "        for p in invPantsCoords:\n",
    "            if abs(curr - p[0]) < tolerance:\n",
    "                temp[-1][1] += p[1]\n",
    "            else:\n",
    "                temp.append(p)\n",
    "            curr = p[0]\n",
    "        invPantsCoords = temp\n",
    "        \n",
    "    return (posPantsCoords, invPantsCoords)"
   ]
  },
  {
   "cell_type": "code",
   "execution_count": 76,
   "metadata": {},
   "outputs": [],
   "source": [
    "def pantsIndices(pantList):\n",
    "    output = {}\n",
    "    for i in range(len(pantList)):\n",
    "        s0,s1,s2 = pantList[i]\n",
    "        s0i,s1i,s2i = inv(s0), inv(s1),inv(s2)\n",
    "        output[pantList[i]] = i\n",
    "        output[pantList[i][1:]+pantList[i][:1]] = i\n",
    "        output[pantList[i][2:]+pantList[i][:2]] = i\n",
    "        output[(s2i,s1i,s0i)] = i\n",
    "        output[(s1i,s0i,s2i)] = i\n",
    "        output[(s0i,s2i,s1i)] = i\n",
    "    return output"
   ]
  },
  {
   "cell_type": "code",
   "execution_count": 77,
   "metadata": {},
   "outputs": [],
   "source": [
    "def pantsAndEyesToMatrix(pantList, eyeList, posGeoList, posCuspList): \n",
    "    \n",
    "    geoIndexDict = {}\n",
    "    cuspIndexDict = {}\n",
    "    \n",
    "    basisList = posGeoList + posCuspList\n",
    "    \n",
    "    for i in range(len(basisList)):\n",
    "        if i < len(posGeoList):\n",
    "            \n",
    "            geoIndexDict[tuple(posGeoList[i])] = i \n",
    "        else:\n",
    "            cuspIndexDict[tuple(posCuspList[i-len(posGeoList)])] = i\n",
    "        \n",
    "    colList = []\n",
    "    for pants in pantList:\n",
    "        col = np.zeros(len(basisList))\n",
    "        geoList = (pairToFrac(pants[0],pants[1]),pairToFrac(pants[1],pants[2]),pairToFrac(pants[2],pants[0]))\n",
    "        for geo in geoList:   #requires reformatting, since we no longer store pants as lists of geodesics\n",
    "            geo = tuple(geo)\n",
    "            if geo in geoIndexDict: \n",
    "                col[geoIndexDict[geo]] = 1\n",
    "            else:\n",
    "                col[geoIndexDict[min(permutationsOf(geo[::-1]))]] = -1\n",
    "        colList.append(col)\n",
    "    \n",
    "    for eye in eyeList: #need to import eye-related functions\n",
    "        col = np.zeros(len(basisList))\n",
    "        if tuple(eye[0]) in geoIndexDict:\n",
    "            col[geoIndexDict[tuple(eye[0])]] = 1\n",
    "        else:\n",
    "            col[geoIndexDict[tuple(min(permutationsOf(eye[0][::-1])))]] = -1\n",
    "        \n",
    "        if eye[1] in cuspIndexDict:\n",
    "            col[cuspIndexDict[eye[1]]] = 1\n",
    "        else:\n",
    "            col[cuspIndexDict[cuspInv(eye[1])]] = -1\n",
    "        \n",
    "        colList.append(col)\n",
    "    \n",
    "    return np.column_stack(colList)"
   ]
  },
  {
   "cell_type": "code",
   "execution_count": 78,
   "metadata": {},
   "outputs": [],
   "source": [
    "def indexRange2(shearCoords, lowerBound, upperBound,h):\n",
    "    n = len(shearCoords)\n",
    "    if n==0:\n",
    "        return (-1,-1)\n",
    "    elif n==1:\n",
    "        a = shearCoords[0][0]\n",
    "        if lowerBound < upperBound and a >lowerBound and a< upperBound:\n",
    "            return (0,1)\n",
    "        elif lowerBound>upperBound and a>upperBound or a<lowerBound:\n",
    "            return (0,1)\n",
    "        else:\n",
    "            return (-1,-1)\n",
    "    lowInd = n//2\n",
    "    lBound = 0\n",
    "    uBound = n-1\n",
    "    size = n\n",
    "    if shearCoords[uBound][0] < lowerBound:\n",
    "        lowInd = 0\n",
    "    #index of the smallest thing larger than lowerBound\n",
    "    else:\n",
    "        while True:\n",
    "            if abs(shearCoords[lowInd][0] - lowerBound) <= tolerance:\n",
    "                break\n",
    "            elif uBound-lBound<=1:\n",
    "                lowInd = uBound\n",
    "                break\n",
    "            elif (shearCoords[lowInd][0] - tolerance) > lowerBound:\n",
    "                uBound = lowInd\n",
    "                size = uBound-lBound\n",
    "                lowInd-=size//2\n",
    "            elif (shearCoords[lowInd][0] + tolerance) < lowerBound:\n",
    "                lBound = lowInd\n",
    "                size = uBound-lBound\n",
    "                lowInd+=size//2\n",
    "            else:\n",
    "                print(\"Help Failure \\(lowerBound is \"+str(lowerBound)+\")\" )\n",
    "    \n",
    "    hiInd = n//2\n",
    "    lBound = 0\n",
    "    uBound = n-1\n",
    "    size = n\n",
    "    #index of largest thing smaller than upperBound\n",
    "    if shearCoords[lBound][0] > upperBound:\n",
    "        hiInd = n-1\n",
    "    else:\n",
    "        while True:\n",
    "            if abs(shearCoords[hiInd][0] - upperBound) <= tolerance:\n",
    "                break\n",
    "            elif uBound-lBound<=1:\n",
    "                hiInd = lBound\n",
    "                break\n",
    "            elif (shearCoords[hiInd][0] - tolerance) > upperBound:\n",
    "                uBound = hiInd\n",
    "                size = uBound-lBound\n",
    "                hiInd-=size//2\n",
    "            elif (shearCoords[hiInd][0] + tolerance) < upperBound:\n",
    "                lBound = hiInd\n",
    "                size = uBound-lBound\n",
    "                hiInd+=size//2\n",
    "            else:\n",
    "                print(\"Help Failure (upperBound is \"+str(upperBound)+\")\")\n",
    "    if intIsIn((lowerBound, upperBound),((tolerance+shearCoords[lowInd][0])%h,(shearCoords[hiInd][0]-tolerance)%h)):\n",
    "        return (lowInd, hiInd)\n",
    "    else:\n",
    "        print(lowerBound, upperBound, list(set([pantsInd[pants] for pants in shearCoords[lowInd][1]])), list(set([pantsInd[pants] for pants in shearCoords[hiInd][1]])))\n",
    "        return (-1,-1)"
   ]
  },
  {
   "cell_type": "code",
   "execution_count": 79,
   "metadata": {},
   "outputs": [],
   "source": [
    "def graphShears(inside,outside,h, pantsInd):\n",
    "    fig, ax = plt.subplots()\n",
    "    fig.set_size_inches(15, 15)\n",
    "    ax.set_xlim(-1.5,1.5)\n",
    "    ax.set_ylim(-1.5,1.5)\n",
    "    plotCirc = plt.Circle((0,0), 1, fill = False)\n",
    "    ax.add_artist(plotCirc)\n",
    "    N = 30\n",
    "    \"\"\"for i in range(N):\n",
    "        angle = 2*pi*i/N\n",
    "        x_1 = math.cos(angle)\n",
    "        y_1 = math.sin(angle)\n",
    "        x_2 = x_1*1.05\n",
    "        y_2 = y_1*1.05\n",
    "        b = str(i*h/N)\n",
    "        plt.plot([x_1,x_2],[y_1,y_2], 'blue', linewidth = 1)\n",
    "        ax.annotate(str(b),(x_2,y_2),(x_2+.05,y_2+.05), size = 8, color = 'blue')\"\"\"\n",
    "    for a in inside:\n",
    "        s = a[0]\n",
    "        angle = 2*pi*s/h\n",
    "        x_1 = math.cos(angle)\n",
    "        y_1 = math.sin(angle)\n",
    "        x_2 = x_1*.9\n",
    "        y_2 = y_1*.9\n",
    "        b = list(set([pantsInd[pants] for pants in a[1]]))\n",
    "        plt.plot([x_1,x_2],[y_1,y_2], 'black', linewidth = 1)\n",
    "        ax.annotate(str(b),(x_2,y_2),(.9*x_2,.9*y_2), size = 15)\n",
    "    for a in outside:\n",
    "        s = a[0]\n",
    "        angle = 2*pi*s/h\n",
    "        x_1 = math.cos(angle)\n",
    "        y_1 = math.sin(angle)\n",
    "        x_2 = x_1*1.1\n",
    "        y_2 = y_1*1.1\n",
    "        b = list(set([pantsInd[pants] for pants in a[1]]))\n",
    "        plt.plot([x_1,x_2],[y_1,y_2], 'black', linewidth = 1)[0]\n",
    "        ax.annotate(str(b),(x_2,y_2),(1.1*x_2,1.1*y_2), size = 15)\n",
    "    plt.axis('off')\n",
    "    plt.show()"
   ]
  },
  {
   "cell_type": "code",
   "execution_count": 80,
   "metadata": {},
   "outputs": [],
   "source": [
    "def indexRange(shearCoords, lowerBound, upperBound):\n",
    "    n = len(shearCoords)\n",
    "    if n==0:\n",
    "        return (-1,-1)\n",
    "    elif n==1:\n",
    "        a = shearCoords[0][0]\n",
    "        if lowerBound < upperBound and a >lowerBound and a< upperBound:\n",
    "            return (0,1)\n",
    "        elif lowerBound>upperBound and a>upperBound or a<lowerBound:\n",
    "            return (0,1)\n",
    "        else:\n",
    "            return (-1,-1)\n",
    "    lowInd = n//2\n",
    "    lBound = 0\n",
    "    uBound = n-1\n",
    "    size = n\n",
    "    if shearCoords[uBound][0] < lowerBound:\n",
    "        lowInd = 0\n",
    "    #index of the smallest thing larger than lowerBound\n",
    "    else:\n",
    "        while True:\n",
    "            if abs(shearCoords[lowInd][0] - lowerBound) <= tolerance:\n",
    "                break\n",
    "            elif uBound-lBound<=1:\n",
    "                lowInd = uBound\n",
    "                break\n",
    "            elif (shearCoords[lowInd][0] - tolerance) > lowerBound:\n",
    "                uBound = lowInd\n",
    "                size = uBound-lBound\n",
    "                lowInd-=size//2\n",
    "            elif (shearCoords[lowInd][0] + tolerance) < lowerBound:\n",
    "                lBound = lowInd\n",
    "                size = uBound-lBound\n",
    "                lowInd+=size//2\n",
    "            else:\n",
    "                print(\"Help Failure \\(lowerBound is \"+str(lowerBound)+\")\" )\n",
    "    \n",
    "    hiInd = n//2\n",
    "    lBound = 0\n",
    "    uBound = n-1\n",
    "    size = n\n",
    "    #index of largest thing smaller than upperBound\n",
    "    if shearCoords[lBound][0] > upperBound:\n",
    "        hiInd = n-1\n",
    "    else:\n",
    "        while True:\n",
    "            if abs(shearCoords[hiInd][0] - upperBound) <= tolerance:\n",
    "                break\n",
    "            elif uBound-lBound<=1:\n",
    "                hiInd = lBound\n",
    "                break\n",
    "            elif (shearCoords[hiInd][0] - tolerance) > upperBound:\n",
    "                uBound = hiInd\n",
    "                size = uBound-lBound\n",
    "                hiInd-=size//2\n",
    "            elif (shearCoords[hiInd][0] + tolerance) < upperBound:\n",
    "                lBound = hiInd\n",
    "                size = uBound-lBound\n",
    "                hiInd+=size//2\n",
    "            else:\n",
    "                print(\"Help Failure (upperBound is \"+str(upperBound)+\")\")\n",
    "    return (lowInd, hiInd)"
   ]
  },
  {
   "cell_type": "code",
   "execution_count": 81,
   "metadata": {},
   "outputs": [],
   "source": [
    "def visualizeShears(geo, pantsDict, pantsInd):\n",
    "    inside, outside = shearCoords(geo, pantsDict)\n",
    "    h = halfLength(geo)\n",
    "    inside = [(shear%h,pants) for (shear,pants) in inside]\n",
    "    outside =  [((shear)%h,pants) for (shear, pants) in outside]\n",
    "    graphShears(inside, outside, h, pantsInd)"
   ]
  },
  {
   "cell_type": "code",
   "execution_count": 82,
   "metadata": {},
   "outputs": [],
   "source": [
    "def geosToEyes(geos):\n",
    "    eyes = list()\n",
    "    for geo in geos:\n",
    "        for i in range(0,len(geo),2):\n",
    "            a = list(geo[i:])+list(geo[:i])\n",
    "            a = a[1:]\n",
    "            a[0]-=1\n",
    "            a[len(a)-1]-=1\n",
    "            eyes.append((geo,tuple(a)))\n",
    "    return eyes\n",
    "\n",
    "def cuspInv(cusp):\n",
    "    invCusp = list(cusp[::-1])\n",
    "    if len(invCusp) == 1 and invCusp[0] <= 0:\n",
    "        return tuple(invCusp)\n",
    "    else:\n",
    "        if invCusp[0] == 0:\n",
    "            invCusp = invCusp[1:]\n",
    "        else:\n",
    "            invCusp = [0] + invCusp\n",
    "        if invCusp[-1] == 0:\n",
    "            invCusp = invCusp[:-1]\n",
    "        else:\n",
    "            invCusp = invCusp + [0]\n",
    "        return tuple(invCusp)\n",
    "\n",
    "def eyesToCusps(eList):\n",
    "    output = list()\n",
    "    for e in eList:\n",
    "        eye = e[1]\n",
    "        invEye = cuspInv(eye)\n",
    "        if eye in output or invEye in output:\n",
    "            continue\n",
    "        else:\n",
    "            output.append(eye)\n",
    "    return output"
   ]
  },
  {
   "cell_type": "code",
   "execution_count": 83,
   "metadata": {},
   "outputs": [],
   "source": [
    "import json\n",
    "\n",
    "def sequence_parser(line):\n",
    "    return json.loads('[' + line + ']')"
   ]
  },
  {
   "cell_type": "code",
   "execution_count": 84,
   "metadata": {},
   "outputs": [],
   "source": [
    "def getInequalityIndices2(posGeoList, pantsList, pantsInd, pantsDict, gamma):\n",
    "    output = []\n",
    "    for geo in posGeoList:\n",
    "        if tuple(geo)!=tuple(gamma):\n",
    "            continue\n",
    "        pos,inv = shearCoords(tuple(geo), pantsDict)\n",
    "        h = halfLength(geo)\n",
    "        l = len(pos)\n",
    "        for i in range(l):\n",
    "            for j in range(l):\n",
    "                curr_pos = pos\n",
    "                curr_neg = inv\n",
    "                if i<=j:\n",
    "                    curr_pos = pos[i:j+1]\n",
    "                else:\n",
    "                    curr_pos = pos[i:]+pos[:j+1]\n",
    "\n",
    "                posPants = list(set([pantsInd[pant] for pant in [pant for pants in [pants for (shear,pants) in curr_pos] for pant in pants]]))\n",
    "                lBound, uBound = indexRange2(inv, (curr_pos[0][0]-epsilon)%h, (curr_pos[-1][0]+epsilon)%h,h)\n",
    "                k,m = list(set([pantsInd[pants] for pants in curr_pos[0][1]])),list(set([pantsInd[pants] for pants in curr_pos[-1][1]]))\n",
    "                q,w = list(set([pantsInd[pants] for pants in inv[lBound][1]])),list(set([pantsInd[pants] for pants in inv[uBound][1]]))\n",
    "                if (lBound,uBound) == (-1,-1):\n",
    "                    output.append((posPants,[],k,m,\"empty\", \"empty\"))\n",
    "                    continue\n",
    "                if lBound<uBound or (lBound==uBound and i==j):\n",
    "                    curr_neg = inv[lBound:uBound+1]\n",
    "                elif lBound>uBound:\n",
    "                    curr_neg = inv[uBound:]+inv[:lBound+1]\n",
    "                else:\n",
    "                    continue\n",
    "                negPants = list(set([pantsInd[pant] for pant in [pant for pants in [pants for (shear,pants) in curr_neg] for pant in pants]]))\n",
    "                output.append((posPants, negPants,k,m,q,w))\n",
    "    return output\n",
    "\n",
    "def getInequalityIndices(posGeoList, pantsList, pantsInd, pantsDict):\n",
    "    output = []\n",
    "    for geo in posGeoList:\n",
    "        pos,inv = shearCoords(tuple(geo), pantsDict)\n",
    "        h = halfLength(geo)\n",
    "        l = len(pos)\n",
    "        for i in range(l):\n",
    "            for j in range(l):\n",
    "                curr_pos = pos\n",
    "                curr_neg = inv\n",
    "                if i<=j:\n",
    "                    curr_pos = pos[i:j+1]\n",
    "                else:\n",
    "                    curr_pos = pos[i:]+pos[:j+1]\n",
    "\n",
    "                posPants = list(set([pantsInd[pant] for pant in [pant for pants in [pants for (shear,pants) in curr_pos] for pant in pants]]))\n",
    "                lBound, uBound = indexRange(inv, (curr_pos[0][0]-epsilon)%h, (curr_pos[-1][0]+epsilon)%h)\n",
    "                if lBound<=uBound:\n",
    "                    curr_neg = inv[lBound:uBound+1]\n",
    "                elif lBound>uBound:\n",
    "                    curr_neg = inv[uBound:]+inv[:lBound+1]\n",
    "                negPants = list(set([pantsInd[pant] for pant in [pant for pants in [pants for (shear,pants) in curr_neg] for pant in pants]]))\n",
    "                output.append((posPants, negPants))\n",
    "    return output"
   ]
  },
  {
   "cell_type": "code",
   "execution_count": 85,
   "metadata": {},
   "outputs": [],
   "source": [
    "sequence_file = open(data_path)\n",
    "data = LineReader(sequence_file, parser=sequence_parser)"
   ]
  },
  {
   "cell_type": "code",
   "execution_count": 86,
   "metadata": {},
   "outputs": [],
   "source": [
    "pantsList = list(pantsInTraceRange(data, 100, 120))"
   ]
  },
  {
   "cell_type": "code",
   "execution_count": 87,
   "metadata": {},
   "outputs": [],
   "source": [
    "posGeoList = pantsToGeodesics(pantsList)"
   ]
  },
  {
   "cell_type": "code",
   "execution_count": 88,
   "metadata": {},
   "outputs": [
    {
     "name": "stdout",
     "output_type": "stream",
     "text": [
      "[[1, 1, 3, 1, 6, 1], [1, 3, 4, 6], [1, 8, 2, 4], [1, 5, 9, 1], [1, 19, 2, 1], [2, 2, 9, 2], [6, 1, 6, 2], [1, 8, 3, 3], [1, 2, 3, 10], [1, 1, 1, 2, 2, 5], [1, 3, 2, 1, 2, 2], [1, 1, 2, 3, 2, 2], [1, 1, 6, 1, 3, 1], [1, 5, 3, 5], [11, 9], [2, 1, 2, 13], [1, 3, 7, 3], [1, 1, 1, 8, 1, 2], [1, 1, 2, 4, 2, 1], [2, 3, 6, 2], [1, 7, 3, 3], [1, 3, 3, 8], [1, 1, 4, 1, 5, 1], [9, 13], [1, 1, 3, 14], [4, 1, 8, 2], [1, 4, 4, 4], [1, 2, 3, 9], [1, 1, 4, 1, 3, 2], [1, 6, 7, 1], [1, 16, 3, 1], [2, 2, 8, 2], [2, 1, 2, 12], [25, 4], [3, 34], [2, 4, 7, 1], [3, 1, 5, 4], [1, 7, 1, 10], [2, 1, 4, 1, 3, 1], [1, 1, 1, 2, 1, 9], [1, 1, 1, 1, 1, 1, 1, 4], [3, 1, 7, 3], [10, 11], [4, 26], [5, 1, 14, 1], [1, 15, 3, 1], [1, 1, 1, 5, 3, 1], [1, 1, 12, 4], [1, 1, 3, 3, 2, 1], [2, 1, 5, 6], [22, 5], [4, 28], [3, 1, 4, 5], [21, 5], [2, 58], [1, 1, 35, 1], [2, 6, 5, 1], [2, 1, 2, 1, 2, 3], [1, 2, 4, 1, 3, 1], [1, 6, 1, 12], [1, 1, 1, 2, 8, 1], [1, 1, 2, 1, 9, 1], [1, 2, 9, 3], [2, 50], [1, 1, 38, 1], [1, 2, 4, 8], [1, 21, 2, 1], [5, 1, 15, 1], [27, 4], [3, 36], [2, 1, 7, 4], [5, 1, 13, 1], [1, 6, 1, 13], [1, 1, 2, 5, 1, 2], [2, 3, 9, 1], [1, 10, 2, 3], [39, 3], [1, 100], [59, 2], [2, 4, 2, 5], [3, 2, 4, 3], [1, 6, 5, 2], [2, 1, 4, 7], [38, 3], [1, 98], [1, 3, 1, 19], [3, 2, 12, 1], [1, 14, 3, 1], [1, 1, 11, 4], [1, 1, 1, 3, 3, 2], [20, 5], [2, 56], [1, 1, 34, 1], [5, 23], [1, 1, 6, 8], [2, 1, 15, 2], [1, 1, 1, 7, 1, 3], [1, 2, 5, 1, 2, 1], [1, 2, 1, 27], [2, 1, 14, 2], [1, 3, 2, 10], [1, 2, 2, 2, 3, 1], [1, 2, 8, 4], [1, 4, 12, 1], [1, 3, 1, 22], [1, 6, 3, 4], [1, 1, 1, 1, 3, 5], [4, 2, 9, 1], [1, 2, 2, 1, 2, 3], [1, 1, 2, 1, 2, 5], [1, 2, 23, 1], [3, 35], [1, 5, 10, 1], [4, 1, 17, 1], [1, 10, 3, 2], [1, 1, 1, 1, 8, 2], [6, 18], [1, 2, 14, 2], [1, 1, 1, 7, 2, 1], [1, 2, 1, 4, 1, 3], [3, 1, 11, 2], [1, 1, 5, 1, 4, 1], [1, 4, 2, 9], [1, 3, 3, 1, 2, 1], [1, 4, 8, 2], [1, 2, 1, 28], [1, 5, 2, 7], [1, 1, 3, 16], [1, 4, 1, 15], [2, 1, 3, 1, 2, 2], [1, 1, 8, 1, 1, 2], [1, 1, 2, 20], [3, 2, 6, 2], [1, 2, 1, 3, 2, 2], [1, 3, 2, 1, 1, 4], [3, 1, 12, 2], [7, 15], [2, 1, 3, 10], [1, 1, 3, 2, 3, 1], [1, 1, 5, 1, 2, 2], [6, 1, 11, 1], [1, 2, 2, 16], [37, 3], [2, 55], [1, 11, 3, 2], [1, 2, 1, 26], [1, 2, 1, 24], [6, 17], [7, 16], [2, 10, 3, 1], [6, 19], [1, 11, 4, 1], [2, 7, 4, 1], [1, 1, 33, 1], [1, 1, 9, 5], [1, 1, 1, 36], [2, 1, 25, 1], [3, 2, 11, 1], [1, 4, 5, 3], [3, 33], [2, 49], [1, 1, 1, 1, 7, 2], [8, 13], [14, 8], [1, 3, 1, 21], [1, 1, 8, 1, 2, 1], [2, 2, 16, 1], [2, 51], [1, 4, 1, 16], [2, 4, 3, 3], [7, 1, 11, 1], [1, 8, 6, 1], [5, 2, 7, 1], [2, 1, 2, 1, 6, 1], [1, 15, 2, 2], [1, 1, 2, 2, 5, 1], [1, 1, 1, 3, 1, 7], [4, 1, 6, 3], [1, 2, 5, 6], [1, 1, 1, 37], [7, 14], [8, 1, 10, 1], [3, 4, 5, 1], [1, 8, 1, 9], [1, 5, 2, 1, 2, 1], [1, 1, 1, 1, 1, 12], [1, 1, 7, 6], [1, 1, 2, 2, 2, 3], [3, 4, 6, 1], [12, 9], [1, 1, 6, 1, 1, 3], [2, 4, 8, 1], [1, 1, 2, 1, 3, 3], [1, 4, 1, 18], [1, 2, 2, 3, 2, 1], [1, 3, 9, 2], [2, 1, 11, 3], [3, 1, 20, 1], [1, 1, 23, 2], [2, 2, 6, 3], [1, 1, 2, 21], [1, 1, 3, 15], [1, 1, 2, 19], [2, 1, 2, 1, 3, 2], [1, 1, 10, 5], [1, 3, 1, 3, 1, 3], [1, 1, 3, 1, 4, 2], [1, 1, 1, 1, 1, 13], [1, 22, 2, 1], [1, 2, 2, 1, 1, 5], [2, 57], [1, 1, 22, 2], [3, 2, 3, 4], [1, 99], [1, 1, 32, 1], [1, 14, 2, 2], [2, 54], [29, 4], [2, 53], [1, 20, 2, 1], [2, 52]]\n"
     ]
    }
   ],
   "source": [
    "print(posGeoList)"
   ]
  },
  {
   "cell_type": "code",
   "execution_count": 89,
   "metadata": {},
   "outputs": [],
   "source": [
    "pantsDict = pantsInTraceRangeDict(data, 100, 120)"
   ]
  },
  {
   "cell_type": "code",
   "execution_count": 90,
   "metadata": {},
   "outputs": [],
   "source": [
    "eyeList = geosToEyes(posGeoList)"
   ]
  },
  {
   "cell_type": "code",
   "execution_count": 91,
   "metadata": {},
   "outputs": [],
   "source": [
    "posCuspList = eyesToCusps(eyeList)"
   ]
  },
  {
   "cell_type": "code",
   "execution_count": 92,
   "metadata": {},
   "outputs": [],
   "source": [
    "pantsInd = pantsIndices(pantsList)"
   ]
  },
  {
   "cell_type": "code",
   "execution_count": 93,
   "metadata": {},
   "outputs": [],
   "source": [
    "mat = pantsAndEyesToMatrix(pantsList, eyeList, posGeoList, posCuspList)"
   ]
  },
  {
   "cell_type": "code",
   "execution_count": 94,
   "metadata": {},
   "outputs": [],
   "source": [
    "ind = getInequalityIndices(posGeoList, pantsList, pantsInd, pantsDict)"
   ]
  },
  {
   "cell_type": "code",
   "execution_count": 95,
   "metadata": {},
   "outputs": [
    {
     "name": "stdout",
     "output_type": "stream",
     "text": [
      "imported\n",
      "variables defined\n",
      "prob defined\n",
      "1769\n",
      "objective function defined\n",
      "matrix constraint defined\n",
      "inequalities defined\n",
      "done!\n"
     ]
    }
   ],
   "source": [
    "from pulp import *\n",
    "import numpy as np\n",
    "\n",
    "\n",
    "\"\"\" Input \"\"\"\n",
    "A = mat # should be matrix from pants and eyes\n",
    "b = np.zeros(A.shape[0])\n",
    "Indices = ind\n",
    "print('imported')\n",
    "\"\"\" MIP \"\"\"\n",
    "# Variables\n",
    "x = np.empty(A.shape[1], dtype=object)\n",
    "for i in range(A.shape[1]):\n",
    "    x[i] = LpVariable(\"x\" + str(i), lowBound=0, upBound=None)\n",
    "\n",
    "print('variables defined')\n",
    "# Problem\n",
    "prob = LpProblem(\"prob\", LpMinimize)\n",
    "print('prob defined')\n",
    "print(len(x))\n",
    "# Objective\n",
    "prob += np.sum(x)\n",
    "print('objective function defined')\n",
    "\n",
    "# Constraints\n",
    "for row in range(A.shape[0]):\n",
    "    prob += np.dot(A[row], x) == b[row]\n",
    "\n",
    "print('matrix constraint defined')\n",
    "\n",
    "prob += np.sum(x) == 10**6 # forbid zero-vector\n",
    "\n",
    "for pair in Indices:\n",
    "    posPantsSum = 0\n",
    "    for index in pair[0]:\n",
    "        posPantsSum += x[index]\n",
    "    negPantsSum = 0\n",
    "    for index in pair[1]:\n",
    "        negPantsSum += x[index]\n",
    "    prob += negPantsSum >= posPantsSum # might have to switch left and right here, but this should be the right way to do this\n",
    "\n",
    "print('inequalities defined')\n",
    "\n",
    "# Solve\n",
    "status = prob.solve()\n",
    "resultList = pantsList+eyeList\n",
    "resultStr = \"\"\n",
    "\n",
    "for i in range(len(x)):\n",
    "    if value(x[i]) != 0.0:\n",
    "        resultStr += \"+\" + str(value(x[i])) + \"*\" + str(resultList[i])\n",
    "print(\"done!\")        "
   ]
  },
  {
   "cell_type": "code",
   "execution_count": 96,
   "metadata": {},
   "outputs": [],
   "source": [
    "solList = list(zip(resultList,x))"
   ]
  },
  {
   "cell_type": "code",
   "execution_count": 97,
   "metadata": {},
   "outputs": [],
   "source": [
    "solList.sort(key=lambda x:value(x[1]), reverse=True)"
   ]
  },
  {
   "cell_type": "code",
   "execution_count": 98,
   "metadata": {
    "scrolled": false
   },
   "outputs": [
    {
     "name": "stdout",
     "output_type": "stream",
     "text": [
      "+115*([2, 1, 4, 1, 3, 1], (0, 3, 1, 2, 0))\n",
      "+115*([1, 4, 5, 3], (2, 1, 3))\n",
      "+105*([1, 1, 3, 2, 2, 2], [1, 2, 1, 3, 1, 4], [1, 2, 1, 2, 3, 2])((1, 0, 0, 0, 1), (1, 0, 0, 1), (1, 1, 1, 0, 1))\n",
      "+102*([5, 1, 14, 1], (0, 14, 0))\n",
      "+102*([7, 16], (14,))\n",
      "+100*([1, 1, 2, 2, 2, 3], [2, 1, 2, 1, 2, 3], [1, 2, 1, 4, 1, 3])((1, 1, 0, 1, 1), (0, 1, 0, 0, 1), (0, 0, 1, 1))\n",
      "+87*([1, 5, 1, 14], [3, 1, 10, 2], [3, 5, 4, 1])((1, 1, 1), (1, 1, 1, 0, 1, 1, 1, 1), (0, 0, 0, 0, 0, 0, 0, 0, 0, 0, 1))\n",
      "+81*([1, 3, 1, 20], [2, 1, 3, 1, 4, 1], [16, 7])((1, 1, 1, 1), (0, 1, 1, 1, 1, 1, 1, 1, 1, 1, 1, 1, 1, 1, 1, 1, 1), (0, 0, 1, 0, 0, 0))\n",
      "+81*([3, 1, 20, 1], (0, 3, 0))\n",
      "+65*([1, 1, 2, 1, 9, 1], (0, 2, 1, 9, 0))\n",
      "+65*([1, 3, 2, 10], (9, 1, 2))\n",
      "+53*([1, 1, 2, 2, 1, 5], [1, 1, 5, 2, 2, 1], [1, 1, 2, 1, 1, 8])((0, 1, 1, 1, 1, 1), (1, 1, 0, 1, 0, 0), (0, 0, 1, 0))\n",
      "+53*([1, 1, 8, 1, 1, 2], (0, 1, 2, 1, 0))\n",
      "+51*([2, 3, 6, 2], (1, 2, 2))\n",
      "+51*([1, 1, 5, 1, 2, 2], (0, 2, 2, 1, 0))\n",
      "+44*([1, 3, 2, 1, 2, 2], [1, 1, 2, 3, 2, 2], [1, 1, 1, 2, 2, 5])((1, 1, 0, 1, 0), (0, 0, 1, 1, 0), (1, 1, 0, 0))\n",
      "+44*([2, 2, 2, 8], [1, 2, 3, 1, 2, 2], [1, 3, 5, 4])((1, 1, 1, 0), (1, 1, 1, 1, 1, 0, 0), (0, 0, 1, 1, 0))\n",
      "+44*([2, 2, 8, 2], (1, 2, 1))\n",
      "+43*([20, 5], (3,))\n",
      "+42*([1, 1, 1, 9, 1, 2], [1, 1, 5, 1, 2, 2], [1, 2, 1, 3, 3, 1])((0, 1, 1), (0, 1, 0, 1, 1, 1), (0, 1, 0, 0, 0, 0, 0))\n",
      "+42*([1, 3, 3, 1, 2, 1], [1, 4, 7, 2], [1, 4, 2, 8])((1, 1, 1, 1, 1, 1, 1, 0), (1, 1, 0, 0, 0), (1, 0, 1, 1))\n",
      "+42*([4, 1, 8, 2], (1, 4, 0))\n",
      "+38*([1, 1, 1, 5, 1, 4], [1, 2, 4, 1, 3, 1], [1, 1, 3, 1, 1, 6])((1, 1, 1, 1, 0), (0, 1, 0, 1, 1, 1), (0, 0, 0, 1, 0))\n",
      "+38*([1, 1, 4, 1, 5, 1], (0, 5, 1, 1, 0))\n",
      "+38*([1, 6, 5, 2], (1, 1, 5))\n",
      "+34*([1, 2, 4, 8], [5, 1, 7, 2], [1, 9, 2, 4])((1, 1, 1, 1, 1, 1, 1), (1, 0, 0, 0, 0, 1, 1), (1, 0, 0, 0, 0, 0))\n",
      "+34*([4, 2, 9, 1], (0, 4, 1))\n",
      "+28*([3, 5, 4, 1], [1, 5, 2, 7], [2, 5, 6, 1])((1, 0, 0, 0, 0, 0, 0), (0, 0, 0, 1, 1), (1, 1, 1, 1, 0, 0))\n",
      "+26*([3, 1, 4, 5], [1, 3, 1, 4, 2, 1], [2, 6, 3, 2])((1, 0, 0, 0, 1), (0, 0, 0, 0, 1, 1), (1, 1, 1, 0, 0))\n",
      "+25*([1, 4, 3, 6], [2, 1, 8, 4], [1, 1, 5, 10])((1, 1, 1, 1, 1, 1, 1, 1), (1, 1, 1, 1, 1, 0, 1), (1, 1, 1, 0, 0))\n",
      "+25*([2, 7, 4, 1], (0, 2, 6))\n",
      "+25*([4, 1, 6, 3], (0, 6, 2))\n",
      "+25*([1, 1, 10, 5], (4, 1, 0))\n",
      "+24*([2, 7, 4, 1], [1, 1, 5, 9], [1, 2, 6, 5])((1, 0, 0, 0, 0, 0, 0), (1, 0, 0, 0, 0), (0, 0, 0, 0, 0, 1, 1))\n",
      "+24*([1, 5, 10, 1], (0, 1, 4))\n",
      "+23*([1, 6, 4, 3], [2, 1, 16, 2], [5, 22])((1, 1, 1, 1, 1, 1, 1, 1, 1, 1, 1, 1, 1, 1, 1, 1), (1, 1, 1, 1, 1, 0, 0, 0, 0), (1, 0, 0))\n",
      "+23*([1, 2, 2, 16], [1, 1, 2, 2, 3, 2], [1, 4, 12, 1])((0, 1, 1), (1, 1, 1, 1, 1, 1, 1, 1, 1, 1, 1, 1, 0), (0, 0, 0, 1, 1, 0))\n",
      "+23*([22, 5], (3,))\n",
      "+22*([5, 20], [1, 1, 2, 2, 1, 5], [1, 3, 16, 1])((0, 1, 1), (1, 1, 1, 1, 1, 1, 1, 1, 1, 1, 1, 1, 1, 1, 1, 1), (0, 1, 1, 1, 1, 1, 0))\n",
      "+22*([1, 16, 3, 1], (0, 1, 15))\n",
      "+22*([2, 1, 15, 2], (0, 15, 1))\n",
      "+22*([1, 3, 2, 10], [1, 1, 2, 2, 3, 2], [1, 1, 6, 1, 1, 3])((0, 1, 1), (1, 1, 1, 1, 1, 1, 0, 1), (0, 0, 0, 1, 1, 0))\n",
      "+21*([5, 20], [2, 1, 5, 6], [16, 7])((1, 1, 1, 1, 1), (1, 1, 1, 1, 1, 1, 1, 1, 1, 1, 1, 1, 1, 1, 1, 1), (1, 1, 1, 1, 1, 0, 0))\n",
      "+19*([1, 7, 1, 11], [2, 1, 3, 1, 4, 1], [3, 4, 6, 1])((1, 1), (1, 1, 1, 0, 1, 1, 1, 1, 1, 1), (0, 0, 0, 1, 0, 0, 0, 0))\n",
      "+19*([7, 1, 11, 1], (0, 7, 0))\n",
      "+19*([12, 9], (7,))\n",
      "+18*([1, 1, 1, 9, 1, 2], [1, 1, 3, 3, 2, 1], [1, 4, 7, 2])((0, 1, 1, 1), (0, 1, 1, 1, 1, 1, 1, 1), (1, 0, 0, 1, 0))\n",
      "+18*([1, 1, 2, 2, 1, 5], [1, 2, 10, 3], [1, 12, 4, 1])((1, 1, 1, 1, 1, 1, 1, 1, 1, 1), (1, 0, 1, 1, 1, 1), (1, 1, 0, 1))\n",
      "+17*([1, 1, 9, 5], (4, 1, 0))\n",
      "+16*([1, 1, 6, 1, 3, 1], (0, 3, 1, 1, 0))\n",
      "+16*([1, 4, 8, 2], (1, 1, 3))\n",
      "+15*([2, 1, 4, 8], [1, 1, 2, 3, 3, 1], [1, 2, 4, 7])((1, 1, 0, 1), (0, 0, 0, 0, 1, 1, 1, 1), (1, 1, 0, 0, 0))\n",
      "+15*([1, 1, 1, 2, 2, 5], [1, 1, 1, 1, 8, 2], [1, 10, 3, 2])((1, 1, 1, 1, 1, 1, 1, 1), (1, 0, 0, 1, 1, 1), (1, 0, 1, 0))\n",
      "+15*([1, 5, 1, 14], [3, 2, 10, 1], [3, 1, 4, 5])((1, 1, 1), (1, 1, 1, 1, 0, 1, 1, 1), (1, 0, 0, 0, 0, 0, 0, 0, 0, 0, 0))\n",
      "+15*([1, 1, 1, 4, 1, 5], [1, 1, 1, 1, 2, 8], [2, 1, 2, 1, 6, 1])((0, 0, 0, 0, 0, 0), (1, 1, 0, 1, 1), (0, 1, 0, 1, 0, 0))\n",
      "+15*([3, 1, 4, 5], [2, 1, 6, 5], [1, 7, 2, 5])((0, 1, 1, 1, 1, 1, 1), (0, 0, 0, 0, 1, 1), (1, 1, 1, 0, 0))\n",
      "+15*([1, 1, 1, 9, 1, 2], [1, 1, 3, 1, 7, 1], [1, 10, 5, 1])((1, 1, 1, 1, 1, 1, 1), (0, 1, 0, 1, 1, 1, 1, 1), (0, 1, 0, 0, 0))\n",
      "+15*([1, 1, 2, 1, 2, 5], [1, 1, 1, 7, 1, 3], [3, 4, 6, 1])((1, 0, 0, 0, 0, 0, 0), (0, 0, 1, 1, 1), (1, 1, 0, 1, 0))\n",
      "+15*([1, 1, 3, 16], [2, 3, 10, 1], [1, 3, 5, 4])((0, 1, 1), (0, 0, 0, 1, 1, 1, 1, 1), (1, 0, 0, 0, 0, 0, 0, 0, 0, 0, 0))\n",
      "+15*([2, 6, 3, 2], [1, 1, 16, 3], [5, 21])((1, 1, 1, 1, 1, 1, 1, 1, 1, 1, 1, 1, 1, 1, 1, 1), (1, 1, 1, 1, 1, 0, 0, 0), (1, 1, 0))\n",
      "+15*([1, 1, 2, 3, 2, 2], [1, 1, 5, 2, 1, 2], [1, 2, 1, 2, 1, 6])((0, 1, 1, 1, 1, 1), (0, 1, 0, 0, 1), (0, 1, 1, 0))\n",
      "+15*([1, 2, 3, 2, 2, 1], [1, 10, 2, 3], [1, 1, 6, 1, 1, 3])((0, 0, 0, 0, 0, 0, 1, 0), (1, 0, 0), (1, 1, 1, 0, 0, 1))\n",
      "+15*([1, 1, 3, 1, 6, 1], (0, 1, 1, 3, 0))\n",
      "+15*([21, 5], (3,))\n",
      "+15*([1, 1, 1, 3, 3, 2], (2, 3, 2, 1, 0))\n",
      "+15*([1, 2, 8, 4], (3, 1, 1))\n",
      "+15*([1, 1, 5, 1, 4, 1], (0, 1, 1, 5, 0))\n",
      "+15*([1, 2, 5, 6], (5, 1, 1))\n",
      "+15*([1, 2, 2, 3, 2, 1], (1, 2, 3, 2, 0))\n",
      "+13*([1, 1, 9, 5], [9, 12], [1, 11, 4, 1])((0, 1, 1, 1, 1, 1, 1, 1, 1, 1), (1, 1, 1, 1, 0), (1, 1, 1, 1, 1, 1, 1, 1, 1))\n",
      "+13*([1, 2, 2, 15], [1, 1, 2, 2, 3, 2], [1, 4, 11, 1])((0, 1, 1), (1, 1, 1, 1, 1, 1, 1, 1, 1, 1, 1, 0), (0, 0, 0, 1, 1, 0))\n",
      "+10*([2, 6, 3, 2], [2, 7, 4, 1], [1, 1, 3, 3, 1, 2])((0, 0, 0, 1, 1), (1, 0, 0, 1), (1, 1, 1, 0, 0, 0, 0))\n",
      "+10*([1, 1, 3, 3, 1, 2], [1, 2, 1, 3, 1, 4], [1, 1, 2, 2, 3, 2])((1, 0, 0, 0, 1), (1, 1, 0, 1), (1, 1, 1, 0, 1))\n",
      "+10*([1, 6, 4, 3], [2, 8, 4, 1], [1, 1, 2, 1, 3, 3])((0, 0, 0, 1, 1), (1, 1, 0, 1), (1, 1, 1, 1, 0, 0, 0, 0))\n",
      "+10*([1, 5, 9, 1], (0, 1, 4))\n",
      "+10*([1, 1, 2, 1, 3, 3], (0, 3, 3, 1, 0))\n",
      "+10*([3, 2, 3, 4], (1, 3, 3))\n",
      "+9*([1, 1, 2, 3, 2, 2], [2, 2, 2, 9], [2, 5, 6, 1])((1, 1, 0, 0, 0, 0, 0, 0), (0, 0, 1, 1), (1, 0, 0, 1, 1))\n",
      "+9*([2, 2, 9, 2], (1, 2, 1))\n",
      "+9*([1, 1, 1, 6, 1, 3], [1, 1, 9, 1, 2, 1], [1, 12, 4, 1])((1, 1, 1, 1, 1, 1, 1, 1, 1), (0, 1, 0, 1, 1, 1, 1), (0, 0, 1, 0))\n",
      "+9*([1, 2, 2, 15], [2, 3, 11, 1], [1, 1, 1, 3, 3, 2])((0, 1, 1), (1, 0, 0, 1, 1, 1), (1, 0, 0, 0, 0, 0, 0, 0, 0, 0, 0, 0))\n",
      "+9*([1, 1, 1, 2, 4, 2], [1, 1, 1, 8, 2, 1], [1, 7, 6, 1])((1, 1, 0, 0, 0, 0, 0, 0), (0, 0, 0, 0, 1), (0, 1, 0, 1))\n",
      "+9*([1, 1, 2, 3, 3, 1], [1, 2, 7, 4], [1, 1, 1, 2, 1, 9])((1, 1, 1, 1, 1, 1, 1, 0), (0, 1, 0, 0, 1), (1, 1, 1, 0))\n",
      "+9*([2, 1, 8, 4], [2, 1, 7, 4], [1, 8, 1, 9])((0, 1, 1, 1, 1, 1, 1, 1), (0, 0, 0, 0, 0, 0, 0, 0, 1), (1, 1, 0, 0))\n",
      "+9*([1, 9, 5, 1], [2, 1, 4, 7], [1, 5, 6, 2])((0, 1, 1, 1, 1), (0, 1, 1, 1, 1, 1, 1), (1, 1, 1, 1, 1, 0, 0))\n",
      "+9*([1, 1, 2, 4, 2, 1], [2, 1, 3, 9], [1, 5, 6, 2])((1, 1, 0, 0, 0, 0, 0, 0), (0, 0, 1, 0), (0, 0, 0, 1, 1))\n",
      "+9*([1, 12, 2, 3], [8, 1, 9, 1], [1, 11, 3, 2])((1, 1, 1, 1, 1, 1, 1, 1), (1, 0, 0, 1, 1, 1, 0), (0, 0, 0, 0, 0, 0, 0, 0, 0))\n",
      "+9*([1, 1, 1, 3, 1, 6], [1, 1, 1, 2, 8, 1], [1, 10, 5, 1])((1, 1, 1, 1, 1, 1, 1, 1), (1, 0, 1, 1, 1, 1, 1), (0, 1, 0, 1))\n",
      "+9*([1, 6, 7, 1], (0, 1, 5))\n",
      "+9*([1, 1, 2, 1, 9, 1], (0, 1, 1, 2, 0))\n",
      "+9*([1, 2, 9, 3], (2, 1, 1))\n",
      "+9*([3, 2, 12, 1], (0, 3, 1))\n",
      "+9*([1, 4, 12, 1], (0, 1, 3))\n",
      "+9*([5, 2, 7, 1], (0, 5, 1))\n",
      "+8*([2, 1, 3, 10], [3, 1, 4, 5], [1, 3, 5, 4])((1, 1, 1, 0), (1, 1, 1, 1, 1, 0, 0), (0, 0, 0, 0, 1, 1, 1))\n",
      "+7*([2, 6, 5, 1], [1, 1, 1, 7, 2, 1], [1, 1, 1, 2, 3, 3])((0, 1, 0, 1), (0, 0, 1, 1, 1), (1, 1, 1, 1, 1, 0, 0))\n",
      "+7*([1, 1, 1, 3, 1, 6], [1, 1, 1, 2, 7, 1], [1, 9, 5, 1])((1, 1, 1, 1, 1, 1, 1), (1, 0, 1, 1, 1, 1, 1), (0, 1, 0, 1))\n",
      "+6*([1, 3, 1, 4, 2, 1], [1, 1, 1, 3, 3, 2], [1, 1, 1, 2, 3, 3])((1, 0, 1, 0), (0, 1, 1, 1, 0), (1, 1, 0, 0, 0))\n",
      "+6*([2, 10, 3, 1], [2, 6, 5, 1], [2, 3, 4, 3])((0, 0, 1, 1), (0, 0, 1, 1, 1, 1), (1, 1, 1, 0, 0, 0, 0, 0))\n",
      "+6*([1, 3, 1, 4, 2, 1], [1, 2, 1, 3, 2, 2], [2, 1, 2, 1, 2, 3])((1, 1, 0, 0), (1, 1, 0, 1, 1), (1, 0, 1, 1, 0))\n",
      "+6*([9, 12], [1, 1, 4, 11], [1, 5, 9, 1])((0, 1, 1, 1, 1), (1, 1, 1, 1, 1, 1, 1, 1, 1), (1, 1, 1, 1, 1, 1, 1, 1, 1, 0))\n",
      "+6*([1, 3, 3, 7], [1, 2, 5, 1, 2, 1], [1, 1, 5, 9])((1, 1, 1, 1, 1, 0), (0, 0, 0, 1, 1, 1, 1, 1), (0, 0, 1, 0))\n",
      "+6*([1, 3, 5, 4], [2, 8, 4, 1], [1, 5, 2, 1, 2, 1])((1, 1, 1, 1, 0, 0), (1, 0, 1, 1), (0, 0, 1, 1, 1, 1, 1))\n",
      "+6*([1, 1, 2, 2, 2, 3], [1, 2, 1, 2, 5, 1], [1, 1, 1, 6, 1, 3])((1, 1, 1, 1, 1, 0), (1, 0, 1, 0, 0), (0, 1, 1, 0))\n",
      "+6*([2, 6, 5, 1], [1, 1, 2, 3, 3, 1], [1, 9, 3, 2])((1, 0, 1, 1, 1), (1, 1, 1, 0, 0, 0, 0, 0), (0, 0, 1, 1))\n",
      "+6*([1, 3, 2, 11], [2, 1, 2, 2, 3, 1], [1, 1, 8, 6])((1, 1, 1, 0), (0, 0, 1, 1, 1, 1, 1, 1, 1, 1), (0, 0, 1, 0, 0))\n",
      "+6*([1, 2, 1, 5, 2, 1], [1, 3, 10, 2], [1, 12, 4, 1])((1, 1, 1, 1, 1, 1, 1, 1, 1, 1), (1, 0, 1, 1, 1, 1), (1, 0, 1, 1))\n",
      "+6*([3, 1, 7, 3], (2, 3, 0))\n",
      "+6*([2, 1, 7, 4], (3, 2, 0))\n",
      "+6*([2, 3, 9, 1], (2, 9, 0))\n",
      "+6*([1, 1, 11, 4], (3, 1, 0))\n",
      "+6*([1, 1, 6, 8], (7, 1, 0))\n",
      "+6*([3, 1, 11, 2], (1, 3, 0))\n",
      "+6*([2, 1, 3, 10], (9, 2, 0))\n",
      "+6*([5, 2, 7, 1], (1, 7, 0))\n",
      "+5*([1, 5, 2, 7], [1, 1, 5, 2, 2, 1], [1, 1, 1, 2, 3, 3])((1, 1, 0), (1, 1, 1, 0, 0, 1), (0, 1, 0, 0, 0, 0, 0))\n",
      "+4*([2, 3, 4, 3], [2, 1, 5, 6], [2, 1, 3, 10])((0, 0, 0, 1, 1, 1, 1, 1), (1, 1, 0, 0, 0, 0), (1, 1, 0, 0))\n",
      "+1*([2, 3, 2, 6], [1, 1, 2, 3, 2, 2], [2, 3, 4, 3])((0, 0, 1, 1), (0, 0, 1, 1, 1, 1), (0, 0, 1, 1, 0))\n",
      "+1*([3, 2, 6, 2], (1, 3, 1))\n",
      "+1*([1, 1, 6, 1, 1, 3], (0, 1, 3, 1, 0))\n",
      "\n"
     ]
    }
   ],
   "source": [
    "resultStr = \"\"\n",
    "minimum = min([value(x[1]) for x in solList if round(value(x[1]))!=0])\n",
    "for x in solList:\n",
    "    if round(value(x[1])/minimum)!=0:\n",
    "        if len(x[0])==3:\n",
    "            resultStr += \"+\" + str(round(value(x[1])/minimum)) + \"*\" + str(minGeos(x[0])) + str(x[0])+ \"\\n\"\n",
    "        else:\n",
    "            resultStr += \"+\" + str(round(value(x[1])/minimum)) + \"*\" + str(x[0]) + \"\\n\"\n",
    "print(resultStr)"
   ]
  },
  {
   "cell_type": "code",
   "execution_count": 99,
   "metadata": {},
   "outputs": [
    {
     "data": {
      "text/plain": [
       "4.66335010146634"
      ]
     },
     "execution_count": 99,
     "metadata": {},
     "output_type": "execute_result"
    }
   ],
   "source": [
    "s = shearCoordInv(((1, 1, 1, 1), (1, 0, 1, 1, 1, 0, 1), (0, 0, 0, 0, 0, 0, 0, 0, 0, 0, 0, 0, 0, 0, 0, 0)), ((1, 1, 1, 1, 1), (1, 1, 1, 1, 1, 1, 1, 1, 1, 1, 1, 1, 1, 1), (1, 0, 0, 0, 0, 1)),[4, 1, 16, 1], vis = False)\n",
    "s"
   ]
  },
  {
   "cell_type": "code",
   "execution_count": 100,
   "metadata": {},
   "outputs": [
    {
     "data": {
      "text/plain": [
       "[1, 1, 2, 2, 3, 2]"
      ]
     },
     "execution_count": 100,
     "metadata": {},
     "output_type": "execute_result"
    }
   ],
   "source": [
    "minPermutations([1, 1, 2, 3, 2, 2][::-1])"
   ]
  },
  {
   "cell_type": "code",
   "execution_count": 101,
   "metadata": {},
   "outputs": [
    {
     "data": {
      "text/plain": [
       "([1, 3, 1, 20], [4, 1, 16, 1], [1, 1, 3, 1, 1, 6])"
      ]
     },
     "execution_count": 101,
     "metadata": {},
     "output_type": "execute_result"
    }
   ],
   "source": [
    "minGeos(((1, 1, 1, 1), (1, 0, 1, 1, 1, 0, 1), (0, 0, 0, 0, 0, 0, 0, 0, 0, 0, 0, 0, 0, 0, 0, 0)))"
   ]
  },
  {
   "cell_type": "code",
   "execution_count": 102,
   "metadata": {},
   "outputs": [
    {
     "data": {
      "text/plain": [
       "([1, 4, 1, 16], [4, 2, 5, 2], [14, 7])"
      ]
     },
     "execution_count": 102,
     "metadata": {},
     "output_type": "execute_result"
    }
   ],
   "source": [
    "minGeos(((1, 1, 1, 1, 1), (1, 1, 1, 1, 1, 1, 1, 1, 1, 1, 1, 1, 1, 1), (1, 0, 0, 0, 0, 1)))"
   ]
  },
  {
   "cell_type": "code",
   "execution_count": 103,
   "metadata": {},
   "outputs": [
    {
     "data": {
      "text/plain": [
       "4.7706127982846205"
      ]
     },
     "execution_count": 103,
     "metadata": {},
     "output_type": "execute_result"
    }
   ],
   "source": [
    "h = halfLength([1, 1, 2, 3, 2, 2])\n",
    "h"
   ]
  },
  {
   "cell_type": "code",
   "execution_count": 104,
   "metadata": {},
   "outputs": [
    {
     "data": {
      "text/plain": [
       "4.66335010146634"
      ]
     },
     "execution_count": 104,
     "metadata": {},
     "output_type": "execute_result"
    }
   ],
   "source": [
    "s%h"
   ]
  },
  {
   "cell_type": "code",
   "execution_count": 105,
   "metadata": {},
   "outputs": [
    {
     "name": "stdout",
     "output_type": "stream",
     "text": [
      "4.700397710917233\n"
     ]
    },
    {
     "data": {
      "text/plain": [
       "2.488053458026492"
      ]
     },
     "execution_count": 105,
     "metadata": {},
     "output_type": "execute_result"
    }
   ],
   "source": [
    "gamma  = [1, 1, 2, 21]\n",
    "h = halfLength(gamma)\n",
    "print(h)\n",
    "pants1 = ((1, 1, 1, 1), (1, 1, 1, 1, 1, 1, 1, 1, 1, 1, 1, 1, 1, 1, 0), (0, 0, 0, 0, 0, 0, 1, 1))\n",
    "pants2 = ((1, 1, 1, 1, 0, 0, 0, 0, 0, 0), (1, 0), (1, 1, 1, 1, 1, 1, 1, 1, 1, 1, 1, 1, 1, 1, 1, 1, 1, 1, 1, 1, 1))\n",
    "s = shearCoordInv(pants1,pants2, gamma, vis = False)\n",
    "(-s)%h"
   ]
  },
  {
   "cell_type": "code",
   "execution_count": 108,
   "metadata": {},
   "outputs": [
    {
     "data": {
      "image/png": "[encoded data removed]",
      "text/plain": [
       "<Figure size 1080x1080 with 1 Axes>"
      ]
     },
     "metadata": {
      "needs_background": "light"
     },
     "output_type": "display_data"
    }
   ],
   "source": [
    "gamma = (1, 10, 2, 3)\n",
    "visualizeShears(gamma, pantsDict, pantsInd)"
   ]
  },
  {
   "cell_type": "code",
   "execution_count": 109,
   "metadata": {},
   "outputs": [
    {
     "name": "stdout",
     "output_type": "stream",
     "text": [
      "0.16854516204388456 0.36854516204388454 [381] [566]\n",
      "0.16854516204388456 0.3729709331697387 [381] [566]\n",
      "0.16854516204388456 0.7903575801780688 [381] [566]\n",
      "0.16854516204388456 1.0349291331251096 [381] [566]\n",
      "0.16854516204388456 1.78166537226909 [381] [566]\n",
      "0.17297093316973874 0.36854516204388454 [381] [566]\n",
      "0.17297093316973874 0.3729709331697387 [381] [566]\n",
      "0.17297093316973874 0.7903575801780688 [381] [566]\n",
      "0.17297093316973874 1.0349291331251096 [381] [566]\n",
      "0.17297093316973874 1.78166537226909 [381] [566]\n",
      "0.5903575801780688 0.7903575801780688 [381] [566]\n",
      "0.5903575801780688 1.0349291331251096 [381] [566]\n",
      "0.5903575801780688 1.78166537226909 [381] [566]\n",
      "0.8349291331251095 1.0349291331251096 [381] [566]\n",
      "0.8349291331251095 1.78166537226909 [381] [566]\n",
      "1.5816653722690899 1.78166537226909 [381] [566]\n",
      "3.1604249867710004 3.3604249867710005 [70] [400]\n",
      "3.1604249867710004 3.6443926905137274 [70] [70]\n",
      "3.444392690513727 3.6443926905137274 [716] [70]\n",
      "4.266650070110502 0.36854516204388454 [566] [566]\n",
      "4.266650070110502 0.3729709331697387 [566] [566]\n",
      "4.266650070110502 0.7903575801780688 [566] [566]\n",
      "4.266650070110502 1.0349291331251096 [566] [566]\n",
      "4.266650070110502 1.78166537226909 [566] [566]\n",
      "4.266650070110502 4.466650070110501 [566] [566]\n",
      "4.266650070110502 0.09999998019412537 [566] [566]\n",
      "4.515022453012599 0.36854516204388454 [1195] [566]\n",
      "4.515022453012599 0.3729709331697387 [1195] [566]\n",
      "4.515022453012599 0.7903575801780688 [1195] [566]\n",
      "4.515022453012599 1.0349291331251096 [1195] [566]\n",
      "4.515022453012599 1.78166537226909 [1195] [566]\n",
      "4.515022453012599 0.09999998019412537 [1195] [566]\n",
      "[(1, 0, [30], [30], 'empty', 'empty'), (2, 0, [30], [684], 'empty', 'empty'), (3, 0, [30], [319], 'empty', 'empty'), (4, 0, [30], [578], 'empty', 'empty'), (5, 0, [30], [627], 'empty', 'empty'), (6, 2, [30], [839], [381], [400]), (7, 3, [30], [1123], [381], [70]), (8, 5, [30], [1314], [381], [96]), (9, 7, [30], [61], [381], [566]), (10, 7, [30], [848], [381], [566]), (10, 0, [684], [30], 'empty', 'empty'), (1, 0, [684], [684], 'empty', 'empty'), (2, 0, [684], [319], 'empty', 'empty'), (3, 0, [684], [578], 'empty', 'empty'), (4, 0, [684], [627], 'empty', 'empty'), (5, 2, [684], [839], [381], [400]), (6, 3, [684], [1123], [381], [70]), (7, 5, [684], [1314], [381], [96]), (8, 7, [684], [61], [381], [566]), (9, 7, [684], [848], [381], [566]), (9, 7, [319], [30], [381], [566]), (10, 7, [319], [684], [381], [566]), (1, 0, [319], [319], 'empty', 'empty'), (2, 0, [319], [578], 'empty', 'empty'), (3, 0, [319], [627], 'empty', 'empty'), (4, 2, [319], [839], [381], [400]), (5, 3, [319], [1123], [381], [70]), (6, 5, [319], [1314], [381], [96]), (7, 7, [319], [61], [381], [566]), (8, 7, [319], [848], [381], [566]), (8, 7, [578], [30], [381], [566]), (9, 7, [578], [684], [381], [566]), (10, 7, [578], [319], [381], [566]), (1, 0, [578], [578], 'empty', 'empty'), (2, 0, [578], [627], 'empty', 'empty'), (3, 2, [578], [839], [381], [400]), (4, 3, [578], [1123], [381], [70]), (5, 5, [578], [1314], [381], [96]), (6, 7, [578], [61], [381], [566]), (7, 7, [578], [848], [381], [566]), (7, 7, [627], [30], [381], [566]), (8, 7, [627], [684], [381], [566]), (9, 7, [627], [319], [381], [566]), (10, 7, [627], [578], [381], [566]), (1, 0, [627], [627], 'empty', 'empty'), (2, 2, [627], [839], [381], [400]), (3, 3, [627], [1123], [381], [70]), (4, 5, [627], [1314], [381], [96]), (5, 7, [627], [61], [381], [566]), (6, 7, [627], [848], [381], [566]), (6, 5, [839], [30], [70], [566]), (7, 5, [839], [684], [70], [566]), (8, 5, [839], [319], [70], [566]), (9, 5, [839], [578], [70], [566]), (10, 5, [839], [627], [70], [566]), (1, 0, [839], [839], 'empty', 'empty'), (2, 0, [839], [1123], 'empty', 'empty'), (3, 3, [839], [1314], [70], [96]), (4, 5, [839], [61], [70], [566]), (5, 5, [839], [848], [70], [566]), (5, 4, [1123], [30], [716], [566]), (6, 4, [1123], [684], [716], [566]), (7, 4, [1123], [319], [716], [566]), (8, 4, [1123], [578], [716], [566]), (9, 4, [1123], [627], [716], [566]), (10, 8, [1123], [839], [716], [400]), (1, 0, [1123], [1123], 'empty', 'empty'), (2, 2, [1123], [1314], [716], [96]), (3, 4, [1123], [61], [716], [566]), (4, 4, [1123], [848], [716], [566]), (4, 4, [1314], [30], [716], [566]), (5, 4, [1314], [684], [716], [566]), (6, 4, [1314], [319], [716], [566]), (7, 4, [1314], [578], [716], [566]), (8, 4, [1314], [627], [716], [566]), (9, 8, [1314], [839], [716], [400]), (10, 8, [1314], [1123], [716], [70]), (1, 2, [1314], [1314], [716], [96]), (2, 4, [1314], [61], [716], [566]), (3, 4, [1314], [848], [716], [566]), (3, 0, [61], [30], 'empty', 'empty'), (4, 0, [61], [684], 'empty', 'empty'), (5, 0, [61], [319], 'empty', 'empty'), (6, 0, [61], [578], 'empty', 'empty'), (7, 0, [61], [627], 'empty', 'empty'), (8, 8, [61], [839], [566], [400]), (9, 8, [61], [1123], [566], [70]), (10, 8, [61], [1314], [566], [96]), (1, 0, [61], [61], 'empty', 'empty'), (2, 0, [61], [848], 'empty', 'empty'), (2, 0, [848], [30], 'empty', 'empty'), (3, 0, [848], [684], 'empty', 'empty'), (4, 0, [848], [319], 'empty', 'empty'), (5, 0, [848], [578], 'empty', 'empty'), (6, 0, [848], [627], 'empty', 'empty'), (7, 3, [848], [839], [1195], [400]), (8, 4, [848], [1123], [1195], [70]), (9, 6, [848], [1314], [1195], [96]), (10, 8, [848], [61], [1195], [566]), (1, 0, [848], [848], 'empty', 'empty')]\n"
     ]
    }
   ],
   "source": [
    "print([(len(a), len(b), m,n,q,w) for (a,b,m,n,q,w) in getInequalityIndices2(posGeoList, pantsList, pantsInd, pantsDict, gamma)])"
   ]
  },
  {
   "cell_type": "code",
   "execution_count": null,
   "metadata": {},
   "outputs": [],
   "source": []
  }
 ],
 "metadata": {
  "kernelspec": {
   "display_name": "Python 3",
   "language": "python",
   "name": "python3"
  },
  "language_info": {
   "codemirror_mode": {
    "name": "ipython",
    "version": 3
   },
   "file_extension": ".py",
   "mimetype": "text/x-python",
   "name": "python",
   "nbconvert_exporter": "python",
   "pygments_lexer": "ipython3",
   "version": "3.7.1"
  }
 },
 "nbformat": 4,
 "nbformat_minor": 4
}
