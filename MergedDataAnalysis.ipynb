{
 "cells": [
  {
   "cell_type": "code",
   "execution_count": 2,
   "metadata": {},
   "outputs": [],
   "source": [
    "with open('sequences20') as handle:\n",
    "    u = handle.read()\n",
    "import json\n",
    "seqs_by_length = json.loads(u)"
   ]
  },
  {
   "cell_type": "code",
   "execution_count": 3,
   "metadata": {},
   "outputs": [],
   "source": [
    "import numpy as np"
   ]
  },
  {
   "cell_type": "code",
   "execution_count": 4,
   "metadata": {},
   "outputs": [],
   "source": [
    "# The matrix for an EVEN LENGTH R-L sequence\n",
    "def cf2matrix(a):\n",
    "    u = np.eye(2, dtype=np.int64)\n",
    "    for x in a:\n",
    "        u = np.matmul(u, [[x, 1], [1, 0]])\n",
    "    return u\n",
    "\n",
    "# The matrix for an even or odd length sequence, where the odd case is just the \"condensed form\" for an even sequence\n",
    "def m_rep(seq):\n",
    "    if len(seq) % 2 == 0:\n",
    "        return cf2matrix(seq)\n",
    "    else:\n",
    "        return cf2matrix(seq + seq)\n",
    "    \n",
    "def rotl(x, k):\n",
    "    return x[k:] + x[:k]\n",
    "\n",
    "def min_rot(x):\n",
    "    return min(rotl(x, k) for k in range(len(x)))\n",
    "\n",
    "def min_rot2(x):\n",
    "    return min(rotl(x, k) for k in range(0, len(x), 2))\n",
    "    \n",
    "def trace2length(t):\n",
    "    return 2 * np.arccosh(t/2)\n",
    "\n",
    "def length2trace(l):\n",
    "    return 2 * np.cosh(l/2)\n",
    "\n",
    "# The sequences that we actually want, from the \"condensed forms\" that take primitive roots in PGL_2(Z)\n",
    "def actual_sequences(a, length):\n",
    "    min_trace = int(length2trace(length)) + 1\n",
    "    max_trace = int(length2trace(length+1)) + 1\n",
    "    result = []\n",
    "    for _x in a:\n",
    "        x = _x[:] # Need this to make x harmlessly mutable\n",
    "        m = m_rep(x)\n",
    "        t = np.trace(m)\n",
    "        if t < min_trace or t >= max_trace:\n",
    "            x_length = trace2length(t)\n",
    "            k = int((length + 1)/x_length)\n",
    "            x *= k\n",
    "        # Symmetrize by both R-L flip and time reversal, and add all four\n",
    "        if len(x) % 2 == 0:\n",
    "            result += [x, rotl(x, 1)]\n",
    "        # Expand condensed form, and then symmetrize by time reversal\n",
    "        else:\n",
    "            xx = x + x\n",
    "            result += [xx]\n",
    "    return result\n",
    "\n",
    "def my_actual_sequences(length):\n",
    "    return actual_sequences(seqs_by_length[length], length)\n",
    "\n",
    "def reduce_and_remove_duplicates(seqs):\n",
    "    u = {tuple(min_rot2(x)) for x in seqs}\n",
    "    return [list(x) for x in u]\n",
    "            \n",
    "def guys_for_trace(t):\n",
    "    l = int(trace2length(t))\n",
    "    l_seqs = my_actual_sequences(l)\n",
    "    t_seqs = [x for x in l_seqs if np.trace(cf2matrix(x)) == t]\n",
    "    return reduce_and_remove_duplicates(t_seqs)\n",
    "    \n",
    "def geos_in_trace_range(t0,t1):\n",
    "    all_seqs = []\n",
    "    for i in range(t0,t1+1):\n",
    "        all_seqs += guys_for_trace(i)\n",
    "    return all_seqs"
   ]
  },
  {
   "cell_type": "code",
   "execution_count": 11,
   "metadata": {},
   "outputs": [
    {
     "data": {
      "text/plain": [
       "[[8, 1],\n",
       " [1, 1, 2, 1],\n",
       " [1, 8],\n",
       " [1, 1, 1, 2],\n",
       " [4, 2],\n",
       " [2, 4],\n",
       " [1, 9],\n",
       " [3, 3],\n",
       " [9, 1],\n",
       " [1, 10],\n",
       " [2, 5],\n",
       " [5, 2],\n",
       " [10, 1],\n",
       " [1, 11],\n",
       " [1, 1, 3, 1],\n",
       " [11, 1],\n",
       " [1, 1, 1, 3],\n",
       " [1, 2, 1, 2],\n",
       " [2, 1, 2, 1],\n",
       " [12, 1],\n",
       " [2, 6],\n",
       " [1, 12],\n",
       " [6, 2],\n",
       " [4, 3],\n",
       " [3, 4],\n",
       " [1, 1, 2, 2],\n",
       " [1, 13],\n",
       " [1, 2, 2, 1],\n",
       " [13, 1],\n",
       " [2, 7],\n",
       " [1, 1, 1, 4],\n",
       " [1, 14],\n",
       " [1, 1, 4, 1],\n",
       " [14, 1],\n",
       " [7, 2],\n",
       " [1, 15],\n",
       " [15, 1],\n",
       " [5, 3],\n",
       " [3, 5],\n",
       " [8, 2],\n",
       " [2, 8],\n",
       " [1, 16],\n",
       " [4, 4],\n",
       " [16, 1],\n",
       " [2, 1, 3, 1],\n",
       " [1, 2, 1, 3],\n",
       " [1, 1, 1, 1, 1, 1],\n",
       " [17, 1],\n",
       " [1, 1, 1, 5],\n",
       " [1, 17],\n",
       " [1, 1, 5, 1],\n",
       " [1, 2, 3, 1],\n",
       " [1, 3, 2, 1],\n",
       " [2, 9],\n",
       " [9, 2],\n",
       " [1, 18],\n",
       " [6, 3],\n",
       " [3, 6],\n",
       " [1, 1, 2, 3],\n",
       " [1, 1, 3, 2],\n",
       " [18, 1]]"
      ]
     },
     "execution_count": 11,
     "metadata": {},
     "output_type": "execute_result"
    }
   ],
   "source": [
    "geos_in_trace_range(10,20)"
   ]
  },
  {
   "cell_type": "code",
   "execution_count": 12,
   "metadata": {},
   "outputs": [],
   "source": [
    "inputList = [[1, 1, 2, 1], [1, 1, 1, 2], [8, 1], [1, 8], [4, 2], [2, 4], [9, 1], [1, 9], [10, 1], [5, 2], [2, 5], [1, 10], [1, 1, 3, 1], [1, 1, 1, 3], [11, 1], [1, 11], [12, 1], [4, 3], [3, 4], [1, 12], [6, 2], [2, 6], [13, 1], [1, 13], [14, 1], [7, 2], [2, 7], [1, 14], [1, 1, 4, 1], [1, 1, 1, 4], [15, 1], [5, 3], [3, 5], [1, 15], [2, 1, 3, 1], [1, 2, 1, 3], [16, 1], [1, 16], [8, 2], [2, 8], [1, 1, 5, 1], [1, 1, 1, 5], [17, 1], [1, 17], [1, 2, 3, 1], [1, 3, 2, 1], [1, 1, 2, 3], [1, 1, 3, 2], [18, 1], [9, 2], [2, 9], [1, 18], [6, 3], [3, 6]]"
   ]
  },
  {
   "cell_type": "code",
   "execution_count": 1,
   "metadata": {},
   "outputs": [
    {
     "ename": "NameError",
     "evalue": "name 'geos_in_trace_range' is not defined",
     "output_type": "error",
     "traceback": [
      "\u001b[0;31m---------------------------------------------------------------------------\u001b[0m",
      "\u001b[0;31mNameError\u001b[0m                                 Traceback (most recent call last)",
      "\u001b[0;32m<ipython-input-1-dd95717e5f43>\u001b[0m in \u001b[0;36m<module>\u001b[0;34m\u001b[0m\n\u001b[0;32m----> 1\u001b[0;31m \u001b[0;32mfor\u001b[0m \u001b[0mseq\u001b[0m \u001b[0;32min\u001b[0m \u001b[0mgeos_in_trace_range\u001b[0m\u001b[0;34m(\u001b[0m\u001b[0;36m10\u001b[0m\u001b[0;34m,\u001b[0m\u001b[0;36m20\u001b[0m\u001b[0;34m)\u001b[0m\u001b[0;34m:\u001b[0m\u001b[0;34m\u001b[0m\u001b[0;34m\u001b[0m\u001b[0m\n\u001b[0m\u001b[1;32m      2\u001b[0m     \u001b[0mprint\u001b[0m\u001b[0;34m(\u001b[0m\u001b[0mseq\u001b[0m\u001b[0;34m,\u001b[0m\u001b[0mseq\u001b[0m \u001b[0;32min\u001b[0m \u001b[0minputList\u001b[0m\u001b[0;34m(\u001b[0m\u001b[0;36m10\u001b[0m\u001b[0;34m,\u001b[0m\u001b[0;36m20\u001b[0m\u001b[0;34m)\u001b[0m\u001b[0;34m)\u001b[0m\u001b[0;34m\u001b[0m\u001b[0;34m\u001b[0m\u001b[0m\n\u001b[1;32m      3\u001b[0m \u001b[0;34m\u001b[0m\u001b[0m\n",
      "\u001b[0;31mNameError\u001b[0m: name 'geos_in_trace_range' is not defined"
     ]
    }
   ],
   "source": [
    "for seq in geos_in_trace_range(10,20):\n",
    "    print(seq,seq in inputList(10,20))\n",
    "        "
   ]
  },
  {
   "cell_type": "code",
   "execution_count": null,
   "metadata": {},
   "outputs": [],
   "source": []
  }
 ],
 "metadata": {
  "kernelspec": {
   "display_name": "Python 3",
   "language": "python",
   "name": "python3"
  },
  "language_info": {
   "codemirror_mode": {
    "name": "ipython",
    "version": 3
   },
   "file_extension": ".py",
   "mimetype": "text/x-python",
   "name": "python",
   "nbconvert_exporter": "python",
   "pygments_lexer": "ipython3",
   "version": "3.7.6"
  }
 },
 "nbformat": 4,
 "nbformat_minor": 4
}
