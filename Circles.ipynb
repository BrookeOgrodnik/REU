{
 "cells": [
  {
   "cell_type": "code",
   "execution_count": 3,
   "metadata": {},
   "outputs": [],
   "source": [
    "import numpy as np\n",
    "from sympy import ntheory\n",
    "from sympy.ntheory import continued_fraction_reduce\n",
    "import matplotlib.pyplot as plt"
   ]
  },
  {
   "cell_type": "code",
   "execution_count": 4,
   "metadata": {},
   "outputs": [
    {
     "ename": "SyntaxError",
     "evalue": "unexpected EOF while parsing (<ipython-input-4-ea26bb241abc>, line 33)",
     "output_type": "error",
     "traceback": [
      "\u001b[0;36m  File \u001b[0;32m\"<ipython-input-4-ea26bb241abc>\"\u001b[0;36m, line \u001b[0;32m33\u001b[0m\n\u001b[0;31m    \u001b[0m\n\u001b[0m    ^\u001b[0m\n\u001b[0;31mSyntaxError\u001b[0m\u001b[0;31m:\u001b[0m unexpected EOF while parsing\n"
     ]
    }
   ],
   "source": [
    "def getOrtho(circ1,circ2):\n",
    "    r1,x1 = circ1 \n",
    "    r2,x2 = circ2\n",
    "    c1 = x1**2-r1**2\n",
    "    c2 = x2**2-r2**2\n",
    "    x3 = (c1-c2)/(2*(h1-h2))\n",
    "    r3 = np.sqrt(h**2+2*x1*h+c1)\n",
    "    return (r3, x3)\n",
    "\n",
    "def getDist(circ1,circ2):\n",
    "    circ1,circ2 = getInv(circ1), getInv(circ2)\n",
    "    t1,u1,v1 = circ1\n",
    "    t2,u2,v2 = circ2\n",
    "    return np.arccosh(t1*u2/2+t2*u1/2-v1*v2)\n",
    "    \n",
    "def normalToInv(circ):\n",
    "    r,x = circ\n",
    "    return ((x**2-r**2)/r, 1/r, x/r)\n",
    "\n",
    "def InvToNormal(circ):\n",
    "    t,u,v = circ\n",
    "    r = 1/u\n",
    "    x = r*v\n",
    "    return (r,x)\n",
    "\n",
    "def shear(pant1, pant2):\n",
    "    i,j = -1,-1\n",
    "    for g in range(3):\n",
    "        for y in range(3):\n",
    "            if pant1(g)==pant2(y):\n",
    "                i,j = g,y\n",
    "    if not i==-1:\n",
    "        "
   ]
  },
  {
   "cell_type": "code",
   "execution_count": 6,
   "metadata": {},
   "outputs": [],
   "source": [
    "def isOdd(sequence):\n",
    "    return len(sequence) % 2"
   ]
  },
  {
   "cell_type": "code",
   "execution_count": 7,
   "metadata": {},
   "outputs": [],
   "source": [
    "def inv(lr_sequence):\n",
    "    return tuple((np.array(lr_sequence[::-1]) - 1) ** 2)"
   ]
  },
  {
   "cell_type": "code",
   "execution_count": 8,
   "metadata": {},
   "outputs": [],
   "source": [
    "def pairToFrac2(s1,s2):\n",
    "    return recover2(list(s1) + [1] + list(inv(s2)) + [1])"
   ]
  },
  {
   "cell_type": "code",
   "execution_count": 9,
   "metadata": {},
   "outputs": [],
   "source": [
    "def recover2(ls):\n",
    "    output = []\n",
    "    i = 0\n",
    "    while i < len(ls):\n",
    "        counter = 1\n",
    "        while (i < len(ls) - 1 and ls[i] == ls[i + 1]):\n",
    "            i += 1\n",
    "            counter += 1\n",
    "        i += 1\n",
    "        output.append(counter)\n",
    "    if isOdd(output):  \n",
    "        output = [0]+output\n",
    "    return output"
   ]
  },
  {
   "cell_type": "code",
   "execution_count": 17,
   "metadata": {},
   "outputs": [],
   "source": [
    "def pantsInPlane(pants):\n",
    "    circles = []\n",
    "    s0,s1,s2 = pants\n",
    "    y0 = pairToFrac2(s0,s1)\n",
    "    y1 = pairToFrac2(s1,s2)\n",
    "    y2 = pairToFrac2(s2,s0)\n",
    "    B = lambda x : 1/(1-x)\n",
    "    \n",
    "    alpha = ntheory.continued_fraction_reduce([y0])\n",
    "    print(salpha)\n",
    "    alpha_conj = -1/(ntheory.continued_fraction_reduce([y0[::-1]]))\n",
    "    print(alpha_conj)\n",
    "    x_min = alpha_conj+1\n",
    "    x_max = alpha+1\n",
    "    r = (x_max-x_min)/2\n",
    "    r = r.evalf()\n",
    "    x = (x_min+x_max)/2\n",
    "    x = x.evalf()\n",
    "    circles.append((r,x))\n",
    "    \n",
    "    \n",
    "    alpha = ntheory.continued_fraction_reduce([y1])\n",
    "    alpha_conj = -1/(ntheory.continued_fraction_reduce([y1[::-1]]))\n",
    "    x_min = alpha_conj+1\n",
    "    x_max = alpha+1\n",
    "    x_min = B(x_min)\n",
    "    x_max = B(x_max)\n",
    "    r = (x_max-x_min)/2\n",
    "    r = r.evalf()\n",
    "    x = (x_min+x_max)/2\n",
    "    x = x.evalf()\n",
    "    circles.append((r,x))\n",
    "    \n",
    "    alpha = ntheory.continued_fraction_reduce([y2])\n",
    "    alpha_conj = -1/(ntheory.continued_fraction_reduce([y2[::-1]]))\n",
    "    x_min = alpha_conj+1\n",
    "    x_max = alpha+1\n",
    "    x_min = B(B(x_min))\n",
    "    x_max = B(B(x_max))\n",
    "    r = (x_max-x_min)/2\n",
    "    r = r.evalf()\n",
    "    x = (x_min+x_max)/2\n",
    "    x = x.evalf()\n",
    "    circles.append((r,x))\n",
    "    return circles\n",
    "    \n",
    "    "
   ]
  },
  {
   "cell_type": "code",
   "execution_count": 18,
   "metadata": {},
   "outputs": [],
   "source": [
    "def plotPants(pants):\n",
    "    fig, ax = plt.subplots()\n",
    "    \n",
    "    circ1, circ2, circ3 = pantsInPlane(pants)\n",
    "    minimum = -1+min(circ1[1]-abs(circ1[0]), circ2[1]-abs(circ2[0]), circ3[1]-abs(circ3[0]))\n",
    "    maximum = 1+max(circ1[1]+abs(circ1[0]), circ2[1]+abs(circ2[0]), circ3[1]+abs(circ3[0]))\n",
    "    ax.set_xlim(float(minimum),float(maximum))\n",
    "    ax.set_ylim(0, float(max(abs(circ1[0]), abs(circ2[0]), abs(circ3[0]))+1))\n",
    "    \n",
    "    circle1 = plt.Circle((circ1[1],0), abs(circ1[0]), fill = False, color = 'r')\n",
    "    circle2 = plt.Circle((circ2[1],0), abs(circ2[0]), fill = False, color = 'g')\n",
    "    circle3 = plt.Circle((circ3[1],0), abs(circ3[0]), fill = False, color = 'b')\n",
    "    \n",
    "    \n",
    "    ax.add_artist(circle1)\n",
    "    ax.add_artist(circle2)\n",
    "    ax.add_artist(circle3)\n",
    "    ax.set_aspect('equal', adjustable='box')"
   ]
  },
  {
   "cell_type": "code",
   "execution_count": 19,
   "metadata": {},
   "outputs": [
    {
     "name": "stdout",
     "output_type": "stream",
     "text": [
      "3*(3 + 2*sqrt(78))/101\n",
      "-9/(3 + 2*sqrt(78))\n"
     ]
    },
    {
     "data": {
      "image/png": "[encoded data removed]",
      "text/plain": [
       "<Figure size 432x288 with 1 Axes>"
      ]
     },
     "metadata": {
      "needs_background": "light"
     },
     "output_type": "display_data"
    }
   ],
   "source": [
    "plotPants(([1,0,1,0,1],[0,1,1,1],[0,0,1,1,1]))"
   ]
  },
  {
   "cell_type": "code",
   "execution_count": 108,
   "metadata": {},
   "outputs": [
    {
     "data": {
      "image/png": "[encoded data removed]",
      "text/plain": [
       "<Figure size 432x288 with 1 Axes>"
      ]
     },
     "metadata": {
      "needs_background": "light"
     },
     "output_type": "display_data"
    }
   ],
   "source": [
    "plotPants(([0,1,1,0,1,0,1,1,1,1,1,1]+1*[1]+800*[0],10*[1]+[0,0,1,1,1,1]+10*[1],[0,0,1,1,1]))"
   ]
  },
  {
   "cell_type": "code",
   "execution_count": 109,
   "metadata": {},
   "outputs": [],
   "source": [
    "a = ntheory.continued_fraction_reduce([[1,3,4,3]]).evalf()+1"
   ]
  },
  {
   "cell_type": "code",
   "execution_count": 110,
   "metadata": {},
   "outputs": [],
   "source": [
    "a_conj = -1/ntheory.continued_fraction_reduce([[3,4,3,1]]).evalf()+1"
   ]
  },
  {
   "cell_type": "code",
   "execution_count": 111,
   "metadata": {},
   "outputs": [
    {
     "data": {
      "text/plain": [
       "[(0.809173593712687, 1.50000000000000),\n",
       " (-1.88549782307388, 1.42857142857143),\n",
       " (0.690065559342354, 0.e-126)]"
      ]
     },
     "execution_count": 111,
     "metadata": {},
     "output_type": "execute_result"
    }
   ],
   "source": [
    "pantsInPlane(([0,1,1],[0,0,1,1,1,1],[0,0,1,1,1]))"
   ]
  },
  {
   "cell_type": "code",
   "execution_count": null,
   "metadata": {},
   "outputs": [],
   "source": []
  }
 ],
 "metadata": {
  "kernelspec": {
   "display_name": "Python 3",
   "language": "python",
   "name": "python3"
  },
  "language_info": {
   "codemirror_mode": {
    "name": "ipython",
    "version": 3
   },
   "file_extension": ".py",
   "mimetype": "text/x-python",
   "name": "python",
   "nbconvert_exporter": "python",
   "pygments_lexer": "ipython3",
   "version": "3.7.6"
  }
 },
 "nbformat": 4,
 "nbformat_minor": 2
}
