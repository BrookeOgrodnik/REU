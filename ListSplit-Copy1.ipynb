{
 "cells": [
  {
   "cell_type": "code",
   "execution_count": 9,
   "metadata": {},
   "outputs": [],
   "source": [
    "import numpy as np\n",
    "import sympy as sp\n",
    "from sympy import ntheory\n",
    "from sympy.ntheory import continued_fraction_periodic\n",
    "import math"
   ]
  },
  {
   "cell_type": "code",
   "execution_count": 10,
   "metadata": {},
   "outputs": [],
   "source": [
    "def classRepresentatives(trace): # gives quadratic forms of given trace\n",
    "    bound = math.floor(trace**2-4)\n",
    "    quadraticForms = []\n",
    "    i = 1\n",
    "    while i**2 < bound:\n",
    "        if not bound % (i**2) == 0:\n",
    "            i = i + 1\n",
    "            continue\n",
    "        D = bound//(i**2)\n",
    "        if isASquare(D):\n",
    "            i = i + 1\n",
    "            continue\n",
    "        elif D%4 == 0:\n",
    "            quadraticForms+=representatives(D)\n",
    "        elif D%4 == 1:\n",
    "            quadraticForms+=representatives(D)\n",
    "        i = i + 1\n",
    "    return [Q for Q in quadraticForms if tr(Q)==np.round(trace)]\n",
    "\n",
    "def representatives(D):\n",
    "    reps = []\n",
    "    seenFracs = []\n",
    "    for i in range(1,math.floor(np.sqrt(D))+1):\n",
    "        B = -i\n",
    "        if not (B**2-D)%4==0:\n",
    "            continue\n",
    "        for j in range(math.ceil((np.sqrt(D)+B)/2),math.floor((np.sqrt(D)-B)/2)+1):\n",
    "            A = j\n",
    "            if not ((B**2-D)//4)%A==0:\n",
    "                continue\n",
    "            C = ((B**2-D)//4)//A\n",
    "            Q = [A,B,C]\n",
    "            frac = ntheory.continued_fraction_periodic(-Q[1], 2*Q[0], disc(Q))[0]\n",
    "            if frac not in seenFracs and gcd(A,B,C)==1:\n",
    "                seenFracs+=permutationsOf(frac)\n",
    "                reps.append(Q)\n",
    "            else:\n",
    "                continue\n",
    "    return reps\n",
    "\n",
    "def classCFReps(trace): # gives continued fractions of a given trace\n",
    "    bound = math.floor(trace**2-4)\n",
    "    cfList = []\n",
    "    i = 1\n",
    "    while i**2 < bound:\n",
    "        if not bound % (i**2) == 0:\n",
    "            i = i + 1\n",
    "            continue\n",
    "        D = bound//(i**2)\n",
    "        if isASquare(D):\n",
    "            i = i + 1\n",
    "            continue\n",
    "        elif D%4 == 0:\n",
    "            cfList+=cfReps(D)\n",
    "        elif D%4 == 1:\n",
    "            cfList+=cfReps(D)\n",
    "        i = i + 1\n",
    "    return [cf for cf in cfList if cfTrace(cf)==np.round(trace)]\n",
    "\n",
    "def cfReps(D):\n",
    "    fracReps = []\n",
    "    seenFracs = []\n",
    "    for i in range(1,math.floor(np.sqrt(D))+1):\n",
    "        B = -i\n",
    "        if not (B**2-D)%4==0:\n",
    "            continue\n",
    "        for j in range(math.ceil((np.sqrt(D)+B)/2),math.floor((np.sqrt(D)-B)/2)+1):\n",
    "            A = j\n",
    "            if not ((B**2-D)//4)%A==0:\n",
    "                continue\n",
    "            C = ((B**2-D)//4)//A\n",
    "            Q = [A,B,C]\n",
    "            frac = ntheory.continued_fraction_periodic(-Q[1], 2*Q[0], disc(Q))[0]\n",
    "            if frac not in seenFracs and gcd(A,B,C)==1:\n",
    "                seenFracs+=permutationsOf(frac)\n",
    "                fracReps.append(frac)\n",
    "            else:\n",
    "                continue\n",
    "    return fracReps\n",
    "\n",
    "def classCFReps2(trace): # gives continued fractions of a given trace\n",
    "    bound = math.floor(trace**2-4)\n",
    "    cfList = []\n",
    "    i = 1\n",
    "    while i**2 < bound:\n",
    "        if not bound % (i**2) == 0:\n",
    "            i = i + 1\n",
    "            continue\n",
    "        D = bound//(i**2)\n",
    "        if isASquare(D):\n",
    "            i = i + 1\n",
    "            continue\n",
    "        elif D%4 == 0:\n",
    "            cfList+=cfReps2(D)\n",
    "        elif D%4 == 1:\n",
    "            cfList+=cfReps2(D)\n",
    "        i = i + 1\n",
    "    return [cf for cf in cfList if cfTrace(cf)==np.round(trace)]\n",
    "\n",
    "def cfReps2(D):\n",
    "    fracReps = []\n",
    "    for i in range(1,math.floor(np.sqrt(D))+1):\n",
    "        B = -i\n",
    "        if not (B**2-D)%4==0:\n",
    "            continue\n",
    "        for j in range(math.ceil((np.sqrt(D)+B)/2),math.floor((np.sqrt(D)-B)/2)+1):\n",
    "            A = j\n",
    "            if not ((B**2-D)//4)%A==0:\n",
    "                continue\n",
    "            C = ((B**2-D)//4)//A\n",
    "            Q = [A,B,C]\n",
    "            frac = ntheory.continued_fraction_periodic(-Q[1], 2*Q[0], disc(Q))[0]\n",
    "            minRep = min(permutationsOf(frac))\n",
    "            if minRep not in fracReps and gcd(A,B,C)==1:\n",
    "                fracReps.append(minRep)\n",
    "            else:\n",
    "                continue\n",
    "    return fracReps\n",
    "\n",
    "def permutationsOf(a):\n",
    "    perms = []\n",
    "    if len(a)%2==0:\n",
    "        for n in range(0,len(a),2):\n",
    "            perms.append(a[n:]+a[:n])\n",
    "    else:\n",
    "        for n in range(0,len(a)):\n",
    "            perms.append(a[n:]+a[:n])\n",
    "    return perms\n",
    "\n",
    "def disc(Q):\n",
    "    return Q[1]**2-4*Q[0]*Q[2]\n",
    "\n",
    "def areEquivalent(Q,W):\n",
    "    return ntheory.continued_fraction_periodic(-Q[1], 2*Q[0], disc(Q))[0] in permutationsOf(ntheory.continued_fraction_periodic(-W[1], 2*W[0], disc(W))[0])\n",
    "\n",
    "def equalsQuad(L,M):\n",
    "    if len(L)!=len(M):\n",
    "        return False\n",
    "    for l in L:\n",
    "        counter = 0\n",
    "        for m in M:\n",
    "            if areEquivalent(m,l):\n",
    "                M.remove(m)\n",
    "                counter+=1\n",
    "        if counter !=1:\n",
    "            return False\n",
    "    return True\n",
    "\n",
    "def classNum(D):\n",
    "    return len(representatives(D))\n",
    "\n",
    "def tr(Q):\n",
    "    return np.trace(quadToMat(Q))\n",
    "\n",
    "def cfTrace(cf):\n",
    "    return np.trace(cfToMat(cf))\n",
    "\n",
    "def isASquare(n):\n",
    "    for i in range(2,n):\n",
    "        if n==i**2:\n",
    "            return True\n",
    "    return False\n",
    "\n",
    "def gcd(a,b,c):\n",
    "    return np.gcd(a,np.gcd(b,c))\n",
    "\n",
    "def matgcd(mat):\n",
    "    return gcd(mat[1,0],mat[1,1]-mat[0,0],mat[0,1])\n",
    "\n",
    "def quadToMat(Q):\n",
    "    mat = np.identity(2)\n",
    "    length = 0\n",
    "    for x in ntheory.continued_fraction_periodic(-Q[1], 2*Q[0],disc(Q))[0]:\n",
    "        mat = np.matmul(mat,[[x,1],[1,0]])\n",
    "        length += 1\n",
    "    if length % 2 == 1:\n",
    "        mat = np.matmul(mat,mat)\n",
    "    return np.array(mat).astype(int)"
   ]
  },
  {
   "cell_type": "code",
   "execution_count": 11,
   "metadata": {},
   "outputs": [],
   "source": [
    "def contFracToLR(contFrac):\n",
    "    if len(contFrac)%2==1:\n",
    "        contFrac = contFrac + contFrac\n",
    "    output = []\n",
    "    for i in range(len(contFrac)):\n",
    "        if i%2==1: #if original cont'd frac is even length, making last one R/alternating is same as this (hopefully)\n",
    "            for j in range(contFrac[i]):\n",
    "                output.append(1)\n",
    "        else:\n",
    "            for j in range(contFrac[i]):\n",
    "                output.append(0)\n",
    "    return output\n",
    "\n",
    "def recover2(ls): #sends a whole list to a cont'd fraction (not clear whether this is needed)\n",
    "    output = []\n",
    "    i=0\n",
    "    while i<len(ls):\n",
    "        counter=1\n",
    "        while(i<len(ls)-1 and ls[i] == ls[i+1]):\n",
    "            i+=1\n",
    "            counter+=1\n",
    "        i+=1\n",
    "        output.append(counter)\n",
    "    if (len(output)%2!=0):\n",
    "        output[len(output)-1]+=output[0]\n",
    "        output = output[1:]\n",
    "    return output\n",
    "\n",
    "def indices(lrSeq): #positions of R's (R=1)\n",
    "    return [i for i in range(len(lrSeq)) if lrSeq[i]==1]\n",
    "\n",
    "def pairs(lrSeq): #pairs of R's on which to split\n",
    "    output = []\n",
    "    for i in indices(lrSeq):\n",
    "        for j in indices(lrSeq):\n",
    "            if i==j:\n",
    "                continue\n",
    "            else:\n",
    "                output.append((i,j))\n",
    "    return output\n",
    "\n",
    "def split(contFrac): #splits a cont'd fraction on every possible pair of R's into 2 groups of R's and L's (in 0's and 1's)\n",
    "    output = []\n",
    "    converted = contFracToLR(contFrac)\n",
    "    n = len(converted)\n",
    "    splitPoints = pairs(converted)\n",
    "    for i,j in splitPoints:\n",
    "        temp = converted[i:]+converted[:i]\n",
    "        temp1 = temp[1:(j-i)%n]\n",
    "        temp2 = inv(temp[(j-i)%n+1:]) #inv(temp[(j-i)%n+1:])\n",
    "        output.append((tuple(temp1),tuple(temp2)))\n",
    "    return output\n",
    "\n",
    "def printCon(lrSeq): #R = 1, L = 0\n",
    "    a = ''\n",
    "    for i in lrSeq:\n",
    "        if i==1:\n",
    "            a+= 'R'\n",
    "        else:\n",
    "            a+= 'L'\n",
    "    return a\n",
    "\n",
    "def printConLs(ls):\n",
    "    printList = []\n",
    "    for L in ls:\n",
    "        printList.append(printCon(L))\n",
    "    return printList\n",
    "\n",
    "#def getDict(contFrac):\n",
    "#    output = []\n",
    "#    fracs = []\n",
    "#    for t in range(1+2*e):\n",
    "#        tr = trace-e+t\n",
    "#        fracs += [ntheory.continued_fraction_periodic(-Q[1], 2*Q[0], disc(Q))[0] for Q in classRepresentatives(tr)]\n",
    "#    for f in fracs:\n",
    "#        output += split(f)\n",
    "#    return output\n",
    "\n",
    "#def cfListToDict(cfList):\n",
    "#    outputDict = {}\n",
    "#    for cf in cfList:\n",
    "#        for obj in split(cf):\n",
    "#            if obj[0] in outputDict:\n",
    "#                outputDict[obj[0]].add(obj[1])\n",
    "#            else:\n",
    "#                outputDict[obj[0]] = {obj[1]}\n",
    "#    return outputDict\n",
    "\n",
    "def cfListToDicts(cfList):\n",
    "    forwardDict = {}\n",
    "    invDict = {}\n",
    "    for cf in cfList:\n",
    "        for obj in split(cf):\n",
    "            if obj[0] in forwardDict:\n",
    "                forwardDict[obj[0]].add(obj[1])\n",
    "            else:\n",
    "                forwardDict[obj[0]] = {obj[1]}\n",
    "            if obj[1] in invDict:\n",
    "                invDict[obj[1]].add(obj[0])\n",
    "            else:\n",
    "                invDict[obj[1]] = {obj[0]}\n",
    "    return forwardDict,invDict\n",
    "\n",
    "def inv(lrSeq): #inverts a list of 0's and 1's (R's and L's)\n",
    "    return tuple((np.array(lrSeq[::-1])-1)**2)\n",
    "\n",
    "def pairToFrac(s1,s2):\n",
    "    out = list(s1)+[1]+list(inv(s2))+[1]\n",
    "    return tuple(recover2(out))\n",
    "\n",
    "#def getPants(cfList): #this clearly doesn't work\n",
    "#    allPairs = cfListToDict(cfList)\n",
    "#    output,fracs = [],[]\n",
    "#    for s0,s1 in allPairs:\n",
    "#        temp1,temp2 = set([tuple(a[1]) for a in allPairs if a[0]==s0]), set([tuple(a[1]) for a in allPairs if a[0]==s1])\n",
    "#        s  = temp1.intersection(temp2)\n",
    "#        for s2 in s:\n",
    "#            s2 = list(s2)\n",
    "#            output.append([s0,s1,s2])\n",
    "#            fracs = [pairToFrac(s0,inv(s1)),pairToFrac(s1,inv(s2)),pairToFrac(s2,inv(s0))]\n",
    "#    return fracs\n",
    "\n",
    "def getPants(cfList):\n",
    "    dictPair = cfListToDicts(cfList)\n",
    "    forwardDict = dictPair[0]\n",
    "    invDict = dictPair[1]\n",
    "    pants = set()\n",
    "    for s0 in forwardDict:\n",
    "        for s1 in forwardDict[s0]:\n",
    "            if s1 in forwardDict and s0 in invDict:\n",
    "                for s2 in forwardDict[s1].intersection(invDict[s0]):\n",
    "                    pants.add((pairToFrac(s0,s1),pairToFrac(s1,s2),pairToFrac(s2,s0)))\n",
    "    return pants\n",
    "\n",
    "def pantsInTraceRange(traceMin,traceMax):\n",
    "    cfList = []\n",
    "    for trace in range(traceMin,traceMax+1):\n",
    "        cfList += classCFReps(trace)\n",
    "    return getPants(cfList)\n",
    "\n",
    "def pantsInTraceRangeAndWithGivenCuff(traceMin,traceMax,cuttingSequence):\n",
    "    allPants = pantsInTraceRange(traceMin,traceMax)\n",
    "    pantsWithCuff = []\n",
    "    for pants in allPants:\n",
    "        if cuttingSequence in pants:\n",
    "            pantsWithCuff.append(pants)\n",
    "    return pantsWithCuff\n",
    "\n",
    "def boundaryCountForOrientedCuffs(traceMin,traceMax,cuttingSequencePositive): #i sort of screwed up orientation here\n",
    "                                                                                #since surface is on the left and therefore\n",
    "                                                                                #we prefer counterclockwise...\n",
    "    cuttingSequenceNegative = cuttingSequencePositive[::-1]\n",
    "    positiveOrientationPants = pantsInTraceRangeAndWithGivenCuff(traceMin,traceMax,cuttingSequencePositive)\n",
    "    negativeOrientationPants = pantsInTraceRangeAndWithGivenCuff(traceMin,traceMax,cuttingSequenceNegative)\n",
    "    return (len(positiveOrientationPants) - len(negativeOrientationPants))\n",
    "            \n",
    "\n",
    "def cfToMat(cf):\n",
    "    mat = np.identity(2)\n",
    "    length = 0\n",
    "    for x in cf:\n",
    "        mat = np.matmul(mat,[[x,1],[1,0]])\n",
    "        length += 1\n",
    "    if length % 2 == 1:\n",
    "        mat = np.matmul(mat,mat)\n",
    "    return np.array(mat).astype(int)"
   ]
  },
  {
   "cell_type": "code",
   "execution_count": 12,
   "metadata": {},
   "outputs": [
    {
     "data": {
      "text/plain": [
       "[((2, 1, 1, 9), (1, 1, 1, 5, 1, 1), (2, 1, 6, 2)),\n",
       " ((2, 1, 6, 2), (2, 1, 1, 9), (1, 1, 1, 5, 1, 1)),\n",
       " ((6, 2, 2, 1), (1, 1, 1, 1, 1, 5), (2, 1, 1, 9)),\n",
       " ((1, 1, 1, 5, 1, 1), (2, 1, 6, 2), (2, 1, 1, 9)),\n",
       " ((1, 1, 1, 1, 1, 5), (2, 1, 1, 9), (6, 2, 2, 1)),\n",
       " ((2, 1, 1, 9), (6, 2, 2, 1), (1, 1, 1, 1, 1, 5))]"
      ]
     },
     "execution_count": 12,
     "metadata": {},
     "output_type": "execute_result"
    }
   ],
   "source": [
    "pantsInTraceRangeAndWithGivenCuff(50,50,(2,1,1,9))"
   ]
  },
  {
   "cell_type": "code",
   "execution_count": null,
   "metadata": {
    "scrolled": true
   },
   "outputs": [
    {
     "name": "stdout",
     "output_type": "stream",
     "text": [
      "13 33\n",
      "13 -30\n",
      "17 24\n",
      "14 21\n",
      "31 -12\n",
      "11 15\n",
      "16 -6\n",
      "18 -42\n",
      "21 12\n",
      "12 -3\n",
      "10 6\n",
      "19 45\n",
      "14 7\n",
      "13 15\n",
      "16 3\n",
      "17 -3\n",
      "11 0\n",
      "11 24\n",
      "21 -36\n",
      "17 15\n"
     ]
    }
   ],
   "source": [
    "for pant in pantsInTraceRange(90,110):\n",
    "    print(sum(pant[0]),boundaryCountForOrientedCuffs(90,110, pant[0]))"
   ]
  },
  {
   "cell_type": "code",
   "execution_count": 13,
   "metadata": {},
   "outputs": [
    {
     "ename": "KeyboardInterrupt",
     "evalue": "",
     "output_type": "error",
     "traceback": [
      "\u001b[0;31m---------------------------------------------------------------------------\u001b[0m",
      "\u001b[0;31mKeyError\u001b[0m                                  Traceback (most recent call last)",
      "\u001b[0;32m~/anaconda3/lib/python3.7/site-packages/sympy/core/assumptions.py\u001b[0m in \u001b[0;36mgetit\u001b[0;34m(self)\u001b[0m\n\u001b[1;32m    243\u001b[0m         \u001b[0;32mtry\u001b[0m\u001b[0;34m:\u001b[0m\u001b[0;34m\u001b[0m\u001b[0;34m\u001b[0m\u001b[0m\n\u001b[0;32m--> 244\u001b[0;31m             \u001b[0;32mreturn\u001b[0m \u001b[0mself\u001b[0m\u001b[0;34m.\u001b[0m\u001b[0m_assumptions\u001b[0m\u001b[0;34m[\u001b[0m\u001b[0mfact\u001b[0m\u001b[0;34m]\u001b[0m\u001b[0;34m\u001b[0m\u001b[0;34m\u001b[0m\u001b[0m\n\u001b[0m\u001b[1;32m    245\u001b[0m         \u001b[0;32mexcept\u001b[0m \u001b[0mKeyError\u001b[0m\u001b[0;34m:\u001b[0m\u001b[0;34m\u001b[0m\u001b[0;34m\u001b[0m\u001b[0m\n",
      "\u001b[0;31mKeyError\u001b[0m: 'infinite'",
      "\nDuring handling of the above exception, another exception occurred:\n",
      "\u001b[0;31mKeyboardInterrupt\u001b[0m                         Traceback (most recent call last)",
      "\u001b[0;32m<ipython-input-13-734fbeb6d44c>\u001b[0m in \u001b[0;36m<module>\u001b[0;34m\u001b[0m\n\u001b[0;32m----> 1\u001b[0;31m \u001b[0mboundaryCountForOrientedCuffs\u001b[0m\u001b[0;34m(\u001b[0m\u001b[0;36m3\u001b[0m\u001b[0;34m,\u001b[0m\u001b[0;36m100\u001b[0m\u001b[0;34m,\u001b[0m\u001b[0;34m(\u001b[0m\u001b[0;36m1\u001b[0m\u001b[0;34m,\u001b[0m\u001b[0;36m8\u001b[0m\u001b[0;34m)\u001b[0m\u001b[0;34m)\u001b[0m\u001b[0;34m\u001b[0m\u001b[0;34m\u001b[0m\u001b[0m\n\u001b[0m",
      "\u001b[0;32m<ipython-input-11-66d1ac5030f9>\u001b[0m in \u001b[0;36mboundaryCountForOrientedCuffs\u001b[0;34m(traceMin, traceMax, cuttingSequencePositive)\u001b[0m\n\u001b[1;32m    152\u001b[0m     \u001b[0mcuttingSequenceNegative\u001b[0m \u001b[0;34m=\u001b[0m \u001b[0mcuttingSequencePositive\u001b[0m\u001b[0;34m[\u001b[0m\u001b[0;34m:\u001b[0m\u001b[0;34m:\u001b[0m\u001b[0;34m-\u001b[0m\u001b[0;36m1\u001b[0m\u001b[0;34m]\u001b[0m\u001b[0;34m\u001b[0m\u001b[0;34m\u001b[0m\u001b[0m\n\u001b[1;32m    153\u001b[0m     \u001b[0mpositiveOrientationPants\u001b[0m \u001b[0;34m=\u001b[0m \u001b[0mpantsInTraceRangeAndWithGivenCuff\u001b[0m\u001b[0;34m(\u001b[0m\u001b[0mtraceMin\u001b[0m\u001b[0;34m,\u001b[0m\u001b[0mtraceMax\u001b[0m\u001b[0;34m,\u001b[0m\u001b[0mcuttingSequencePositive\u001b[0m\u001b[0;34m)\u001b[0m\u001b[0;34m\u001b[0m\u001b[0;34m\u001b[0m\u001b[0m\n\u001b[0;32m--> 154\u001b[0;31m     \u001b[0mnegativeOrientationPants\u001b[0m \u001b[0;34m=\u001b[0m \u001b[0mpantsInTraceRangeAndWithGivenCuff\u001b[0m\u001b[0;34m(\u001b[0m\u001b[0mtraceMin\u001b[0m\u001b[0;34m,\u001b[0m\u001b[0mtraceMax\u001b[0m\u001b[0;34m,\u001b[0m\u001b[0mcuttingSequenceNegative\u001b[0m\u001b[0;34m)\u001b[0m\u001b[0;34m\u001b[0m\u001b[0;34m\u001b[0m\u001b[0m\n\u001b[0m\u001b[1;32m    155\u001b[0m     \u001b[0;32mreturn\u001b[0m \u001b[0;34m(\u001b[0m\u001b[0mlen\u001b[0m\u001b[0;34m(\u001b[0m\u001b[0mpositiveOrientationPants\u001b[0m\u001b[0;34m)\u001b[0m \u001b[0;34m-\u001b[0m \u001b[0mlen\u001b[0m\u001b[0;34m(\u001b[0m\u001b[0mnegativeOrientationPants\u001b[0m\u001b[0;34m)\u001b[0m\u001b[0;34m)\u001b[0m\u001b[0;34m\u001b[0m\u001b[0;34m\u001b[0m\u001b[0m\n\u001b[1;32m    156\u001b[0m \u001b[0;34m\u001b[0m\u001b[0m\n",
      "\u001b[0;32m<ipython-input-11-66d1ac5030f9>\u001b[0m in \u001b[0;36mpantsInTraceRangeAndWithGivenCuff\u001b[0;34m(traceMin, traceMax, cuttingSequence)\u001b[0m\n\u001b[1;32m    140\u001b[0m \u001b[0;34m\u001b[0m\u001b[0m\n\u001b[1;32m    141\u001b[0m \u001b[0;32mdef\u001b[0m \u001b[0mpantsInTraceRangeAndWithGivenCuff\u001b[0m\u001b[0;34m(\u001b[0m\u001b[0mtraceMin\u001b[0m\u001b[0;34m,\u001b[0m\u001b[0mtraceMax\u001b[0m\u001b[0;34m,\u001b[0m\u001b[0mcuttingSequence\u001b[0m\u001b[0;34m)\u001b[0m\u001b[0;34m:\u001b[0m\u001b[0;34m\u001b[0m\u001b[0;34m\u001b[0m\u001b[0m\n\u001b[0;32m--> 142\u001b[0;31m     \u001b[0mallPants\u001b[0m \u001b[0;34m=\u001b[0m \u001b[0mpantsInTraceRange\u001b[0m\u001b[0;34m(\u001b[0m\u001b[0mtraceMin\u001b[0m\u001b[0;34m,\u001b[0m\u001b[0mtraceMax\u001b[0m\u001b[0;34m)\u001b[0m\u001b[0;34m\u001b[0m\u001b[0;34m\u001b[0m\u001b[0m\n\u001b[0m\u001b[1;32m    143\u001b[0m     \u001b[0mpantsWithCuff\u001b[0m \u001b[0;34m=\u001b[0m \u001b[0;34m[\u001b[0m\u001b[0;34m]\u001b[0m\u001b[0;34m\u001b[0m\u001b[0;34m\u001b[0m\u001b[0m\n\u001b[1;32m    144\u001b[0m     \u001b[0;32mfor\u001b[0m \u001b[0mpants\u001b[0m \u001b[0;32min\u001b[0m \u001b[0mallPants\u001b[0m\u001b[0;34m:\u001b[0m\u001b[0;34m\u001b[0m\u001b[0;34m\u001b[0m\u001b[0m\n",
      "\u001b[0;32m<ipython-input-11-66d1ac5030f9>\u001b[0m in \u001b[0;36mpantsInTraceRange\u001b[0;34m(traceMin, traceMax)\u001b[0m\n\u001b[1;32m    136\u001b[0m     \u001b[0mcfList\u001b[0m \u001b[0;34m=\u001b[0m \u001b[0;34m[\u001b[0m\u001b[0;34m]\u001b[0m\u001b[0;34m\u001b[0m\u001b[0;34m\u001b[0m\u001b[0m\n\u001b[1;32m    137\u001b[0m     \u001b[0;32mfor\u001b[0m \u001b[0mtrace\u001b[0m \u001b[0;32min\u001b[0m \u001b[0mrange\u001b[0m\u001b[0;34m(\u001b[0m\u001b[0mtraceMin\u001b[0m\u001b[0;34m,\u001b[0m\u001b[0mtraceMax\u001b[0m\u001b[0;34m+\u001b[0m\u001b[0;36m1\u001b[0m\u001b[0;34m)\u001b[0m\u001b[0;34m:\u001b[0m\u001b[0;34m\u001b[0m\u001b[0;34m\u001b[0m\u001b[0m\n\u001b[0;32m--> 138\u001b[0;31m         \u001b[0mcfList\u001b[0m \u001b[0;34m+=\u001b[0m \u001b[0mclassCFReps\u001b[0m\u001b[0;34m(\u001b[0m\u001b[0mtrace\u001b[0m\u001b[0;34m)\u001b[0m\u001b[0;34m\u001b[0m\u001b[0;34m\u001b[0m\u001b[0m\n\u001b[0m\u001b[1;32m    139\u001b[0m     \u001b[0;32mreturn\u001b[0m \u001b[0mgetPants\u001b[0m\u001b[0;34m(\u001b[0m\u001b[0mcfList\u001b[0m\u001b[0;34m)\u001b[0m\u001b[0;34m\u001b[0m\u001b[0;34m\u001b[0m\u001b[0m\n\u001b[1;32m    140\u001b[0m \u001b[0;34m\u001b[0m\u001b[0m\n",
      "\u001b[0;32m<ipython-input-10-ed00cf7296fe>\u001b[0m in \u001b[0;36mclassCFReps\u001b[0;34m(trace)\u001b[0m\n\u001b[1;32m     54\u001b[0m             \u001b[0mcfList\u001b[0m\u001b[0;34m+=\u001b[0m\u001b[0mcfReps\u001b[0m\u001b[0;34m(\u001b[0m\u001b[0mD\u001b[0m\u001b[0;34m)\u001b[0m\u001b[0;34m\u001b[0m\u001b[0;34m\u001b[0m\u001b[0m\n\u001b[1;32m     55\u001b[0m         \u001b[0;32melif\u001b[0m \u001b[0mD\u001b[0m\u001b[0;34m%\u001b[0m\u001b[0;36m4\u001b[0m \u001b[0;34m==\u001b[0m \u001b[0;36m1\u001b[0m\u001b[0;34m:\u001b[0m\u001b[0;34m\u001b[0m\u001b[0;34m\u001b[0m\u001b[0m\n\u001b[0;32m---> 56\u001b[0;31m             \u001b[0mcfList\u001b[0m\u001b[0;34m+=\u001b[0m\u001b[0mcfReps\u001b[0m\u001b[0;34m(\u001b[0m\u001b[0mD\u001b[0m\u001b[0;34m)\u001b[0m\u001b[0;34m\u001b[0m\u001b[0;34m\u001b[0m\u001b[0m\n\u001b[0m\u001b[1;32m     57\u001b[0m         \u001b[0mi\u001b[0m \u001b[0;34m=\u001b[0m \u001b[0mi\u001b[0m \u001b[0;34m+\u001b[0m \u001b[0;36m1\u001b[0m\u001b[0;34m\u001b[0m\u001b[0;34m\u001b[0m\u001b[0m\n\u001b[1;32m     58\u001b[0m     \u001b[0;32mreturn\u001b[0m \u001b[0;34m[\u001b[0m\u001b[0mcf\u001b[0m \u001b[0;32mfor\u001b[0m \u001b[0mcf\u001b[0m \u001b[0;32min\u001b[0m \u001b[0mcfList\u001b[0m \u001b[0;32mif\u001b[0m \u001b[0mcfTrace\u001b[0m\u001b[0;34m(\u001b[0m\u001b[0mcf\u001b[0m\u001b[0;34m)\u001b[0m\u001b[0;34m==\u001b[0m\u001b[0mnp\u001b[0m\u001b[0;34m.\u001b[0m\u001b[0mround\u001b[0m\u001b[0;34m(\u001b[0m\u001b[0mtrace\u001b[0m\u001b[0;34m)\u001b[0m\u001b[0;34m]\u001b[0m\u001b[0;34m\u001b[0m\u001b[0;34m\u001b[0m\u001b[0m\n",
      "\u001b[0;32m<ipython-input-10-ed00cf7296fe>\u001b[0m in \u001b[0;36mcfReps\u001b[0;34m(D)\u001b[0m\n\u001b[1;32m     71\u001b[0m             \u001b[0mC\u001b[0m \u001b[0;34m=\u001b[0m \u001b[0;34m(\u001b[0m\u001b[0;34m(\u001b[0m\u001b[0mB\u001b[0m\u001b[0;34m**\u001b[0m\u001b[0;36m2\u001b[0m\u001b[0;34m-\u001b[0m\u001b[0mD\u001b[0m\u001b[0;34m)\u001b[0m\u001b[0;34m//\u001b[0m\u001b[0;36m4\u001b[0m\u001b[0;34m)\u001b[0m\u001b[0;34m//\u001b[0m\u001b[0mA\u001b[0m\u001b[0;34m\u001b[0m\u001b[0;34m\u001b[0m\u001b[0m\n\u001b[1;32m     72\u001b[0m             \u001b[0mQ\u001b[0m \u001b[0;34m=\u001b[0m \u001b[0;34m[\u001b[0m\u001b[0mA\u001b[0m\u001b[0;34m,\u001b[0m\u001b[0mB\u001b[0m\u001b[0;34m,\u001b[0m\u001b[0mC\u001b[0m\u001b[0;34m]\u001b[0m\u001b[0;34m\u001b[0m\u001b[0;34m\u001b[0m\u001b[0m\n\u001b[0;32m---> 73\u001b[0;31m             \u001b[0mfrac\u001b[0m \u001b[0;34m=\u001b[0m \u001b[0mntheory\u001b[0m\u001b[0;34m.\u001b[0m\u001b[0mcontinued_fraction_periodic\u001b[0m\u001b[0;34m(\u001b[0m\u001b[0;34m-\u001b[0m\u001b[0mQ\u001b[0m\u001b[0;34m[\u001b[0m\u001b[0;36m1\u001b[0m\u001b[0;34m]\u001b[0m\u001b[0;34m,\u001b[0m \u001b[0;36m2\u001b[0m\u001b[0;34m*\u001b[0m\u001b[0mQ\u001b[0m\u001b[0;34m[\u001b[0m\u001b[0;36m0\u001b[0m\u001b[0;34m]\u001b[0m\u001b[0;34m,\u001b[0m \u001b[0mdisc\u001b[0m\u001b[0;34m(\u001b[0m\u001b[0mQ\u001b[0m\u001b[0;34m)\u001b[0m\u001b[0;34m)\u001b[0m\u001b[0;34m[\u001b[0m\u001b[0;36m0\u001b[0m\u001b[0;34m]\u001b[0m\u001b[0;34m\u001b[0m\u001b[0;34m\u001b[0m\u001b[0m\n\u001b[0m\u001b[1;32m     74\u001b[0m             \u001b[0;32mif\u001b[0m \u001b[0mfrac\u001b[0m \u001b[0;32mnot\u001b[0m \u001b[0;32min\u001b[0m \u001b[0mseenFracs\u001b[0m \u001b[0;32mand\u001b[0m \u001b[0mgcd\u001b[0m\u001b[0;34m(\u001b[0m\u001b[0mA\u001b[0m\u001b[0;34m,\u001b[0m\u001b[0mB\u001b[0m\u001b[0;34m,\u001b[0m\u001b[0mC\u001b[0m\u001b[0;34m)\u001b[0m\u001b[0;34m==\u001b[0m\u001b[0;36m1\u001b[0m\u001b[0;34m:\u001b[0m\u001b[0;34m\u001b[0m\u001b[0;34m\u001b[0m\u001b[0m\n\u001b[1;32m     75\u001b[0m                 \u001b[0mseenFracs\u001b[0m\u001b[0;34m+=\u001b[0m\u001b[0mpermutationsOf\u001b[0m\u001b[0;34m(\u001b[0m\u001b[0mfrac\u001b[0m\u001b[0;34m)\u001b[0m\u001b[0;34m\u001b[0m\u001b[0;34m\u001b[0m\u001b[0m\n",
      "\u001b[0;32m~/anaconda3/lib/python3.7/site-packages/sympy/ntheory/continued_fraction.py\u001b[0m in \u001b[0;36mcontinued_fraction_periodic\u001b[0;34m(p, q, d)\u001b[0m\n\u001b[1;32m     85\u001b[0m     \u001b[0;32mwhile\u001b[0m \u001b[0;34m(\u001b[0m\u001b[0mp\u001b[0m\u001b[0;34m,\u001b[0m \u001b[0mq\u001b[0m\u001b[0;34m)\u001b[0m \u001b[0;32mnot\u001b[0m \u001b[0;32min\u001b[0m \u001b[0mpq\u001b[0m\u001b[0;34m:\u001b[0m\u001b[0;34m\u001b[0m\u001b[0;34m\u001b[0m\u001b[0m\n\u001b[1;32m     86\u001b[0m         \u001b[0mpq\u001b[0m\u001b[0;34m[\u001b[0m\u001b[0;34m(\u001b[0m\u001b[0mp\u001b[0m\u001b[0;34m,\u001b[0m \u001b[0mq\u001b[0m\u001b[0;34m)\u001b[0m\u001b[0;34m]\u001b[0m \u001b[0;34m=\u001b[0m \u001b[0mlen\u001b[0m\u001b[0;34m(\u001b[0m\u001b[0mterms\u001b[0m\u001b[0;34m)\u001b[0m\u001b[0;34m\u001b[0m\u001b[0;34m\u001b[0m\u001b[0m\n\u001b[0;32m---> 87\u001b[0;31m         \u001b[0mterms\u001b[0m\u001b[0;34m.\u001b[0m\u001b[0mappend\u001b[0m\u001b[0;34m(\u001b[0m\u001b[0mint\u001b[0m\u001b[0;34m(\u001b[0m\u001b[0;34m(\u001b[0m\u001b[0mp\u001b[0m \u001b[0;34m+\u001b[0m \u001b[0msd\u001b[0m\u001b[0;34m)\u001b[0m\u001b[0;34m/\u001b[0m\u001b[0mq\u001b[0m\u001b[0;34m)\u001b[0m\u001b[0;34m)\u001b[0m\u001b[0;34m\u001b[0m\u001b[0;34m\u001b[0m\u001b[0m\n\u001b[0m\u001b[1;32m     88\u001b[0m         \u001b[0mp\u001b[0m \u001b[0;34m=\u001b[0m \u001b[0mterms\u001b[0m\u001b[0;34m[\u001b[0m\u001b[0;34m-\u001b[0m\u001b[0;36m1\u001b[0m\u001b[0;34m]\u001b[0m\u001b[0;34m*\u001b[0m\u001b[0mq\u001b[0m \u001b[0;34m-\u001b[0m \u001b[0mp\u001b[0m\u001b[0;34m\u001b[0m\u001b[0;34m\u001b[0m\u001b[0m\n\u001b[1;32m     89\u001b[0m         \u001b[0mq\u001b[0m \u001b[0;34m=\u001b[0m \u001b[0;34m(\u001b[0m\u001b[0md\u001b[0m \u001b[0;34m-\u001b[0m \u001b[0mp\u001b[0m\u001b[0;34m**\u001b[0m\u001b[0;36m2\u001b[0m\u001b[0;34m)\u001b[0m\u001b[0;34m/\u001b[0m\u001b[0mq\u001b[0m\u001b[0;34m\u001b[0m\u001b[0;34m\u001b[0m\u001b[0m\n",
      "\u001b[0;32m~/anaconda3/lib/python3.7/site-packages/sympy/core/expr.py\u001b[0m in \u001b[0;36m__int__\u001b[0;34m(self)\u001b[0m\n\u001b[1;32m    223\u001b[0m         \u001b[0;32mif\u001b[0m \u001b[0;32mnot\u001b[0m \u001b[0mself\u001b[0m\u001b[0;34m.\u001b[0m\u001b[0mis_number\u001b[0m\u001b[0;34m:\u001b[0m\u001b[0;34m\u001b[0m\u001b[0;34m\u001b[0m\u001b[0m\n\u001b[1;32m    224\u001b[0m             \u001b[0;32mraise\u001b[0m \u001b[0mTypeError\u001b[0m\u001b[0;34m(\u001b[0m\u001b[0;34m\"can't convert symbols to int\"\u001b[0m\u001b[0;34m)\u001b[0m\u001b[0;34m\u001b[0m\u001b[0;34m\u001b[0m\u001b[0m\n\u001b[0;32m--> 225\u001b[0;31m         \u001b[0mr\u001b[0m \u001b[0;34m=\u001b[0m \u001b[0mself\u001b[0m\u001b[0;34m.\u001b[0m\u001b[0mround\u001b[0m\u001b[0;34m(\u001b[0m\u001b[0;36m2\u001b[0m\u001b[0;34m)\u001b[0m\u001b[0;34m\u001b[0m\u001b[0;34m\u001b[0m\u001b[0m\n\u001b[0m\u001b[1;32m    226\u001b[0m         \u001b[0;32mif\u001b[0m \u001b[0;32mnot\u001b[0m \u001b[0mr\u001b[0m\u001b[0;34m.\u001b[0m\u001b[0mis_Number\u001b[0m\u001b[0;34m:\u001b[0m\u001b[0;34m\u001b[0m\u001b[0;34m\u001b[0m\u001b[0m\n\u001b[1;32m    227\u001b[0m             \u001b[0;32mraise\u001b[0m \u001b[0mTypeError\u001b[0m\u001b[0;34m(\u001b[0m\u001b[0;34m\"can't convert complex to int\"\u001b[0m\u001b[0;34m)\u001b[0m\u001b[0;34m\u001b[0m\u001b[0;34m\u001b[0m\u001b[0m\n",
      "\u001b[0;32m~/anaconda3/lib/python3.7/site-packages/sympy/core/expr.py\u001b[0m in \u001b[0;36mround\u001b[0;34m(self, p)\u001b[0m\n\u001b[1;32m   3326\u001b[0m         \u001b[0mdps\u001b[0m \u001b[0;34m=\u001b[0m \u001b[0mprec_to_dps\u001b[0m\u001b[0;34m(\u001b[0m\u001b[0mmax\u001b[0m\u001b[0;34m(\u001b[0m\u001b[0mprecs\u001b[0m\u001b[0;34m)\u001b[0m\u001b[0;34m)\u001b[0m \u001b[0;32mif\u001b[0m \u001b[0mprecs\u001b[0m \u001b[0;32melse\u001b[0m \u001b[0;32mNone\u001b[0m\u001b[0;34m\u001b[0m\u001b[0;34m\u001b[0m\u001b[0m\n\u001b[1;32m   3327\u001b[0m \u001b[0;34m\u001b[0m\u001b[0m\n\u001b[0;32m-> 3328\u001b[0;31m         \u001b[0mmag_first_dig\u001b[0m \u001b[0;34m=\u001b[0m \u001b[0m_mag\u001b[0m\u001b[0;34m(\u001b[0m\u001b[0mx\u001b[0m\u001b[0;34m)\u001b[0m\u001b[0;34m\u001b[0m\u001b[0;34m\u001b[0m\u001b[0m\n\u001b[0m\u001b[1;32m   3329\u001b[0m         \u001b[0mallow\u001b[0m \u001b[0;34m=\u001b[0m \u001b[0mdigits_needed\u001b[0m \u001b[0;34m=\u001b[0m \u001b[0mmag_first_dig\u001b[0m \u001b[0;34m+\u001b[0m \u001b[0mp\u001b[0m\u001b[0;34m\u001b[0m\u001b[0;34m\u001b[0m\u001b[0m\n\u001b[1;32m   3330\u001b[0m         \u001b[0;32mif\u001b[0m \u001b[0mdps\u001b[0m \u001b[0;32mis\u001b[0m \u001b[0;32mnot\u001b[0m \u001b[0;32mNone\u001b[0m \u001b[0;32mand\u001b[0m \u001b[0mallow\u001b[0m \u001b[0;34m>\u001b[0m \u001b[0mdps\u001b[0m\u001b[0;34m:\u001b[0m\u001b[0;34m\u001b[0m\u001b[0;34m\u001b[0m\u001b[0m\n",
      "\u001b[0;32m~/anaconda3/lib/python3.7/site-packages/sympy/core/expr.py\u001b[0m in \u001b[0;36m_mag\u001b[0;34m(x)\u001b[0m\n\u001b[1;32m   3417\u001b[0m     \u001b[0;32mfrom\u001b[0m \u001b[0mmath\u001b[0m \u001b[0;32mimport\u001b[0m \u001b[0mlog10\u001b[0m\u001b[0;34m,\u001b[0m \u001b[0mceil\u001b[0m\u001b[0;34m,\u001b[0m \u001b[0mlog\u001b[0m\u001b[0;34m\u001b[0m\u001b[0;34m\u001b[0m\u001b[0m\n\u001b[1;32m   3418\u001b[0m     \u001b[0;32mfrom\u001b[0m \u001b[0msympy\u001b[0m \u001b[0;32mimport\u001b[0m \u001b[0mFloat\u001b[0m\u001b[0;34m\u001b[0m\u001b[0;34m\u001b[0m\u001b[0m\n\u001b[0;32m-> 3419\u001b[0;31m     \u001b[0mxpos\u001b[0m \u001b[0;34m=\u001b[0m \u001b[0mabs\u001b[0m\u001b[0;34m(\u001b[0m\u001b[0mx\u001b[0m\u001b[0;34m.\u001b[0m\u001b[0mn\u001b[0m\u001b[0;34m(\u001b[0m\u001b[0;34m)\u001b[0m\u001b[0;34m)\u001b[0m\u001b[0;34m\u001b[0m\u001b[0;34m\u001b[0m\u001b[0m\n\u001b[0m\u001b[1;32m   3420\u001b[0m     \u001b[0;32mif\u001b[0m \u001b[0;32mnot\u001b[0m \u001b[0mxpos\u001b[0m\u001b[0;34m:\u001b[0m\u001b[0;34m\u001b[0m\u001b[0;34m\u001b[0m\u001b[0m\n\u001b[1;32m   3421\u001b[0m         \u001b[0;32mreturn\u001b[0m \u001b[0mS\u001b[0m\u001b[0;34m.\u001b[0m\u001b[0mZero\u001b[0m\u001b[0;34m\u001b[0m\u001b[0;34m\u001b[0m\u001b[0m\n",
      "\u001b[0;32m~/anaconda3/lib/python3.7/site-packages/sympy/core/evalf.py\u001b[0m in \u001b[0;36mevalf\u001b[0;34m(self, n, subs, maxn, chop, strict, quad, verbose)\u001b[0m\n\u001b[1;32m   1435\u001b[0m             \u001b[0moptions\u001b[0m\u001b[0;34m[\u001b[0m\u001b[0;34m'quad'\u001b[0m\u001b[0;34m]\u001b[0m \u001b[0;34m=\u001b[0m \u001b[0mquad\u001b[0m\u001b[0;34m\u001b[0m\u001b[0;34m\u001b[0m\u001b[0m\n\u001b[1;32m   1436\u001b[0m         \u001b[0;32mtry\u001b[0m\u001b[0;34m:\u001b[0m\u001b[0;34m\u001b[0m\u001b[0;34m\u001b[0m\u001b[0m\n\u001b[0;32m-> 1437\u001b[0;31m             \u001b[0mresult\u001b[0m \u001b[0;34m=\u001b[0m \u001b[0mevalf\u001b[0m\u001b[0;34m(\u001b[0m\u001b[0mself\u001b[0m\u001b[0;34m,\u001b[0m \u001b[0mprec\u001b[0m \u001b[0;34m+\u001b[0m \u001b[0;36m4\u001b[0m\u001b[0;34m,\u001b[0m \u001b[0moptions\u001b[0m\u001b[0;34m)\u001b[0m\u001b[0;34m\u001b[0m\u001b[0;34m\u001b[0m\u001b[0m\n\u001b[0m\u001b[1;32m   1438\u001b[0m         \u001b[0;32mexcept\u001b[0m \u001b[0mNotImplementedError\u001b[0m\u001b[0;34m:\u001b[0m\u001b[0;34m\u001b[0m\u001b[0;34m\u001b[0m\u001b[0m\n\u001b[1;32m   1439\u001b[0m             \u001b[0;31m# Fall back to the ordinary evalf\u001b[0m\u001b[0;34m\u001b[0m\u001b[0;34m\u001b[0m\u001b[0;34m\u001b[0m\u001b[0m\n",
      "\u001b[0;32m~/anaconda3/lib/python3.7/site-packages/sympy/core/evalf.py\u001b[0m in \u001b[0;36mevalf\u001b[0;34m(x, prec, options)\u001b[0m\n\u001b[1;32m   1305\u001b[0m     \u001b[0;32mtry\u001b[0m\u001b[0;34m:\u001b[0m\u001b[0;34m\u001b[0m\u001b[0;34m\u001b[0m\u001b[0m\n\u001b[1;32m   1306\u001b[0m         \u001b[0mrf\u001b[0m \u001b[0;34m=\u001b[0m \u001b[0mevalf_table\u001b[0m\u001b[0;34m[\u001b[0m\u001b[0mx\u001b[0m\u001b[0;34m.\u001b[0m\u001b[0mfunc\u001b[0m\u001b[0;34m]\u001b[0m\u001b[0;34m\u001b[0m\u001b[0;34m\u001b[0m\u001b[0m\n\u001b[0;32m-> 1307\u001b[0;31m         \u001b[0mr\u001b[0m \u001b[0;34m=\u001b[0m \u001b[0mrf\u001b[0m\u001b[0;34m(\u001b[0m\u001b[0mx\u001b[0m\u001b[0;34m,\u001b[0m \u001b[0mprec\u001b[0m\u001b[0;34m,\u001b[0m \u001b[0moptions\u001b[0m\u001b[0;34m)\u001b[0m\u001b[0;34m\u001b[0m\u001b[0;34m\u001b[0m\u001b[0m\n\u001b[0m\u001b[1;32m   1308\u001b[0m     \u001b[0;32mexcept\u001b[0m \u001b[0mKeyError\u001b[0m\u001b[0;34m:\u001b[0m\u001b[0;34m\u001b[0m\u001b[0;34m\u001b[0m\u001b[0m\n\u001b[1;32m   1309\u001b[0m         \u001b[0;32mtry\u001b[0m\u001b[0;34m:\u001b[0m\u001b[0;34m\u001b[0m\u001b[0;34m\u001b[0m\u001b[0m\n",
      "\u001b[0;32m~/anaconda3/lib/python3.7/site-packages/sympy/core/evalf.py\u001b[0m in \u001b[0;36mevalf_add\u001b[0;34m(v, prec, options)\u001b[0m\n\u001b[1;32m    517\u001b[0m         \u001b[0moptions\u001b[0m\u001b[0;34m[\u001b[0m\u001b[0;34m'maxprec'\u001b[0m\u001b[0;34m]\u001b[0m \u001b[0;34m=\u001b[0m \u001b[0mmin\u001b[0m\u001b[0;34m(\u001b[0m\u001b[0moldmaxprec\u001b[0m\u001b[0;34m,\u001b[0m \u001b[0;36m2\u001b[0m\u001b[0;34m*\u001b[0m\u001b[0mprec\u001b[0m\u001b[0;34m)\u001b[0m\u001b[0;34m\u001b[0m\u001b[0;34m\u001b[0m\u001b[0m\n\u001b[1;32m    518\u001b[0m \u001b[0;34m\u001b[0m\u001b[0m\n\u001b[0;32m--> 519\u001b[0;31m         \u001b[0mterms\u001b[0m \u001b[0;34m=\u001b[0m \u001b[0;34m[\u001b[0m\u001b[0mevalf\u001b[0m\u001b[0;34m(\u001b[0m\u001b[0marg\u001b[0m\u001b[0;34m,\u001b[0m \u001b[0mprec\u001b[0m \u001b[0;34m+\u001b[0m \u001b[0;36m10\u001b[0m\u001b[0;34m,\u001b[0m \u001b[0moptions\u001b[0m\u001b[0;34m)\u001b[0m \u001b[0;32mfor\u001b[0m \u001b[0marg\u001b[0m \u001b[0;32min\u001b[0m \u001b[0mv\u001b[0m\u001b[0;34m.\u001b[0m\u001b[0margs\u001b[0m\u001b[0;34m]\u001b[0m\u001b[0;34m\u001b[0m\u001b[0;34m\u001b[0m\u001b[0m\n\u001b[0m\u001b[1;32m    520\u001b[0m         re, re_acc = add_terms(\n\u001b[1;32m    521\u001b[0m             [a[0::2] for a in terms if a[0]], prec, target_prec)\n",
      "\u001b[0;32m~/anaconda3/lib/python3.7/site-packages/sympy/core/evalf.py\u001b[0m in \u001b[0;36m<listcomp>\u001b[0;34m(.0)\u001b[0m\n\u001b[1;32m    517\u001b[0m         \u001b[0moptions\u001b[0m\u001b[0;34m[\u001b[0m\u001b[0;34m'maxprec'\u001b[0m\u001b[0;34m]\u001b[0m \u001b[0;34m=\u001b[0m \u001b[0mmin\u001b[0m\u001b[0;34m(\u001b[0m\u001b[0moldmaxprec\u001b[0m\u001b[0;34m,\u001b[0m \u001b[0;36m2\u001b[0m\u001b[0;34m*\u001b[0m\u001b[0mprec\u001b[0m\u001b[0;34m)\u001b[0m\u001b[0;34m\u001b[0m\u001b[0;34m\u001b[0m\u001b[0m\n\u001b[1;32m    518\u001b[0m \u001b[0;34m\u001b[0m\u001b[0m\n\u001b[0;32m--> 519\u001b[0;31m         \u001b[0mterms\u001b[0m \u001b[0;34m=\u001b[0m \u001b[0;34m[\u001b[0m\u001b[0mevalf\u001b[0m\u001b[0;34m(\u001b[0m\u001b[0marg\u001b[0m\u001b[0;34m,\u001b[0m \u001b[0mprec\u001b[0m \u001b[0;34m+\u001b[0m \u001b[0;36m10\u001b[0m\u001b[0;34m,\u001b[0m \u001b[0moptions\u001b[0m\u001b[0;34m)\u001b[0m \u001b[0;32mfor\u001b[0m \u001b[0marg\u001b[0m \u001b[0;32min\u001b[0m \u001b[0mv\u001b[0m\u001b[0;34m.\u001b[0m\u001b[0margs\u001b[0m\u001b[0;34m]\u001b[0m\u001b[0;34m\u001b[0m\u001b[0;34m\u001b[0m\u001b[0m\n\u001b[0m\u001b[1;32m    520\u001b[0m         re, re_acc = add_terms(\n\u001b[1;32m    521\u001b[0m             [a[0::2] for a in terms if a[0]], prec, target_prec)\n",
      "\u001b[0;32m~/anaconda3/lib/python3.7/site-packages/sympy/core/evalf.py\u001b[0m in \u001b[0;36mevalf\u001b[0;34m(x, prec, options)\u001b[0m\n\u001b[1;32m   1305\u001b[0m     \u001b[0;32mtry\u001b[0m\u001b[0;34m:\u001b[0m\u001b[0;34m\u001b[0m\u001b[0;34m\u001b[0m\u001b[0m\n\u001b[1;32m   1306\u001b[0m         \u001b[0mrf\u001b[0m \u001b[0;34m=\u001b[0m \u001b[0mevalf_table\u001b[0m\u001b[0;34m[\u001b[0m\u001b[0mx\u001b[0m\u001b[0;34m.\u001b[0m\u001b[0mfunc\u001b[0m\u001b[0;34m]\u001b[0m\u001b[0;34m\u001b[0m\u001b[0;34m\u001b[0m\u001b[0m\n\u001b[0;32m-> 1307\u001b[0;31m         \u001b[0mr\u001b[0m \u001b[0;34m=\u001b[0m \u001b[0mrf\u001b[0m\u001b[0;34m(\u001b[0m\u001b[0mx\u001b[0m\u001b[0;34m,\u001b[0m \u001b[0mprec\u001b[0m\u001b[0;34m,\u001b[0m \u001b[0moptions\u001b[0m\u001b[0;34m)\u001b[0m\u001b[0;34m\u001b[0m\u001b[0;34m\u001b[0m\u001b[0m\n\u001b[0m\u001b[1;32m   1308\u001b[0m     \u001b[0;32mexcept\u001b[0m \u001b[0mKeyError\u001b[0m\u001b[0;34m:\u001b[0m\u001b[0;34m\u001b[0m\u001b[0;34m\u001b[0m\u001b[0m\n\u001b[1;32m   1309\u001b[0m         \u001b[0;32mtry\u001b[0m\u001b[0;34m:\u001b[0m\u001b[0;34m\u001b[0m\u001b[0;34m\u001b[0m\u001b[0m\n",
      "\u001b[0;32m~/anaconda3/lib/python3.7/site-packages/sympy/core/evalf.py\u001b[0m in \u001b[0;36mevalf_mul\u001b[0;34m(v, prec, options)\u001b[0m\n\u001b[1;32m    561\u001b[0m             \u001b[0;32mcontinue\u001b[0m\u001b[0;34m\u001b[0m\u001b[0;34m\u001b[0m\u001b[0m\n\u001b[1;32m    562\u001b[0m         \u001b[0marg\u001b[0m \u001b[0;34m=\u001b[0m \u001b[0mFloat\u001b[0m\u001b[0;34m.\u001b[0m\u001b[0m_new\u001b[0m\u001b[0;34m(\u001b[0m\u001b[0marg\u001b[0m\u001b[0;34m[\u001b[0m\u001b[0;36m0\u001b[0m\u001b[0;34m]\u001b[0m\u001b[0;34m,\u001b[0m \u001b[0;36m1\u001b[0m\u001b[0;34m)\u001b[0m\u001b[0;34m\u001b[0m\u001b[0;34m\u001b[0m\u001b[0m\n\u001b[0;32m--> 563\u001b[0;31m         \u001b[0;32mif\u001b[0m \u001b[0marg\u001b[0m \u001b[0;32mis\u001b[0m \u001b[0mS\u001b[0m\u001b[0;34m.\u001b[0m\u001b[0mNaN\u001b[0m \u001b[0;32mor\u001b[0m \u001b[0marg\u001b[0m\u001b[0;34m.\u001b[0m\u001b[0mis_infinite\u001b[0m\u001b[0;34m:\u001b[0m\u001b[0;34m\u001b[0m\u001b[0;34m\u001b[0m\u001b[0m\n\u001b[0m\u001b[1;32m    564\u001b[0m             \u001b[0mspecial\u001b[0m\u001b[0;34m.\u001b[0m\u001b[0mappend\u001b[0m\u001b[0;34m(\u001b[0m\u001b[0marg\u001b[0m\u001b[0;34m)\u001b[0m\u001b[0;34m\u001b[0m\u001b[0;34m\u001b[0m\u001b[0m\n\u001b[1;32m    565\u001b[0m     \u001b[0;32mif\u001b[0m \u001b[0mspecial\u001b[0m\u001b[0;34m:\u001b[0m\u001b[0;34m\u001b[0m\u001b[0;34m\u001b[0m\u001b[0m\n",
      "\u001b[0;32m~/anaconda3/lib/python3.7/site-packages/sympy/core/assumptions.py\u001b[0m in \u001b[0;36mgetit\u001b[0;34m(self)\u001b[0m\n\u001b[1;32m    245\u001b[0m         \u001b[0;32mexcept\u001b[0m \u001b[0mKeyError\u001b[0m\u001b[0;34m:\u001b[0m\u001b[0;34m\u001b[0m\u001b[0;34m\u001b[0m\u001b[0m\n\u001b[1;32m    246\u001b[0m             \u001b[0;32mif\u001b[0m \u001b[0mself\u001b[0m\u001b[0;34m.\u001b[0m\u001b[0m_assumptions\u001b[0m \u001b[0;32mis\u001b[0m \u001b[0mself\u001b[0m\u001b[0;34m.\u001b[0m\u001b[0mdefault_assumptions\u001b[0m\u001b[0;34m:\u001b[0m\u001b[0;34m\u001b[0m\u001b[0;34m\u001b[0m\u001b[0m\n\u001b[0;32m--> 247\u001b[0;31m                 \u001b[0mself\u001b[0m\u001b[0;34m.\u001b[0m\u001b[0m_assumptions\u001b[0m \u001b[0;34m=\u001b[0m \u001b[0mself\u001b[0m\u001b[0;34m.\u001b[0m\u001b[0mdefault_assumptions\u001b[0m\u001b[0;34m.\u001b[0m\u001b[0mcopy\u001b[0m\u001b[0;34m(\u001b[0m\u001b[0;34m)\u001b[0m\u001b[0;34m\u001b[0m\u001b[0;34m\u001b[0m\u001b[0m\n\u001b[0m\u001b[1;32m    248\u001b[0m             \u001b[0;32mreturn\u001b[0m \u001b[0m_ask\u001b[0m\u001b[0;34m(\u001b[0m\u001b[0mfact\u001b[0m\u001b[0;34m,\u001b[0m \u001b[0mself\u001b[0m\u001b[0;34m)\u001b[0m\u001b[0;34m\u001b[0m\u001b[0;34m\u001b[0m\u001b[0m\n\u001b[1;32m    249\u001b[0m \u001b[0;34m\u001b[0m\u001b[0m\n",
      "\u001b[0;32m~/anaconda3/lib/python3.7/site-packages/sympy/core/assumptions.py\u001b[0m in \u001b[0;36mcopy\u001b[0;34m(self)\u001b[0m\n\u001b[1;32m    225\u001b[0m \u001b[0;34m\u001b[0m\u001b[0m\n\u001b[1;32m    226\u001b[0m     \u001b[0;32mdef\u001b[0m \u001b[0mcopy\u001b[0m\u001b[0;34m(\u001b[0m\u001b[0mself\u001b[0m\u001b[0;34m)\u001b[0m\u001b[0;34m:\u001b[0m\u001b[0;34m\u001b[0m\u001b[0;34m\u001b[0m\u001b[0m\n\u001b[0;32m--> 227\u001b[0;31m         \u001b[0;32mreturn\u001b[0m \u001b[0mself\u001b[0m\u001b[0;34m.\u001b[0m\u001b[0m__class__\u001b[0m\u001b[0;34m(\u001b[0m\u001b[0mself\u001b[0m\u001b[0;34m)\u001b[0m\u001b[0;34m\u001b[0m\u001b[0;34m\u001b[0m\u001b[0m\n\u001b[0m\u001b[1;32m    228\u001b[0m \u001b[0;34m\u001b[0m\u001b[0m\n\u001b[1;32m    229\u001b[0m     \u001b[0;34m@\u001b[0m\u001b[0mproperty\u001b[0m\u001b[0;34m\u001b[0m\u001b[0;34m\u001b[0m\u001b[0m\n",
      "\u001b[0;32m~/anaconda3/lib/python3.7/site-packages/sympy/core/assumptions.py\u001b[0m in \u001b[0;36m__init__\u001b[0;34m(self, facts)\u001b[0m\n\u001b[1;32m    222\u001b[0m             \u001b[0mself\u001b[0m\u001b[0;34m.\u001b[0m\u001b[0m_generator\u001b[0m \u001b[0;34m=\u001b[0m \u001b[0mfacts\u001b[0m\u001b[0;34m.\u001b[0m\u001b[0mgenerator\u001b[0m\u001b[0;34m\u001b[0m\u001b[0;34m\u001b[0m\u001b[0m\n\u001b[1;32m    223\u001b[0m         \u001b[0;32mif\u001b[0m \u001b[0mfacts\u001b[0m\u001b[0;34m:\u001b[0m\u001b[0;34m\u001b[0m\u001b[0;34m\u001b[0m\u001b[0m\n\u001b[0;32m--> 224\u001b[0;31m             \u001b[0mself\u001b[0m\u001b[0;34m.\u001b[0m\u001b[0mdeduce_all_facts\u001b[0m\u001b[0;34m(\u001b[0m\u001b[0mfacts\u001b[0m\u001b[0;34m)\u001b[0m\u001b[0;34m\u001b[0m\u001b[0;34m\u001b[0m\u001b[0m\n\u001b[0m\u001b[1;32m    225\u001b[0m \u001b[0;34m\u001b[0m\u001b[0m\n\u001b[1;32m    226\u001b[0m     \u001b[0;32mdef\u001b[0m \u001b[0mcopy\u001b[0m\u001b[0;34m(\u001b[0m\u001b[0mself\u001b[0m\u001b[0;34m)\u001b[0m\u001b[0;34m:\u001b[0m\u001b[0;34m\u001b[0m\u001b[0;34m\u001b[0m\u001b[0m\n",
      "\u001b[0;32m~/anaconda3/lib/python3.7/site-packages/sympy/core/facts.py\u001b[0m in \u001b[0;36mdeduce_all_facts\u001b[0;34m(self, facts)\u001b[0m\n\u001b[1;32m    527\u001b[0m                 \u001b[0;31m# lookup routing tables\u001b[0m\u001b[0;34m\u001b[0m\u001b[0;34m\u001b[0m\u001b[0;34m\u001b[0m\u001b[0m\n\u001b[1;32m    528\u001b[0m                 \u001b[0;32mfor\u001b[0m \u001b[0mkey\u001b[0m\u001b[0;34m,\u001b[0m \u001b[0mvalue\u001b[0m \u001b[0;32min\u001b[0m \u001b[0mfull_implications\u001b[0m\u001b[0;34m[\u001b[0m\u001b[0mk\u001b[0m\u001b[0;34m,\u001b[0m \u001b[0mv\u001b[0m\u001b[0;34m]\u001b[0m\u001b[0;34m:\u001b[0m\u001b[0;34m\u001b[0m\u001b[0;34m\u001b[0m\u001b[0m\n\u001b[0;32m--> 529\u001b[0;31m                     \u001b[0mself\u001b[0m\u001b[0;34m.\u001b[0m\u001b[0m_tell\u001b[0m\u001b[0;34m(\u001b[0m\u001b[0mkey\u001b[0m\u001b[0;34m,\u001b[0m \u001b[0mvalue\u001b[0m\u001b[0;34m)\u001b[0m\u001b[0;34m\u001b[0m\u001b[0;34m\u001b[0m\u001b[0m\n\u001b[0m\u001b[1;32m    530\u001b[0m \u001b[0;34m\u001b[0m\u001b[0m\n\u001b[1;32m    531\u001b[0m                 \u001b[0mbeta_maytrigger\u001b[0m\u001b[0;34m.\u001b[0m\u001b[0mupdate\u001b[0m\u001b[0;34m(\u001b[0m\u001b[0mbeta_triggers\u001b[0m\u001b[0;34m[\u001b[0m\u001b[0mk\u001b[0m\u001b[0;34m,\u001b[0m \u001b[0mv\u001b[0m\u001b[0;34m]\u001b[0m\u001b[0;34m)\u001b[0m\u001b[0;34m\u001b[0m\u001b[0;34m\u001b[0m\u001b[0m\n",
      "\u001b[0;31mKeyboardInterrupt\u001b[0m: "
     ]
    }
   ],
   "source": [
    "\n",
    "boundaryCountForOrientedCuffs(3,100,(1,8))"
   ]
  },
  {
   "cell_type": "code",
   "execution_count": null,
   "metadata": {},
   "outputs": [],
   "source": [
    "boundaryCountForOrientedCuffs(3,100,(1,6))"
   ]
  },
  {
   "cell_type": "code",
   "execution_count": null,
   "metadata": {},
   "outputs": [],
   "source": [
    "boundaryCountForOrientedCuffs(3,100,(1,4))"
   ]
  },
  {
   "cell_type": "code",
   "execution_count": 8,
   "metadata": {},
   "outputs": [
    {
     "data": {
      "text/plain": [
       "393"
      ]
     },
     "execution_count": 8,
     "metadata": {},
     "output_type": "execute_result"
    }
   ],
   "source": [
    "len(pantsInTraceRangeAndWithGivenCuff(3,50,(2,1,1,9)))"
   ]
  },
  {
   "cell_type": "code",
   "execution_count": 9,
   "metadata": {},
   "outputs": [
    {
     "data": {
      "text/plain": [
       "339"
      ]
     },
     "execution_count": 9,
     "metadata": {},
     "output_type": "execute_result"
    }
   ],
   "source": [
    "len(pantsInTraceRangeAndWithGivenCuff(3,50,(9,1,1,2)))"
   ]
  },
  {
   "cell_type": "code",
   "execution_count": 180,
   "metadata": {},
   "outputs": [
    {
     "data": {
      "text/plain": [
       "{((1, 1, 1, 1, 1, 5), (2, 1, 1, 9), (6, 2, 2, 1)),\n",
       " ((1, 1, 1, 1, 1, 5), (2, 2, 6, 1), (1, 1, 2, 9)),\n",
       " ((1, 1, 1, 5, 1, 1), (2, 1, 6, 2), (2, 1, 1, 9)),\n",
       " ((1, 1, 2, 9), (1, 1, 1, 1, 1, 5), (2, 2, 6, 1)),\n",
       " ((1, 1, 2, 9), (6, 1, 2, 2), (1, 5, 1, 1, 1, 1)),\n",
       " ((1, 2, 3, 4), (1, 2, 3, 4), (1, 2, 3, 4)),\n",
       " ((1, 3, 1, 1, 2, 1), (12, 4), (3, 16)),\n",
       " ((1, 4, 3, 2), (1, 4, 3, 2), (1, 4, 3, 2)),\n",
       " ((1, 5, 1, 1, 1, 1), (1, 1, 2, 9), (6, 1, 2, 2)),\n",
       " ((2, 1, 1, 3, 1, 1), (3, 16), (12, 4)),\n",
       " ((2, 1, 1, 9), (1, 1, 1, 5, 1, 1), (2, 1, 6, 2)),\n",
       " ((2, 1, 1, 9), (6, 2, 2, 1), (1, 1, 1, 1, 1, 5)),\n",
       " ((2, 1, 6, 2), (2, 1, 1, 9), (1, 1, 1, 5, 1, 1)),\n",
       " ((2, 2, 6, 1), (1, 1, 2, 9), (1, 1, 1, 1, 1, 5)),\n",
       " ((3, 2, 1, 4), (3, 2, 1, 4), (3, 2, 1, 4)),\n",
       " ((3, 4, 1, 2), (3, 4, 1, 2), (3, 4, 1, 2)),\n",
       " ((3, 16), (1, 3, 1, 1, 2, 1), (12, 4)),\n",
       " ((3, 16), (12, 4), (2, 1, 1, 3, 1, 1)),\n",
       " ((6, 1, 2, 2), (1, 5, 1, 1, 1, 1), (1, 1, 2, 9)),\n",
       " ((6, 2, 2, 1), (1, 1, 1, 1, 1, 5), (2, 1, 1, 9)),\n",
       " ((6, 8), (6, 8), (6, 8)),\n",
       " ((12, 4), (2, 1, 1, 3, 1, 1), (3, 16)),\n",
       " ((12, 4), (3, 16), (1, 3, 1, 1, 2, 1))}"
      ]
     },
     "execution_count": 180,
     "metadata": {},
     "output_type": "execute_result"
    }
   ],
   "source": [
    "pantsInTraceRange(50,50)"
   ]
  },
  {
   "cell_type": "code",
   "execution_count": 181,
   "metadata": {
    "scrolled": true
   },
   "outputs": [
    {
     "data": {
      "text/plain": [
       "{((1, 1, 2, 2, 2, 1), (1, 1, 3, 3), (1, 8)),\n",
       " ((1, 1, 3, 3), (1, 8), (1, 1, 2, 2, 2, 1)),\n",
       " ((1, 8), (1, 1, 2, 2, 2, 1), (1, 1, 3, 3)),\n",
       " ((1, 8), (3, 3, 1, 1), (2, 1, 1, 1, 2, 2)),\n",
       " ((2, 1, 1, 1, 2, 2), (1, 8), (3, 3, 1, 1)),\n",
       " ((3, 3, 1, 1), (2, 1, 1, 1, 2, 2), (1, 8))}"
      ]
     },
     "execution_count": 181,
     "metadata": {},
     "output_type": "execute_result"
    }
   ],
   "source": [
    "getPants([[1,1,2,2,2,1],[1,1,3,3],[1,8]])"
   ]
  },
  {
   "cell_type": "code",
   "execution_count": 139,
   "metadata": {},
   "outputs": [
    {
     "name": "stdout",
     "output_type": "stream",
     "text": [
      "[0, 1, 1, 0, 0, 0, 1, 1, 1, 1]\n",
      "[1, 1, 1, 1, 0, 1, 1, 0, 0, 0]\n",
      "[1, 1, 1, 0]\n",
      "[1, 0, 0, 0]\n"
     ]
    }
   ],
   "source": [
    "conv = contFracToLR([1,2,3,4])\n",
    "print(conv)\n",
    "temp = conv[6:] + conv[:6]\n",
    "print(temp)\n",
    "temp1 = temp[1:(1-6)%len(conv)]\n",
    "print(temp1)\n",
    "temp2 = temp[(1-6)%len(conv)+1:]\n",
    "print(temp2)"
   ]
  },
  {
   "cell_type": "code",
   "execution_count": 57,
   "metadata": {},
   "outputs": [
    {
     "name": "stdout",
     "output_type": "stream",
     "text": [
      "[0, 1, 1, 0, 0, 0, 1, 1, 1, 1]\n",
      "LRRLLLRRRR\n",
      "\n",
      "\n",
      " LLLRRRRL\n",
      "RLLL RRRL\n",
      "RLLLR RRL\n",
      "RLLLRR RL\n",
      "RLLLRRR L\n",
      "LLLRRRRL \n",
      "LLL RRRLR\n",
      "LLLR RRLR\n",
      "LLLRR RLR\n",
      "LLLRRR LR\n",
      "RRRL RLLL\n",
      "RRRLR LLL\n",
      " RRLRRLLL\n",
      "R RLRRLLL\n",
      "RR LRRLLL\n",
      "RRL RLLLR\n",
      "RRLR LLLR\n",
      "RRLRRLLL \n",
      " RLRRLLLR\n",
      "R LRRLLLR\n",
      "RL RLLLRR\n",
      "RLR LLLRR\n",
      "RLRRLLL R\n",
      "RLRRLLLR \n",
      " LRRLLLRR\n",
      "L RLLLRRR\n",
      "LR LLLRRR\n",
      "LRRLLL RR\n",
      "LRRLLLR R\n",
      "LRRLLLRR \n"
     ]
    },
    {
     "data": {
      "text/plain": [
       "30"
      ]
     },
     "execution_count": 57,
     "metadata": {},
     "output_type": "execute_result"
    }
   ],
   "source": [
    "print(contFracToLR([1,2,3,4]))\n",
    "print(printCon(contFracToLR([1,2,3,4])))\n",
    "print('\\n')\n",
    "for obj in split([1,2,3,4]):\n",
    "    print(printCon(obj[0]),printCon(obj[1]))"
   ]
  },
  {
   "cell_type": "code",
   "execution_count": 66,
   "metadata": {},
   "outputs": [],
   "source": [
    "dictObj = {}"
   ]
  },
  {
   "cell_type": "code",
   "execution_count": 67,
   "metadata": {},
   "outputs": [],
   "source": [
    "dictObj['thing'] = ['stuff']"
   ]
  },
  {
   "cell_type": "code",
   "execution_count": 72,
   "metadata": {},
   "outputs": [],
   "source": [
    "dictObj['thing'].append('otherstuff')"
   ]
  },
  {
   "cell_type": "code",
   "execution_count": 73,
   "metadata": {},
   "outputs": [
    {
     "data": {
      "text/plain": [
       "{'thing': ['stuff', 'otherstuff', 'otherstuff']}"
      ]
     },
     "execution_count": 73,
     "metadata": {},
     "output_type": "execute_result"
    }
   ],
   "source": [
    "dictObj"
   ]
  },
  {
   "cell_type": "code",
   "execution_count": 74,
   "metadata": {},
   "outputs": [
    {
     "data": {
      "text/plain": [
       "['stuff', 'otherstuff', 'otherstuff']"
      ]
     },
     "execution_count": 74,
     "metadata": {},
     "output_type": "execute_result"
    }
   ],
   "source": [
    "dictObj['thing']"
   ]
  },
  {
   "cell_type": "code",
   "execution_count": 84,
   "metadata": {},
   "outputs": [
    {
     "data": {
      "text/plain": [
       "{(0, 1, 1, 0, 0, 0, 1), (1, 0, 1, 1, 0, 0, 0)}"
      ]
     },
     "execution_count": 84,
     "metadata": {},
     "output_type": "execute_result"
    }
   ],
   "source": [
    "cfListToDict([[1,2,3,4]])[(1,)]"
   ]
  },
  {
   "cell_type": "code",
   "execution_count": 86,
   "metadata": {},
   "outputs": [
    {
     "name": "stdout",
     "output_type": "stream",
     "text": [
      "{'hi'}\n"
     ]
    }
   ],
   "source": [
    "exampSet = {'hi'}\n",
    "exampSet.add('hi')\n",
    "print(exampSet)"
   ]
  },
  {
   "cell_type": "code",
   "execution_count": 91,
   "metadata": {},
   "outputs": [
    {
     "data": {
      "text/plain": [
       "[2, 3]"
      ]
     },
     "execution_count": 91,
     "metadata": {},
     "output_type": "execute_result"
    }
   ],
   "source": [
    "recover2([1,0,0,1,1])"
   ]
  },
  {
   "cell_type": "code",
   "execution_count": 157,
   "metadata": {},
   "outputs": [
    {
     "data": {
      "text/plain": [
       "{frozenset({(1, 1, 2, 2, 2, 1), (1, 1, 3, 3), (1, 8)}),\n",
       " frozenset({(1, 8), (2, 1, 1, 1, 2, 2), (3, 3, 1, 1)})}"
      ]
     },
     "execution_count": 157,
     "metadata": {},
     "output_type": "execute_result"
    }
   ],
   "source": [
    "getPants([[1,1,2,2,2,1],[1,1,3,3],[1,8],[1,2,2,2,1,1],[3,3,1,1],[8,1]])"
   ]
  },
  {
   "cell_type": "code",
   "execution_count": 104,
   "metadata": {},
   "outputs": [
    {
     "data": {
      "text/plain": [
       "{(0, 0): {(0, 1, 0, 1, 0), (0, 1, 1, 0, 1), (1, 0, 1, 1, 0)},\n",
       " (0, 0, 1): {(0, 1, 0, 1), (1, 0, 1, 1)},\n",
       " (0, 0, 1, 1, 0, 0): {(1,)},\n",
       " (1, 0, 0, 1, 0): {(1, 1)},\n",
       " (): {(0, 0, 0, 0, 0, 0, 1),\n",
       "  (0, 0, 0, 0, 0, 1, 0),\n",
       "  (0, 0, 0, 0, 1, 0, 0),\n",
       "  (0, 0, 0, 1, 0, 0, 0),\n",
       "  (0, 0, 1, 0, 0, 0, 0),\n",
       "  (0, 1, 0, 0, 0, 0, 0),\n",
       "  (0, 1, 1, 1, 0, 1),\n",
       "  (1, 0, 0, 0, 0, 0, 0),\n",
       "  (1, 0, 1, 0, 0, 1, 1),\n",
       "  (1, 1, 0, 0, 1, 0, 1),\n",
       "  (1, 1, 0, 1, 0, 1, 1),\n",
       "  (1, 1, 1, 0, 1, 0)},\n",
       " (1, 0, 0): {(1, 0, 1, 0), (1, 1, 0, 1)},\n",
       " (0, 0, 1, 0): {(0, 1, 1)},\n",
       " (0, 0, 1, 0, 1, 0, 0): {()},\n",
       " (0,): {(0, 0, 0, 0, 0, 0),\n",
       "  (0, 0, 1, 1, 1),\n",
       "  (0, 1, 1, 0, 0, 1),\n",
       "  (1, 0, 0, 1, 1, 0),\n",
       "  (1, 1, 0, 0, 1, 1)},\n",
       " (0, 1, 0, 0): {(1, 1, 0)},\n",
       " (0, 1, 0, 0, 1): {(1, 1)},\n",
       " (0, 0, 0): {(1, 0, 0)},\n",
       " (0, 0, 0, 1): {(1, 0)},\n",
       " (0, 0, 0, 1, 1): {(1,)},\n",
       " (1, 1, 0): {(0, 0, 0, 0), (1, 1, 1)},\n",
       " (1,): {(0, 0, 0, 0, 0, 1),\n",
       "  (0, 0, 0, 0, 1, 0),\n",
       "  (0, 0, 0, 1, 0, 0),\n",
       "  (0, 0, 1, 0, 0, 0),\n",
       "  (0, 1, 0, 0, 0, 0),\n",
       "  (1, 0, 0, 0, 0, 0),\n",
       "  (1, 1, 1, 0, 1)},\n",
       " (1, 0): {(0, 0, 0, 0, 0), (0, 1, 1, 1), (1, 1, 0, 0, 1)},\n",
       " (1, 0, 1, 0, 0, 0): {()},\n",
       " (0, 1, 0, 0, 0): {(0,)},\n",
       " (0, 1, 0, 0, 0, 1): {()},\n",
       " (1, 1): {(0, 0, 0, 0, 1),\n",
       "  (0, 0, 0, 1, 0),\n",
       "  (0, 0, 1, 0, 0),\n",
       "  (0, 1, 0, 0, 0),\n",
       "  (1, 0, 0, 0, 0)},\n",
       " (1, 1, 1): {(0, 0, 0, 1), (0, 0, 1, 0), (0, 1, 0, 0), (1, 0, 0, 0)},\n",
       " (1, 1, 1, 1): {(0, 0, 1), (0, 1, 0), (1, 0, 0)},\n",
       " (1, 1, 1, 1, 1): {(0, 1), (1, 0)},\n",
       " (1, 1, 1, 1, 1, 1): {(1,)},\n",
       " (1, 1, 1, 1, 1, 1, 0): {()},\n",
       " (1, 1, 1, 1, 1, 0): {(0,)},\n",
       " (1, 1, 1, 1, 1, 0, 1): {()},\n",
       " (1, 1, 1, 1, 0): {(0, 0)},\n",
       " (1, 1, 1, 1, 0, 1): {(0,)},\n",
       " (1, 1, 1, 1, 0, 1, 1): {()},\n",
       " (1, 1, 1, 0): {(0, 0, 0)},\n",
       " (1, 1, 1, 0, 1): {(0, 0)},\n",
       " (1, 1, 1, 0, 1, 1): {(0,)},\n",
       " (1, 1, 1, 0, 1, 1, 1): {()},\n",
       " (1, 1, 0, 1): {(0, 0, 0)},\n",
       " (1, 1, 0, 1, 1): {(0, 0)},\n",
       " (1, 1, 0, 1, 1, 1): {(0,)},\n",
       " (1, 1, 0, 1, 1, 1, 1): {()},\n",
       " (1, 0, 1): {(0, 0, 0, 0)},\n",
       " (1, 0, 1, 1): {(0, 0, 0)},\n",
       " (1, 0, 1, 1, 1): {(0, 0)},\n",
       " (1, 0, 1, 1, 1, 1): {(0,)},\n",
       " (1, 0, 1, 1, 1, 1, 1): {()},\n",
       " (0, 1): {(0, 0, 0, 0, 0), (1, 0, 0, 1, 1)},\n",
       " (0, 1, 1): {(0, 0, 0, 0)},\n",
       " (0, 1, 1, 1): {(0, 0, 0)},\n",
       " (0, 1, 1, 1, 1): {(0, 0)},\n",
       " (0, 1, 1, 1, 1, 1): {(0,)},\n",
       " (0, 1, 1, 1, 1, 1, 1): {()},\n",
       " (1, 0, 0, 1): {(1, 0, 1)},\n",
       " (1, 0, 0, 1, 1, 0): {(1,)},\n",
       " (0, 0, 1, 1, 0, 1, 0): {()},\n",
       " (0, 0, 1, 1, 0): {(0, 1)},\n",
       " (1, 0, 1, 0): {(1, 1, 0)},\n",
       " (1, 0, 1, 0, 1): {(1, 1)},\n",
       " (0, 1, 0): {(0, 1, 1, 0)},\n",
       " (0, 1, 0, 1): {(0, 1, 1)},\n",
       " (0, 1, 0, 1, 1, 0, 0): {()},\n",
       " (0, 1, 1, 0, 0): {(1, 0)},\n",
       " (0, 1, 1, 0, 0, 1): {(1,)}}"
      ]
     },
     "execution_count": 104,
     "metadata": {},
     "output_type": "execute_result"
    }
   ],
   "source": [
    "cfListToDict([[1,1,2,2,2,1],[1,1,3,3],[1,8],[1,2,2,2,1,1],[3,3,1,1],[8,1]])"
   ]
  },
  {
   "cell_type": "code",
   "execution_count": 111,
   "metadata": {},
   "outputs": [
    {
     "data": {
      "text/plain": [
       "{(0, 0): {(0, 1, 1, 0, 1), (1, 0, 1, 1, 0)},\n",
       " (0, 0, 1): {(1, 0, 1, 1)},\n",
       " (0, 0, 1, 1, 0, 0): {(1,)},\n",
       " (1, 0, 0, 1, 0): {(1, 1)},\n",
       " (): {(1, 1, 0, 1, 0, 1, 1)},\n",
       " (1, 0, 0): {(1, 1, 0, 1)},\n",
       " (0, 0, 1, 0): {(0, 1, 1)},\n",
       " (0, 0, 1, 0, 1, 0, 0): {()},\n",
       " (0,): {(1, 1, 0, 0, 1, 1)},\n",
       " (0, 1, 0, 0): {(1, 1, 0)},\n",
       " (0, 1, 0, 0, 1): {(1, 1)}}"
      ]
     },
     "execution_count": 111,
     "metadata": {},
     "output_type": "execute_result"
    }
   ],
   "source": [
    "cfListToDict([[1,1,2,2,2,1]])"
   ]
  },
  {
   "cell_type": "code",
   "execution_count": 114,
   "metadata": {},
   "outputs": [
    {
     "data": {
      "text/plain": [
       "True"
      ]
     },
     "execution_count": 114,
     "metadata": {},
     "output_type": "execute_result"
    }
   ],
   "source": [
    "cfListToDict([[2,1,1,1,2,2]]) == cfListToDict([[2,2,2,1,1,1]])"
   ]
  },
  {
   "cell_type": "code",
   "execution_count": null,
   "metadata": {},
   "outputs": [],
   "source": []
  }
 ],
 "metadata": {
  "kernelspec": {
   "display_name": "Python 3",
   "language": "python",
   "name": "python3"
  },
  "language_info": {
   "codemirror_mode": {
    "name": "ipython",
    "version": 3
   },
   "file_extension": ".py",
   "mimetype": "text/x-python",
   "name": "python",
   "nbconvert_exporter": "python",
   "pygments_lexer": "ipython3",
   "version": "3.7.6"
  }
 },
 "nbformat": 4,
 "nbformat_minor": 2
}
