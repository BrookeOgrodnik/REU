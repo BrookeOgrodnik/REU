{
 "cells": [
  {
   "cell_type": "code",
   "execution_count": 1,
   "metadata": {},
   "outputs": [],
   "source": [
    "# This is the streamlined version of continued.ipynp with just the code that we use in the end\n",
    "from math import sqrt\n",
    "import numpy as np"
   ]
  },
  {
   "cell_type": "code",
   "execution_count": 2,
   "metadata": {},
   "outputs": [],
   "source": [
    "# This cell and the next provides the function to compute divisors\n",
    "# We set up a table where each composite m maps to a pair of factors whose product is x\n",
    "# With this we can quickly compute the prime factorization and all divisors\n",
    "from collections import Counter\n",
    "\n",
    "# Make table of least prime factors up to n\n",
    "def least_prime_factor_table(n):\n",
    "    u = list(range(n + 1))\n",
    "    for i in range(2, int(sqrt(n)) + 1):\n",
    "        if u[i] == i:\n",
    "            for j in range(2 * i, n + 1, i):\n",
    "                if u[j] == j:\n",
    "                    u[j] = i\n",
    "    return u\n",
    "\n",
    "\n",
    "class Factorizer:\n",
    "    def __init__(self, n = None):\n",
    "        if n:\n",
    "            self.m = least_prime_factor_table(n)\n",
    "\n",
    "    \n",
    "    def unsorted_prime_factors(s, k):\n",
    "        if s.m[k] == k:\n",
    "            return [k]\n",
    "        else:\n",
    "            u = s.m[k]\n",
    "            v = k//u\n",
    "            return [u] + s.unsorted_prime_factors(v)\n",
    "\n",
    "    def prime_factors(s, k):\n",
    "        result = []\n",
    "        kk = k\n",
    "        while(kk > 1):\n",
    "            u = s.m[kk]\n",
    "            result.append(u)\n",
    "            kk = kk//u\n",
    "        return result\n",
    "\n",
    "    def divisors_from_prime_powers(s, uu):\n",
    "        if len(uu) == 0:\n",
    "            return [1]\n",
    "        p, r = uu[0]\n",
    "        dd = s.divisors_from_prime_powers(uu[1:])\n",
    "        result = dd\n",
    "        for _ in range(r):\n",
    "            dd = [x * p for x in dd]\n",
    "            result += dd\n",
    "        return result\n",
    "\n",
    "    def divisors(s, k):\n",
    "        u = s.prime_factors(k)\n",
    "        uu = list(Counter(u).items())\n",
    "        return sorted(s.divisors_from_prime_powers(uu))\n"
   ]
  },
  {
   "cell_type": "code",
   "execution_count": 3,
   "metadata": {},
   "outputs": [],
   "source": [
    "# A table up to 125 million will provide divisors up to length 20\n",
    "f81 = Factorizer(10 * 10 ** 6)\n",
    "divisors = f81.divisors\n"
   ]
  },
  {
   "cell_type": "code",
   "execution_count": 4,
   "metadata": {},
   "outputs": [],
   "source": [
    "# We search for (A, B, C) with B^2 - 4AC = D and the roots x, x' of Ax^2 - Bx + C = 0 satisfy -1 < x < 0 < 1 < x' \n",
    "# We require a function to compute divisors as a global variable\n",
    "def qirs(d):\n",
    "    global divisors\n",
    "    result = []\n",
    "    if d % 4 == 2 or d % 4 == 3:\n",
    "        return result\n",
    "    sqrt_d = sqrt(d)\n",
    "    for b in range(d % 2, int(sqrt(d) + 1), 2):       \n",
    "        divs = divisors(int((d - b * b)/4))\n",
    "        for a in divs:\n",
    "            if b + sqrt_d > 2 * a and sqrt_d - b < 2 * a:\n",
    "                result.append((b, a, d))\n",
    "    return result"
   ]
  },
  {
   "cell_type": "code",
   "execution_count": 14,
   "metadata": {},
   "outputs": [],
   "source": [
    "def rotl(x, k):\n",
    "    return x[k:] + x[:k]\n",
    "\n",
    "def min_rot(x):\n",
    "    return min(rotl(x, k) for k in range(len(x)))\n",
    "\n",
    "def min_rot2(x):\n",
    "    return min(rotl(x, k) for k in range(0, len(x), 2))"
   ]
  },
  {
   "cell_type": "code",
   "execution_count": 15,
   "metadata": {},
   "outputs": [],
   "source": [
    "# Gets the matrix with one fixed point in (-1, 0) and the other in (1, infinity)\n",
    "def raw_matrix(trace, B, A, D):\n",
    "    a = int((trace + B)/2) # (trace + B)/2 is already a integer, but python needs to know it \n",
    "    d = trace - a\n",
    "    c = A\n",
    "    C = int((B ** 2 - D)/(4 * A))\n",
    "    b = -C\n",
    "    return np.array([[a, b], [c, d]])\n",
    "\n",
    "# Gets all the raw matrices for a given trace\n",
    "def raw_matrix_seq(trace):\n",
    "    a = qirs(trace ** 2 - 4)\n",
    "    result = []\n",
    "    for B, A, D in a:\n",
    "        result.append(raw_matrix(trace, B, A, D))\n",
    "    return result\n",
    "\n",
    "# Makes pairs of the matrices along with their 'n', where the second fixed point is in (n, n+1)\n",
    "def raw_matrix_and_n_seq(trace):\n",
    "    D = trace ** 2 - 4\n",
    "    sqrt_D = sqrt(D)\n",
    "    a = qirs(D)\n",
    "    result = []\n",
    "    for B, A, D in a:\n",
    "        n = int((B + sqrt_D)/(2 * A))\n",
    "        result.append((raw_matrix(trace, B, A, D), n))\n",
    "    return result\n",
    "    \n",
    "# Conjugates M to put into into the next acceptable form\n",
    "# (Where acceptable means one fixed point in (-1, 0) and the other in (1, infinity))\n",
    "def one_step_conj(M, n):\n",
    "    U = np.array([[0, 1], [1, -n]])\n",
    "    return conj0by1(M, U)\n",
    "\n",
    "# Converts the 2x2 matrix into a tuple so we can look it up in a dictionary\n",
    "def mat2tup(U):\n",
    "    return tuple(U.reshape(4))\n",
    "\n",
    "# computes the inverse of a matrix in GL_2(Z)\n",
    "def int_inv(U):\n",
    "    a, b, c, d = U.reshape(4)\n",
    "    det = a * d - b * c\n",
    "    return det * np.array([[d, -b],[-c, a]])\n",
    "\n",
    "# Returns UTU^{-1}\n",
    "def conj0by1(T, U):\n",
    "    return np.matmul(np.matmul(U, T), int_inv(U))\n",
    "\n",
    "# Creates all the cutting sequences for matrices with a given trace > 3\n",
    "# Does so by repeated renormalizing the raw matrix and accumulating an L^n or R^n until the circle closes\n",
    "def new_per_seqs(trace):\n",
    "    raws = raw_matrix_and_n_seq(trace)\n",
    "    step = {mat2tup(M): (mat2tup(one_step_conj(M, n)), n) for (M, n) in raws}\n",
    "    used = set()\n",
    "    seqs = []\n",
    "    for t in step:\n",
    "        if t in used:\n",
    "            continue\n",
    "        used.add(t)\n",
    "        (M, n) = step[t]\n",
    "        l = [n]\n",
    "        while M != t:\n",
    "            used.add(M)\n",
    "            (M, n) = step[M]\n",
    "            l.append(n)\n",
    "        seqs.append(min_rot(l))\n",
    "    return seqs            "
   ]
  },
  {
   "cell_type": "code",
   "execution_count": 16,
   "metadata": {},
   "outputs": [
    {
     "data": {
      "text/plain": [
       "[[1, 3]]"
      ]
     },
     "execution_count": 16,
     "metadata": {},
     "output_type": "execute_result"
    }
   ],
   "source": [
    "new_per_seqs(5)"
   ]
  },
  {
   "cell_type": "code",
   "execution_count": 17,
   "metadata": {},
   "outputs": [
    {
     "data": {
      "text/plain": [
       "[[1, 10], [2, 5]]"
      ]
     },
     "execution_count": 17,
     "metadata": {},
     "output_type": "execute_result"
    }
   ],
   "source": [
    "new_per_seqs(12)"
   ]
  },
  {
   "cell_type": "code",
   "execution_count": 34,
   "metadata": {},
   "outputs": [
    {
     "data": {
      "text/plain": [
       "[[2, 9], [1, 1, 2, 3], [1, 18], [1, 1, 3, 2], [3, 6]]"
      ]
     },
     "execution_count": 34,
     "metadata": {},
     "output_type": "execute_result"
    }
   ],
   "source": [
    "new_per_seqs(20)"
   ]
  },
  {
   "cell_type": "code",
   "execution_count": 49,
   "metadata": {},
   "outputs": [
    {
     "name": "stdout",
     "output_type": "stream",
     "text": [
      "0.03721308708190918\n"
     ]
    }
   ],
   "source": [
    "import time\n",
    "start = time.time()\n",
    "aaa=guys_for_trace(1000)\n",
    "end = time.time()\n",
    "print(end-start)"
   ]
  },
  {
   "cell_type": "code",
   "execution_count": 50,
   "metadata": {},
   "outputs": [
    {
     "data": {
      "text/plain": [
       "216"
      ]
     },
     "execution_count": 50,
     "metadata": {},
     "output_type": "execute_result"
    }
   ],
   "source": [
    "len(aaa)"
   ]
  },
  {
   "cell_type": "code",
   "execution_count": 35,
   "metadata": {},
   "outputs": [],
   "source": [
    "def trace2length(t):\n",
    "    return 2 * np.arccosh(t/2)\n",
    "\n",
    "def length2trace(l):\n",
    "    return 2 * np.cosh(l/2)\n",
    "\n",
    "# The sequences that we actually want, from the \"condensed forms\" that take primitive roots in PGL_2(Z)\n",
    "def actual_sequences(a, trace):\n",
    "    result = []\n",
    "    for _x in a:\n",
    "        x = _x[:] # Need this to make x harmlessly mutable\n",
    "        m = m_rep(x)\n",
    "        t = np.trace(m)\n",
    "        if t < trace:\n",
    "            x_length = trace2length(t)\n",
    "            desired_length = trace2length(trace)\n",
    "            k = int(desired_length/x_length + 0.5)\n",
    "            x *= k\n",
    "        # Symmetrize by both R-L flip and time reversal, and add all four\n",
    "        if len(x) % 2 == 0:\n",
    "            r = list(reversed(x))\n",
    "            result += [x, rotl(x, 1), r, rotl(r, 1)]\n",
    "        # Expand condensed form, and then symmetrize by time reversal\n",
    "        else:\n",
    "            xx = x + x\n",
    "            result += [xx, list(reversed(x))]\n",
    "    return result\n",
    "\n",
    "def reduce_and_remove_duplicates(seqs):\n",
    "    u = {tuple(min_rot2(x)) for x in seqs}\n",
    "    return list(u)\n",
    "            \n",
    "\n",
    "def guys_for_trace(t):\n",
    "    seqs = new_per_seqs(t)\n",
    "    seqs1 = actual_sequences(seqs, t)\n",
    "    seqs2 = reduce_and_remove_duplicates(seqs1)\n",
    "    return seqs2\n"
   ]
  },
  {
   "cell_type": "code",
   "execution_count": 42,
   "metadata": {},
   "outputs": [
    {
     "data": {
      "text/plain": [
       "[(1, 7, 6, 1),\n",
       " (1, 1, 1, 32),\n",
       " (1, 1, 6, 7),\n",
       " (1, 2, 19, 1),\n",
       " (1, 2, 3, 9),\n",
       " (1, 19, 2, 1),\n",
       " (1, 1, 1, 2, 4, 2),\n",
       " (1, 4, 1, 15),\n",
       " (2, 3, 9, 1),\n",
       " (2, 49),\n",
       " (1, 98),\n",
       " (7, 14),\n",
       " (1, 9, 3, 2),\n",
       " (2, 1, 9, 3),\n",
       " (1, 1, 2, 4, 2, 1),\n",
       " (1, 2, 1, 3, 3, 1),\n",
       " (1, 1, 19, 2),\n",
       " (4, 1, 15, 1),\n",
       " (49, 2),\n",
       " (1, 6, 7, 1),\n",
       " (1, 1, 32, 1),\n",
       " (1, 1, 3, 3, 1, 2),\n",
       " (1, 1, 7, 6),\n",
       " (1, 1, 2, 19),\n",
       " (14, 7),\n",
       " (98, 1),\n",
       " (1, 3, 3, 1, 2, 1),\n",
       " (1, 1, 2, 1, 3, 3)]"
      ]
     },
     "execution_count": 42,
     "metadata": {},
     "output_type": "execute_result"
    }
   ],
   "source": [
    "guys_for_trace(100)"
   ]
  },
  {
   "cell_type": "code",
   "execution_count": 20,
   "metadata": {},
   "outputs": [],
   "source": [
    "# Turns an EVEN LENGTH sequence of R's and L's (given as a sequence of how many R's and L's)\n",
    "# into a matrix\n",
    "def cf2matrix(a):\n",
    "    u = np.eye(2, dtype=np.int64)\n",
    "    for x in a:\n",
    "        u = np.matmul(u, [[x, 1], [1, 0]])\n",
    "    return u\n",
    "\n",
    "def m_rep(seq):\n",
    "    if len(seq) % 2 == 0:\n",
    "        return cf2matrix(seq)\n",
    "    else:\n",
    "        return cf2matrix(seq + seq)\n",
    "\n",
    "def m_reps(trace):\n",
    "    a = min_seqs(trace)\n",
    "    return [m_rep(x) for x in a]\n",
    "\n",
    "def prim_m_reps(trace):\n",
    "    a = m_reps(trace)\n",
    "    return [x for x in a if np.trace(x) == trace]"
   ]
  },
  {
   "cell_type": "code",
   "execution_count": 21,
   "metadata": {},
   "outputs": [
    {
     "data": {
      "text/plain": [
       "121286168.0"
      ]
     },
     "execution_count": 21,
     "metadata": {},
     "output_type": "execute_result"
    }
   ],
   "source": [
    "((int(2 * np.cosh(20/2)))**2 - 4)/4"
   ]
  },
  {
   "cell_type": "code",
   "execution_count": 38,
   "metadata": {},
   "outputs": [],
   "source": [
    "partial_result = None\n",
    "def per_seqs_for_range(a, b, start_with_partial_result = False):\n",
    "    global partial_result\n",
    "    print(\"Going from {} to {}\".format(a, b))\n",
    "    if start_with_partial_result and partial_result:\n",
    "        aa, result = partial_result\n",
    "    else:\n",
    "        aa, result = a, []\n",
    "    for i in range(a, b):\n",
    "        if i % 100 == 0:\n",
    "            print(\"Starting {} at {}\".format(i, datetime.datetime.now()))\n",
    "            partial_result = (i, result)\n",
    "        result += guys_for_trace(i)\n",
    "    return result\n",
    "\n",
    "def per_seqs_for_length(l):\n",
    "    # a = int(2 * np.cosh(l/2)) + 1\n",
    "    a = 5\n",
    "    b = int(2 * np.cosh((l+1)/2)) + 1\n",
    "    return per_seqs_for_range(a, b)"
   ]
  },
  {
   "cell_type": "code",
   "execution_count": 39,
   "metadata": {},
   "outputs": [
    {
     "name": "stdout",
     "output_type": "stream",
     "text": [
      "Going from 5 to 55\n"
     ]
    }
   ],
   "source": [
    "aaa = per_seqs_for_length(7)"
   ]
  },
  {
   "cell_type": "code",
   "execution_count": 40,
   "metadata": {},
   "outputs": [
    {
     "data": {
      "text/plain": [
       "427"
      ]
     },
     "execution_count": 40,
     "metadata": {},
     "output_type": "execute_result"
    }
   ],
   "source": [
    "len(aaa)"
   ]
  },
  {
   "cell_type": "code",
   "execution_count": 177,
   "metadata": {},
   "outputs": [],
   "source": [
    "seqs_by_length = [[]] * 20\n",
    "for i in range(1, 20):\n",
    "    seqs_by_length[i] = per_seqs_for_length(i)"
   ]
  },
  {
   "cell_type": "code",
   "execution_count": 220,
   "metadata": {},
   "outputs": [
    {
     "data": {
      "text/plain": [
       "[1,\n",
       " 1,\n",
       " 5,\n",
       " 10,\n",
       " 25,\n",
       " 48,\n",
       " 127,\n",
       " 303,\n",
       " 736,\n",
       " 1768,\n",
       " 4497,\n",
       " 11114,\n",
       " 27944,\n",
       " 71067,\n",
       " 180094,\n",
       " 460635,\n",
       " 1181266,\n",
       " 3036122,\n",
       " 7831535]"
      ]
     },
     "execution_count": 220,
     "metadata": {},
     "output_type": "execute_result"
    }
   ],
   "source": [
    "[len(seqs_by_length[i]) for i in range(1, 20)]"
   ]
  },
  {
   "cell_type": "code",
   "execution_count": 242,
   "metadata": {
    "collapsed": true
   },
   "outputs": [],
   "source": [
    "u = str(seqs_by_length)\n",
    "with open('sequences20', 'w') as handle:\n",
    "    handle.write(u)"
   ]
  },
  {
   "cell_type": "code",
   "execution_count": 248,
   "metadata": {
    "collapsed": true
   },
   "outputs": [],
   "source": [
    "!gzip sequences20"
   ]
  }
 ],
 "metadata": {
  "kernelspec": {
   "display_name": "Python 3",
   "language": "python",
   "name": "python3"
  },
  "language_info": {
   "codemirror_mode": {
    "name": "ipython",
    "version": 3
   },
   "file_extension": ".py",
   "mimetype": "text/x-python",
   "name": "python",
   "nbconvert_exporter": "python",
   "pygments_lexer": "ipython3",
   "version": "3.7.1"
  }
 },
 "nbformat": 4,
 "nbformat_minor": 1
}
