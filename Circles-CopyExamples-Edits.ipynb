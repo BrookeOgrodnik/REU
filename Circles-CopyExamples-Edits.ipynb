{
 "cells": [
  {
   "cell_type": "code",
   "execution_count": 2,
   "metadata": {},
   "outputs": [],
   "source": [
    "import numpy as np\n",
    "import sympy as sp\n",
    "import math\n",
    "from sympy import ntheory\n",
    "from sympy.ntheory import continued_fraction_reduce\n",
    "from sympy import *\n",
    "import matplotlib.pyplot as plt\n",
    "from numpy.linalg import matrix_power\n",
    "import time\n",
    "import matplotlib\n",
    "from sympy.geometry import Point, Circle"
   ]
  },
  {
   "cell_type": "code",
   "execution_count": 3,
   "metadata": {},
   "outputs": [],
   "source": [
    "tolerance = 1e-6"
   ]
  },
  {
   "cell_type": "code",
   "execution_count": 4,
   "metadata": {},
   "outputs": [],
   "source": [
    "def getOrtho(circ1,circ2, N):\n",
    "    r1,x1 = circ1 \n",
    "    r2,x2 = circ2\n",
    "    if (N and abs(x1-x2)<tolerance) or (not N and x1==x2):\n",
    "        return (np.inf, (x1+x2)/2)\n",
    "    c1 = x1**2-r1**2\n",
    "    c2 = x2**2-r2**2\n",
    "    h = (c1-c2)/(2*(x2-x1))\n",
    "    x3 = -h\n",
    "    r3 = sqrt(h**2+2*x1*h+c1)\n",
    "    return (r3, x3)"
   ]
  },
  {
   "cell_type": "code",
   "execution_count": 5,
   "metadata": {},
   "outputs": [],
   "source": [
    "def getShear(pants1,pants2, gamma, N = True,s = 5):\n",
    "    circlesList, pbar,p = pantsShear(pants1,pants2,gamma,N,s)\n",
    "    circ1 = getOrtho((abs(circlesList[2][0]),circlesList[2][1]),(abs(circlesList[3][0]),circlesList[3][1]),N)\n",
    "    circ2 = getOrtho((abs(circlesList[3][0]),circlesList[3][1]),(abs(circlesList[4][0]),circlesList[4][1]),N)\n",
    "    circ3 = getOrtho((abs(circlesList[0][0]),circlesList[0][1]),(abs(circlesList[1][0]),circlesList[1][1]),N)\n",
    "    circ4 = getOrtho((abs(circlesList[0][0]),circlesList[0][1]),(abs(circlesList[5][0]),circlesList[5][1]),N)\n",
    "    if not pIsIn(p, toInterval(circ1)):\n",
    "        circ1 = (-circ1[0],circ1[1])\n",
    "    if not pIsIn(p,toInterval(circ2)):\n",
    "        circ2 = (-circ2[0],circ2[1])\n",
    "    if not pIsIn(pbar, toInterval(circ3)):\n",
    "        circ3 = (-circ3[0],circ3[1])\n",
    "    if not pIsIn(pbar,toInterval(circ4)):\n",
    "        circ4 = (-circ4[0],circ4[1])\n",
    "    sign_1 = 1\n",
    "    sign_2 = 1\n",
    "    if intIsIn(toInterval(circ1), toInterval(circ2)):\n",
    "        sign_1 = -1\n",
    "    if intIsIn(toInterval(circ3), toInterval(circ4)):\n",
    "        sign_2 = -1\n",
    "    #radiusCenterPlotter(circlesList+[circ1,circ2]+[circ3,circ4],s)\n",
    "    #radiusCenterPlotter2(circlesList+[circ1,circ2]+[circ3,circ4],s)\n",
    "    return (-1*sign_1*getDist(circ1,circ2,N), sign_2*getDist(circ3,circ4,N))"
   ]
  },
  {
   "cell_type": "code",
   "execution_count": 6,
   "metadata": {},
   "outputs": [],
   "source": [
    "def toInterval(circ): #we implicitly assume that we can never have trivial intervals of (x,x) = emptyset\n",
    "    r,x = circ\n",
    "    if r==np.inf:\n",
    "        return (x,np.inf)\n",
    "    elif r==np.NINF:\n",
    "        return (np.NINF,x)\n",
    "    else:\n",
    "        return (x-r, x+r)"
   ]
  },
  {
   "cell_type": "code",
   "execution_count": 7,
   "metadata": {},
   "outputs": [],
   "source": [
    "def getDist(circ1,circ2,N):\n",
    "    circ1,circ2 = getInv(circ1), getInv(circ2)\n",
    "    t1,u1,v1 = circ1\n",
    "    t2,u2,v2 = circ2\n",
    "    a = (t1*u2/2+t2*u1/2-v1*v2)\n",
    "    if N:\n",
    "        a = a.evalf()\n",
    "    return np.arccosh(np.double(abs(a)))"
   ]
  },
  {
   "cell_type": "code",
   "execution_count": 8,
   "metadata": {},
   "outputs": [],
   "source": [
    "def getInv(circ):\n",
    "    r,x = circ\n",
    "    if r == np.inf or r == np.NINF:\n",
    "        return (2*x,0,1)\n",
    "    return ((x**2-r**2)/r, 1/r, x/r)"
   ]
  },
  {
   "cell_type": "code",
   "execution_count": 9,
   "metadata": {},
   "outputs": [],
   "source": [
    "def InvToNormal(circ,N):\n",
    "    t,u,v = circ\n",
    "    if (N and abs(u)<tolerance) or (not N) and u==0:\n",
    "        return (np.inf,t/2)\n",
    "    else:\n",
    "        r = 1/u\n",
    "        x = r*v\n",
    "        return (r,x)"
   ]
  },
  {
   "cell_type": "code",
   "execution_count": 10,
   "metadata": {},
   "outputs": [],
   "source": [
    "def pIsIn(p,interval): # open intervals\n",
    "    if interval[0] < interval[1]:\n",
    "        return interval[0] < p and p < interval[1]\n",
    "    else:\n",
    "        return interval[0] < p or p < interval[1]"
   ]
  },
  {
   "cell_type": "code",
   "execution_count": 11,
   "metadata": {},
   "outputs": [],
   "source": [
    "def intIsIn(int1, int2): # returns whether interval 1 contains interval 2 (i.e. True = \"1 contains 2\")\n",
    "    if int1[0] < int1[1] and int2[0] < int2[1]:\n",
    "        return int1[0] <= int2[0] and int1[1] >= int2[1]\n",
    "    elif int1[0] > int1[1] and int2[0] < int2[1]:\n",
    "        return int1[0] <= int2[0] or int2[1] <= int1[1]\n",
    "    elif int1[0] > int1[1] and int2[0] > int2[1]:\n",
    "        return int1[0] <= int2[0] and int1[1] >= int2[1]\n",
    "    else:\n",
    "        return False"
   ]
  },
  {
   "cell_type": "code",
   "execution_count": 12,
   "metadata": {},
   "outputs": [],
   "source": [
    "def act(M,x, N):\n",
    "    if N:\n",
    "        (a,b), (c,d) = M\n",
    "        return (a*x+b)/(c*x+d)\n",
    "    else:\n",
    "        (a,b), (c,d) = M\n",
    "        a,b,c,d = int(a), int(b), int(c), int(d)\n",
    "        return sp.simplify((a*x+b)/(c*x+d))"
   ]
  },
  {
   "cell_type": "code",
   "execution_count": 13,
   "metadata": {},
   "outputs": [],
   "source": [
    "def pairToFrac(s1, s2):\n",
    "    return minPermutation(recover(list(s1) + [1] + list(inv(s2)) + [1]))"
   ]
  },
  {
   "cell_type": "code",
   "execution_count": 14,
   "metadata": {},
   "outputs": [],
   "source": [
    "def pantsShear(pants1, pants2, y, N = True,s = 5): # y is given in minimal form, without any 0's \n",
    "    s0,s1,s2 = pants1\n",
    "    pants1Arr = []\n",
    "    \n",
    "    pants1Arr.append(pairToFrac(s1,s2))\n",
    "    pants1Arr.append(pairToFrac(s2,s0))\n",
    "    pants1Arr.append(pairToFrac(s0,s1))\n",
    "    #pair to frac here sends extra R's at the front to the end, so it makes sense to compare to y later.\n",
    "    \n",
    "    i = -1\n",
    "    for l in range(3):\n",
    "        if pants1Arr[l] == y:\n",
    "            i = l\n",
    "    \n",
    "    pants1_new = [pairToFrac2(s1,s2),pairToFrac2(s2,s0),pairToFrac2(s0,s1)]\n",
    "    pants1_new = pants1_new[i:] + pants1_new[:i]\n",
    "    pants1  = pants1[i:] + pants1[:i]\n",
    "    \n",
    "    #the above puts the cuff that matches to y into the first slot of the array\n",
    "    #example: if i = 1, then pants1_new = [gamma1,gamma2,gamma0], and pants1 = [s1,s2,s0]\n",
    "    \n",
    "    s0,s1,s2 = pants2\n",
    "    \n",
    "    pants2Arr = []\n",
    "    \n",
    "    pants2Arr.append(pairToFrac(s1,s2))\n",
    "    pants2Arr.append(pairToFrac(s2,s0))\n",
    "    pants2Arr.append(pairToFrac(s0,s1))\n",
    "    \n",
    "    for l in range(3):\n",
    "        if minPermutation(pants2Arr[l][::-1]) == y:\n",
    "            i = l\n",
    "    \n",
    "    pants2_new = [pairToFrac2(s1,s2),pairToFrac2(s2,s0),pairToFrac2(s0,s1)]\n",
    "    pants2_new = pants2_new[i:] + pants2_new[:i]\n",
    "    pants2 = pants2[i:] + pants2[:i]\n",
    "    #the above puts the cuff that matches to the inverse of y into the first slot of the array\n",
    "    \n",
    "    gamma_1 = pants1_new[0]\n",
    "    gamma_2 = pants2_new[0]\n",
    "    \n",
    "    #the above are the two geodesics we want to match\n",
    "    A_1 = np.eye(2)\n",
    "    A_2 = np.eye(2)\n",
    "    if gamma_1[0]==0:\n",
    "        A_1 = np.linalg.inv(np.array([[0,1],[1,-gamma_1[1]]]) @ np.array([[0,1],[1,0]]))\n",
    "        gamma_1[-1]+=gamma_1[1]\n",
    "        gamma_1 = gamma_1[2:]\n",
    "    \n",
    "    #the above occurs when the start of the geo cutting sequence was an R and we then put a 0 in the cont frac\n",
    "    #to represent L^0\n",
    "    #we then store A_1 as the matrix that acts on the continued fraction by concatenating gamma_1[1] to the front\n",
    "    #next, we add gamma_1[1] to the last entry as that is how 0 works for continued fractions, and then take away entries\n",
    "        \n",
    "    \n",
    "    if gamma_2[0]==0:\n",
    "        A_2 = np.array([[0,1],[1,-gamma_2[1]]]) @ np.array([[0,1],[1,0]])\n",
    "        gamma_2[-1]+=gamma_2[1]\n",
    "        gamma_2 = gamma_2[2:]\n",
    "        \n",
    "    #the above stored matrix action on the cont frac is: delete the 0, then delete gamma_2[1] (really, rotate by 2 slots)\n",
    "    \n",
    "    gamma_2 = gamma_2[::-1]\n",
    "    l = len(gamma_1)\n",
    "    #reverse gamma_2 so we can compare it to gamma_1\n",
    "    k = -1\n",
    "    for i in range(0,l,2):\n",
    "        if (gamma_2[i:]+gamma_2[:i]) == gamma_1:\n",
    "            k = i\n",
    "    #the above marks which even permutation we need to take to match back to gamma_1\n",
    "    mat = np.array([[0,1],[-1,0]])\n",
    "\n",
    "    for i in range(k):\n",
    "        mat = np.matmul(np.array([[0,1],[1,-gamma_2[i]]]), mat)\n",
    "\n",
    "    #the original matrix is -1/z action that reverses the order of the cont frac of conj(z)\n",
    "    #the other multiplications take away entries now from the back of gamma_2\n",
    "        \n",
    "    B = np.array([[0,1],[-1,1]])\n",
    "    \n",
    "    #the above matrix permutes 0,1,infty cyclically. represented by: 1/(1-z)\n",
    "    \n",
    "    T = np.array([[1,1],[0,1]])\n",
    "    \n",
    "    #the above adds 1 to the cont frac\n",
    "    \n",
    "    T_inv = np.array([[1,-1],[0,1]])\n",
    "    \n",
    "    #the above subtracts 1 from the cont frac\n",
    "    \n",
    "    M = ((((((B @ T) @ A_1) @ mat) @ A_2) @ T_inv) @ matrix_power(B, 2))\n",
    "    pants2_in_plane = pantsInPlane(pants2, N)\n",
    "    min_max = [(x-r,x+r) for (r,x) in pants2_in_plane]\n",
    "    pants2_in_plane = [(act(M, mini,N),act(M,maxi,N)) for (mini,maxi) in min_max]\n",
    "    pants2_in_plane = [((x_max-x_min)/2,(x_max+x_min)/2) for (x_min,x_max) in pants2_in_plane]\n",
    "    pants1_in_plane  = pantsInPlane(pants1, N)\n",
    "    pbar = pants1_in_plane[0][1] - pants1_in_plane[0][0]\n",
    "    p = pants1_in_plane[0][1] + pants1_in_plane[0][0]\n",
    "    #radiusCenterPlotter(pants1_in_plane, s)\n",
    "    #radiusCenterPlotter2(pants1_in_plane, s)\n",
    "    #radiusCenterPlotter(pants2_in_plane, s)\n",
    "    #radiusCenterPlotter2(pants2_in_plane, s)\n",
    "    #radiusCenterPlotter(pants1_in_plane + pants2_in_plane, s)\n",
    "    #radiusCenterPlotter2(pants1_in_plane + pants2_in_plane, s)\n",
    "    return (pants1_in_plane + pants2_in_plane, pbar, p)"
   ]
  },
  {
   "cell_type": "code",
   "execution_count": 15,
   "metadata": {},
   "outputs": [],
   "source": [
    "#this thing will brute force compute the shears of a list of pants given by a range of traces\n",
    "def bruteShearsOnTraceRange(tmin, tmax):\n",
    "    shear_list = []\n",
    "    pre_pants_list = list(pantsInTraceRange(tmin,tmax))\n",
    "    pos_geo_list = pantsToGeodesics(pre_pants_list) #remember to import pantsToGeodesics. remember the geos here are minimal\n",
    "    pants_list = list(pantsInTraceRange2(tmin,tmax))\n",
    "    #also need to fix the rep of these pants to include 0s... the functions called here get rid of 0s\n",
    "    for geo in pos_geo_list:\n",
    "        inv_geo = geo[::-1]\n",
    "        list_of_pants_with_cuff = []\n",
    "        list_of_pants_with_inv_cuff = []\n",
    "        length = len(geo)\n",
    "        for i in range(0,length,2):\n",
    "            list_of_pants_with_cuff + pantsInTraceRangeWithCuff2(tmin, tmax, geo[i:] + geo[i:])\n",
    "        for i in range(0,length,2):\n",
    "            list_of_pants_with_inv_cuff + pantsInTraceRangeWithCuff2(tmin, tmax, inv_geo[i:] + inv_geo[i:])\n",
    "        for pants in list_of_pants_with_cuff:\n",
    "            for inv_pants in list_of_pants_with_inv_cuff:\n",
    "                shear_list.append(getShear(pants,inv_pants,geo)) #still need to fix rep of pants\n",
    "    return shear_list\n",
    "\n",
    "#things to import and convert:\n",
    "#pantsInTraceRange, pantsToGeodesics, pantsInTraceRangeWithCuff. look at listSplit-Copy1"
   ]
  },
  {
   "cell_type": "code",
   "execution_count": 16,
   "metadata": {},
   "outputs": [],
   "source": [
    "def isOdd(sequence):\n",
    "    return len(sequence) % 2"
   ]
  },
  {
   "cell_type": "code",
   "execution_count": 17,
   "metadata": {},
   "outputs": [],
   "source": [
    "def rotl(x, k):\n",
    "    return x[k:] + x[:k]"
   ]
  },
  {
   "cell_type": "code",
   "execution_count": 18,
   "metadata": {},
   "outputs": [],
   "source": [
    "def permutationsOf(sequence):\n",
    "    return list(permutationsOfGen(sequence))"
   ]
  },
  {
   "cell_type": "code",
   "execution_count": 19,
   "metadata": {},
   "outputs": [],
   "source": [
    "def permutationsOfGen(sequence):\n",
    "    for n in range(0, len(sequence), 1 if isOdd(sequence) else 2):\n",
    "        yield rotl(sequence, n)"
   ]
  },
  {
   "cell_type": "code",
   "execution_count": 20,
   "metadata": {},
   "outputs": [],
   "source": [
    "def minPermutation(sequence):\n",
    "    return min(permutationsOfGen(sequence))"
   ]
  },
  {
   "cell_type": "code",
   "execution_count": 21,
   "metadata": {},
   "outputs": [],
   "source": [
    "def inv(lr_sequence):\n",
    "    return tuple((np.array(lr_sequence[::-1]) - 1) ** 2)"
   ]
  },
  {
   "cell_type": "code",
   "execution_count": 22,
   "metadata": {},
   "outputs": [],
   "source": [
    "def pairToFrac2(s1,s2):\n",
    "    return recover2(list(s1) + [1] + list(inv(s2)) + [1])"
   ]
  },
  {
   "cell_type": "code",
   "execution_count": 23,
   "metadata": {},
   "outputs": [],
   "source": [
    "def recover(ls):\n",
    "    output = []\n",
    "    i = 0\n",
    "    while i < len(ls):\n",
    "        counter = 1\n",
    "        while (i < len(ls) - 1 and ls[i] == ls[i + 1]):\n",
    "            i += 1\n",
    "            counter += 1\n",
    "        i += 1\n",
    "        output.append(counter)\n",
    "    if isOdd(output):    #this is the line where we lump things\n",
    "        output[-1] += output[0]\n",
    "        output = output[1:]\n",
    "    return output\n",
    "\n",
    "def recover2(ls):\n",
    "    output = []\n",
    "    i = 0\n",
    "    while i < len(ls):\n",
    "        counter = 1\n",
    "        while (i < len(ls) - 1 and ls[i] == ls[i + 1]):\n",
    "            i += 1\n",
    "            counter += 1\n",
    "        i += 1\n",
    "        output.append(counter)\n",
    "    if isOdd(output):  \n",
    "        output = [0]+output\n",
    "    return output"
   ]
  },
  {
   "cell_type": "code",
   "execution_count": 24,
   "metadata": {},
   "outputs": [],
   "source": [
    "#this cell for graphing matrices from continued fractions\n",
    "def cfToMat(cf):\n",
    "    mat = np.identity(2)\n",
    "    length = 0\n",
    "    for x in cf:\n",
    "        mat = np.matmul(mat,[[x,1],[1,0]])\n",
    "        length += 1\n",
    "    if length % 2 == 1:\n",
    "        mat = np.matmul(mat,mat)\n",
    "    return np.array(mat).astype(int)\n",
    "\n",
    "def geodesicInfoFromMatrix(M): #input is a hyperbolic matrix M which lies in SL_2(Z)\n",
    "    tr = np.trace(M)\n",
    "    if np.abs(tr) <= 2:\n",
    "        raise ValueError('Matrix should have trace > 2')\n",
    "    if tr < 0:\n",
    "        M = -M\n",
    "        tr = -tr\n",
    "    length = 2*np.log(tr/2+np.sqrt((tr/2)**2-1))\n",
    "    eig = np.exp(1)**(length/2)\n",
    "    a = M.item(0,0)\n",
    "    b = M.item(0,1)\n",
    "    c = M.item(1,0)\n",
    "    d = M.item(1,1)\n",
    "    if c > 0:\n",
    "        eigMat = (1/((c**2)*(tr**2-4))**(1/4))*np.matrix([[eig-d,1/eig-d],[c,c]])\n",
    "    else: \n",
    "        eigMat = (1/((c**2)*(tr**2-4))**(1/4))*np.matrix([[-eig+d,1/eig-d],[-c,c]])\n",
    "    visPt = (eig-d)/c\n",
    "    newA = eigMat.item(0,0)\n",
    "    newB = eigMat.item(0,1)\n",
    "    newC = eigMat.item(1,0)\n",
    "    newD = eigMat.item(1,1)\n",
    "    visPtConj = (a - d - np.sqrt(tr**2 - 4))/(2*c)\n",
    "    z = (newA*1j+newB)/(newC*1j+newD)\n",
    "    zeta = 1j/(newC*1j+newD)**2\n",
    "    return (length,eig,eigMat,visPt,visPtConj,z,zeta)\n",
    "\n",
    "def plotMatrix(M): #input is a hyperbolic matrix M which lies in SL_2(Z)\n",
    "    trace = np.trace(M)\n",
    "    visPt = geodesicInfoFromMatrix(M)[3]\n",
    "    visPtConj = geodesicInfoFromMatrix(M)[4]\n",
    "    radius = (visPt - visPtConj)/2\n",
    "    center = (visPt + visPtConj)/2\n",
    "    circle = (radius, center)\n",
    "    \n",
    "    fig, ax = plt.subplots()\n",
    "    minimum = -1 + (circle[1]-abs(circle[0]))\n",
    "    maximum = 1 + (circle[1]+abs(circle[0]))\n",
    "    ax.set_xlim(float(minimum),float(maximum))\n",
    "    ax.set_ylim(0, float(abs(circle[0])+1))\n",
    "    \n",
    "    circle1 = plt.Circle((circle[1],0), abs(circle[0]), fill = False, color = 'r')\n",
    "    \n",
    "    if circle[0]>0:\n",
    "        plt.plot(circle[1], abs(circle[0]), '>', color=  'r')\n",
    "    else:\n",
    "        plt.plot(circle[1], abs(circle[0]), '<', color=  'r')\n",
    "    \n",
    "    ax.add_artist(circle1)\n",
    "    ax.set_aspect('equal', adjustable='box')"
   ]
  },
  {
   "cell_type": "code",
   "execution_count": 25,
   "metadata": {},
   "outputs": [],
   "source": [
    "def circlePoints(circ, N = 100):\n",
    "    r,x = circ\n",
    "    x_values,y_values = [],[]\n",
    "    for i in range(N+1):\n",
    "        curr_x = x+r*cos(pi*i/N)\n",
    "        curr_x = curr_x.evalf()\n",
    "        curr_y = r*sin(pi*i/N)\n",
    "        curr_y = curr_y.evalf()\n",
    "        x_values.append(curr_x)\n",
    "        y_values.append(curr_y)\n",
    "    return (x_values,y_values)"
   ]
  },
  {
   "cell_type": "code",
   "execution_count": 26,
   "metadata": {},
   "outputs": [],
   "source": [
    "def h(point):\n",
    "    xVals, yVals = point[0][0], point[0][1]\n",
    "    output = [[],[]]\n",
    "    for i in range(len(xVals)):\n",
    "        x,y = xVals[i],yVals[i]\n",
    "        a = x**2+(y+1)**2\n",
    "        output[0].append((x**2+y**2-1)/a)\n",
    "        output[1].append(-2*x/a)\n",
    "    return output"
   ]
  },
  {
   "cell_type": "code",
   "execution_count": 27,
   "metadata": {},
   "outputs": [],
   "source": [
    "def add_arrow(line, position=None, direction='right', size=15):\n",
    "    \"\"\"\n",
    "    add an arrow to a line.\n",
    "\n",
    "    line:       Line2D object\n",
    "    position:   x-position of the arrow. If None, mean of xdata is taken\n",
    "    direction:  'left' or 'right'\n",
    "    size:       size of the arrow in fontsize points\n",
    "    color:      if None, line color is taken.\n",
    "    \"\"\"\n",
    "    xdata = line.get_xdata()\n",
    "    ydata = line.get_ydata()\n",
    "\n",
    "    if position is None:\n",
    "        position = xdata.mean()\n",
    "    # find closest index\n",
    "    start_ind = np.argmin(np.absolute(xdata - position))\n",
    "    if direction == 'right':\n",
    "        end_ind = start_ind + 1\n",
    "    else:\n",
    "        end_ind = start_ind - 1\n",
    "\n",
    "    line.axes.annotate('',\n",
    "        xytext=(xdata[start_ind], ydata[start_ind]),\n",
    "        xy=(xdata[end_ind], ydata[end_ind]),\n",
    "        arrowprops=dict(arrowstyle='simple'),\n",
    "        size=size\n",
    "    )"
   ]
  },
  {
   "cell_type": "code",
   "execution_count": 28,
   "metadata": {},
   "outputs": [],
   "source": [
    "def radiusCenterPlotter2(circArray,s=5): #draw circle given an array of radii and centers\n",
    "    fig, ax = plt.subplots()\n",
    "    fig.set_size_inches(s, s)\n",
    "    circles = [circ for circ in circArray if circ[0]!=np.inf and circ[0]!=-np.inf]\n",
    "    lines = [line for line in circArray if line[0]==np.inf or line[0]==-np.inf]\n",
    "    ax.set_xlim(-1,1.01)\n",
    "    ax.set_ylim(-1.001,1.001)\n",
    "    points = []\n",
    "    plotCirc = plt.Circle((0,0), 1, fill = False)\n",
    "    ax.add_artist(plotCirc)\n",
    "    plotCirc = plt.Circle((1,0), log(s)/100, fill = True, color = 'black', clip_on = False)\n",
    "    ax.add_artist(plotCirc)\n",
    "    for circ in circles:\n",
    "        points += [(circlePoints((abs(circ[0]), circ[1])),)]\n",
    "    for i in range(len(circles)):\n",
    "        circ = circles[i]\n",
    "        x_values,y_values = h(points[i])\n",
    "        line = plt.plot(x_values,y_values, 'black', linewidth = .3)[0]    \n",
    "        if circ[0] < 0:\n",
    "            add_arrow(line,position = x_values[len(x_values)//2], direction = 'right')\n",
    "        else:\n",
    "            add_arrow(line,position = x_values[len(x_values)//2], direction = 'left')\n",
    "   \n",
    "    for line in lines:\n",
    "        points = [[(line[1],line[1],line[1]),(5,10,15)]]\n",
    "        points = h(points)\n",
    "        p = points\n",
    "        points = (Point(p[0][0],p[1][0]), Point(p[0][1],p[1][1]), Point(p[0][2],p[1][2]))\n",
    "        circ = Circle(points[0],points[1],points[2])\n",
    "        r,center = circ.radius, (circ.center[0].evalf(),circ.center[1].evalf())\n",
    "        plotCirc = plt.Circle((center[0],center[1]), abs(r), fill = False)\n",
    "        ax.add_artist(plotCirc)\n",
    "        #if line[0]< 0:\n",
    "        #    add_arrow(plotCirc,position = x_values[len(x_values)//2], direction = 'right')\n",
    "        #else:\n",
    "        #    add_arrow(plotCirc,position = x_values[len(x_values)//2], direction = 'left')\n",
    "    ax.set_aspect('equal', adjustable='box')\n",
    "    plt.axis('off')\n",
    "    ax.annotate(r\"$\\infty$\",(1,0),(1+log(s)/50,-log(s)/55), size = 15*log(s))\n",
    "    #plt.plot((1,0),color = 'black', marker = \"o\", markersize=10)\n",
    "    plt.show()"
   ]
  },
  {
   "cell_type": "code",
   "execution_count": 29,
   "metadata": {},
   "outputs": [],
   "source": [
    "def radiusCenterPlotter(circArray,s= 5): #draw circle given an array of radii and centers\n",
    "    fig, ax = plt.subplots()\n",
    "    fig.set_size_inches(s, s)\n",
    "    circles = [circ for circ in circArray if circ[0]!=np.inf and circ[0]!=-np.inf]\n",
    "    lines = [line for line in circArray if line[0]==np.inf or line[0]==-np.inf]\n",
    "    minimum = min([circ[1]-abs(circ[0]) for circ in circles]+[l[1] for l in lines])\n",
    "    maximum = max([circ[1]+abs(circ[0]) for circ in circles]+[l[1] for l in lines])\n",
    "    ranges = maximum-minimum\n",
    "    maximum+=ranges/20\n",
    "    minimum-=ranges/20\n",
    "    maxY = max([abs(circ[0]) for circ in circles])\n",
    "    maxY+=maxY/20\n",
    "    ax.set_xlim(float(minimum),float(maximum))\n",
    "    ax.set_ylim(0, float(maxY))\n",
    "    \n",
    "    for circ in circles:\n",
    "        plotCirc = plt.Circle((circ[1],0), abs(circ[0]), fill = False)\n",
    "        if circ[0] > 0:\n",
    "            plt.plot(circ[1], abs(circ[0]), '>')\n",
    "        else:\n",
    "            plt.plot(circ[1], abs(circ[0]), '<')\n",
    "        ax.add_artist(plotCirc)\n",
    "    for line in lines:\n",
    "        plt.vlines(line[1], 0, float(maxY))\n",
    "        if line[0]> 0:\n",
    "            plt.plot(line[1],float(maxY/2), '^')\n",
    "        else:\n",
    "            plt.plot(line[1],float(maxY/2), 'v')\n",
    "    ax.set_aspect('equal', adjustable='box')"
   ]
  },
  {
   "cell_type": "code",
   "execution_count": 47,
   "metadata": {},
   "outputs": [],
   "source": [
    "def pantsInPlane(pants, N = True): #y0 is on top, y2 on left, y1 in default position (reduced position +1)\n",
    "    circles = []\n",
    "    s0,s1,s2 = pants\n",
    "    y2 = pairToFrac2(s0,s1)\n",
    "    y0 = pairToFrac2(s1,s2)\n",
    "    y1 = pairToFrac2(s2,s0)\n",
    "    B = lambda x : 1/(1-x)\n",
    "    alpha = ntheory.continued_fraction_reduce([y0])\n",
    "    alpha_conj = -1/(ntheory.continued_fraction_reduce([y0[::-1]]))\n",
    "    x_min = B(alpha_conj+1)\n",
    "    x_max = B(alpha+1)\n",
    "    r = (x_max-x_min)/2\n",
    "    x = (x_min+x_max)/2\n",
    "    if N:\n",
    "        r = r.evalf()\n",
    "        x = x.evalf()\n",
    "    else:\n",
    "        r  = sp.simplify(r)\n",
    "        x  = sp.simplify(x)\n",
    "    circles.append((r,x))\n",
    "    alpha = ntheory.continued_fraction_reduce([y1])\n",
    "    alpha_conj = -1/(ntheory.continued_fraction_reduce([y1[::-1]]))\n",
    "    x_min = (alpha_conj+1)\n",
    "    x_max = (alpha+1)\n",
    "    r = (x_max-x_min)/2\n",
    "    x = (x_min+x_max)/2\n",
    "    if N:\n",
    "        r = r.evalf()\n",
    "        x = x.evalf()\n",
    "    else:\n",
    "        r  = sp.simplify(r)\n",
    "        x  = sp.simplify(x)\n",
    "    circles.append((r,x))\n",
    "    \n",
    "    alpha = ntheory.continued_fraction_reduce([y2])\n",
    "    alpha_conj = -1/(ntheory.continued_fraction_reduce([y2[::-1]]))\n",
    "    x_min = B(B(alpha_conj+1))\n",
    "    x_max = B(B(alpha+1))\n",
    "    r = (x_max-x_min)/2\n",
    "    x = (x_min+x_max)/2\n",
    "    if N:\n",
    "        r = r.evalf()\n",
    "        x = x.evalf()\n",
    "    else:\n",
    "        r  = sp.simplify(r)\n",
    "        x  = sp.simplify(x)\n",
    "    circles.append((r,x))\n",
    "    return circles"
   ]
  },
  {
   "cell_type": "code",
   "execution_count": 31,
   "metadata": {},
   "outputs": [],
   "source": [
    "def plotPants(pants): # y0 is red, y1 is green, y2 is blue\n",
    "    fig, ax = plt.subplots()\n",
    "    \n",
    "    circ1, circ2, circ3 = pantsInPlane(pants)\n",
    "    minimum = -1+min(circ1[1]-abs(circ1[0]), circ2[1]-abs(circ2[0]), circ3[1]-abs(circ3[0]))\n",
    "    maximum = 1+max(circ1[1]+abs(circ1[0]), circ2[1]+abs(circ2[0]), circ3[1]+abs(circ3[0]))\n",
    "    ax.set_xlim(float(minimum),float(maximum))\n",
    "    ax.set_ylim(0, float(max(abs(circ1[0]), abs(circ2[0]), abs(circ3[0]))+1))\n",
    "    \n",
    "    circle1 = plt.Circle((circ1[1],0), abs(circ1[0]), fill = False, color = 'r')\n",
    "    circle2 = plt.Circle((circ2[1],0), abs(circ2[0]), fill = False, color = 'g')\n",
    "    circle3 = plt.Circle((circ3[1],0), abs(circ3[0]), fill = False, color = 'b')\n",
    "    \n",
    "    if circ1[0]>0:\n",
    "        plt.plot(circ1[1], abs(circ1[0]), '>', color=  'r')\n",
    "    else:\n",
    "        plt.plot(circ1[1], abs(circ1[0]), '<', color=  'r')\n",
    "    if circ2[0]>0:\n",
    "        plt.plot(circ2[1], abs(circ2[0]), '>', color=  'g')\n",
    "    else:\n",
    "        plt.plot(circ2[1], abs(circ2[0]), '<', color=  'g')\n",
    "    if circ3[0]>0:\n",
    "        plt.plot(circ3[1], abs(circ3[0]), '>', color=  'b')\n",
    "    else:\n",
    "        plt.plot(circ3[1], abs(circ3[0]), '<', color=  'b')\n",
    "    \n",
    "    ax.add_artist(circle1)\n",
    "    ax.add_artist(circle2)\n",
    "    ax.add_artist(circle3)\n",
    "    ax.set_aspect('equal', adjustable='box')\n",
    "    s0,s1,s2 = pants\n",
    "    print('red: ' + str(pairToFrac2(s0,s1)))\n",
    "    print('green: ' + str(pairToFrac2(s1,s2)))\n",
    "    print('blue: ' + str(pairToFrac2(s2,s0)))"
   ]
  },
  {
   "cell_type": "code",
   "execution_count": 32,
   "metadata": {},
   "outputs": [],
   "source": [
    "def pantsInPlane2(pants):\n",
    "    circles = []\n",
    "    s0,s1,s2 = pants\n",
    "    y2 = pairToFrac2(s0,s1)\n",
    "    y0 = pairToFrac2(s1,s2)\n",
    "    y1 = pairToFrac2(s2,s0)\n",
    "    B = lambda x : 1/(1-x)\n",
    "    alpha = ntheory.continued_fraction_reduce([y0])\n",
    "    alpha_conj = -1/(ntheory.continued_fraction_reduce([y0[::-1]]))\n",
    "    x_min = alpha_conj\n",
    "    x_max = alpha\n",
    "    r = (x_max-x_min)/2\n",
    "    r = r.evalf()\n",
    "    x = (x_min+x_max)/2\n",
    "    x = x.evalf()\n",
    "    circles.append((r,x))\n",
    "    alpha = ntheory.continued_fraction_reduce([y1])\n",
    "    alpha_conj = -1/(ntheory.continued_fraction_reduce([y1[::-1]]))\n",
    "    x_min = alpha_conj\n",
    "    x_max = alpha\n",
    "    r = (x_max-x_min)/2\n",
    "    r = r.evalf()\n",
    "    x = (x_min+x_max)/2\n",
    "    x = x.evalf()\n",
    "    circles.append((r,x))\n",
    "    \n",
    "    alpha = ntheory.continued_fraction_reduce([y2])\n",
    "    alpha_conj = -1/(ntheory.continued_fraction_reduce([y2[::-1]]))\n",
    "    x_min = alpha_conj\n",
    "    x_max = alpha\n",
    "    r = (x_max-x_min)/2\n",
    "    r = r.evalf()\n",
    "    x = (x_min+x_max)/2\n",
    "    x = x.evalf()\n",
    "    circles.append((r,x))\n",
    "    return circles\n",
    "    \n",
    "def plotPants2(pants):\n",
    "    fig, ax = plt.subplots()\n",
    "    \n",
    "    circ1, circ2, circ3 = pantsInPlane2(pants)\n",
    "    minimum = -1+min(circ1[1]-abs(circ1[0]), circ2[1]-abs(circ2[0]), circ3[1]-abs(circ3[0]))\n",
    "    maximum = 1+max(circ1[1]+abs(circ1[0]), circ2[1]+abs(circ2[0]), circ3[1]+abs(circ3[0]))\n",
    "    ax.set_xlim(float(minimum),float(maximum))\n",
    "    ax.set_ylim(0, float(max(abs(circ1[0]), abs(circ2[0]), abs(circ3[0]))+1))\n",
    "    \n",
    "    circle1 = plt.Circle((circ1[1],0), abs(circ1[0]), fill = False, color = 'r')\n",
    "    circle2 = plt.Circle((circ2[1],0), abs(circ2[0]), fill = False, color = 'g')\n",
    "    circle3 = plt.Circle((circ3[1],0), abs(circ3[0]), fill = False, color = 'b')\n",
    "    \n",
    "    if circ1[0]>0:\n",
    "        plt.plot(circ1[1], abs(circ1[0]), '>', color=  'r')\n",
    "    else:\n",
    "        plt.plot(circ1[1], abs(circ1[0]), '<', color=  'r')\n",
    "    if circ2[0]>0:\n",
    "        plt.plot(circ2[1], abs(circ2[0]), '>', color=  'g')\n",
    "    else:\n",
    "        plt.plot(circ2[1], abs(circ2[0]), '<', color=  'g')\n",
    "    if circ3[0]>0:\n",
    "        plt.plot(circ3[1], abs(circ3[0]), '>', color=  'b')\n",
    "    else:\n",
    "        plt.plot(circ3[1], abs(circ3[0]), '<', color=  'b')\n",
    "        \n",
    "    ax.add_artist(circle1)\n",
    "    ax.add_artist(circle2)\n",
    "    ax.add_artist(circle3)\n",
    "    ax.set_aspect('equal', adjustable='box')"
   ]
  },
  {
   "cell_type": "code",
   "execution_count": 33,
   "metadata": {},
   "outputs": [],
   "source": [
    "def geos(pants):\n",
    "    s0,s1,s2 = pants\n",
    "    return pairToFrac2(s1,s2),pairToFrac2(s2,s0),pairToFrac2(s0,s1)\n",
    "\n",
    "def minGeos(pants):\n",
    "    s0,s1,s2 = pants\n",
    "    return pairToFrac(s1,s2),pairToFrac(s2,s0),pairToFrac(s0,s1)"
   ]
  },
  {
   "cell_type": "code",
   "execution_count": 34,
   "metadata": {},
   "outputs": [
    {
     "data": {
      "image/png": "[encoded data removed]",
      "text/plain": [
       "<Figure size 360x360 with 1 Axes>"
      ]
     },
     "metadata": {
      "needs_background": "light"
     },
     "output_type": "display_data"
    }
   ],
   "source": [
    "radiusCenterPlotter([(1,0),(2,0),(3,0),(4,0),(5,0),(6,0), (7,0), (8,0),(9,0),(10,0)])"
   ]
  },
  {
   "cell_type": "code",
   "execution_count": 35,
   "metadata": {
    "scrolled": true
   },
   "outputs": [
    {
     "name": "stdout",
     "output_type": "stream",
     "text": [
      "6.4849853515625e-05 0.42151498794555664 0.0010569095611572266 0.00042510032653808594\n"
     ]
    },
    {
     "data": {
      "text/plain": [
       "[(-2.23451998979089, 1.58823529411765),\n",
       " (1.68120381899154, 1.90909090909091),\n",
       " (0.425132000204757, -0.206896551724138)]"
      ]
     },
     "execution_count": 35,
     "metadata": {},
     "output_type": "execute_result"
    }
   ],
   "source": [
    "pantsInPlane(([1,1,1,0], [0,1,0,1,1], [0,0,1,0]))"
   ]
  },
  {
   "cell_type": "code",
   "execution_count": 36,
   "metadata": {},
   "outputs": [
    {
     "name": "stdout",
     "output_type": "stream",
     "text": [
      "3.4809112548828125e-05 0.10234928131103516 0.0008778572082519531 0.00042510032653808594\n",
      "5.1975250244140625e-05 0.08301591873168945 0.0011150836944580078 0.0007479190826416016\n"
     ]
    },
    {
     "data": {
      "text/plain": [
       "(1.2736550500468014, 1.2736550500465786)"
      ]
     },
     "execution_count": 36,
     "metadata": {},
     "output_type": "execute_result"
    }
   ],
   "source": [
    "getShear(([1,1,1,0], [0,1,0,1,1], [0,0,1,0]),([0,0,0],[1,0,1,1,1,1],[0,0,1,1,1]),[1,1,1,4,1,3])"
   ]
  },
  {
   "cell_type": "code",
   "execution_count": 37,
   "metadata": {},
   "outputs": [
    {
     "name": "stdout",
     "output_type": "stream",
     "text": [
      "3.504753112792969e-05 0.09846711158752441 0.0025298595428466797 0.0006849765777587891\n",
      "5.030632019042969e-05 0.10457968711853027 0.0010921955108642578 0.0004191398620605469\n"
     ]
    },
    {
     "data": {
      "text/plain": [
       "(-5.074017305070404, -5.074017305548428)"
      ]
     },
     "execution_count": 37,
     "metadata": {},
     "output_type": "execute_result"
    }
   ],
   "source": [
    "getShear(([0,0,1,0],[0,1,0],[0,1,1,0,1,1,1]),([0,1,0],[0,0,1,0,0,1,1],[1,1,0,0]),[1, 1, 1, 1, 3, 1, 2, 2])"
   ]
  },
  {
   "cell_type": "code",
   "execution_count": 38,
   "metadata": {},
   "outputs": [
    {
     "name": "stdout",
     "output_type": "stream",
     "text": [
      "4.410743713378906e-05 0.11103296279907227 0.0010907649993896484 0.00044226646423339844\n",
      "5.4836273193359375e-05 0.09802603721618652 0.0022737979888916016 0.0009100437164306641\n"
     ]
    },
    {
     "data": {
      "text/plain": [
       "(3.437873616957756, 3.437873616958533)"
      ]
     },
     "execution_count": 38,
     "metadata": {},
     "output_type": "execute_result"
    }
   ],
   "source": [
    "getShear(([1,1,1,1,1,1,0,1,0], [0,1,1,1,1], [1,0,1,0,1,1]),([0,0,1,1,1],[1,0,1,1,1,1,0,1,0,0],[1,0,0,1,1]),[1,1,1,4,1,1,6,2])"
   ]
  },
  {
   "cell_type": "code",
   "execution_count": 39,
   "metadata": {},
   "outputs": [
    {
     "name": "stdout",
     "output_type": "stream",
     "text": [
      "3.910064697265625e-05 0.10486292839050293 0.0011219978332519531 0.0004367828369140625\n",
      "5.602836608886719e-05 0.08971500396728516 0.0007331371307373047 0.000469207763671875\n"
     ]
    },
    {
     "data": {
      "text/plain": [
       "(-5.444462912236995, -5.444462901161734)"
      ]
     },
     "execution_count": 39,
     "metadata": {},
     "output_type": "execute_result"
    }
   ],
   "source": [
    "getShear(([1,1,1,1,1,1,0,1,0], [0,1,1,1,1], [1,0,1,0,1,1]),([1,0,0,0,0,0],[1,0,0,1,1],[0,0,0,0,1,0,1,0,0]),[1,1,1,4,1,1,6,2])"
   ]
  },
  {
   "cell_type": "code",
   "execution_count": 40,
   "metadata": {
    "scrolled": false
   },
   "outputs": [
    {
     "name": "stdout",
     "output_type": "stream",
     "text": [
      "3.1948089599609375e-05 0.10184717178344727 0.0009667873382568359 0.0005781650543212891\n",
      "4.506111145019531e-05 0.06914687156677246 0.0010428428649902344 0.0005669593811035156\n"
     ]
    },
    {
     "data": {
      "text/plain": [
       "(0.6102897852195379, 0.6102897852195363)"
      ]
     },
     "execution_count": 40,
     "metadata": {},
     "output_type": "execute_result"
    }
   ],
   "source": [
    "getShear(((0,), (0, 1), (1, 0, 0)), ((0, 0), (1,), (1, 1, 0, 1, 1)), (1, 1, 1, 2), s= 5)"
   ]
  },
  {
   "cell_type": "code",
   "execution_count": 41,
   "metadata": {
    "scrolled": false
   },
   "outputs": [
    {
     "name": "stdout",
     "output_type": "stream",
     "text": [
      "6.604194641113281e-05 0.09358501434326172 0.0006048679351806641 0.0004248619079589844\n",
      "5.698204040527344e-05 0.12976503372192383 0.0007600784301757812 0.0004417896270751953\n"
     ]
    },
    {
     "data": {
      "text/plain": [
       "(-5.444462912236995, -5.444462901161734)"
      ]
     },
     "execution_count": 41,
     "metadata": {},
     "output_type": "execute_result"
    }
   ],
   "source": [
    "getShear(([1,1,1,1,1,1,0,1,0], [0,1,1,1,1], [1,0,1,0,1,1]),([1,0,0,0,0,0],[1,0,0,1,1],[0,0,0,0,1,0,1,0,0]),[1,1,1,4,1,1,6,2]) "
   ]
  },
  {
   "cell_type": "code",
   "execution_count": 42,
   "metadata": {},
   "outputs": [
    {
     "name": "stdout",
     "output_type": "stream",
     "text": [
      "4.100799560546875e-05 0.10261988639831543 0.0011010169982910156 0.00043702125549316406\n",
      "5.7220458984375e-05 0.09420990943908691 0.0006549358367919922 0.0007271766662597656\n",
      "0.5666072368621826\n"
     ]
    }
   ],
   "source": [
    "t1 = time.time()\n",
    "getShear(([1,1,1,1,1,1,0,1,0], [0,1,1,1,1], [1,0,1,0,1,1]),([0,0,0,0,1,1],[1,0,0,1,1],[1,0,1,0,0,0,0,1,0]),[1,1,1,4,1,1,6,2])\n",
    "t2 = time.time()\n",
    "print(t2-t1)"
   ]
  },
  {
   "cell_type": "code",
   "execution_count": 43,
   "metadata": {},
   "outputs": [
    {
     "name": "stdout",
     "output_type": "stream",
     "text": [
      "0.06324100494384766\n"
     ]
    }
   ],
   "source": [
    "t1 = time.time()\n",
    "ntheory.continued_fraction_reduce([[0,1,1,4,1,1,6,2]]).evalf()\n",
    "t2 = time.time()\n",
    "print(t2-t1)"
   ]
  },
  {
   "cell_type": "code",
   "execution_count": 44,
   "metadata": {},
   "outputs": [
    {
     "name": "stdout",
     "output_type": "stream",
     "text": [
      "0.0004150867462158203\n"
     ]
    }
   ],
   "source": [
    "t1 = time.time()\n",
    "mat = cfToMat([0,1,1,4,1,1,6,2])\n",
    "(mat[0,0]-mat[1,1] + np.sqrt(mat[0,0]**2+mat[1,1]**2+2*mat[1,0]*mat[0,1]-2))/(2*mat[1,0])\n",
    "t2 = time.time()\n",
    "print(t2-t1)"
   ]
  },
  {
   "cell_type": "code",
   "execution_count": 45,
   "metadata": {},
   "outputs": [
    {
     "data": {
      "text/plain": [
       "True"
      ]
     },
     "execution_count": 45,
     "metadata": {},
     "output_type": "execute_result"
    }
   ],
   "source": [
    "(mat[0,0]-mat[1,1] + np.sqrt(mat[0,0]**2+mat[1,1]**2+2*mat[1,0]*mat[0,1]-2))/(2*mat[1,0]) == ntheory.continued_fraction_reduce([[0,1,1,4,1,1,6,2]]).evalf()"
   ]
  },
  {
   "cell_type": "code",
   "execution_count": 48,
   "metadata": {},
   "outputs": [
    {
     "name": "stdout",
     "output_type": "stream",
     "text": [
      "53.91256284713745\n"
     ]
    }
   ],
   "source": [
    "t1 = time.time()\n",
    "for i in range(100):\n",
    "    getShear(([1,1,1,1,1,1,0,1,0], [0,1,1,1,1], [1,0,1,0,1,1]),([0,0,0,0,1,1],[1,0,0,1,1],[1,0,1,0,0,0,0,1,0]),[1,1,1,4,1,1,6,2])\n",
    "t2 = time.time()\n",
    "print(t2-t1)"
   ]
  },
  {
   "cell_type": "code",
   "execution_count": null,
   "metadata": {},
   "outputs": [],
   "source": []
  }
 ],
 "metadata": {
  "kernelspec": {
   "display_name": "Python 3",
   "language": "python",
   "name": "python3"
  },
  "language_info": {
   "codemirror_mode": {
    "name": "ipython",
    "version": 3
   },
   "file_extension": ".py",
   "mimetype": "text/x-python",
   "name": "python",
   "nbconvert_exporter": "python",
   "pygments_lexer": "ipython3",
   "version": "3.7.6"
  }
 },
 "nbformat": 4,
 "nbformat_minor": 2
}
